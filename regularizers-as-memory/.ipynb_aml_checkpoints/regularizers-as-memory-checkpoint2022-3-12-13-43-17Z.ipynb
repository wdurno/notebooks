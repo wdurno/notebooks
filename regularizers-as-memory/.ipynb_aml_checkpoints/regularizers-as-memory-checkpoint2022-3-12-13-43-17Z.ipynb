{
  "cells": [
    {
      "cell_type": "markdown",
      "source": [
        "# Regularizers as memory\n",
        "\n",
        "The greatest challenge in modern AI research is the limiting returns computational work. \n",
        "While the greatest advances can only be afforded by large technology firms, even they \n",
        "cannot afford to push results further. A clear plateau has developed. \n",
        "Insufficient computational efficiency motivates a return to theory, begs a question: \n",
        "_where is waste most significant?_ \n",
        "\n",
        "The advent of catestrophic forgetting shows raw, non-compressed information must be continually re-applied \n",
        "if it is not to be forgotten. If important information could be preserved--even partially--we would expect \n",
        "more efficient computation. In short, _this work targets the realization of memory_.\n",
        "\n",
        "Regularized likelihood equations have a Lagrangian form, so implicitly describe geometric constraints on estimates.\n",
        "For example, here's an estimate constrained to an L2-sphere in $\\Theta$-space.\n",
        "\n",
        "$$ \\hat \\theta_{L_2} = \\text{arg max}_{\\theta \\in \\Theta} n^{-1} \\sum_{i=1}^n \\log f_X(X_i;\\theta) - \\lambda \\| \\theta \\|_2^2 $$\n",
        "\n",
        "In this work, we'll generalize the regularizer $\\| \\cdot \\|_2^2$ to support alternative geometries, \n",
        "in attempting to construct numerically convenient memory approximations. \n",
        "Particulary, we'll seek to approximate the following equation.\n",
        "Note that it introduces quadratic geometric constraints on the estimate. \n",
        "\n",
        "$$ \\hat \\theta = \\text{arg max}_{\\theta \\in \\Theta} n^{-1} \\sum_{i=1}^n \\log f_X(X_i;\\theta) - \\frac{\\lambda}{2} (\\theta - \\theta_0)^T \\mathcal{I}_{\\theta_0} (\\theta - \\theta_0) $$"
      ],
      "metadata": {
        "nteract": {
          "transient": {
            "deleting": false
          }
        }
      }
    },
    {
      "cell_type": "markdown",
      "source": [
        "## RL-reweighted (RLR) estimates \n",
        "\n",
        "This first estimate is designed to improve efficiency of sampling in reinforcement learning (RL) by \n",
        "up-weighting more-important observations. We'll use this estimate:\n",
        "\n",
        "$$ \\hat \\theta_{RLR} = \\hat \\theta_{n_1+n_2} = \\text{arg max}_\\theta \\left( \\sum_{i=1}^{n_1+n_2} \\| \\hat r_i \\|_2^{2b} \\right)^{-1} \\left( \\sum_{i=n_1+1}^{n_1+n_2} \\| \\hat r_i \\|_2^{2b} \\log f_X(X_i; \\theta) - \\sum_{i=1}^{n_1} \\frac{\\lambda}{2} (\\theta - \\hat \\theta_{n_1+n_2-1})^T H_i (\\theta - \\hat \\theta_{n_1+n_2-1}) \\right) $$\n",
        "\n",
        "where \n",
        "- $n_1$ is the number of priviously observed sameples, \n",
        "- $n_2$ is the number of newly observed samples, \n",
        "- $\\hat r_i$ is the estimated reward for observation $i$, \n",
        "- $b > 0$ is a bias term,  \n",
        "- $H_i = \\| \\hat r_i \\|^{2b}_2 \\left( \\nabla_\\theta \\log f_X(X_j; \\theta)|_{\\theta = \\hat \\theta_{j-1}} \\right) \\left( \\nabla_\\theta \\log f_X(X_j; \\theta)|_{\\theta = \\hat \\theta_{j-1}} \\right)^T$ is a Hessian approximation, and\n",
        "- $\\hat \\theta_0$ is an initial estimate guess, commonly required in optimization routines. \n",
        "\n",
        "Define $ M:= \\sum_{i=1}^{n_1}(\\theta - \\theta_{n_1+n_2-1})^TH_i(\\theta - \\theta_{n_1+n_2-1})$, which we'll refer to as the \"memory term\". \n",
        "The key heuristic is that $M$, a quadratic regularizer, approximates large-sample likelihoods under maximization. \n",
        "This insight can be seen through a Taylor approximation near true $\\theta$, designated $\\theta_T$.\n",
        "\n",
        "$\\hat \\theta_{MLE} = \\text{arg max}_\\theta n^{-1} \\sum_{i=1}^n \\log f_X(X_i;\\theta) $\n",
        "\n",
        "$ \\approx \\text{arg max}_\\theta n^{-1}\\sum_i \\log f_X(X_i; \\theta_T) + n^{-1}\\sum_i (\\theta - \\theta_T)^T \\nabla_\\theta \\log f_X(X_i; \\theta_T) + n^{-1}2^{-1} \\sum_i (\\theta - \\theta_T)^T (\\nabla_\\theta^2 \\log f_X(X_i; \\theta_T))(\\theta - \\theta_T) $\n",
        "\n",
        "$ \\approx \\text{arg max}_\\theta n^{-1}\\sum_i \\log f_X(X_i; \\theta_T) + 0 + n^{-1}2^{-1} \\sum_i (\\theta - \\theta_T)^T (\\nabla_\\theta^2 \\log f_X(X_i; \\theta_T))(\\theta - \\theta_T) $\n",
        "\n",
        "$ \\approx \\text{arg max}_\\theta n^{-1}2^{-1} \\sum_i (\\theta - \\theta_T)^T (\\nabla_\\theta^2 \\log f_X(X_i; \\theta_T))(\\theta - \\theta_T) $\n",
        "\n",
        "This work basically tests the quality of our $M \\approx \\sum_i (\\theta - \\theta_T)^T (\\nabla_\\theta)^2 \\log f_X(X_i; \\theta_T)(\\theta - \\theta_T) $ heuristic.\n",
        "If true, then we should see that the quadratic regularizer, $M$, affects memory through geometric constraints on the estimator.\n",
        "\n",
        "Later, we'll experiment with recency bias and rank reductions for $M$.\n",
        "\n",
        "Notice that $\\hat \\theta_{RLR}$ is asymptotically equivalent to a redistributed sampling, \n",
        "with more observations when they are more important. \n",
        "Hence, the essence of this computational efficiency strategy is to \n",
        "- add frequency bias to important observations, \n",
        "- and preserve their information via geometric estimator constraints."
      ],
      "metadata": {
        "nteract": {
          "transient": {
            "deleting": false
          }
        }
      }
    },
    {
      "cell_type": "markdown",
      "source": [
        "## $M$ and almost-stationary processes\r\n",
        "\r\n",
        "$M$ is an asymptotic result, so only applies when observations are sufficiently many and produced by a stationary or i.i.d process.\r\n",
        "While most applied asymptotic theory assumes $\\theta_T$ is static, it could also be possible to work with a $\\theta_{T_n}$ on a continuous path in $\\Theta$ over $n$.\r\n",
        "Let us define an _almost-stationary process_ $X_n$ as satisfying the following.\r\n",
        "\r\n",
        "$$ \\forall \\tau \\in \\mathbb{R}, \\left(t_1, t_2, \\ldots, t_m\\right) \\in \\mathbb{R}_{\\geq 0}^m, \\mathbb{P}\\left[ X_{t_{1+\\tau}}, X_{t_{2+\\tau}}, \\ldots, X_{t_{m+\\tau}} ; \\theta_{t_1+\\tau} \\right] \\text{is continuous in } \\tau$$\r\n",
        "\r\n",
        "The question of whether $\\theta_{T_n}$ moves \"too quickly\" is dependent on an given process. \r\n",
        "If, for $n$ large, $M$ still approximates $\\sum_i (\\theta - \\theta_{T_n})^T (\\nabla_\\theta^2 \\log f_X(X_i; \\theta_{T_n}))(\\theta - \\theta_{T_n})$, \r\n",
        "then we'll say $\\theta_{T_n}$ is \"sufficiently slow\". Here are some examples relating to **transfer learning**.\r\n",
        "- If we withheld digits 1 & 2 from MNIST for the first 10000 observations, then started including them afterward, \r\n",
        "we should expect $\\theta_{T_n}$ to move too quickly. \r\n",
        "- As reinforcement learning (RL) agent explores its world, it's sampling process indeed deforms, albeit slowly. \r\n",
        "This context should have good opportunities for sufficiently slow changes in $\\theta_{T_n}$. \r\n",
        "So, our experiments will focus on RL applications.\r\n",
        "\r\n",
        "Developing transfer learning mechanisms for RL is particularly valuable, \r\n",
        "since it is frequently imagined to be a path to artificial general intelligence (AGI).\r\n",
        "\r\n",
        "Side node: almost-stationary process theory clearly needs development. \r\n",
        "My experience has taught me to test the value of theoretical hypotheses before developing them, \r\n",
        "since theoretical development is far more expensive than computational experimentation.\r\n",
        "I am confident in this hypothesis, because my previous theoretical developments are very similar. \r\n",
        "Any new proofs would not be very novel, and would be mere adaptations of prior work. "
      ],
      "metadata": {
        "nteract": {
          "transient": {
            "deleting": false
          }
        }
      }
    },
    {
      "cell_type": "markdown",
      "source": [
        "## Experiment 1: Cartpole\r\n",
        "\r\n",
        "We start with a _very_ simple example, proving-out concepts."
      ],
      "metadata": {
        "nteract": {
          "transient": {
            "deleting": false
          }
        }
      }
    },
    {
      "cell_type": "code",
      "source": [
        "## Define model \n",
        "import torch\n",
        "import torch.nn as nn\n",
        "import torch.nn.functional as F\n",
        "import torch.optim as optim\n",
        "import random \n",
        "\n",
        "INPUT_DIM = 4\n",
        "N_ACTIONS = 2\n",
        "MAX_SAMPLE = 5000\n",
        "DISCOUNT = .95 \n",
        "EPS = 1e-5\n",
        "EXPLORE_PROBABILITY_FUNC = lambda idx: 0.999**idx \n",
        "BATCH_SIZE = 100 \n",
        "LEARNING_RATE = 0.001 \n",
        "GRAD_CLIP = 10000.0 \n",
        "LBFGS = False \n",
        "\n",
        "class Model(nn.Module): \n",
        "    def __init__(self, \n",
        "            input_dim=INPUT_DIM, \n",
        "            n_actions=N_ACTIONS, \n",
        "            discount = DISCOUNT, \n",
        "            max_sample=MAX_SAMPLE, \n",
        "            eps=EPS): \n",
        "        super(Model, self).__init__() \n",
        "        ## store config \n",
        "        self.input_dim = input_dim \n",
        "        self.n_actions = n_actions \n",
        "        self.discount = discount \n",
        "        self.max_sample = max_sample \n",
        "        self.eps = eps \n",
        "        ## init feed forward net \n",
        "        self.fc1 = nn.Linear(input_dim, 40) \n",
        "        self.fc1_bn = nn.BatchNorm1d(40) \n",
        "        self.fc2 = nn.Linear(40, 40) \n",
        "        self.fc2_bn = nn.BatchNorm1d(40) \n",
        "        self.fc3 = nn.Linear(40, n_actions) \n",
        "        ## init data structures \n",
        "        self.observations = [] \n",
        "        if LBFGS: \n",
        "            self.optimizer = optim.LBFGS(self.parameters(), history_size=50) ## RAM req = O(history_size * model_dim) \n",
        "        else: \n",
        "            ## LBFGS was giving nan parameters \n",
        "            self.optimizer = optim.Adam(self.parameters(), lr=LEARNING_RATE) \n",
        "            pass \n",
        "        pass \n",
        "\n",
        "    def forward(self, x): \n",
        "        x = self.fc1(x)\n",
        "        x = self.fc1_bn(x) \n",
        "        x = torch.tanh(x) \n",
        "        x = self.fc2(x) \n",
        "        x = self.fc2_bn(x)  \n",
        "        x = torch.tanh(x) \n",
        "        x = self.fc3(x) \n",
        "        return x \n",
        "    \n",
        "    def get_action(self, env_state): \n",
        "        env_state = torch.tensor(env_state).float() \n",
        "        env_state = env_state.reshape([1, -1]) \n",
        "        predicted_reward_per_action_idx = self.forward(env_state) \n",
        "        return int(predicted_reward_per_action_idx.argmax()) \n",
        "    \n",
        "    def store_observation(self, observation): \n",
        "        if len(observation) > self.max_sample: \n",
        "            observation = observation[1:] \n",
        "        self.observations.append(observation) \n",
        "        pass \n",
        "    \n",
        "    def clear_observations(self): \n",
        "        self.observations = [] \n",
        "        pass \n",
        "    \n",
        "    def __sample(self, sample_max=None): \n",
        "        ## random sample \n",
        "        obs = self.observations \n",
        "        if sample_max is not None: \n",
        "            if sample_max < len(self.observations): \n",
        "                obs = random.sample(self.observations, sample_max) \n",
        "        ## unpack samples \n",
        "        samples = [ (torch.tensor(env_state).float(), \\\n",
        "                torch.tensor(reward).float(), \\\n",
        "                torch.tensor(done).int(), \\\n",
        "                torch.tensor(prev_env_state).float(), \\\n",
        "                torch.tensor(action).int()) for \\\n",
        "                (env_state, reward, done, info, prev_env_state, action) in obs] \n",
        "        ## build matrices \n",
        "        env_state = torch.stack([obs[0] for obs in samples], dim=0) ## inserts dim 0 \n",
        "        observed_rewards = torch.stack([obs[1] for obs in samples], dim=0) \n",
        "        done = torch.stack([obs[2] for obs in samples], dim=0) \n",
        "        prev_env_state = torch.stack([obs[3] for obs in samples], dim=0) \n",
        "        action = torch.stack([obs[4] for obs in samples], dim=0).reshape([-1, 1]).type(torch.int64) \n",
        "        ## calculate target \n",
        "        self.eval() \n",
        "        predicted_rewards = self.forward(env_state) \n",
        "        predicted_rewards = torch.max(predicted_rewards, dim=1, keepdim=True).values.reshape([-1]) \n",
        "        target = observed_rewards + (1 - done) * self.discount * predicted_rewards \n",
        "        target = target.reshape([-1, 1]).detach() \n",
        "        ## calculate prediction  \n",
        "        self.train() \n",
        "        self.zero_grad() \n",
        "        predicted_rewards = self.forward(prev_env_state) \n",
        "        prediction = predicted_rewards.gather(1, action) \n",
        "        return prediction, target \n",
        "    \n",
        "    def get_parameter_vector(self): \n",
        "        return nn.utils.parameters_to_vector(self.parameters()) \n",
        "    \n",
        "    def optimize(self, max_iter=None, batch_size=None): \n",
        "        iter_n = 0 \n",
        "        n_dels = 30 \n",
        "        dels = [None]*n_dels \n",
        "        continue_iterating = True \n",
        "        halt_method = None \n",
        "        loss_f = None \n",
        "        mean_reward = None \n",
        "        while continue_iterating: \n",
        "            prev_theta = self.get_parameter_vector() \n",
        "            predicted, target = self.__sample(batch_size) \n",
        "            mean_reward = predicted.mean() \n",
        "            loss = F.mse_loss(predicted, target) \n",
        "            loss_f = float(loss) \n",
        "            loss.backward() \n",
        "            if not LBFGS: \n",
        "                ## lbfgs really doesn't like this \n",
        "                nn.utils.clip_grad_norm_(model.parameters(), GRAD_CLIP) \n",
        "            ## lbfgs must re-evaluate target, hence lambda \n",
        "            if LBFGS:\n",
        "                self.optimizer.step(lambda: float(F.mse_loss(predicted, target))) \n",
        "            else:\n",
        "                self.optimizer.step() \n",
        "                pass \n",
        "            updated_theta = self.get_parameter_vector() \n",
        "            ## decide to continue iterating or not \n",
        "            if max_iter is not None: \n",
        "                if iter_n > max_iter: \n",
        "                    ## halt: iters have hit limit \n",
        "                    continue_iterating = False \n",
        "                    halt_method = 'max-iter' \n",
        "            if iter_n >= n_dels: \n",
        "                ## test convergence with chebyshev ineq \n",
        "                dels = dels[1:] + [(updated_theta - prev_theta).abs().sum()] \n",
        "                sigma = torch.tensor(dels).square().mean().sqrt() \n",
        "                if (sigma/self.eps)**2 < .95: \n",
        "                    ## halt: convergance \n",
        "                    continue_iterating = False \n",
        "                    halt_method = 'cauchy-convergence' \n",
        "            else: \n",
        "                ## collect data for variance estimate \n",
        "                dels[iter_n] = (updated_theta - prev_theta).abs().sum() \n",
        "                pass \n",
        "            iter_n += 1 \n",
        "            pass \n",
        "        return loss_f, halt_method, mean_reward  "
      ],
      "outputs": [],
      "execution_count": 1,
      "metadata": {
        "jupyter": {
          "source_hidden": false,
          "outputs_hidden": false
        },
        "nteract": {
          "transient": {
            "deleting": false
          }
        },
        "gather": {
          "logged": 1649729814551
        }
      }
    },
    {
      "cell_type": "code",
      "source": [
        "## Define experiment \r\n",
        "import gym \r\n",
        "from tqdm import tqdm \r\n",
        "import numpy as np \r\n",
        "import matplotlib.pyplot as plt \r\n",
        "\r\n",
        "model = Model() \r\n",
        "\r\n",
        "env = gym.make('CartPole-v1') \r\n",
        "env_state = env.reset() \r\n",
        "last_start = 0 \r\n",
        "last_survival = 0 \r\n",
        "n_restarts = 0 \r\n",
        "total_reward = 0 \r\n",
        "survivals = [] \r\n",
        "total_iters = 10000 \r\n",
        "\r\n",
        "plt.plot([EXPLORE_PROBABILITY_FUNC(idx) for idx in range(total_iters)])\r\n",
        "plt.show()"
      ],
      "outputs": [
        {
          "output_type": "display_data",
          "data": {
            "text/plain": "<Figure size 432x288 with 1 Axes>",
            "image/png": "[encoded data removed]"
          },
          "metadata": {
            "needs_background": "light"
          }
        }
      ],
      "execution_count": 2,
      "metadata": {
        "jupyter": {
          "source_hidden": false,
          "outputs_hidden": false
        },
        "nteract": {
          "transient": {
            "deleting": false
          }
        },
        "gather": {
          "logged": 1649729814677
        }
      }
    },
    {
      "cell_type": "code",
      "source": [
        "## run experiment \n",
        "iters = tqdm(range(total_iters), disable=False) \n",
        "for iter_idx in iters: \n",
        "  prev_env_state = env_state \n",
        "  if EXPLORE_PROBABILITY_FUNC(iter_idx) < np.random.uniform(): \n",
        "    ## explore \n",
        "    action = env.action_space.sample() \n",
        "  else: \n",
        "    ## exploit \n",
        "    model.eval() \n",
        "    action = model.get_action(env_state) \n",
        "    pass \n",
        "  env_state, reward, done, info = env.step(action) \n",
        "  if done:\n",
        "    total_reward = -1 \n",
        "    reward = -10\n",
        "  else: \n",
        "    total_reward += reward \n",
        "    pass \n",
        "  observation = env_state, reward, done, info, prev_env_state, action \n",
        "  model.store_observation(observation) \n",
        "\n",
        "  if iter_idx > 30 and iter_idx % 1 == 0: \n",
        "    #loss, halt_method, mean_reward = model.optimize(max_iter=100, batch_size=BATCH_SIZE) \n",
        "    loss, halt_method, mean_reward = model.optimize(max_iter=10, batch_size=600) \n",
        "    loss = float(loss) \n",
        "    mean_reward = float(mean_reward) \n",
        "    param_nan = model.get_parameter_vector().isnan().sum() \n",
        "    iters.set_description(f'n_restarts: {n_restarts}, last_survival: {last_survival}, '+\\\n",
        "        f'loss: {round(loss,4)}, halt: {halt_method}, mean_reward: {round(mean_reward,2)}, action: {action}')#+\\\n",
        "        #f'param_nan: {param_nan}, last action: {action}') \n",
        "    pass \n",
        "\n",
        "  if done: \n",
        "    env_state = env.reset() \n",
        "    last_survival = iter_idx - last_start \n",
        "    survivals.append(last_survival) \n",
        "    last_start = iter_idx \n",
        "    n_restarts += 1 \n",
        "    pass \n",
        "  pass \n",
        "env.close() "
      ],
      "outputs": [
        {
          "output_type": "stream",
          "name": "stderr",
          "text": "n_restarts: 418, last_survival: 16, loss: 2.1318, halt: max-iter, mean_reward: 18.93, action: 0: 100%|██████████| 10000/10000 [49:21<00:00,  3.38it/s] \n"
        }
      ],
      "execution_count": 3,
      "metadata": {
        "jupyter": {
          "source_hidden": false,
          "outputs_hidden": false
        },
        "nteract": {
          "transient": {
            "deleting": false
          }
        },
        "gather": {
          "logged": 1649732776522
        }
      }
    },
    {
      "cell_type": "code",
      "source": [
        "import matplotlib.pyplot as plt\r\n",
        "plt.plot(survivals)\r\n",
        "plt.show()"
      ],
      "outputs": [
        {
          "output_type": "display_data",
          "data": {
            "text/plain": "<Figure size 432x288 with 1 Axes>",
            "image/png": "[encoded data removed]"
          },
          "metadata": {
            "needs_background": "light"
          }
        }
      ],
      "execution_count": 4,
      "metadata": {
        "jupyter": {
          "source_hidden": false,
          "outputs_hidden": false
        },
        "nteract": {
          "transient": {
            "deleting": false
          }
        },
        "gather": {
          "logged": 1649732776677
        }
      }
    },
    {
      "cell_type": "code",
      "source": [
        "for idx, s in enumerate(survivals): \r\n",
        "    print(f'{s} ' , end='') \r\n",
        "    if (idx+1) % 40 == 0: \r\n",
        "        print('') "
      ],
      "outputs": [
        {
          "output_type": "stream",
          "name": "stdout",
          "text": "9 9 11 25 13 10 10 12 12 23 11 10 38 51 28 44 26 52 97 74 19 106 80 61 14 38 27 18 17 37 80 34 40 14 32 13 13 15 12 34 \n31 19 48 20 30 16 33 37 18 13 25 40 34 23 52 30 27 15 23 32 11 30 19 29 49 51 30 14 20 22 28 13 19 26 27 20 34 26 41 13 \n19 18 27 15 13 29 19 23 18 12 40 25 19 20 19 9 14 35 15 21 12 48 17 16 67 88 16 20 51 17 30 31 12 22 15 22 17 30 31 14 \n12 14 11 24 24 14 69 15 16 26 23 15 16 14 23 17 16 10 32 30 18 18 41 14 14 15 24 21 22 29 15 22 31 25 30 56 36 33 13 27 \n26 10 15 20 14 52 12 13 38 15 26 10 11 15 22 23 18 18 20 22 32 14 23 23 22 17 43 69 12 29 17 11 12 25 30 10 19 25 14 17 \n37 11 14 13 51 12 18 16 25 23 16 11 36 21 15 13 25 23 35 10 11 14 13 12 45 26 14 12 28 18 19 20 11 27 23 15 27 24 16 32 \n23 17 19 13 10 21 10 57 19 38 17 30 18 13 25 11 15 20 17 25 21 33 24 54 14 26 19 19 33 60 46 10 20 22 14 19 28 31 11 19 \n56 31 22 43 15 14 27 22 16 11 41 21 10 9 27 23 20 17 20 19 16 19 21 32 11 15 14 33 32 14 8 18 35 16 27 12 37 14 22 32 \n14 23 19 16 37 18 49 11 15 24 21 24 18 13 25 48 21 23 13 22 12 43 19 22 16 53 18 23 15 13 11 20 81 19 11 13 18 20 16 23 \n19 37 11 26 13 33 21 30 20 12 12 13 35 13 20 35 14 33 31 18 38 23 18 16 13 11 19 38 22 13 51 12 13 18 13 18 9 19 18 14 \n17 15 23 11 15 29 61 13 40 18 30 28 36 12 19 26 30 16 "
        }
      ],
      "execution_count": 5,
      "metadata": {
        "jupyter": {
          "source_hidden": false,
          "outputs_hidden": false
        },
        "nteract": {
          "transient": {
            "deleting": false
          }
        },
        "gather": {
          "logged": 1649732776747
        }
      }
    },
    {
      "cell_type": "code",
      "source": [
        "import gym\n",
        "env = gym.make(\"CartPole-v1\")\n",
        "observation = env.reset()\n",
        "action = env.action_space.sample()\n",
        "observation, reward, done, info = env.step(action)\n",
        "env.close()\n",
        "\n",
        "print(observation)\n",
        "print(reward)\n",
        "print(done)\n",
        "print(info)\n",
        "print(action)"
      ],
      "outputs": [
        {
          "output_type": "stream",
          "name": "stdout",
          "text": "[ 0.00753649  0.21527015 -0.03573164 -0.29776198]\n1.0\nFalse\n{}\n1\n"
        }
      ],
      "execution_count": 6,
      "metadata": {
        "jupyter": {
          "source_hidden": false,
          "outputs_hidden": false
        },
        "nteract": {
          "transient": {
            "deleting": false
          }
        },
        "gather": {
          "logged": 1649732776831
        }
      }
    }
  ],
  "metadata": {
    "kernelspec": {
      "name": "python3-azureml",
      "language": "python",
      "display_name": "Python 3.6 - AzureML"
    },
    "language_info": {
      "name": "python",
      "version": "3.6.9",
      "mimetype": "text/x-python",
      "codemirror_mode": {
        "name": "ipython",
        "version": 3
      },
      "pygments_lexer": "ipython3",
      "nbconvert_exporter": "python",
      "file_extension": ".py"
    },
    "nteract": {
      "version": "nteract-front-end@1.0.0"
    },
    "kernel_info": {
      "name": "python3-azureml"
    },
    "microsoft": {
      "host": {
        "AzureML": {
          "notebookHasBeenCompleted": true
        }
      }
    }
  },
  "nbformat": 4,
  "nbformat_minor": 2
}