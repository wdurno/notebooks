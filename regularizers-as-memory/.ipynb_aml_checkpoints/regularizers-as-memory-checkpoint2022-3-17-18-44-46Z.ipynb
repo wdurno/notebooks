{
  "cells": [
    {
      "cell_type": "markdown",
      "source": [
        "# Regularizers as memory\n",
        "\n",
        "The greatest challenge in modern AI research is the limiting returns computational work. \n",
        "While the greatest advances can only be afforded by large technology firms, even they \n",
        "cannot afford to push results further. A clear plateau has developed. \n",
        "Insufficient computational efficiency motivates a return to theory, begs a question: \n",
        "_where is waste most significant?_ \n",
        "\n",
        "The advent of catestrophic forgetting shows raw, non-compressed information must be continually re-applied \n",
        "if it is not to be forgotten. If important information could be preserved--even partially--we would expect \n",
        "more efficient computation. In short, _this work targets the realization of memory_.\n",
        "\n",
        "Regularized likelihood equations have a Lagrangian form, so implicitly describe geometric constraints on estimates.\n",
        "For example, here's an estimate constrained to an L2-sphere in $\\Theta$-space.\n",
        "\n",
        "$$ \\hat \\theta_{L_2} = \\text{arg max}_{\\theta \\in \\Theta} n^{-1} \\sum_{i=1}^n \\log f_X(X_i;\\theta) - \\lambda \\| \\theta \\|_2^2 $$\n",
        "\n",
        "In this work, we'll generalize the regularizer $\\| \\cdot \\|_2^2$ to support alternative geometries, \n",
        "in attempting to construct numerically convenient memory approximations. \n",
        "Particulary, we'll seek to approximate the following equation.\n",
        "Note that it introduces quadratic geometric constraints on the estimate. \n",
        "\n",
        "$$ \\hat \\theta = \\text{arg max}_{\\theta \\in \\Theta} n^{-1} \\sum_{i=1}^n \\log f_X(X_i;\\theta) - \\frac{\\lambda}{2} (\\theta - \\theta_0)^T \\mathcal{I}_{\\theta_0} (\\theta - \\theta_0) $$"
      ],
      "metadata": {
        "nteract": {
          "transient": {
            "deleting": false
          }
        }
      }
    },
    {
      "cell_type": "markdown",
      "source": [
        "## RL-reweighted (RLR) estimates \n",
        "\n",
        "This first estimate is designed to improve efficiency of sampling in reinforcement learning (RL) by \n",
        "up-weighting more-important observations. We'll use this estimate:\n",
        "\n",
        "$$ \\hat \\theta_{RLR} = \\hat \\theta_{n_1+n_2} = \\text{arg max}_\\theta \\left( \\sum_{i=1}^{n_1+n_2} \\| \\hat r_i \\|_2^{2b} \\right)^{-1} \\left( \\sum_{i=n_1+1}^{n_1+n_2} \\| \\hat r_i \\|_2^{2b} \\log f_X(X_i; \\theta) - \\sum_{i=1}^{n_1} \\frac{\\lambda}{2} (\\theta - \\hat \\theta_{n_1+n_2-1})^T H_i (\\theta - \\hat \\theta_{n_1+n_2-1}) \\right) $$\n",
        "\n",
        "where \n",
        "- $n_1$ is the number of priviously observed sameples, \n",
        "- $n_2$ is the number of newly observed samples, \n",
        "- $\\hat r_i$ is the estimated reward for observation $i$, \n",
        "- $b > 0$ is a bias term,  \n",
        "- $H_i = \\| \\hat r_i \\|^{2b}_2 \\left( \\nabla_\\theta \\log f_X(X_j; \\theta)|_{\\theta = \\hat \\theta_{j-1}} \\right) \\left( \\nabla_\\theta \\log f_X(X_j; \\theta)|_{\\theta = \\hat \\theta_{j-1}} \\right)^T$ is a Hessian approximation, and\n",
        "- $\\hat \\theta_0$ is an initial estimate guess, commonly required in optimization routines. \n",
        "\n",
        "Define $ M:= \\sum_{i=1}^{n_1}(\\theta - \\theta_{n_1+n_2-1})^TH_i(\\theta - \\theta_{n_1+n_2-1})$, which we'll refer to as the \"memory term\". \n",
        "The key heuristic is that $M$, a quadratic regularizer, approximates large-sample likelihoods under maximization. \n",
        "This insight can be seen through a Taylor approximation near true $\\theta$, designated $\\theta_T$.\n",
        "\n",
        "$\\hat \\theta_{MLE} = \\text{arg max}_\\theta n^{-1} \\sum_{i=1}^n \\log f_X(X_i;\\theta) $\n",
        "\n",
        "$ \\approx \\text{arg max}_\\theta n^{-1}\\sum_i \\log f_X(X_i; \\theta_T) + n^{-1}\\sum_i (\\theta - \\theta_T)^T \\nabla_\\theta \\log f_X(X_i; \\theta_T) + n^{-1}2^{-1} \\sum_i (\\theta - \\theta_T)^T (\\nabla_\\theta^2 \\log f_X(X_i; \\theta_T))(\\theta - \\theta_T) $\n",
        "\n",
        "$ \\approx \\text{arg max}_\\theta n^{-1}\\sum_i \\log f_X(X_i; \\theta_T) + 0 + n^{-1}2^{-1} \\sum_i (\\theta - \\theta_T)^T (\\nabla_\\theta^2 \\log f_X(X_i; \\theta_T))(\\theta - \\theta_T) $\n",
        "\n",
        "$ \\approx \\text{arg max}_\\theta n^{-1}2^{-1} \\sum_i (\\theta - \\theta_T)^T (\\nabla_\\theta^2 \\log f_X(X_i; \\theta_T))(\\theta - \\theta_T) $\n",
        "\n",
        "This work basically tests the quality of our $M \\approx \\sum_i (\\theta - \\theta_T)^T (\\nabla_\\theta)^2 \\log f_X(X_i; \\theta_T)(\\theta - \\theta_T) $ heuristic.\n",
        "If true, then we should see that the quadratic regularizer, $M$, affects memory through geometric constraints on the estimator.\n",
        "\n",
        "Later, we'll experiment with recency bias and rank reductions for $M$.\n",
        "\n",
        "Notice that $\\hat \\theta_{RLR}$ is asymptotically equivalent to a redistributed sampling, \n",
        "with more observations when they are more important. \n",
        "Hence, the essence of this computational efficiency strategy is to \n",
        "- add frequency bias to important observations, \n",
        "- and preserve their information via geometric estimator constraints."
      ],
      "metadata": {
        "nteract": {
          "transient": {
            "deleting": false
          }
        }
      }
    },
    {
      "cell_type": "markdown",
      "source": [
        "## $M$ and almost-stationary processes\r\n",
        "\r\n",
        "$M$ is an asymptotic result, so only applies when observations are sufficiently many and produced by a stationary or i.i.d process.\r\n",
        "While most applied asymptotic theory assumes $\\theta_T$ is static, it could also be possible to work with a $\\theta_{T_n}$ on a continuous path in $\\Theta$ over $n$.\r\n",
        "Let us define an _almost-stationary process_ $X_n$ as satisfying the following.\r\n",
        "\r\n",
        "$$ \\forall \\tau \\in \\mathbb{R}, \\left(t_1, t_2, \\ldots, t_m\\right) \\in \\mathbb{R}_{\\geq 0}^m, \\mathbb{P}\\left[ X_{t_{1+\\tau}}, X_{t_{2+\\tau}}, \\ldots, X_{t_{m+\\tau}} ; \\theta_{t_1+\\tau} \\right] \\text{is continuous in } \\tau$$\r\n",
        "\r\n",
        "The question of whether $\\theta_{T_n}$ moves \"too quickly\" is dependent on an given process. \r\n",
        "If, for $n$ large, $M$ still approximates $\\sum_i (\\theta - \\theta_{T_n})^T (\\nabla_\\theta^2 \\log f_X(X_i; \\theta_{T_n}))(\\theta - \\theta_{T_n})$, \r\n",
        "then we'll say $\\theta_{T_n}$ is \"sufficiently slow\". Here are some examples relating to **transfer learning**.\r\n",
        "- If we withheld digits 1 & 2 from MNIST for the first 10000 observations, then started including them afterward, \r\n",
        "we should expect $\\theta_{T_n}$ to move too quickly. \r\n",
        "- As reinforcement learning (RL) agent explores its world, it's sampling process indeed deforms, albeit slowly. \r\n",
        "This context should have good opportunities for sufficiently slow changes in $\\theta_{T_n}$. \r\n",
        "So, our experiments will focus on RL applications.\r\n",
        "\r\n",
        "Developing transfer learning mechanisms for RL is particularly valuable, \r\n",
        "since it is frequently imagined to be a path to artificial general intelligence (AGI).\r\n",
        "\r\n",
        "Side node: almost-stationary process theory clearly needs development. \r\n",
        "My experience has taught me to test the value of theoretical hypotheses before developing them, \r\n",
        "since theoretical development is far more expensive than computational experimentation.\r\n",
        "I am confident in this hypothesis, because my previous theoretical developments are very similar. \r\n",
        "Any new proofs would not be very novel, and would be mere adaptations of prior work. "
      ],
      "metadata": {
        "nteract": {
          "transient": {
            "deleting": false
          }
        }
      }
    },
    {
      "cell_type": "markdown",
      "source": [
        "## Experiment 1: Cartpole\r\n",
        "\r\n",
        "We start with a _very_ simple example, proving-out concepts."
      ],
      "metadata": {
        "nteract": {
          "transient": {
            "deleting": false
          }
        }
      }
    },
    {
      "cell_type": "code",
      "source": [
        "## Define model \n",
        "import torch\n",
        "import torch.nn as nn\n",
        "import torch.nn.functional as F\n",
        "import torch.optim as optim\n",
        "import random \n",
        "import gym \n",
        "from tqdm import tqdm \n",
        "import numpy as np \n",
        "import matplotlib.pyplot as plt \n",
        "import copy \n",
        "\n",
        "INPUT_DIM = 4\n",
        "N_ACTIONS = 2\n",
        "MAX_SAMPLE = 100000\n",
        "DISCOUNT = .95 \n",
        "EPS = 1e-5\n",
        "EXPLORE_PROBABILITY_FUNC = lambda idx: 0.99**idx \n",
        "BATCH_SIZE = 30 \n",
        "LEARNING_RATE = 0.001 \n",
        "GRAD_CLIP = 10.0 \n",
        "SHORT_TERM_MEMORY_LENGTH = 3 \n",
        "LBFGS = False \n",
        "ENV_NAME = 'CartPole-v1' \n",
        "\n",
        "class Model(nn.Module): \n",
        "    def __init__(self, \n",
        "            input_dim=INPUT_DIM, \n",
        "            n_actions=N_ACTIONS, \n",
        "            max_sample=MAX_SAMPLE, \n",
        "            discount = DISCOUNT, \n",
        "            eps=EPS, \n",
        "            explore_probability_func=EXPLORE_PROBABILITY_FUNC, \n",
        "            batch_size=BATCH_SIZE, \n",
        "            learning_rate=LEARNING_RATE, \n",
        "            grad_clip=GRAD_CLIP, \n",
        "            short_term_memory_length=SHORT_TERM_MEMORY_LENGTH, \n",
        "            lbfgs=LBFGS, \n",
        "            env_name=ENV_NAME): \n",
        "        super(Model, self).__init__() \n",
        "        ## store config \n",
        "        self.input_dim = input_dim \n",
        "        self.n_actions = n_actions \n",
        "        self.max_sample = max_sample \n",
        "        self.discount = discount \n",
        "        self.eps = eps \n",
        "        self.explore_probability_func = explore_probability_func \n",
        "        self.batch_size = batch_size \n",
        "        self.learning_rate = learning_rate \n",
        "        self.grad_clip = grad_clip \n",
        "        self.short_term_memory_length = short_term_memory_length \n",
        "        self.lbfgs = lbfgs \n",
        "        self.env_name = env_name \n",
        "        ## init feed forward net \n",
        "        self.fc1 = nn.Linear(input_dim * short_term_memory_length, 32) \n",
        "        self.fc1_bn = nn.BatchNorm1d(32) \n",
        "        self.fc2 = nn.Linear(32, 32) \n",
        "        self.fc2_bn = nn.BatchNorm1d(32) \n",
        "        self.fc3 = nn.Linear(32, n_actions) \n",
        "        ## init data structures \n",
        "        self.observations = [] \n",
        "        self.env = None \n",
        "        if self.lbfgs: \n",
        "            ## Misbehavior observed with large `history_size`, ie. >20 \n",
        "            ## RAM req = O(history_size * model_dim) \n",
        "            self.optimizer = optim.LBFGS(self.parameters(), history_size=5) \n",
        "        else: \n",
        "            ## LBFGS was giving nan parameters \n",
        "            self.optimizer = optim.Adam(self.parameters(), lr=self.learning_rate) \n",
        "            pass \n",
        "        pass \n",
        "    \n",
        "    def copy(self): \n",
        "        return copy.deepcopy(self) \n",
        "        ## TODO evaluate above code, perhaps disregard below \n",
        "        out = Model(input_dim=self.input_dim, \n",
        "                n_actions=self.n_actions, \n",
        "                max_sample=self.max_sample, \n",
        "                discount=self.discount, \n",
        "                eps=self.eps, \n",
        "                explore_probability_func=self.explore_probability_func, \n",
        "                batch_size=self.batch_size, \n",
        "                learning_rate=self.learning_rate, \n",
        "                grad_clip=self.grad_clip, \n",
        "                short_term_memory_length=self.short_term_memory_length, \n",
        "                lbfgs=self.lbfgs) \n",
        "        out.load_state_dict(self.state_dict()) \n",
        "        return out \n",
        "\n",
        "    def forward(self, x): \n",
        "        x = self.fc1(x)\n",
        "        x = self.fc1_bn(x) \n",
        "        x = torch.relu(x) \n",
        "        x = self.fc2(x) \n",
        "        x = self.fc2_bn(x)  \n",
        "        x = torch.relu(x) \n",
        "        x = self.fc3(x) \n",
        "        x = x*x \n",
        "        return x \n",
        "    \n",
        "    def get_action(self, env_state): \n",
        "        env_state = torch.tensor(env_state).float() \n",
        "        env_state = env_state.reshape([1, -1]) \n",
        "        predicted_reward_per_action_idx = self.forward(env_state) \n",
        "        return int(predicted_reward_per_action_idx.argmax()) \n",
        "    \n",
        "    def store_observation(self, observation): \n",
        "        if len(observation) > self.max_sample: \n",
        "            observation = observation[1:] \n",
        "        self.observations.append(observation) \n",
        "        pass \n",
        "    \n",
        "    def clear_observations(self): \n",
        "        self.observations = [] \n",
        "        pass \n",
        "    \n",
        "    def __memory_replay(self, target_model, batch_size=None): \n",
        "        ## random sample \n",
        "        obs = self.observations \n",
        "        if batch_size is not None: \n",
        "            if batch_size < len(self.observations): \n",
        "                obs = random.sample(self.observations, batch_size) \n",
        "        ## unpack samples \n",
        "        samples = [ (torch.tensor(env_state).float(), \\\n",
        "                torch.tensor(reward).float(), \\\n",
        "                torch.tensor(done).int(), \\\n",
        "                torch.tensor(prev_env_state).float(), \\\n",
        "                torch.tensor(action).int()) for \\\n",
        "                (env_state, reward, done, info, prev_env_state, action) in obs] \n",
        "        ## build matrices \n",
        "        env_state = torch.stack([obs[0] for obs in samples], dim=0) ## inserts dim 0 \n",
        "        observed_rewards = torch.stack([obs[1] for obs in samples], dim=0) \n",
        "        done = torch.stack([obs[2] for obs in samples], dim=0) \n",
        "        prev_env_state = torch.stack([obs[3] for obs in samples], dim=0) \n",
        "        action = torch.stack([obs[4] for obs in samples], dim=0).reshape([-1, 1]).type(torch.int64) \n",
        "        ## calculate target \n",
        "        with torch.no_grad(): \n",
        "            predicted_rewards = target_model.forward(env_state) \n",
        "            predicted_rewards = torch.max(predicted_rewards, dim=1, keepdim=True).values.reshape([-1]) \n",
        "            target = observed_rewards + (1 - done) * self.discount * predicted_rewards \n",
        "            target = target.reshape([-1, 1]).detach() \n",
        "            pass \n",
        "        ## calculate prediction \n",
        "        self.zero_grad() \n",
        "        self.train() \n",
        "        predicted_rewards = self.forward(prev_env_state) \n",
        "        prediction = predicted_rewards.gather(1, action) \n",
        "        return prediction, target \n",
        "    \n",
        "    def get_parameter_vector(self): \n",
        "        return nn.utils.parameters_to_vector(self.parameters()) \n",
        "    \n",
        "    def optimize(self, max_iter=None, batch_size=None): \n",
        "        iter_n = 0 \n",
        "        n_dels = 30 \n",
        "        dels = [None]*n_dels \n",
        "        continue_iterating = True \n",
        "        halt_method = None \n",
        "        loss_f = None \n",
        "        mean_reward = None \n",
        "        target_model = self.copy() \n",
        "        while continue_iterating: \n",
        "            prev_theta = self.get_parameter_vector() \n",
        "            predicted, target = self.__memory_replay(target_model=target_model, batch_size=batch_size) \n",
        "            mean_reward = predicted.mean() \n",
        "            #loss = F.mse_loss(predicted, target) \n",
        "            loss = F.smooth_l1_loss(predicted, target) \n",
        "            loss_f = float(loss) \n",
        "            loss.backward() \n",
        "            if not self.lbfgs: \n",
        "                ## lbfgs really doesn't like this \n",
        "                nn.utils.clip_grad_norm_(model.parameters(), self.grad_clip) \n",
        "            ## lbfgs must re-evaluate target, hence lambda \n",
        "            if self.lbfgs:\n",
        "                self.optimizer.step(lambda: float(F.smooth_l1_loss(predicted, target))) \n",
        "            else:\n",
        "                self.optimizer.step() \n",
        "                pass \n",
        "            updated_theta = self.get_parameter_vector() \n",
        "            ## decide to continue iterating or not \n",
        "            if max_iter is not None: \n",
        "                if iter_n > max_iter: \n",
        "                    ## halt: iters have hit limit \n",
        "                    continue_iterating = False \n",
        "                    halt_method = 'max-iter' \n",
        "            if iter_n >= n_dels: \n",
        "                ## test convergence with chebyshev ineq \n",
        "                dels = dels[1:] + [(updated_theta - prev_theta).abs().sum()] \n",
        "                sigma = torch.tensor(dels).square().mean().sqrt() \n",
        "                if (sigma/self.eps)**2 < .95: \n",
        "                    ## halt: convergance \n",
        "                    continue_iterating = False \n",
        "                    halt_method = 'cauchy-convergence' \n",
        "            else: \n",
        "                ## collect data for variance estimate \n",
        "                dels[iter_n] = (updated_theta - prev_theta).abs().sum() \n",
        "                pass \n",
        "            iter_n += 1 \n",
        "            pass \n",
        "        return loss_f, halt_method, mean_reward  \n",
        "    \n",
        "    def simulate(self, fit=True, total_iters=10000, plot_rewards=True, plot_prob_func=True): \n",
        "        if plot_prob_func:\n",
        "            plt.plot([self.explore_probability_func(idx) for idx in range(total_iters)]) \n",
        "            plt.show()\n",
        "            pass \n",
        "        env = gym.make(self.env_name) \n",
        "        env_state = env.reset() \n",
        "        env_state_list = [torch.tensor(env_state) for _ in range(self.short_term_memory_length)] \n",
        "        env_state = torch.cat(env_state_list) \n",
        "        last_start = 0 \n",
        "        last_total_reward = 0 \n",
        "        n_restarts = 0 \n",
        "        self.total_rewards = [] \n",
        "        ## run experiment \n",
        "        iters = tqdm(range(total_iters), disable=False) \n",
        "        for iter_idx in iters: \n",
        "            prev_env_state = env_state \n",
        "            if self.explore_probability_func(iter_idx) > np.random.uniform(): ## TODO move to get_action \n",
        "                ## explore \n",
        "                action = env.action_space.sample()\n",
        "            else: \n",
        "                ## exploit \n",
        "                self.eval() \n",
        "                action = self.get_action(env_state) \n",
        "                pass \n",
        "            env_state, reward, done, info = env.step(action) \n",
        "            env_state_list = env_state_list[1:] + [torch.tensor(env_state)] \n",
        "            env_state = torch.cat(env_state_list) \n",
        "            if done: \n",
        "                reward = 0 \n",
        "                pass \n",
        "            last_total_reward += reward \n",
        "            observation = env_state, reward, done, info, prev_env_state, action \n",
        "            self.store_observation(observation) \n",
        "\n",
        "            if iter_idx > 30 and iter_idx % 1 == 0: \n",
        "                loss, halt_method, mean_reward = self.optimize(max_iter=1, batch_size=self.batch_size) \n",
        "                loss = float(loss) \n",
        "                mean_reward = float(mean_reward) \n",
        "                param_nan = self.get_parameter_vector().isnan().sum() \n",
        "                iters.set_description(f'n_restarts: {n_restarts}, last_total_reward: {last_total_reward}, '+\\\n",
        "                    f'loss: {round(loss,4)}, halt: {halt_method}, mean_reward: {round(mean_reward,2)}, action: {action}') \n",
        "                pass \n",
        "\n",
        "            if done: \n",
        "                env_state = env.reset() \n",
        "                env_state_list = [torch.tensor(env_state) for _ in range(self.short_term_memory_length)] \n",
        "                env_state = torch.cat(env_state_list) \n",
        "                self.total_rewards.append(last_total_reward) \n",
        "                last_total_reward = 0 \n",
        "                n_restarts += 1 \n",
        "                pass \n",
        "            pass \n",
        "        env.close() \n",
        "\n",
        "        if plot_rewards: \n",
        "            plt.plot(self.total_rewards) \n",
        "            plt.show()\n",
        "        pass "
      ],
      "outputs": [],
      "execution_count": 1,
      "metadata": {
        "jupyter": {
          "source_hidden": false,
          "outputs_hidden": false
        },
        "nteract": {
          "transient": {
            "deleting": false
          }
        },
        "gather": {
          "logged": 1650218934467
        }
      }
    },
    {
      "cell_type": "code",
      "source": [
        "model = Model() \r\n",
        "model.simulate(total_iters=10000, plot_prob_func=False) "
      ],
      "outputs": [
        {
          "output_type": "stream",
          "name": "stderr",
          "text": "  0%|          | 0/10000 [00:00<?, ?it/s]/anaconda/envs/azureml_py36/lib/python3.6/site-packages/ipykernel_launcher.py:102: UserWarning: To copy construct from a tensor, it is recommended to use sourceTensor.clone().detach() or sourceTensor.clone().detach().requires_grad_(True), rather than torch.tensor(sourceTensor).\n  0%|          | 12/10000 [00:00<02:51, 58.37it/s]/anaconda/envs/azureml_py36/lib/python3.6/site-packages/ipykernel_launcher.py:129: UserWarning: To copy construct from a tensor, it is recommended to use sourceTensor.clone().detach() or sourceTensor.clone().detach().requires_grad_(True), rather than torch.tensor(sourceTensor).\nn_restarts: 170, last_total_reward: 70.0, loss: 0.6344, halt: max-iter, mean_reward: 21.84, action: 0: 100%|██████████| 10000/10000 [32:47<00:00,  5.08it/s]\n"
        },
        {
          "output_type": "display_data",
          "data": {
            "text/plain": "<Figure size 432x288 with 1 Axes>",
            "image/png": "[encoded data removed]"
          },
          "metadata": {
            "needs_background": "light"
          }
        }
      ],
      "execution_count": 2,
      "metadata": {
        "jupyter": {
          "source_hidden": false,
          "outputs_hidden": false
        },
        "nteract": {
          "transient": {
            "deleting": false
          }
        },
        "gather": {
          "logged": 1650220902427
        }
      }
    }
  ],
  "metadata": {
    "kernelspec": {
      "name": "python3-azureml",
      "language": "python",
      "display_name": "Python 3.6 - AzureML"
    },
    "language_info": {
      "name": "python",
      "version": "3.6.9",
      "mimetype": "text/x-python",
      "codemirror_mode": {
        "name": "ipython",
        "version": 3
      },
      "pygments_lexer": "ipython3",
      "nbconvert_exporter": "python",
      "file_extension": ".py"
    },
    "nteract": {
      "version": "nteract-front-end@1.0.0"
    },
    "kernel_info": {
      "name": "python3-azureml"
    },
    "microsoft": {
      "host": {
        "AzureML": {
          "notebookHasBeenCompleted": true
        }
      }
    }
  },
  "nbformat": 4,
  "nbformat_minor": 2
}