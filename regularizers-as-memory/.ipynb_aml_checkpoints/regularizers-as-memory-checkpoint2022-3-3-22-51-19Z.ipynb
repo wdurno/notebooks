{
  "cells": [
    {
      "cell_type": "markdown",
      "source": [
        "# Regularizers as memory\n",
        "\n",
        "The greatest challenge in modern AI research is the limiting returns computational work. \n",
        "While the greatest advances can only be afforded by large technology firms, even they \n",
        "cannot afford to push results further. A clear plateau has developed. \n",
        "Insufficient computational efficiency motivates a return to theory, begs a question: \n",
        "_where is waste most significant?_ \n",
        "\n",
        "The advent of catestrophic forgetting shows raw, non-compressed information must be continually re-applied \n",
        "if it is not to be forgotten. If important information could be preserved--even partially--we would expect \n",
        "more efficient computation. In short, _this work targets the realization of memory_.\n",
        "\n",
        "Regularized likelihood equations have a Lagrangian form, so implicitly describe geometric constraints on estimates.\n",
        "For example, here's an estimate constrained to an L2-sphere in $\\Theta$-space.\n",
        "\n",
        "$$ \\hat \\theta_{L_2} = \\text{arg max}_{\\theta \\in \\Theta} n^{-1} \\sum_{i=1}^n \\log f_X(X_i;\\theta) - \\lambda \\| \\theta \\|_2^2 $$\n",
        "\n",
        "In this work, we'll generalize the regularizer $\\| \\cdot \\|_2^2$ to support alternative geometries, \n",
        "in attempting to construct numerically convenient memory approximations. \n",
        "Particulary, we'll seek to approximate the following equation.\n",
        "Note that it introduces quadratic geometric constraints on the estimate. \n",
        "\n",
        "$$ \\hat \\theta = \\text{arg max}_{\\theta \\in \\Theta} n^{-1} \\sum_{i=1}^n \\log f_X(X_i;\\theta) - \\frac{\\lambda}{2} (\\theta - \\theta_0)^T \\mathcal{I}_{\\theta_0} (\\theta - \\theta_0) $$"
      ],
      "metadata": {
        "nteract": {
          "transient": {
            "deleting": false
          }
        }
      }
    },
    {
      "cell_type": "markdown",
      "source": [
        "## RL-reweighted (RLR) estimates \n",
        "\n",
        "This first estimate is designed to improve efficiency of sampling in reinforcement learning (RL) by \n",
        "up-weighting more-important observations. We'll use this estimate:\n",
        "\n",
        "$$ \\hat \\theta_{RLR} = \\hat \\theta_{n_1+n_2} = \\text{arg max}_\\theta \\left( \\sum_{i=1}^{n_1+n_2} \\| \\hat r_i \\|_2^{2b} \\right)^{-1} \\left( \\sum_{i=n_1+1}^{n_1+n_2} \\| \\hat r_i \\|_2^{2b} \\log f_X(X_i; \\theta) - \\sum_{i=1}^{n_1} \\frac{\\lambda}{2} (\\theta - \\hat \\theta_{n_1+n_2-1})^T H_i (\\theta - \\hat \\theta_{n_1+n_2-1}) \\right) $$\n",
        "\n",
        "where \n",
        "- $n_1$ is the number of priviously observed sameples, \n",
        "- $n_2$ is the number of newly observed samples, \n",
        "- $\\hat r_i$ is the estimated reward for observation $i$, \n",
        "- $b > 0$ is a bias term,  \n",
        "- $H_i = \\| \\hat r_i \\|^{2b}_2 \\left( \\nabla_\\theta \\log f_X(X_j; \\theta)|_{\\theta = \\hat \\theta_{j-1}} \\right) \\left( \\nabla_\\theta \\log f_X(X_j; \\theta)|_{\\theta = \\hat \\theta_{j-1}} \\right)^T$ is a Hessian approximation, and\n",
        "- $\\hat \\theta_0$ is an initial estimate guess, commonly required in optimization routines. \n",
        "\n",
        "Define $ M:= \\sum_{i=1}^{n_1}(\\theta - \\theta_{n_1+n_2-1})^TH_i(\\theta - \\theta_{n_1+n_2-1})$, which we'll refer to as the \"memory term\". \n",
        "The key heuristic is that $M$, a quadratic regularizer, approximates large-sample likelihoods under maximization. \n",
        "This insight can be seen through a Taylor approximation near true $\\theta$, designated $\\theta_T$.\n",
        "\n",
        "$\\hat \\theta_{MLE} = \\text{arg max}_\\theta n^{-1} \\sum_{i=1}^n \\log f_X(X_i;\\theta) $\n",
        "\n",
        "$ \\approx \\text{arg max}_\\theta n^{-1}\\sum_i \\log f_X(X_i; \\theta_T) + n^{-1}\\sum_i (\\theta - \\theta_T)^T \\nabla_\\theta \\log f_X(X_i; \\theta_T) + n^{-1}2^{-1} \\sum_i (\\theta - \\theta_T)^T (\\nabla_\\theta)^2 \\log f_X(X_i; \\theta_T)(\\theta - \\theta_T) $\n",
        "\n",
        "$ \\approx \\text{arg max}_\\theta n^{-1}\\sum_i \\log f_X(X_i; \\theta_T) + 0 + n^{-1}2^{-1} \\sum_i (\\theta - \\theta_T)^T (\\nabla_\\theta)^2 \\log f_X(X_i; \\theta_T)(\\theta - \\theta_T) $\n",
        "\n",
        "$ \\approx \\text{arg max}_\\theta n^{-1}2^{-1} \\sum_i (\\theta - \\theta_T)^T (\\nabla_\\theta)^2 \\log f_X(X_i; \\theta_T)(\\theta - \\theta_T) $\n",
        "\n",
        "This work basically tests the quality of our $M \\approx \\sum_i (\\theta - \\theta_T)^T (\\nabla_\\theta)^2 \\log f_X(X_i; \\theta_T)(\\theta - \\theta_T) $ heuristic.\n",
        "If true, then we should see that the quadratic regularizer, $M$, affects memory through geometric constraints on the estimator.\n",
        "\n",
        "Later, we'll experiment with recency bias and rank reductions for $M$.\n",
        "\n",
        "Notice that $\\hat \\theta_{RLR}$ is asymptotically equivalent to a redistributed sampling, \n",
        "with more observations when they are more important. \n",
        "Hence, the essence of this computational efficiency strategy is to \n",
        "- add frequency bias to important observations, \n",
        "- and preserve their information via geometric estimator constraints."
      ],
      "metadata": {
        "nteract": {
          "transient": {
            "deleting": false
          }
        }
      }
    },
    {
      "cell_type": "markdown",
      "source": [
        "## Experiment 1: Cartpole\r\n",
        "\r\n",
        "We start with a _very_ simple example, proving-out concepts."
      ],
      "metadata": {
        "nteract": {
          "transient": {
            "deleting": false
          }
        }
      }
    },
    {
      "cell_type": "code",
      "source": [],
      "outputs": [],
      "execution_count": null,
      "metadata": {
        "jupyter": {
          "source_hidden": false,
          "outputs_hidden": false
        },
        "nteract": {
          "transient": {
            "deleting": false
          }
        },
        "gather": {
          "logged": 1648925731763
        }
      }
    },
    {
      "cell_type": "code",
      "source": [],
      "outputs": [],
      "execution_count": null,
      "metadata": {
        "jupyter": {
          "source_hidden": false,
          "outputs_hidden": false
        },
        "nteract": {
          "transient": {
            "deleting": false
          }
        }
      }
    }
  ],
  "metadata": {
    "kernelspec": {
      "name": "python3-azureml",
      "language": "python",
      "display_name": "Python 3.6 - AzureML"
    },
    "language_info": {
      "name": "python",
      "version": "3.6.9",
      "mimetype": "text/x-python",
      "codemirror_mode": {
        "name": "ipython",
        "version": 3
      },
      "pygments_lexer": "ipython3",
      "nbconvert_exporter": "python",
      "file_extension": ".py"
    },
    "nteract": {
      "version": "nteract-front-end@1.0.0"
    },
    "kernel_info": {
      "name": "python3-azureml"
    }
  },
  "nbformat": 4,
  "nbformat_minor": 2
}