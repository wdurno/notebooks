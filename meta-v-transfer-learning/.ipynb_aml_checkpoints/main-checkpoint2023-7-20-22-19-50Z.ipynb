{
  "cells": [
    {
      "cell_type": "markdown",
      "source": [
        "# Transfer learning compared to meta learning \n",
        "\n",
        "Meta learning prepares a model to interpolate generally over a submanifold in the parameter space, \n",
        "but the submanifold dimension is practically small relative the parameter space dimension, \n",
        "because each one must be engineered. \n",
        "Alternatively, transfer learning effectively contributes significant samples sizes to some dimensions \n",
        "and usually arrives with a little bias. \n",
        "Here, we show (HYPOTHESIZE) that meta learning is competitive near its submanifold, \n",
        "but sufficiently-abstracted transfer learning ultimately produces greater generality beyond the submanifold, \n",
        "at least when bias is sufficiently low. \n",
        "Ultimately, it's a trade-off between meta learning's effective submanifold, \n",
        "and the relevance of a data abstraction produced by transfer learning. \n",
        "If the abstraction is coherent and small, it should be more general. \n",
        "When done correctly, packing greater volumes of data into smaller dimensional spaces lends to greater generality."
      ],
      "metadata": {
        "nteract": {
          "transient": {
            "deleting": false
          }
        }
      }
    },
    {
      "cell_type": "code",
      "source": [
        "import torch\n",
        "import torch.nn as nn\n",
        "\n",
        "class BaseLayers(nn.Module): \n",
        "    pass "
      ],
      "outputs": [],
      "execution_count": null,
      "metadata": {}
    }
  ],
  "metadata": {
    "kernelspec": {
      "name": "python310-sdkv2",
      "language": "python",
      "display_name": "Python 3.10 - SDK V2"
    },
    "language_info": {
      "name": "python",
      "version": "3.10.6",
      "mimetype": "text/x-python",
      "codemirror_mode": {
        "name": "ipython",
        "version": 3
      },
      "pygments_lexer": "ipython3",
      "nbconvert_exporter": "python",
      "file_extension": ".py"
    },
    "microsoft": {
      "ms_spell_check": {
        "ms_spell_check_language": "en"
      }
    },
    "kernel_info": {
      "name": "python310-sdkv2"
    },
    "nteract": {
      "version": "nteract-front-end@1.0.0"
    }
  },
  "nbformat": 4,
  "nbformat_minor": 2
}