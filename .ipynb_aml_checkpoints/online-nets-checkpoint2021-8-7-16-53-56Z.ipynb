{
  "cells": [
    {
      "cell_type": "markdown",
      "source": [
        "# online nets\r\n",
        "\r\n",
        "Goal: evaluate a deep learning alternative capable of true online learning. Solution requirements:\r\n",
        "\r\n",
        "1. catastrophic forgetting should be impossible\r\n",
        "2. all data is integrated into sufficient statistics of fixed dimension\r\n",
        "3. have predictive power comparable to deep learning\r\n",
        "\r\n",
        "## alternative model\r\n",
        "\r\n",
        "Least squares regression (LSR) meets solution requirements 1 and 2. To achieve requirement 3, we'll structure our model similarly to deep learning by having LSR models depend on other LSR models, effectively producing a Gaussian Bayes net with nonlinear activations.\r\n",
        "Unfortunately, Bayes nets' latent variables result in computationally intractible integrals, so we'll use a heuristic to \"observe\" all variables.\r\n",
        "\r\n",
        "Our LSR model can be written as $X_n\\beta_n = Y_n$, where\r\n",
        "- $X_n \\in \\mathbb{R}^{n \\times p}$ is a matrix of regressor columns and $x_i \\in \\mathbb{R}^{1 \\times p}$ observation rows.\r\n",
        "- $Y_n \\in \\mathbb{R}^{n \\times q}$ is a matrix of dependent variable columns and $y_i \\in \\mathbb{R}^{1 \\times q}$ observation rows.\r\n",
        "- $\\beta \\in \\mathbb{R}^{p \\times q}$ is our matrix of regression weights.\r\n",
        "\r\n",
        "First, we'll rephrase our problems as ito time series problems, so that we may assume our input and output dimensions are equivalent or $p = q$. While this category of problems clearly covers reinforcement learning, it can also cover more general problems.\r\n",
        "For example, given the right network topology and interpretting $X_{n+k}$ as the $n^{th}$ sample's output, we cover feed-forward classification problems as well.\r\n",
        "\r\n",
        "## numerical considarations\r\n",
        "\r\n",
        "We'll use the Sherman-Morrison formula (SMF) to derive our online updates in a computationally tractible way.\r\n",
        "\r\n",
        "$$(A + uv^T)^{-1} = A^{-1} - \\frac{A^{-1} av^T A^{-1}}{1 + v^tA^{-1}u}$$\r\n",
        "\r\n",
        "We will later define our problems in terms of recurrent nets and time series. Input and output dimensions thus equate, so let $p = q$.\r\n",
        "\r\n",
        "With regularization term $\\lambda >0$, the L2-regularized estimate of $\\beta$ is $\\left(\\sum_{i=1}^nx_i^tx_i + \\lambda \\right)^{-1}\\sum_{i=1}^n x_i^Ty_i$. However, we'll need an additional inverse, so we must add further regularization.\r\n",
        "Take our $\\beta$ estimate to be $\\hat{\\beta}_n = \\left(\\sum_{i=1}^nx_i^tx_i + \\lambda \\right)^{-1}\\left(\\sum_{i=1}^n x_i^Ty_i + \\lambda \\right)$. We'll derive our SMF-inverse updates with these definitions:\r\n",
        "- $A_n := \\sum_{i=1}^n x_i^Tx_i + \\lambda$\r\n",
        "- $A_0 := \\lambda I_{p \\times p}$\r\n",
        "- $B_n := \\sum_{i=1}^n x_i^T y_i + \\lambda$\r\n",
        "- $B_0 := \\lambda I_{p \\times p}$\r\n",
        "\r\n",
        "With these definitions, we have that $\\hat{\\beta}_n = A_n^{-1} B_n$ and also that $\\hat{\\beta}_n = \\left(A_n + x_i^Tx_i \\right)^{-1} \\left( B_n + x_i^Ty_i \\right)$. Applying SMF, we get these identities\r\n",
        "$$A_{n+1}^{-1} = A_n^{-1} - \\frac{A_n^{-1} x_i^Tx_i A_n^{-1}}{1+x_iA_n^{-1}x_i^T}$$\r\n",
        "$$B_{n+1}^{-1} = B_n^{-1} - \\frac{B_n^{-1} x_i^Ty_i B_n^{-1}}{1+y_iB_n^{-1}x_i^T}$$\r\n",
        "\r\n",
        "So, we have derived our computationally-tractible inverse updates.\r\n"
      ],
      "metadata": {
        "nteract": {
          "transient": {
            "deleting": false
          }
        }
      }
    }
  ],
  "metadata": {
    "kernelspec": {
      "name": "python3-azureml",
      "language": "python",
      "display_name": "Python 3.6 - AzureML"
    },
    "language_info": {
      "name": "python",
      "version": "3.6.9",
      "mimetype": "text/x-python",
      "codemirror_mode": {
        "name": "ipython",
        "version": 3
      },
      "pygments_lexer": "ipython3",
      "nbconvert_exporter": "python",
      "file_extension": ".py"
    },
    "kernel_info": {
      "name": "python3-azureml"
    },
    "nteract": {
      "version": "nteract-front-end@1.0.0"
    }
  },
  "nbformat": 4,
  "nbformat_minor": 2
}