{
  "cells": [
    {
      "cell_type": "markdown",
      "source": [
        "# Memory as geometry\n",
        "\n",
        "Content:\n",
        "- Asymptotically, memories are equivalent to Lagrangian-form regularizers, and thus equivalent to a point on a parameter space manifold. \n",
        "- Proof of how all Lagrangian-form regularizers work.\n",
        "- Corollary: Asymptotic sufficient statistics exist universally. \n",
        "- Desirable geometric properties of parameter space manifolds. \n",
        "- Result: Data is the most-efficient regularizer. "
      ],
      "metadata": {
        "nteract": {
          "transient": {
            "deleting": false
          }
        }
      }
    },
    {
      "cell_type": "markdown",
      "source": [
        "## Definitions\n",
        "\n",
        "- $f_X(x; \\theta)$ is a density function, where $\\theta \\in \\Theta \\subset \\mathbb{R}^p$. \n",
        "- $\\theta_0$ is the _true value_ of $\\theta$, so that we expect $X_i \\sim_{iid} f_X(x, \\theta_0)$.\n",
        "- $\\hat \\theta_0$ is the maximum likelihood estiamte (MLE) of $\\theta_0$, so that $\\hat \\theta_0 = \\arg \\max_{\\theta \\in \\Theta} n^{-1} \\log f_X(X; \\theta) $. \n",
        "\n",
        "### Memory\n",
        "\n",
        "A memory is a series of observations $\\{X_1, X_2, \\ldots\\}$ such that $X_i \\sim_{iid} f_X(x; \\theta_0)$."
      ],
      "metadata": {
        "nteract": {
          "transient": {
            "deleting": false
          }
        }
      }
    },
    {
      "cell_type": "markdown",
      "source": [
        "## Memories are equivalent to Lagrangian-form regularizers \n",
        "\n",
        "This equivalency proof is via cyclical implications, $A \\Rightarrow B \\Rightarrow C \\Rightarrow A$ where \n",
        "- $A$: the estimate is memory-regularized. \n",
        "- $B$: the estimate is Lagrangian-regularized. \n",
        "- $C$: the estimate is sub-manifold constrained. "
      ],
      "metadata": {
        "nteract": {
          "transient": {
            "deleting": false
          }
        }
      }
    },
    {
      "cell_type": "markdown",
      "source": [
        "## Memories are Lagrangian-form regularizers \n",
        "\n",
        "For fixed $\\lambda$ define $\\hat \\theta_\\lambda = \\arg\\max_{\\theta \\in \\Theta} \\log f_X(X;\\theta) - \\lambda g(\\theta)$ be a regularized estimate with $g(\\theta)$ a Lagrangian-form regularizer. \n",
        "Under mild regularity assumptions, maximum likelihood estimates (MLEs) have similar asymptotic behavior.\n",
        "\n",
        "$$ \\hat \\theta = \\arg\\max_{\\theta \\in \\Theta} \\log f_X(X;\\theta) \\to_{a.s.} \\arg\\max_{\\theta \\in \\Theta} \\mathbb{E}\\log f_X(X;\\theta_0) - n 2^{-1} (\\theta - \\theta_0)^T \\mathcal{I}_{\\theta_0} (\\theta - \\theta_0) \\text{ as } n \\to \\infty $$\n",
        "\n",
        "Recognizing this, we may take $n = n_A + n_B$ where $n_A$ becomes large.\n",
        "\n",
        "$$ \\log f_X(X;\\theta) = \\sum_{j=1}^{N_B} \\log f_X(X_j; \\theta) + \\sum_{i=1}^{n_A} \\log f_X(X_i; \\theta) = \\log f_X(X_B; \\theta) + \\log f_X(X_A; \\theta) \\to_{a.s.} \\log f_X(X_B; \\theta) - n_A 2^{-1} (\\theta - \\theta_0)^T \\mathcal{I}_{\\theta_0} (\\theta - \\theta_0) $$\n",
        "\n",
        "Applying MLE consistency and the Strong Law of Large Numbers, we further recognize \n",
        "- $\\hat \\theta_A \\to_{\\mathbb{P}} \\theta_0$ where $\\hat \\theta_A = \\arg\\max_{\\theta \\in \\Theta} \\log f_X(X_A; \\theta)$ by MLE consistency, and\n",
        "- $\\hat{\\mathcal{I}}_A \\to_{a.s.} \\mathcal{I}_{\\theta_0}$ where $\\hat{\\mathcal{I}}_A = n_A^{-1} \\left(\\nabla_\\theta \\log f_X(X_A;\\theta)\\right) \\left(\\nabla_\\theta \\log f_X(X_A;\\theta)\\right)^T$.\n",
        "\n",
        "Thus we are free to use the following approximation when $n_A$ large. (TODO check convergence mode!)\n",
        "\n",
        "$$ \\log f_X(X; \\theta) \\to_{\\mathbb{P}} \\log f_X(X_B; \\theta) - n_A 2^{-1} (\\theta - \\hat\\theta_A)^T \\hat{\\mathcal{I}}_A (\\theta - \\hat\\theta_A) $$\n",
        "\n",
        "Thus, for $n_A$ large, all information from the entire sample $X_A$ is stored within $\\left( \\hat\\theta_A , \\hat{\\mathcal{I}}_A \\right)$. \n",
        "So, we may rightfully refer to $n_A 2^{-1} (\\theta - \\hat\\theta_A)^T \\hat{\\mathcal{I}}_A (\\theta - \\hat\\theta_A)$ as the _memory term_.\n",
        "\n",
        "Define $\\hat\\theta_B = \\arg \\max_{\\theta \\in \\Theta} \\log f_X(X_B; \\theta) - \\lambda 2^{-1} (\\theta - \\hat\\theta_A)^T \\hat{\\mathcal{I}}_A (\\theta - \\hat\\theta_A)$ to be the _memory regularized MLE_.\n",
        "\n",
        "Thus, our memory term is a Lagrangian-form regularizer. \n",
        "\n",
        "#### Corollary: Universal asymptotic sufficient statistics \n",
        "\n",
        "The Fisher-Neyman definition of a sufficient statistic $T$ requires the likelihood factorize $f_X(X;\\theta) = h(X) g(T(X); \\theta)$. \n",
        "If we relax this factorization to $f_X(X;\\theta) \\to_{\\mathbb{P}} h(X) g(T(X); \\theta)$ as $n \\to \\infty$ or simply $f_X(X;\\theta) \\approx h(X) g(T(X); \\theta)$, \n",
        "then we may uncover that $\\left( \\hat\\theta(X) , \\hat{\\mathcal{I}}(X) \\right)$ is indeed a near-universal sufficient statistic at large sample sizes, \n",
        "only requiring modest regularity assumptions to apply. \n",
        "\n",
        "Recognizing that $ \\log f_X(X; \\theta) \\approx \\mathbb{E} \\log f_X(X; \\theta) - n 2^{-1} (\\theta - \\hat\\theta(X))^T \\hat{\\mathcal{I}}(X) (\\theta - \\hat\\theta(X)) $, \n",
        "we uncover $g(T(X), \\theta) = \\exp \\left[ c(\\theta) - T(X) \\right]$ and $h = 1$, \n",
        "where \n",
        "- $c(\\theta) = \\mathbb{E}\\log f_X(X; \\theta)$, \n",
        "- $T(X) = n 2^{-1} (\\theta - \\hat\\theta(X))^T \\hat{\\mathcal{I}}(X) (\\theta - \\hat\\theta(X))$, \n",
        "- $\\hat \\theta(X) = \\arg\\max_{\\theta \\in \\Theta} \\log f_X(X; \\theta)$, and \n",
        "- $\\hat{\\mathcal{I}}(X) = n^{-1} \\left(\\nabla_\\theta \\log f_X(X;\\theta)\\right) \\left(\\nabla_\\theta \\log f_X(X;\\theta)\\right)^T$."
      ],
      "metadata": {
        "nteract": {
          "transient": {
            "deleting": false
          }
        }
      }
    },
    {
      "cell_type": "markdown",
      "source": [
        "### Lagrangian estimates are sub-manifold estimates \n",
        "\n",
        "Let a sub-manifold estimate $\\hat \\theta_H = \\arg \\max_{\\theta \\in H} \\log f_X(X; \\theta) $ where $H \\subset \\Theta$ is a submanifold of $\\Theta$. \n",
        "\n",
        "Under mild regularity assumptions, any Lagrangian-constrained estimates $\\hat \\theta_\\lambda$ is the solution point to\n",
        "$\\nabla_\\theta \\log f_X(X;\\theta) = \\lambda \\nabla_\\theta g(\\theta) $. \n",
        "While not yet explicitly the solution to a Lagrangian Multiplier program, \n",
        "notice that $\\nabla_\\theta \\log f_X(X;\\theta) = \\lambda \\nabla_\\theta g(\\theta) = \\lambda \\nabla_\\theta \\left(c - g(\\theta) \\right)$. \n",
        "Choosing $c = g\\left(\\hat \\theta_\\lambda \\right)$ causes $\\frac{\\partial}{\\partial \\lambda} ( \\log f_X(X;\\theta) - \\lambda (c - g(\\theta) ) )$. \n",
        "So, our estimate is implicitly the solution to a Lagrange Multiplier program $\\arg \\max_{\\theta \\in \\Theta} \\log f_X(X;\\theta) \\text{ s.t. } g(\\theta) = c$, \n",
        "which has Lagrangian $\\mathcal{L} = \\log f_X(X;\\theta) - \\lambda (c - g(\\theta) )$.\n",
        "\n",
        "Notice that $g(\\theta) = c$ constrains $\\theta$ to a subspace $H \\subset \\Theta$. \n",
        "Hence, for Lagrangian-constrained estimate $\\hat \\theta_\\lambda$ there exists submanifold $H$ such that the following holds.\n",
        "\n",
        "$$ \\hat \\theta_\\lambda = \\arg\\max_{\\theta \\in \\Theta} \\log f_X(X; \\theta) - \\lambda g(\\theta) = \\arg \\max_{\\theta \\in H} \\log f_X(X; \\theta) = \\hat\\theta_H $$"
      ],
      "metadata": {
        "nteract": {
          "transient": {
            "deleting": false
          }
        }
      }
    },
    {
      "cell_type": "markdown",
      "source": [
        "### Sub-manifold estimates are memory regularized estimates\n",
        "\n",
        "Let $H \\subset \\Theta$ be a sub-manifold with locally constant rank Jacobians. \n",
        "Define $\\hat\\theta_H = \\arg\\max_{\\theta \\in H} \\log f_X(X; \\theta)$ to be a sub-manifold estimate. \n",
        "\n",
        "TODO "
      ],
      "metadata": {
        "nteract": {
          "transient": {
            "deleting": false
          }
        }
      }
    },
    {
      "cell_type": "markdown",
      "source": [
        "#### Corollary: every point on a parameter space sub-manifold is a memory \n",
        "\n",
        "TODO "
      ],
      "metadata": {
        "nteract": {
          "transient": {
            "deleting": false
          }
        }
      }
    },
    {
      "cell_type": "markdown",
      "source": [
        "OLD CONTENT BELOW \n",
        "\n",
        "#### Example: Information geometry informs data size requirements \n",
        "\n",
        "We've made great progress in large models by increasing sample size $n$ via advances in data collection and computation. \n",
        "The goal is to get our estimate $\\hat \\theta$ as close to truth $\\theta_0$ as possible. \n",
        "Asymptotically, maximum likelihood estimates (MLEs) will yield variance of $\\mathcal{I}_{\\theta_0}^{-1}/n$, \n",
        "which describes how close $\\hat \\theta$ is to $\\theta_0$. \n",
        "Thus, our journey toward powerful large models is essentially one of shrinking $\\mathcal{I}_{\\theta_0}^{-1}/n$.\n",
        "We control $n$, so it makes sense that we started there. \n",
        "We don't control $\\mathcal{I}_{\\theta_0}^{-1}$, but we should take advantage of its structure. \n",
        "Statistics' interest in geometry is in discovering low-dimensional, large or unbounded, approximating sub-manifolds with high curvature.\n",
        "\n",
        "$\\mathcal{I}_{\\theta_0}$ is a Riemann metric, so may have high-magnitude tangent-space dimensions thereby bestowing significant information or mutual information. \n",
        "In turn, this information makes our estimator variance $\\mathcal{I}_{\\theta_0}^{-1}/n$ smaller. \n",
        "If we discover high-information dimensions, we may over-weight them to have the same result as increasing $n$, at least for target dimensions. \n",
        "So, we'll replace the usual regularizing scalar $\\lambda$ with a function to and from information matrices. \n",
        "\n",
        "The following example illustrates these mechanisms in play, aiding estimation.\n",
        "\n",
        "$\\hat \\theta_A := \\arg \\max_{\\theta \\in \\Theta} \\log f_X(X_B; \\theta) - n_A (\\theta - \\hat \\theta_A)^T \\lambda \\left( \\hat{\\mathcal{I}}_{X_A} \\right) (\\theta - \\hat \\theta_A)$.\n",
        "\n",
        "$\\hat \\theta_B := \\arg \\max_{\\theta \\in \\Theta} \\log f_X(X_A; \\theta) $.\n",
        "\n",
        "$\\hat{\\mathcal{I}}_{X_A} := n_A^{-1} \\sum_{i=1}^{n_A} \\left( \\nabla_\\theta \\log f_X(X_A; \\theta) \\right) \\left( \\nabla_\\theta \\log f_X(X_A; \\theta) \\right)^T $\n",
        "$ \\to_{a.s.} \\mathcal{I}_{\\theta_0} \\text{ as } n \\to \\infty$\n",
        "\n",
        "$\\theta = (\\mu_1, \\mu_2, \\text{logit}(\\rho), \\log \\sigma, \\log \\tau)^T \\in \\Theta = \\mathbb{R}^p, \\; p = 5 $.\n",
        "\n",
        "$\\eta = (\\mu, \\mu, \\text{logit}(\\rho), \\log \\sigma, \\log \\tau)^T \\in H \\subset \\Theta$, so $H$ is the submanifold where $\\mu = \\mu_1 = \\mu_2$. \n",
        "\n",
        "$\\theta_0 = (\\mu_0, \\mu_0, \\text{logit}(\\rho_0), \\log \\sigma_0, \\log \\tau_0)^T \\in H \\text{ and } X \\sim N_2\\left( \\begin{bmatrix} \\mu_0 \\\\ \\mu_0 \\end{bmatrix}, \\begin{bmatrix} \\sigma_0^2 & \\sigma_0 \\tau_0 \\rho_0 \\\\ \\sigma_0 \\tau_0 \\rho_0 & \\tau_0^2 \\end{bmatrix} \\right)$\n",
        "\n",
        "$\\lambda : P \\to P$ where $P \\subset \\mathbb{R}^{p \\times p}$ is a set of positive semi-definite (PSD) matrices. \n",
        "\n",
        "Since $\\hat{\\mathcal{I}}_{X_A} \\to_{a.s.} \\mathcal{I}_{\\theta_0} $, we expect high-information $|\\mu_0 - \\hat \\mu_1| \\to 0$ as $\\lambda$ is chosen optimally."
      ],
      "metadata": {
        "nteract": {
          "transient": {
            "deleting": false
          }
        }
      }
    },
    {
      "cell_type": "code",
      "source": [
        "## foundational definitions \n",
        "import numpy as np \n",
        "from scipy.stats import multivariate_normal\n",
        "from scipy.special import expit, logit\n",
        "from scipy.optimize import minimize, approx_fprime \n",
        "from numpy.linalg import inv, eig, eigh  \n",
        "import warnings\n",
        "warnings.filterwarnings(\"ignore\", message=\"invalid value encountered in subtract\")\n",
        "\n",
        "def sample_data(n, mu0=0., rho0=0., sigma0=1., tau0=1.): \n",
        "    'generates sample matrix x' \n",
        "    mean = np.array([mu0, mu0]) \n",
        "    cov = np.array([[sigma0*sigma0, sigma0*tau0*rho0], [sigma0*tau0*rho0, tau0*tau0]]) \n",
        "    return multivariate_normal.rvs(mean=mean, cov=cov, size=n) \n",
        "\n",
        "def unpack_theta(theta): \n",
        "    'unpack from (mu1, mu2, logit(rho*.5 + .5), log sigma, log tau) in R^5'\n",
        "    mu1 = theta[0] \n",
        "    mu2 = theta[1] \n",
        "    rho = 2.*expit(theta[2]) - 1. \n",
        "    sigma = np.exp(theta[3]) \n",
        "    tau = np.exp(theta[4]) \n",
        "    theta_vec = np.array([mu1, mu2, rho, sigma, tau]) \n",
        "    mean = np.array([mu1, mu2]) \n",
        "    cov = np.array([[sigma*sigma, sigma*tau*rho], [sigma*tau*rho, tau*tau]]) \n",
        "    return theta_vec, mean, cov \n",
        "\n",
        "def info_estimator(x, theta): \n",
        "    'estimate info matrix via averaged outer produts of log lik grads calculated from numerical stencils' \n",
        "    estimate = 0. \n",
        "    n = x.shape[0] \n",
        "    def log_lik(theta_vec, x=None): \n",
        "        _, mean, cov = unpack_theta(theta_vec) \n",
        "        g = multivariate_normal.logpdf(x=x, mean=mean, cov=cov, allow_singular=True) \n",
        "        return g \n",
        "    eps = [np.sqrt(np.finfo(float).eps)]*5 \n",
        "    for i in range(n): \n",
        "        grad = approx_fprime(theta, log_lik, eps, x[i,:]).reshape([-1,1]) \n",
        "        estimate += np.matmul(grad, np.transpose(grad)) \n",
        "        pass \n",
        "    return estimate / n\n",
        "\n",
        "def mle(x): \n",
        "    'x is a sampled matrix'\n",
        "    def loss(theta): \n",
        "        _, mean, cov = unpack_theta(theta) \n",
        "        l = multivariate_normal.logpdf(x=x, mean=mean, cov=cov, allow_singular=True) \n",
        "        l = sum(l) \n",
        "        return -l  \n",
        "    theta0 = [0., 0., 0., 0., 0.] \n",
        "    result = minimize(loss, theta0) \n",
        "    theta_A_estimate = result.x \n",
        "    inv_info_estimate = result.hess_inv \n",
        "    return theta_A_estimate, inv_info_estimate \n",
        "\n",
        "def memory_mle(x, info, theta_A): \n",
        "    '''\n",
        "    info is an information matrix, already adjusted by regularizer and sample size \n",
        "    theta_A is the memorized estimate\n",
        "    '''\n",
        "    def loss(theta): \n",
        "        theta_vec, mean, cov = unpack_theta(theta) \n",
        "        \n",
        "        memory_term = np.transpose(theta_vec - theta_A) \n",
        "        memory_term = np.matmul(memory_term, info) \n",
        "        memory_term = np.matmul(memory_term, theta_vec - theta_A) \n",
        "        l = multivariate_normal.logpdf(x=x, mean=mean, cov=cov, allow_singular=True) \n",
        "        l = sum(l) \n",
        "        l = l - memory_term \n",
        "        return -l \n",
        "    theta0 = [0., 0., 0., 0., 0.] \n",
        "    return minimize(loss, theta0).x \n",
        "\n",
        "print('Examples...') \n",
        "n_A = 30 \n",
        "n_B = 10 \n",
        "x_A = sample_data(n_A, rho0=-.99) \n",
        "x_B = sample_data(n_B, rho0=-.99) \n",
        "print(f'sample_data({n_A})[:3,]: {x_A[:3,].round(3)}') \n",
        "theta_A_estimate, inv_info_estimate = mle(x_A) \n",
        "print(f'initial estimate: {unpack_theta(theta_A_estimate)[0].round(3)}') \n",
        "info_estimate = info_estimator(x_A, theta_A_estimate) \n",
        "print(f'info estimate * inv estimate: {np.matmul(n_A*info_estimate, inv_info_estimate).round(3)}') \n",
        "print(f'info estimate: {info_estimate.round(3)}')\n",
        "e = eig(info_estimate)\n",
        "print(f'info eigenvals: {e[0].round(3)}')\n",
        "print(f'info eigenvecs: {e[1].round(3)}')\n",
        "theta_B_estimate = memory_mle(x_B, info_estimate, theta_A_estimate) \n",
        "print(f'updated estimate: {unpack_theta(theta_B_estimate)[0].round(3)}') "
      ],
      "outputs": [
        {
          "output_type": "stream",
          "name": "stdout",
          "text": "Examples...\nsample_data(30)[:3,]: [[ 0.965 -0.874]\n [ 0.587 -0.347]\n [ 0.581 -0.661]]\ninitial estimate: [-0.061  0.075 -0.988  0.867  0.872]\ninfo estimate * inv estimate: [[ 1.865 -0.632  3.379  0.597  0.774]\n [ 1.122  0.09   2.909  0.799  1.011]\n [ 0.137 -0.097  0.606  0.198  0.222]\n [ 0.59  -0.565  0.756  0.036 -0.914]\n [-0.556  0.667  0.546  0.568  1.598]]\ninfo estimate: [[ 55.743  54.779   0.947   5.031  -0.669]\n [ 54.779  55.148   0.923   2.541   2.111]\n [  0.947   0.923   0.547   0.65    0.437]\n [  5.031   2.541   0.65   41.197 -40.221]\n [ -0.669   2.111   0.437 -40.221  42.614]]\ninfo eigenvals: [110.753  81.896   1.879   0.583   0.138]\ninfo eigenvecs: [[ 0.706 -0.052  0.09   0.692 -0.106]\n [ 0.699 -0.097 -0.03  -0.698  0.119]\n [ 0.012 -0.    -0.466  0.18   0.866]\n [ 0.103  0.692 -0.63  -0.023 -0.335]\n [-0.046 -0.713 -0.614  0.022 -0.334]]\nupdated estimate: [-0.039 -0.01  -0.966  0.589  0.59 ]\n"
        }
      ],
      "execution_count": 2,
      "metadata": {
        "jupyter": {
          "source_hidden": false,
          "outputs_hidden": false
        },
        "nteract": {
          "transient": {
            "deleting": false
          }
        },
        "gather": {
          "logged": 1689172636060
        }
      }
    },
    {
      "cell_type": "markdown",
      "source": [
        "When $\\sigma = \\tau = 1$, $\\mu$'s information is $2(1-\\rho)/(1 - \\rho^2)$. This illustrates the effect of high-information dimensions. \n",
        "- As $\\rho \\to -1$, information becomes infinite, so a single sample reveals $\\mu_0$ exactly via $\\hat \\mu_0 = (X_1 + X_2)/2$. \n",
        "- If $\\rho = 0$, information is 2, so we need only half the sample size. \n",
        "- As $\\rho \\to 1$, information becomes 1, so multidimensionality lends no benefit. "
      ],
      "metadata": {
        "nteract": {
          "transient": {
            "deleting": false
          }
        }
      }
    },
    {
      "cell_type": "code",
      "source": [
        "## plot of mu's info \n",
        "import matplotlib.pyplot as plt \n",
        "\n",
        "rho_val_list = np.linspace(-.75, .75).tolist() \n",
        "info = lambda rho : 2.*(1. - rho)/(1. - rho*rho) \n",
        "info_val_list = [info(rho) for rho in rho_val_list] \n",
        "\n",
        "plt.plot(rho_val_list, info_val_list)\n",
        "plt.ylabel('mu info')\n",
        "plt.xlabel('rho')\n",
        "plt.show()"
      ],
      "outputs": [
        {
          "output_type": "display_data",
          "data": {
            "text/plain": "<Figure size 432x288 with 1 Axes>",
            "image/png": "[encoded data removed]"
          },
          "metadata": {
            "needs_background": "light"
          }
        }
      ],
      "execution_count": 3,
      "metadata": {
        "jupyter": {
          "source_hidden": false,
          "outputs_hidden": false
        },
        "nteract": {
          "transient": {
            "deleting": false
          }
        },
        "gather": {
          "logged": 1689172637570
        }
      }
    },
    {
      "cell_type": "markdown",
      "source": [
        "In this example, we'll take $\\rho \\approx -1$ to purposefully create substantial mutual information between parameters, \n",
        "thereby making low-dimensional representations accurate. \n",
        "Since the memory regularizer is already asymptotically optimal for variance reduction by the Cramer-Rao bound, \n",
        "naive scaling by $\\lambda$ can only cause harm. \n",
        "We will reduce $\\mathcal{I}_{\\theta_0}^{-1}/n$ by reparameterizing to a (nearly) lower-dimensional representation. \n",
        "This parameterization will be informed by the initial dataset $X_A$ and allow for more-efficient application of $X_B$. \n",
        "We'll replace our memory regularizer $n_A \\lambda (\\theta - \\hat \\theta_A)^T \\hat{\\mathcal{I}}_{X_A} (\\theta - \\hat \\theta_T)$ \n",
        "with $n_A \\lambda (\\theta - \\hat \\theta_A)^T (JJ^T + \\Lambda) (\\theta - \\hat \\theta_T)$, where \n",
        "- $J$ is a subset of eigenvectors, scaled by their respective eigenvalues.\n",
        "- $\\Lambda = \\text{diag}(\\hat{\\mathcal{I}}_{X_A} - JJ^T)$. "
      ],
      "metadata": {
        "nteract": {
          "transient": {
            "deleting": false
          }
        }
      }
    },
    {
      "cell_type": "code",
      "source": [
        "## TODO Approximate null spaces REALLY doesn't work. I think I've tried this with MNIST too and got the same result. \n",
        "\n",
        "N=10 \n",
        "n_A=50 \n",
        "n_B=10 \n",
        "rho0=-.999 \n",
        "\n",
        "def lmbda(info, weight=10., cutoff=None): \n",
        "    'High-info dimensions are known apriori, so the info matrix will not be investigated, only modified' \n",
        "    d = np.diag(info).tolist() \n",
        "    if cutoff is not None: \n",
        "        d[1] = 0. \n",
        "        d[4] = 0. \n",
        "        #for i in range(len(d)): \n",
        "        #    if np.absolute(d[i]) < cutoff: \n",
        "        #        d[i] = 0. \n",
        "        #        pass \n",
        "        pass \n",
        "    return weight*np.diag(np.diag(info))\n",
        "\n",
        "def get_error_experimental(n_A, n_B, rho0, lmbda_w, cutoff=None): \n",
        "    x_A = sample_data(n_A, rho0=-0.99) \n",
        "    x_B = sample_data(n_B, rho0=-0.9) \n",
        "    theta_A_estimate, _ = mle(x_A) \n",
        "    info_estimate = info_estimator(x_A, theta_A_estimate) \n",
        "    theta_B_estimate = memory_mle(x_B, n_A*lmbda(info_estimate, weight=lmbda_w, cutoff=cutoff), theta_A_estimate) \n",
        "    return float(np.absolute(unpack_theta(theta_B_estimate)[0][2])) ## rho \n",
        "\n",
        "def get_error_control(n_A, n_B, rho0): \n",
        "    x_A = sample_data(n_A, rho0=-0.99) \n",
        "    x_B = sample_data(n_B, rho0=-0.9) \n",
        "    x_AB = np.concatenate((x_A, x_B)) \n",
        "    theta_AB_estimate, _ = mle(x_AB) \n",
        "    return float(np.absolute(unpack_theta(theta_AB_estimate)[0][2])) \n",
        "\n",
        "def get_avg_err(N, n_A, n_B, rho0, lmbda_w): \n",
        "    experimental_1_error = sum([get_error_experimental(n_A, n_B, rho0=rho0, lmbda_w=lmbda_w, cutoff=None) for _ in range(N)])/N \n",
        "    experimental_2_error = sum([get_error_experimental(n_A, n_B, rho0=rho0, lmbda_w=lmbda_w, cutoff=1.) for _ in range(N)])/N \n",
        "    control_error = sum([get_error_control(n_A, n_B, rho0=rho0) for _ in range(N)])/N \n",
        "    return experimental_1_error, experimental_2_error, control_error \n",
        "\n",
        "lmbda_w_list = np.linspace(0.01, 1000.).tolist() \n",
        "experimental_1_error_list = [] \n",
        "experimental_2_error_list = []  \n",
        "control_error_list = [] \n",
        "for lmbda_w in lmbda_w_list: \n",
        "    experimental_1_error, experimental_2_error, control_error = get_avg_err(N, n_A, n_B, rho0=rho0, lmbda_w=lmbda_w) \n",
        "    experimental_1_error_list.append(experimental_1_error) \n",
        "    experimental_2_error_list.append(experimental_2_error) \n",
        "    control_error_list.append(control_error) \n",
        "    pass \n",
        "\n",
        "plt.plot(lmbda_w_list, experimental_1_error_list, label='experimental 1') \n",
        "plt.plot(lmbda_w_list, experimental_2_error_list, label='experimental 2') \n",
        "plt.plot(lmbda_w_list, control_error_list, label='control') \n",
        "plt.plot([0,1000], [.9,.9], label='actual') \n",
        "plt.ylabel('average absolute error') \n",
        "plt.xlabel('lambda weight') \n",
        "plt.legend() \n",
        "plt.show() "
      ],
      "outputs": [
        {
          "output_type": "display_data",
          "data": {
            "text/plain": "<Figure size 432x288 with 1 Axes>",
            "image/png": "[encoded data removed]"
          },
          "metadata": {
            "needs_background": "light"
          }
        }
      ],
      "execution_count": 16,
      "metadata": {
        "jupyter": {
          "source_hidden": false,
          "outputs_hidden": false
        },
        "nteract": {
          "transient": {
            "deleting": false
          }
        },
        "gather": {
          "logged": 1689175317791
        }
      }
    },
    {
      "cell_type": "code",
      "source": [
        "## verify 2 highly-correlated dimensions, thus motivating the use of a 5-2 dimensional model \n",
        "x_A = sample_data(n_A, rho0=-0.99) \n",
        "theta_A_estimate, _ = mle(x_A) \n",
        "info_estimate = info_estimator(x_A, theta_A_estimate) \n",
        "print(f'info_estimate: {info_estimate}') "
      ],
      "outputs": [
        {
          "output_type": "stream",
          "name": "stdout",
          "text": "info_estimate: [[ 45.44668771  42.96010321  -0.16197166   0.54482754  -3.60707697]\n [ 42.96010321  41.59693554  -0.19406581   3.09979998  -6.01018428]\n [ -0.16197166  -0.19406581   0.31397915  -0.72758164   1.43955665]\n [  0.54482754   3.09979998  -0.72758164  46.2160224  -48.49211761]\n [ -3.60707697  -6.01018428   1.43955665 -48.49211761  54.81152986]]\n"
        }
      ],
      "execution_count": 6,
      "metadata": {
        "jupyter": {
          "source_hidden": false,
          "outputs_hidden": false
        },
        "nteract": {
          "transient": {
            "deleting": false
          }
        },
        "gather": {
          "logged": 1689172979048
        }
      }
    },
    {
      "cell_type": "code",
      "source": [
        "#[experimental_error_list[i] - control_error_list[i] for i in range(len(control_error_list))]\n",
        "#experimental_error_list\n",
        "control_error_list"
      ],
      "outputs": [
        {
          "output_type": "execute_result",
          "execution_count": 25,
          "data": {
            "text/plain": "[0.12168117813910324,\n 0.19057423837990878,\n 0.16792209898301666,\n 0.08219251775215146,\n 0.11315518159246966,\n 0.11325148903476545,\n 0.10566052003711997,\n 0.1194434947324807,\n 0.12013099571496424,\n 0.11200247448403695,\n 0.1664933611124623,\n 0.1242826631495946,\n 0.13208303795970372,\n 0.0929838478024042,\n 0.11384343680846336,\n 0.11691376034365582,\n 0.12966677930546247,\n 0.10397936461084227,\n 0.06600280782778072,\n 0.13840210329585015,\n 0.11354650361884219,\n 0.101842195418174,\n 0.15913129835363135,\n 0.12030035532925745,\n 0.1262393387390544,\n 0.13034010140064917,\n 0.1056886115438107,\n 0.1047740535090689,\n 0.09913982379091649,\n 0.1423387103157461,\n 0.09439452469638708,\n 0.15606887452475032,\n 0.13602470342361958,\n 0.12184859285529878,\n 0.17407383353801095,\n 0.103265326161278,\n 0.09992746795452526,\n 0.18487069543353152,\n 0.09321120456767616,\n 0.11228290796224812,\n 0.14386869130233576,\n 0.11641504332108474,\n 0.1283352023259768,\n 0.1377939130922191,\n 0.09533052117508928,\n 0.11627069181511367,\n 0.06715193026243269,\n 0.17926036759904412,\n 0.13252193381124286,\n 0.12785883247586355]"
          },
          "metadata": {}
        }
      ],
      "execution_count": 25,
      "metadata": {
        "jupyter": {
          "source_hidden": false,
          "outputs_hidden": false
        },
        "nteract": {
          "transient": {
            "deleting": false
          }
        },
        "gather": {
          "logged": 1689050878072
        }
      }
    },
    {
      "cell_type": "markdown",
      "source": [
        "THE FOLLOWING IS OLD CONTENT TO BE REVISED\n",
        "\n",
        "# memory as geometry \n",
        "\n",
        "Under asymptotic analysis and mild regularity assumptions, all statistical models have a Lagrangian-form regularizer equivalent to memory \\[1\\]. \n",
        "We will mathematically generalize this concept to show a breadth of geometries equivalent to memory. \n",
        "As a corollary, we'll construct universal sufficient statistics. \n",
        "Finally, given large models' recent immense productivity, it is natural to expect hardware limitations to soon motivate miniaturization (TODO CITE). \n",
        "We'll leverage memory's geometric properties to construct miniaturization techniques for deep learning, including \n",
        "memory merges, regularizers as memory, and a _frontal lobe_ concept. "
      ],
      "metadata": {
        "nteract": {
          "transient": {
            "deleting": false
          }
        }
      }
    },
    {
      "cell_type": "markdown",
      "source": [
        "## result: Langrangian-regularized estimates are MLEs \n",
        "\n",
        "The MLE's powerful theoretical guarantees provide an important foundation for Deep Learning's success. \n",
        "So, we should be curious as to when our new estimation paradigms are equivalent to MLEs. \n",
        "Theory is a guide to the statistical researcher. \n",
        "\n",
        "**LEMMA 1:** \n",
        "\n",
        "Let the following solution exist uniquely. \n",
        "\n",
        "$$ \\hat \\theta_L = \\arg \\max_{\\theta \\in \\Theta} n^{-1} \\log f_X(X;\\theta) - \\lambda g(\\theta) $$\n",
        "\n",
        "Then then there exists linear subspace $H \\subset \\Theta$ \n",
        "such that $\\hat \\theta_L$ is the solution to the following optimization program. \n",
        "\n",
        "$$ \\hat \\theta_L = \\arg \\max_{\\theta \\in H} \\log f_X(X; \\theta) $$\n",
        "\n",
        "**PROOF:** \n",
        "\n",
        "Define $\\hat{\\mathcal{L}} := n^{-1} \\log f_X(X;\\theta) - \\lambda g(\\theta)$. \n",
        "Since $\\hat \\theta_L = \\arg \\max_{\\theta \\in \\Theta} \\hat{\\mathcal{L}}$ exists uniquely, \n",
        "and $\\log f_X, g$ are differentiable, so we are guaranteed that \n",
        "\n",
        "1. $\\nabla_\\theta \\hat{\\mathcal{L}} = 0$ and \n",
        "2. $\\nabla_\\lambda \\hat{\\mathcal{L}} = 0$. \n",
        "\n",
        "There exists $c = g(\\hat \\theta_L)$ \n",
        "and $\\mathcal{L} := n^{-1} \\log f_X(X;\\theta) - \\lambda( g(\\theta) - c )$ such that \n",
        "\n",
        "3. $\\nabla_\\theta \\hat{\\mathcal{L}} = \\nabla_\\theta \\mathcal{L} = 0$ and \n",
        "4. $\\nabla_\\lambda \\mathcal{L} = c$. \n",
        "\n",
        "By (4), $\\theta \\in g^{-1}(c)$. \n",
        "For $\\theta$ sufficiently near $\\hat \\theta_L$, $g^{-1}(\\theta) \\approx \\left( J_{g, \\hat \\theta_L} \\right)^{-1} \\left(\\theta - \\hat \\theta_L \\right)$ by the inverse function theorem (TODO: check calcs, and use Constant Rank Theorem instead). \n",
        "Define this local linear subspace as $H := \\left\\{ \\theta \\; : \\; \\eta \\; s.t. \\; \\exists \\theta \\; \\& \\; \\eta = \\left( J_{g, \\hat \\theta_L} \\right)^{-1} \\left(\\theta - \\hat \\theta_L \\right) \\right\\}$ or $H$-space. \n",
        "\n",
        "Since $\\nabla_\\theta \\hat{\\mathcal{L}} = 0$ also holds, \n",
        "$\\mathcal{L}$ is a Langrangian constraining $\\theta$ to linear subspace $H \\subset \\Theta$. \n",
        "\n",
        "$\\square$"
      ],
      "metadata": {
        "nteract": {
          "transient": {
            "deleting": false
          }
        }
      }
    },
    {
      "cell_type": "markdown",
      "source": [
        "**RESULT 1:** \n",
        "\n",
        "If $\\hat \\theta_{MLE}:= \\arg\\max_{\\theta \\in \\Theta} \\log f_X(X;\\theta) $, \n",
        "then $\\hat \\theta_L$ is an MLE. \n",
        "\n",
        "**PROOF:** \n",
        "\n",
        "Since $\\hat \\theta_{MLE}$ is an MLE, $f_X$ is a likelihood function. \n",
        "By LEMMA 1, the estimation program is constrained to well-defined linear subspace $H \\subset \\Theta$. \n",
        "Hence $\\hat \\theta_L$ is indeed an MLE. \n",
        "\n",
        "$\\square$ "
      ],
      "metadata": {
        "nteract": {
          "transient": {
            "deleting": false
          }
        }
      }
    },
    {
      "cell_type": "markdown",
      "source": [
        "TODO: Clarify $J$. \n",
        "\n",
        "**COROLLARY 1:** \n",
        "\n",
        "Define $J := \\left[ \\partial \\theta_0 / \\partial \\eta_j \\right]$, \n",
        "$J^+$ to be the pseudo-inverse matrix, \n",
        "and $\\mathcal{I}_H :=  J^+ \\mathcal{I}_{\\theta_0} J^{+T}$\n",
        "\n",
        "If $X_i \\sim  f_X(x; \\theta_0)$ and $\\hat \\theta_L$ is sufficiently near $\\hat \\theta_{MLE}$ and $n$ sufficiently large, \n",
        "then $\\hat \\theta_L$ has a corresponding estimate $\\hat \\eta$ in the $H$-space basis,  \n",
        "and $\\sqrt{n} \\left( \\hat \\eta - J^+ \\theta_0 \\right) \\sim N(0, \\mathcal{I}_H )$. \n",
        "\n",
        "**PROOF:** \n",
        "\n",
        "$0 = \\nabla_\\theta \\log f_X(X; \\theta) $\n",
        "\n",
        "$\\approx \\nabla_\\theta \\log f_X(X; \\theta_0) - \\left( \\theta - \\theta_0 \\right)^T \\nabla_\\theta^T \\nabla_\\theta \\log f_X(X; \\theta_0) $ by Taylor expansion \n",
        "\n",
        "$ \\Rightarrow \\sqrt{n}^{-1} \\nabla_\\theta \\log f_X(X; \\theta_0) \\approx \\frac{\\sqrt{n}}{n} \\left( \\theta - \\theta_0 \\right)^T \\nabla_\\theta^T \\nabla_\\theta \\log f_X(X; \\theta_0) $\n",
        "\n",
        "$ \\Rightarrow N \\mathcal{I}_{\\theta_0}^{1/2} =_d \\sqrt{n} \\left( \\theta - \\theta_0 \\right)^T \\mathcal{I}_{\\theta_0} $ \n",
        "where $=_d$ is equivalence in distribution and $N \\sim N\\left(0, I_{\\dim(\\Theta)} \\right)$ \n",
        "\n",
        "Apply lemma 1 by parameterizing $H$-space via $\\theta \\gets J \\eta$.\n",
        "\n",
        "$ \\Rightarrow \\sqrt{n} \\left( J \\eta - \\theta_0 \\right) \\sim N(0, \\mathcal{I}_{\\theta_0}) $\n",
        "\n",
        "$ \\Rightarrow \\sqrt{n} \\left( \\eta - J^+ \\theta_0 \\right) \\sim N(0, J^+ \\mathcal{I}_{\\theta_0} J^{+T} ) $ \n",
        "\n",
        "$\\square$ \n",
        "\n",
        "Since $J^+$ is also a projection matrix, the distribution of $\\hat \\eta$ is equivalent to the $\\hat \\theta_{MLE}$ projection, \n",
        "$\\sqrt{n} J^+ \\left( \\hat \\theta_{MLE} - \\theta_0 \\right) \\sim N(0, \\mathcal{I}_H )$. \n",
        "\n",
        "**COROLLARY 2:** \n",
        "\n",
        "$\\text{rank}(J^+) > 0 \\Rightarrow \\mathcal{I}_H < \\mathcal{I}_{\\theta_0}$ \n",
        "\n",
        "**PROOF:** \n",
        "\n",
        "Since $\\mathcal{I}_{\\theta_0} > 0$ (positive semi-definite), there is matrix $A$ such that $\\mathcal{I}_{\\theta_0} = AA^T $. \n",
        "Since $J^+$ is a projection matrix, we have the following.\n",
        "\n",
        "$ \\mathcal{I}_{\\theta_0} = \\mathcal{I}_H + (I - J^+)AA^TJ^{+T} + J^+AA^T(I - J^+)^T + (I - J^+)AA^T(I - J^+)^T$ \n",
        "\n",
        "$ = \\mathcal{I}_H + 0 + 0 + (I - J^+)AA^T(I - J^+)^T $ by linear independence of complementrary projections \n",
        "\n",
        "Recognizing $(I - J^+)AA^T(I - J^+)^T > 0$ completes the proof. \n",
        "\n",
        "$\\square$ \n",
        "\n",
        "If $\\hat \\theta_L \\not= \\hat \\theta_{MLE}$ for all $n$, then $\\theta_0 \\not \\in H$, \n",
        "and we may interpret $H$ as the tangent space of a biased sub-manifold in $\\Theta$. \n",
        "However, since dimensional reductions cause $\\mathcal{I}_H < \\mathcal{I}_{\\theta_0}$, \n",
        "a sufficiently-unbiased manifold produces more-efficient estimators, \n",
        "particularly so if $\\theta_0 \\in \\lim_{n \\to \\infty} H$. "
      ],
      "metadata": {
        "nteract": {
          "transient": {
            "deleting": false
          }
        }
      }
    },
    {
      "cell_type": "markdown",
      "source": [
        "## result: elliptical sub-manifolds in $\\Theta$-space are memories\n",
        "\n",
        "Define a _memory_ as all information associated with samples $X_1, X_2, \\ldots, X_n$ under a model. \n",
        "Concretely, we'll use approximate MLE sufficient statistics $\\left( \\hat \\theta, \\hat{\\mathcal{I}} \\right)$.\n",
        "\n",
        "WLOG, assume $\\mathcal{I}_{\\theta_0} > 0$. \n",
        "If not, perfect correlations exist, so the model can be reparameterized to a lower dimension. \n",
        "$\\mathcal{I}_{\\theta_0} > 0 \\Rightarrow \\mathcal{I}_{\\theta_0} = AA^T \\; \\& \\; \\exists A^{-1}$. \n",
        "For all $B \\in \\mathbb{R}^{p \\times q}$ where $p = \\dim(\\Theta)$ and $q \\leq p$, \n",
        "there exists $J = A^{-1}B$ mapping from an unbiased, linear $H$-space to $\\Theta$-space, \n",
        "and $(\\theta - \\theta_0)^T AA^T (\\theta - \\theta_0) = (\\eta - \\eta_0)^T J^T AA^T J (\\eta - \\eta_0) = (\\eta - \\eta_0)^T BB^T (\\eta - \\eta_0)^T$.\n",
        "This is true for any choice of $B$, so covers all PSD matrices $BB^T \\geq 0$. \n",
        "\n",
        "Choosing $g(\\theta) = (\\theta - \\theta_0)^T BB^T (\\theta - \\theta_0)$ and applying lemma 1, \n",
        "we recognize the existence of a elliptical sub-manifold in $\\Theta$-space corresponding to Lagrangian-form regularizer $g(\\theta)$. \n",
        "Hence, there exists an MLE with $\\mathcal{I} = BB^T$ when estimation is constrained to a subspace with $J = A^{-1}B$. \n",
        "So, for every elliptical sub-manifold with Riemann metric $\\mathcal{I} = BB$, there exists another linear sub-manifold $H$ \n",
        "such that $\\arg\\max_{\\theta \\in H} \\log f_X(X;\\theta)$ has approximate sufficient statistics $(\\hat \\theta, BB^T)$. \n",
        "\n",
        "Since we interpret $(\\hat \\theta, BB^T)$ as a memory, \n",
        "every elliptical sub-manifold $(\\eta - \\eta_0)^T BB^T (\\eta - \\eta_0)^T$ \n",
        "has an associated memory. \n",
        "\n",
        "TODO: look for a 1-1 correspondence, tying each manifold to a unique memory. \n",
        "Example consideration: $(\\hat \\eta, BB^T)$ and $(\\eta - \\hat \\eta)^T BB^T (\\eta - \\hat \\eta)^T$. \n",
        "\n",
        "## likely decent definition for memory \n",
        "\n",
        "$(\\theta_H, H)$ for $\\theta_H \\in \\Theta \\subset \\mathbb{R}^p$ and smooth, $q$-dimensional sub-manifold $H \\subset \\Theta$\n",
        " with local tangent space $T_{\\theta_H}$ and associated total derivative $D_{\\theta_H} \\in \\mathbb{R}^{p \\times q}$, \n",
        " so that $\\hat \\theta_H = \\arg \\max_{\\theta \\in H} \\log f(X; \\theta) \\; \\& \\; X \\sim f(X; \\theta_H)$, \n",
        " and $\\mathcal{I}_{\\theta_H} = D_{\\theta_H}D_{\\theta_H}^T$. \n",
        "\n",
        " This $(\\theta_H, H)$ definition works, because it allows me to sneak-in other kinds of subspaces via Lagrangian constraints like \"$-\\lambda \\|\\hat{\\mathcal{I}}_\\theta \\|$\"."
      ],
      "metadata": {
        "nteract": {
          "transient": {
            "deleting": false
          }
        }
      }
    },
    {
      "cell_type": "markdown",
      "source": [
        "## frontal lobe \n",
        "\n",
        "In humans, the frontal lobe operates on a longer-term timeline than Hippocampus-based short-term memory, \n",
        "but on a shorter horizon than remaining cortical regions, \n",
        "so functions as a mid-term horizon or _working space_ (TODO: CITE!). \n",
        "Observing miniaturization requirements on deep learning imposes parameter space restrictions, \n",
        "which deny infinite growth strategies like `net2net` (TODO: CITE!). \n",
        "Instead, we'll allocate dimensional parameter space to a flex capacity, \n",
        "so operating in similar capacity to a biological frontal lobe. \n",
        "Mathematically, we'll achieve this by all filling dimensional space with information, \n",
        "then periodically reducing information stored in the frontal lobe parameters. \n",
        "The net result is a temporary increase in dimensional space available to the model, \n",
        "which routinely moves information into long-term memory. \n",
        "This results in the following two-step optimization procedure.\n",
        "\n",
        "1. $ \\hat \\theta = \\arg \\max_\\theta \\log f_X(X; \\theta) $\n",
        "$ - n_A (\\theta - \\hat \\theta_A)^T \\hat{\\mathcal{I}}_{\\hat \\theta_A} (\\theta - \\hat \\theta_A) $\n",
        "2. $ \\hat \\theta = \\arg \\max_\\theta  \\log f_X(X; \\theta) $ \n",
        "$ - n_A (\\theta - \\hat \\theta_A)^T \\hat{\\mathcal{I}}_{\\hat \\theta_A} (\\theta - \\hat \\theta_A) $ \n",
        "$ - \\lambda \\| \\hat{\\mathcal{I}}_\\theta \\|_{FL} $\n",
        "\n",
        "Where $X$ has $n_B$ samples observed, and $\\hat \\theta_A$ was produced by memorizing $n_A$ samples. \n",
        "\n",
        "As we'll illustrate (TODO!), a frontal lobe is practically motivated in deep learning, \n",
        "because freezing all parameters in memory effectively consumes all dimensional space. \n",
        "By regularly relieving dimensional space, a necessary working space can be retained. \n",
        "\n",
        "Experimental design scratch: Repetitively add memorization tasks (ex. introducing more MNIST digits). \n",
        "- Control 1: No memorization. Expectation: catastrophic forgetting. \n",
        "- Control 2: Memorize, but do not include frontal lobe clearing. Expectation: limited memorization capacities in later iterations. \n",
        "- Experimental 1: Memorize with frontal lobe clearing. Expectation: improved memorization iterations. \n",
        "- Experimental X: Adjust Krylov dimension and frontal lobe hyper-parameter. \n",
        "  - Expectation 1: Higher Krylov dimensions increase memory space, but cost memory and computation. \n",
        "  - Expectation 2: $n_A$ may be a natural parameter for the frontal lobe. "
      ],
      "metadata": {
        "nteract": {
          "transient": {
            "deleting": false
          }
        }
      }
    },
    {
      "cell_type": "markdown",
      "source": [
        "## references \n",
        "\n",
        "\\[1\\] Kirkpatrick et al. (2017) \"Overcoming catastrophic forgetting in neural networks\", PNAS"
      ],
      "metadata": {
        "nteract": {
          "transient": {
            "deleting": false
          }
        }
      }
    }
  ],
  "metadata": {
    "kernelspec": {
      "name": "python310-sdkv2",
      "language": "python",
      "display_name": "Python 3.10 - SDK V2"
    },
    "language_info": {
      "name": "python",
      "version": "3.10.6",
      "mimetype": "text/x-python",
      "codemirror_mode": {
        "name": "ipython",
        "version": 3
      },
      "pygments_lexer": "ipython3",
      "nbconvert_exporter": "python",
      "file_extension": ".py"
    },
    "microsoft": {
      "ms_spell_check": {
        "ms_spell_check_language": "en"
      },
      "host": {
        "AzureML": {
          "notebookHasBeenCompleted": true
        }
      }
    },
    "kernel_info": {
      "name": "python310-sdkv2"
    },
    "nteract": {
      "version": "nteract-front-end@1.0.0"
    }
  },
  "nbformat": 4,
  "nbformat_minor": 2
}