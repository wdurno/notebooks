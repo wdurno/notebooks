{
  "cells": [
    {
      "cell_type": "markdown",
      "source": [
        "#### Example: Information geometry informs data size requirements \r\n",
        "\r\n",
        "We've made great progress in large models by increasing sample size $n$ via advances in data collection and computation. \r\n",
        "The goal is to get our estimate $\\hat \\theta$ as close to truth $\\theta_0$ as possible. \r\n",
        "Asymptotically, maximum likelihood estimates (MLEs) will yield variance of $\\mathcal{I}_{\\theta_0}/n$, \r\n",
        "which describes how close $\\hat \\theta$ is to $\\theta_0$. \r\n",
        "Thus, our journey toward powerful large models is essentially one of shrinking $\\mathcal{I}_{\\theta_0}/n$.\r\n",
        "We control $n$, so it makes sense that we started there. \r\n",
        "We don't control $\\mathcal{I}_{\\theta_0}$, but we should take advantage of its structure. \r\n",
        "\r\n",
        "$\\mathcal{I}_{\\theta_0}$ is a Riemann metric, so may have high-magnitude tangent-space dimensions thereby bestowing significant information or mutual information. \r\n",
        "In turn, this information makes our estimator variance $\\mathcal{I}_{\\theta_0}/n$ smaller. \r\n",
        "If we discover high-information dimensions, we may over-weight them to have the same result as increasing $n$, at least for target dimensions. \r\n",
        "So, we'll replace the usual regularizing scalar $\\lambda$ with a function to and from information matrices. \r\n",
        "\r\n",
        "The following example illustrates these mechanisms in play, aiding estimation.\r\n",
        "\r\n",
        "$\\hat \\theta_A := \\arg \\max_{\\theta \\in \\Theta} \\log f_X(X_B; \\theta) - n_A (\\theta - \\hat \\theta_A)^T \\lambda \\left( \\hat{\\mathcal{I}}_{X_A} \\right) (\\theta - \\hat \\theta_A)$.\r\n",
        "\r\n",
        "$\\hat \\theta_B := \\arg \\max_{\\theta \\in \\Theta} \\log f_X(X_A; \\theta) $.\r\n",
        "\r\n",
        "$\\hat{\\mathcal{I}}_{X_A} := n_A^{-1} \\sum_{i=1}^{n_A} \\left( \\nabla_\\theta \\log f_X(X_A; \\theta) \\right) \\left( \\nabla_\\theta \\log f_X(X_A; \\theta) \\right)^T $\r\n",
        "$ \\to_{a.s.} \\mathcal{I}_{\\theta_0} \\text{ as } n \\to \\infty$\r\n",
        "\r\n",
        "$\\theta = (\\mu_1, \\mu_2, \\rho, \\sigma, \\tau)^T \\in \\Theta \\subset \\mathbb{R}^p, \\; p = 5 $.\r\n",
        "\r\n",
        "$\\eta = (\\mu, \\mu, \\rho, \\sigma, \\tau)^T \\in H \\subset \\Theta$, where $H$ is the submanifold where $\\mu = \\mu_1 = \\mu_2$. \r\n",
        "\r\n",
        "$\\theta_0 = (\\mu_0, \\mu_0, \\rho_0, \\sigma_0, \\tau_0)^T \\in H \\text{ and } X \\sim N_2\\left( \\begin{bmatrix} \\mu_0 \\\\ \\mu_0 \\end{bmatrix}, \\begin{bmatrix} \\sigma_0^2 & \\sigma_0 \\tau_0 \\rho_0 \\\\ \\sigma_0 \\tau_0 \\rho_0 & \\tau_0^2 \\end{bmatrix} \\right)$\r\n",
        "\r\n",
        "$\\lambda : P \\to P$ where $P \\subset \\mathbb{R}^{p \\times p}$ is a set of positive semi-definite (PSD) matrices. \r\n",
        "\r\n",
        "Since $\\hat{\\mathcal{I}}_{X_A} \\to_{a.s.} \\mathcal{I}_{\\theta_0} $, we expect high-information $|\\mu_0 - \\hat \\mu_1| \\to 0$ as $\\lambda$ is chosen optimally."
      ],
      "metadata": {
        "nteract": {
          "transient": {
            "deleting": false
          }
        }
      }
    },
    {
      "cell_type": "code",
      "source": [
        "## foundational definitions \r\n",
        "import numpy as np \r\n",
        "from scipy.stats import multivariate_normal\r\n",
        "from scipy.special import expit, logit\r\n",
        "from scipy.optimize import minimize, approx_fprime \r\n",
        "from numpy.linalg import inv \r\n",
        "import warnings\r\n",
        "warnings.filterwarnings(\"ignore\", message=\"invalid value encountered in subtract\")\r\n",
        "\r\n",
        "def sample_data(n, mu0=0., rho0=0., sigma0=1., tau0=1.): \r\n",
        "    'generates sample matrix x' \r\n",
        "    mean = np.array([mu0, mu0]) \r\n",
        "    cov = np.array([[sigma0*sigma0, sigma0*tau0*rho0], [sigma0*tau0*rho0, tau0*tau0]]) \r\n",
        "    return multivariate_normal.rvs(mean=mean, cov=cov, size=n) \r\n",
        "\r\n",
        "def unpack_theta(theta): \r\n",
        "    'unpack from (mu1, mu2, logit(rho*.5 + .5), log sigma, log tau)'\r\n",
        "    mu1 = theta[0] \r\n",
        "    mu2 = theta[1] \r\n",
        "    rho = 2.*expit(theta[2]) - 1. \r\n",
        "    # print(f'DEBUG: rho: {rho}')## TODO observed >= 0. !!! \r\n",
        "    sigma = np.exp(theta[3]) \r\n",
        "    tau = np.exp(theta[4]) \r\n",
        "    theta_vec = np.array([mu1, mu2, rho, sigma, tau]) \r\n",
        "    mean = np.array([mu1, mu2]) \r\n",
        "    cov = np.array([[sigma*sigma, sigma*tau*rho], [sigma*tau*rho, tau*tau]]) \r\n",
        "    return theta_vec, mean, cov \r\n",
        "\r\n",
        "def info_estimator(x, theta): \r\n",
        "    'estimate info matrix via averaged outer produts of log lik grads calculated from numerical stencils' \r\n",
        "    estimate = 0. \r\n",
        "    n = x.shape[0] \r\n",
        "    def log_lik(theta_vec, x=None): \r\n",
        "        _, mean, cov = unpack_theta(theta_vec) \r\n",
        "        g = multivariate_normal.logpdf(x=x, mean=mean, cov=cov, allow_singular=True) \r\n",
        "        return g \r\n",
        "    eps = [np.sqrt(np.finfo(float).eps)]*5 \r\n",
        "    for i in range(n): \r\n",
        "        grad = approx_fprime(theta, log_lik, eps, x[i,:]).reshape([-1,1]) \r\n",
        "        estimate += np.matmul(grad, np.transpose(grad)) \r\n",
        "        pass \r\n",
        "    return estimate / n\r\n",
        "\r\n",
        "def mle(x): \r\n",
        "    'x is a sampled matrix'\r\n",
        "    def loss(theta): \r\n",
        "        _, mean, cov = unpack_theta(theta) \r\n",
        "        l = multivariate_normal.logpdf(x=x, mean=mean, cov=cov, allow_singular=True) \r\n",
        "        l = sum(l) \r\n",
        "        return -l  \r\n",
        "    theta0 = [0., 0., 0., 0., 0.] \r\n",
        "    result = minimize(loss, theta0) \r\n",
        "    theta_A_estimate = result.x \r\n",
        "    inv_info_estimate = result.hess_inv \r\n",
        "    return theta_A_estimate, inv_info_estimate \r\n",
        "\r\n",
        "def memory_mle(x, info, theta_A): \r\n",
        "    '''\r\n",
        "    info is an information matrix, already adjusted by regularizer and sample size \r\n",
        "    theta_A is the memorized estimate\r\n",
        "    '''\r\n",
        "    def loss(theta): \r\n",
        "        theta_vec, mean, cov = unpack_theta(theta) \r\n",
        "        memory_term = np.transpose(theta_vec - theta_A) \r\n",
        "        memory_term = np.matmul(memory_term, info) \r\n",
        "        memory_term = np.matmul(memory_term, theta_vec - theta_A) \r\n",
        "        l = multivariate_normal.logpdf(x=x, mean=mean, cov=cov, allow_singular=True) \r\n",
        "        l = sum(l) \r\n",
        "        l = l - memory_term \r\n",
        "        return -l \r\n",
        "    theta0 = [0., 0., 0., 0., 0.] \r\n",
        "    return minimize(loss, theta0).x \r\n",
        "\r\n",
        "print('Examples...') \r\n",
        "n_A = 30 \r\n",
        "n_B = 10 \r\n",
        "x_A = sample_data(n_A, rho0=-.99) \r\n",
        "x_B = sample_data(n_B, rho0=-.99) \r\n",
        "print(f'sample_data({n_A})[:3,]: {x_A[:3,].round(3)}') \r\n",
        "theta_A_estimate, inv_info_estimate = mle(x_A) \r\n",
        "print(f'initial estimate: {unpack_theta(theta_A_estimate)[0].round(3)}') \r\n",
        "info_estimate = info_estimator(x_A, theta_A_estimate) \r\n",
        "print(f'info estimate * inv estimate: {np.matmul(n_A*info_estimate, inv_info_estimate).round(3)}') \r\n",
        "theta_B_estimate = memory_mle(x_B, info_estimate, theta_A_estimate) \r\n",
        "print(f'updated estimate: {unpack_theta(theta_B_estimate)[0].round(3)}') "
      ],
      "outputs": [
        {
          "output_type": "stream",
          "name": "stdout",
          "text": "Examples...\nsample_data(30)[:3,]: [[-1.267  0.96 ]\n [-0.429  0.414]\n [-0.458  0.18 ]]\ninitial estimate: [-0.379  0.322 -0.99   1.014  0.978]\ninfo estimate * inv estimate: [[ 9.200e-01  7.000e-02  2.850e-01  9.860e-01  9.610e-01]\n [-8.500e-02  1.075e+00 -4.820e-01  1.382e+00  1.406e+00]\n [ 1.200e-02  9.000e-03  1.073e+00 -5.000e-02 -7.200e-02]\n [ 2.156e+00 -2.037e+00  9.021e+00 -2.615e+00 -3.340e+00]\n [-2.884e+00  2.827e+00 -9.778e+00  3.760e+00  4.581e+00]]\nupdated estimate: [-0.063  0.03  -0.969  0.583  0.594]\n"
        }
      ],
      "execution_count": 140,
      "metadata": {
        "jupyter": {
          "source_hidden": false,
          "outputs_hidden": false
        },
        "nteract": {
          "transient": {
            "deleting": false
          }
        },
        "gather": {
          "logged": 1688925764504
        }
      }
    },
    {
      "cell_type": "markdown",
      "source": [
        "When $\\sigma = \\tau = 1$, $\\mu$'s information is $2(1-\\rho)/(1 - \\rho^2)$. This illustrates the effect of high-information dimensions. \r\n",
        "- As $\\rho \\to -1$, information becomes infinite, so a single sample reveals $\\mu_0$ exactly via $\\hat \\mu_0 = (X_1 + X_2)/2$. \r\n",
        "- If $\\rho = 0$, information is 2, so we need only half the sample size. \r\n",
        "- As $\\rho \\to 1$, information becomes 1, so multidimensionality lends no benefit. "
      ],
      "metadata": {
        "nteract": {
          "transient": {
            "deleting": false
          }
        }
      }
    },
    {
      "cell_type": "code",
      "source": [
        "## plot of mu's info \r\n",
        "import matplotlib.pyplot as plt \r\n",
        "\r\n",
        "rho_val_list = np.linspace(-.75, .75).tolist() \r\n",
        "info = lambda rho : 2.*(1. - rho)/(1. - rho*rho) \r\n",
        "info_val_list = [info(rho) for rho in rho_val_list] \r\n",
        "\r\n",
        "plt.plot(rho_val_list, info_val_list)\r\n",
        "plt.ylabel('mu info')\r\n",
        "plt.xlabel('rho')\r\n",
        "plt.show()"
      ],
      "outputs": [
        {
          "output_type": "display_data",
          "data": {
            "text/plain": "<Figure size 432x288 with 1 Axes>",
            "image/png": "[encoded data removed]"
          },
          "metadata": {
            "needs_background": "light"
          }
        }
      ],
      "execution_count": 141,
      "metadata": {
        "jupyter": {
          "source_hidden": false,
          "outputs_hidden": false
        },
        "nteract": {
          "transient": {
            "deleting": false
          }
        },
        "gather": {
          "logged": 1688925782088
        }
      }
    },
    {
      "cell_type": "markdown",
      "source": [
        "For $\\rho \\approx -1$, we'll benefit from overweighting our information matrix estimate. "
      ],
      "metadata": {
        "nteract": {
          "transient": {
            "deleting": false
          }
        }
      }
    },
    {
      "cell_type": "code",
      "source": [
        "## TODO Stop trying to violate Cramer-Rao! :D Instead, use a more-complex lambda function than a scalar \r\n",
        "\r\n",
        "N = 20 \r\n",
        "n_A=100 \r\n",
        "n_B=10 \r\n",
        "rho0=-.999 \r\n",
        "\r\n",
        "def get_error(n_A, n_B, rho0, lmbda): \r\n",
        "    x_A = sample_data(n_A, rho0=rho0) \r\n",
        "    x_B = sample_data(n_B, rho0=rho0) \r\n",
        "    theta_A_estimate, _ = mle(x_A) \r\n",
        "    info_estimate = info_estimator(x_A, theta_A_estimate) \r\n",
        "    theta_B_estimate = memory_mle(x_B, n_A*lmbda*info_estimate, theta_A_estimate) \r\n",
        "    return float(np.absolute(theta_B_estimate[0])) \r\n",
        "\r\n",
        "def get_avg_err(N, n_A, n_B, rho0, lmbda):\r\n",
        "    return sum([get_error(n_A, n_B, rho0=rho0, lmbda=lmbda) for _ in range(N)])/N \r\n",
        "\r\n",
        "lmbda_list = np.linspace(.01, 1).tolist() \r\n",
        "error_list = [get_avg_err(N, n_A, n_B, rho0=rho0, lmbda=lmbda) for lmbda in lmbda_list] \r\n",
        "\r\n",
        "plt.plot(lmbda_list, error_list) \r\n",
        "plt.ylabel('estimate absolute error') \r\n",
        "plt.xlabel('lambda') \r\n",
        "plt.show() "
      ],
      "outputs": [
        {
          "output_type": "display_data",
          "data": {
            "text/plain": "<Figure size 432x288 with 1 Axes>",
            "image/png": "[encoded data removed]"
          },
          "metadata": {
            "needs_background": "light"
          }
        }
      ],
      "execution_count": 167,
      "metadata": {
        "jupyter": {
          "source_hidden": false,
          "outputs_hidden": false
        },
        "nteract": {
          "transient": {
            "deleting": false
          }
        },
        "gather": {
          "logged": 1688927085098
        }
      }
    },
    {
      "cell_type": "code",
      "source": [
        "## Scratch space  \r\n",
        "lmbda = 100. \r\n",
        "\r\n",
        "x_A = sample_data(n_A, rho0=rho0) \r\n",
        "x_B = sample_data(n_B, rho0=rho0) \r\n",
        "theta_A_estimate, _ = mle(x_A) \r\n",
        "info_estimate = info_estimator(x_A, theta_A_estimate) \r\n",
        "theta_B_estimate = memory_mle(x_B, n_A*lmbda*info_estimate, theta_A_estimate)\r\n",
        "\r\n",
        "print(f'info_estimate: {info_estimate.round(3)}')"
      ],
      "outputs": [
        {
          "output_type": "stream",
          "name": "stdout",
          "text": "info_estimate: [[ 353.128  350.21    -1.819 -154.222  146.859]\n [ 350.21   348.556   -1.544 -149.259  141.895]\n [  -1.819   -1.544    0.512    1.711   -0.672]\n [-154.222 -149.259    1.711  283.273 -288.562]\n [ 146.859  141.895   -0.672 -288.562  297.655]]\n"
        }
      ],
      "execution_count": 146,
      "metadata": {
        "jupyter": {
          "source_hidden": false,
          "outputs_hidden": false
        },
        "nteract": {
          "transient": {
            "deleting": false
          }
        },
        "gather": {
          "logged": 1688925970619
        }
      }
    },
    {
      "cell_type": "markdown",
      "source": [
        "THE FOLLOWING IS OLD CONTENT TO BE REVISED\r\n",
        "\r\n",
        "# memory as geometry \r\n",
        "\r\n",
        "Under asymptotic analysis and mild regularity assumptions, all statistical models have a Lagrangian-form regularizer equivalent to memory \\[1\\]. \r\n",
        "We will mathematically generalize this concept to show a breadth of geometries equivalent to memory. \r\n",
        "As a corollary, we'll construct universal sufficient statistics. \r\n",
        "Finally, given large models' recent immense productivity, it is natural to expect hardware limitations to soon motivate miniaturization (TODO CITE). \r\n",
        "We'll leverage memory's geometric properties to construct miniaturization techniques for deep learning, including \r\n",
        "memory merges, regularizers as memory, and a _frontal lobe_ concept. "
      ],
      "metadata": {
        "nteract": {
          "transient": {
            "deleting": false
          }
        }
      }
    },
    {
      "cell_type": "markdown",
      "source": [
        "## result: Langrangian-regularized estimates are MLEs \n",
        "\n",
        "The MLE's powerful theoretical guarantees provide an important foundation for Deep Learning's success. \n",
        "So, we should be curious as to when our new estimation paradigms are equivalent to MLEs. \n",
        "Theory is a guide to the statistical researcher. \n",
        "\n",
        "**LEMMA 1:** \n",
        "\n",
        "Let the following solution exist uniquely. \n",
        "\n",
        "$$ \\hat \\theta_L = \\arg \\max_{\\theta \\in \\Theta} n^{-1} \\log f_X(X;\\theta) - \\lambda g(\\theta) $$\n",
        "\n",
        "Then then there exists linear subspace $H \\subset \\Theta$ \n",
        "such that $\\hat \\theta_L$ is the solution to the following optimization program. \n",
        "\n",
        "$$ \\hat \\theta_L = \\arg \\max_{\\theta \\in H} \\log f_X(X; \\theta) $$\n",
        "\n",
        "**PROOF:** \n",
        "\n",
        "Define $\\hat{\\mathcal{L}} := n^{-1} \\log f_X(X;\\theta) - \\lambda g(\\theta)$. \n",
        "Since $\\hat \\theta_L = \\arg \\max_{\\theta \\in \\Theta} \\hat{\\mathcal{L}}$ exists uniquely, \n",
        "and $\\log f_X, g$ are differentiable, so we are guaranteed that \n",
        "\n",
        "1. $\\nabla_\\theta \\hat{\\mathcal{L}} = 0$ and \n",
        "2. $\\nabla_\\lambda \\hat{\\mathcal{L}} = 0$. \n",
        "\n",
        "There exists $c = g(\\hat \\theta_L)$ \n",
        "and $\\mathcal{L} := n^{-1} \\log f_X(X;\\theta) - \\lambda( g(\\theta) - c )$ such that \n",
        "\n",
        "3. $\\nabla_\\theta \\hat{\\mathcal{L}} = \\nabla_\\theta \\mathcal{L} = 0$ and \n",
        "4. $\\nabla_\\lambda \\mathcal{L} = c$. \n",
        "\n",
        "By (4), $\\theta \\in g^{-1}(c)$. \n",
        "For $\\theta$ sufficiently near $\\hat \\theta_L$, $g^{-1}(\\theta) \\approx \\left( J_{g, \\hat \\theta_L} \\right)^{-1} \\left(\\theta - \\hat \\theta_L \\right)$ by the inverse function theorem (TODO: check calcs, and use Constant Rank Theorem instead). \n",
        "Define this local linear subspace as $H := \\left\\{ \\theta \\; : \\; \\eta \\; s.t. \\; \\exists \\theta \\; \\& \\; \\eta = \\left( J_{g, \\hat \\theta_L} \\right)^{-1} \\left(\\theta - \\hat \\theta_L \\right) \\right\\}$ or $H$-space. \n",
        "\n",
        "Since $\\nabla_\\theta \\hat{\\mathcal{L}} = 0$ also holds, \n",
        "$\\mathcal{L}$ is a Langrangian constraining $\\theta$ to linear subspace $H \\subset \\Theta$. \n",
        "\n",
        "$\\square$"
      ],
      "metadata": {
        "nteract": {
          "transient": {
            "deleting": false
          }
        }
      }
    },
    {
      "cell_type": "markdown",
      "source": [
        "**RESULT 1:** \n",
        "\n",
        "If $\\hat \\theta_{MLE}:= \\arg\\max_{\\theta \\in \\Theta} \\log f_X(X;\\theta) $, \n",
        "then $\\hat \\theta_L$ is an MLE. \n",
        "\n",
        "**PROOF:** \n",
        "\n",
        "Since $\\hat \\theta_{MLE}$ is an MLE, $f_X$ is a likelihood function. \n",
        "By LEMMA 1, the estimation program is constrained to well-defined linear subspace $H \\subset \\Theta$. \n",
        "Hence $\\hat \\theta_L$ is indeed an MLE. \n",
        "\n",
        "$\\square$ "
      ],
      "metadata": {
        "nteract": {
          "transient": {
            "deleting": false
          }
        }
      }
    },
    {
      "cell_type": "markdown",
      "source": [
        "TODO: Clarify $J$. \n",
        "\n",
        "**COROLLARY 1:** \n",
        "\n",
        "Define $J := \\left[ \\partial \\theta_0 / \\partial \\eta_j \\right]$, \n",
        "$J^+$ to be the pseudo-inverse matrix, \n",
        "and $\\mathcal{I}_H :=  J^+ \\mathcal{I}_{\\theta_0} J^{+T}$\n",
        "\n",
        "If $X_i \\sim  f_X(x; \\theta_0)$ and $\\hat \\theta_L$ is sufficiently near $\\hat \\theta_{MLE}$ and $n$ sufficiently large, \n",
        "then $\\hat \\theta_L$ has a corresponding estimate $\\hat \\eta$ in the $H$-space basis,  \n",
        "and $\\sqrt{n} \\left( \\hat \\eta - J^+ \\theta_0 \\right) \\sim N(0, \\mathcal{I}_H )$. \n",
        "\n",
        "**PROOF:** \n",
        "\n",
        "$0 = \\nabla_\\theta \\log f_X(X; \\theta) $\n",
        "\n",
        "$\\approx \\nabla_\\theta \\log f_X(X; \\theta_0) - \\left( \\theta - \\theta_0 \\right)^T \\nabla_\\theta^T \\nabla_\\theta \\log f_X(X; \\theta_0) $ by Taylor expansion \n",
        "\n",
        "$ \\Rightarrow \\sqrt{n}^{-1} \\nabla_\\theta \\log f_X(X; \\theta_0) \\approx \\frac{\\sqrt{n}}{n} \\left( \\theta - \\theta_0 \\right)^T \\nabla_\\theta^T \\nabla_\\theta \\log f_X(X; \\theta_0) $\n",
        "\n",
        "$ \\Rightarrow N \\mathcal{I}_{\\theta_0}^{1/2} =_d \\sqrt{n} \\left( \\theta - \\theta_0 \\right)^T \\mathcal{I}_{\\theta_0} $ \n",
        "where $=_d$ is equivalence in distribution and $N \\sim N\\left(0, I_{\\dim(\\Theta)} \\right)$ \n",
        "\n",
        "Apply lemma 1 by parameterizing $H$-space via $\\theta \\gets J \\eta$.\n",
        "\n",
        "$ \\Rightarrow \\sqrt{n} \\left( J \\eta - \\theta_0 \\right) \\sim N(0, \\mathcal{I}_{\\theta_0}) $\n",
        "\n",
        "$ \\Rightarrow \\sqrt{n} \\left( \\eta - J^+ \\theta_0 \\right) \\sim N(0, J^+ \\mathcal{I}_{\\theta_0} J^{+T} ) $ \n",
        "\n",
        "$\\square$ \n",
        "\n",
        "Since $J^+$ is also a projection matrix, the distribution of $\\hat \\eta$ is equivalent to the $\\hat \\theta_{MLE}$ projection, \n",
        "$\\sqrt{n} J^+ \\left( \\hat \\theta_{MLE} - \\theta_0 \\right) \\sim N(0, \\mathcal{I}_H )$. \n",
        "\n",
        "**COROLLARY 2:** \n",
        "\n",
        "$\\text{rank}(J^+) > 0 \\Rightarrow \\mathcal{I}_H < \\mathcal{I}_{\\theta_0}$ \n",
        "\n",
        "**PROOF:** \n",
        "\n",
        "Since $\\mathcal{I}_{\\theta_0} > 0$ (positive semi-definite), there is matrix $A$ such that $\\mathcal{I}_{\\theta_0} = AA^T $. \n",
        "Since $J^+$ is a projection matrix, we have the following.\n",
        "\n",
        "$ \\mathcal{I}_{\\theta_0} = \\mathcal{I}_H + (I - J^+)AA^TJ^{+T} + J^+AA^T(I - J^+)^T + (I - J^+)AA^T(I - J^+)^T$ \n",
        "\n",
        "$ = \\mathcal{I}_H + 0 + 0 + (I - J^+)AA^T(I - J^+)^T $ by linear independence of complementrary projections \n",
        "\n",
        "Recognizing $(I - J^+)AA^T(I - J^+)^T > 0$ completes the proof. \n",
        "\n",
        "$\\square$ \n",
        "\n",
        "If $\\hat \\theta_L \\not= \\hat \\theta_{MLE}$ for all $n$, then $\\theta_0 \\not \\in H$, \n",
        "and we may interpret $H$ as the tangent space of a biased sub-manifold in $\\Theta$. \n",
        "However, since dimensional reductions cause $\\mathcal{I}_H < \\mathcal{I}_{\\theta_0}$, \n",
        "a sufficiently-unbiased manifold produces more-efficient estimators, \n",
        "particularly so if $\\theta_0 \\in \\lim_{n \\to \\infty} H$. "
      ],
      "metadata": {
        "nteract": {
          "transient": {
            "deleting": false
          }
        }
      }
    },
    {
      "cell_type": "markdown",
      "source": [
        "## result: elliptical sub-manifolds in $\\Theta$-space are memories\n",
        "\n",
        "Define a _memory_ as all information associated with samples $X_1, X_2, \\ldots, X_n$ under a model. \n",
        "Concretely, we'll use approximate MLE sufficient statistics $\\left( \\hat \\theta, \\hat{\\mathcal{I}} \\right)$.\n",
        "\n",
        "WLOG, assume $\\mathcal{I}_{\\theta_0} > 0$. \n",
        "If not, perfect correlations exist, so the model can be reparameterized to a lower dimension. \n",
        "$\\mathcal{I}_{\\theta_0} > 0 \\Rightarrow \\mathcal{I}_{\\theta_0} = AA^T \\; \\& \\; \\exists A^{-1}$. \n",
        "For all $B \\in \\mathbb{R}^{p \\times q}$ where $p = \\dim(\\Theta)$ and $q \\leq p$, \n",
        "there exists $J = A^{-1}B$ mapping from an unbiased, linear $H$-space to $\\Theta$-space, \n",
        "and $(\\theta - \\theta_0)^T AA^T (\\theta - \\theta_0) = (\\eta - \\eta_0)^T J^T AA^T J (\\eta - \\eta_0) = (\\eta - \\eta_0)^T BB^T (\\eta - \\eta_0)^T$.\n",
        "This is true for any choice of $B$, so covers all PSD matrices $BB^T \\geq 0$. \n",
        "\n",
        "Choosing $g(\\theta) = (\\theta - \\theta_0)^T BB^T (\\theta - \\theta_0)$ and applying lemma 1, \n",
        "we recognize the existence of a elliptical sub-manifold in $\\Theta$-space corresponding to Lagrangian-form regularizer $g(\\theta)$. \n",
        "Hence, there exists an MLE with $\\mathcal{I} = BB^T$ when estimation is constrained to a subspace with $J = A^{-1}B$. \n",
        "So, for every elliptical sub-manifold with Riemann metric $\\mathcal{I} = BB$, there exists another linear sub-manifold $H$ \n",
        "such that $\\arg\\max_{\\theta \\in H} \\log f_X(X;\\theta)$ has approximate sufficient statistics $(\\hat \\theta, BB^T)$. \n",
        "\n",
        "Since we interpret $(\\hat \\theta, BB^T)$ as a memory, \n",
        "every elliptical sub-manifold $(\\eta - \\eta_0)^T BB^T (\\eta - \\eta_0)^T$ \n",
        "has an associated memory. \n",
        "\n",
        "TODO: look for a 1-1 correspondence, tying each manifold to a unique memory. \n",
        "Example consideration: $(\\hat \\eta, BB^T)$ and $(\\eta - \\hat \\eta)^T BB^T (\\eta - \\hat \\eta)^T$. \n",
        "\n",
        "## likely decent definition for memory \n",
        "\n",
        "$(\\theta_H, H)$ for $\\theta_H \\in \\Theta \\subset \\mathbb{R}^p$ and smooth, $q$-dimensional sub-manifold $H \\subset \\Theta$\n",
        " with local tangent space $T_{\\theta_H}$ and associated total derivative $D_{\\theta_H} \\in \\mathbb{R}^{p \\times q}$, \n",
        " so that $\\hat \\theta_H = \\arg \\max_{\\theta \\in H} \\log f(X; \\theta) \\; \\& \\; X \\sim f(X; \\theta_H)$, \n",
        " and $\\mathcal{I}_{\\theta_H} = D_{\\theta_H}D_{\\theta_H}^T$. \n",
        "\n",
        " This $(\\theta_H, H)$ definition works, because it allows me to sneak-in other kinds of subspaces via Lagrangian constraints like \"$-\\lambda \\|\\hat{\\mathcal{I}}_\\theta \\|$\"."
      ],
      "metadata": {
        "nteract": {
          "transient": {
            "deleting": false
          }
        }
      }
    },
    {
      "cell_type": "markdown",
      "source": [
        "## frontal lobe \n",
        "\n",
        "In humans, the frontal lobe operates on a longer-term timeline than Hippocampus-based short-term memory, \n",
        "but on a shorter horizon than remaining cortical regions, \n",
        "so functions as a mid-term horizon or _working space_ (TODO: CITE!). \n",
        "Observing miniaturization requirements on deep learning imposes parameter space restrictions, \n",
        "which deny infinite growth strategies like `net2net` (TODO: CITE!). \n",
        "Instead, we'll allocate dimensional parameter space to a flex capacity, \n",
        "so operating in similar capacity to a biological frontal lobe. \n",
        "Mathematically, we'll achieve this by all filling dimensional space with information, \n",
        "then periodically reducing information stored in the frontal lobe parameters. \n",
        "The net result is a temporary increase in dimensional space available to the model, \n",
        "which routinely moves information into long-term memory. \n",
        "This results in the following two-step optimization procedure.\n",
        "\n",
        "1. $ \\hat \\theta = \\arg \\max_\\theta \\log f_X(X; \\theta) $\n",
        "$ - n_A (\\theta - \\hat \\theta_A)^T \\hat{\\mathcal{I}}_{\\hat \\theta_A} (\\theta - \\hat \\theta_A) $\n",
        "2. $ \\hat \\theta = \\arg \\max_\\theta  \\log f_X(X; \\theta) $ \n",
        "$ - n_A (\\theta - \\hat \\theta_A)^T \\hat{\\mathcal{I}}_{\\hat \\theta_A} (\\theta - \\hat \\theta_A) $ \n",
        "$ - \\lambda \\| \\hat{\\mathcal{I}}_\\theta \\|_{FL} $\n",
        "\n",
        "Where $X$ has $n_B$ samples observed, and $\\hat \\theta_A$ was produced by memorizing $n_A$ samples. \n",
        "\n",
        "As we'll illustrate (TODO!), a frontal lobe is practically motivated in deep learning, \n",
        "because freezing all parameters in memory effectively consumes all dimensional space. \n",
        "By regularly relieving dimensional space, a necessary working space can be retained. \n",
        "\n",
        "Experimental design scratch: Repetitively add memorization tasks (ex. introducing more MNIST digits). \n",
        "- Control 1: No memorization. Expectation: catastrophic forgetting. \n",
        "- Control 2: Memorize, but do not include frontal lobe clearing. Expectation: limited memorization capacities in later iterations. \n",
        "- Experimental 1: Memorize with frontal lobe clearing. Expectation: improved memorization iterations. \n",
        "- Experimental X: Adjust Krylov dimension and frontal lobe hyper-parameter. \n",
        "  - Expectation 1: Higher Krylov dimensions increase memory space, but cost memory and computation. \n",
        "  - Expectation 2: $n_A$ may be a natural parameter for the frontal lobe. "
      ],
      "metadata": {
        "nteract": {
          "transient": {
            "deleting": false
          }
        }
      }
    },
    {
      "cell_type": "markdown",
      "source": [
        "## references \r\n",
        "\r\n",
        "\\[1\\] Kirkpatrick et al. (2017) \"Overcoming catastrophic forgetting in neural networks\", PNAS"
      ],
      "metadata": {
        "nteract": {
          "transient": {
            "deleting": false
          }
        }
      }
    }
  ],
  "metadata": {
    "kernelspec": {
      "name": "python310-sdkv2",
      "language": "python",
      "display_name": "Python 3.10 - SDK V2"
    },
    "language_info": {
      "name": "python",
      "version": "3.10.6",
      "mimetype": "text/x-python",
      "codemirror_mode": {
        "name": "ipython",
        "version": 3
      },
      "pygments_lexer": "ipython3",
      "nbconvert_exporter": "python",
      "file_extension": ".py"
    },
    "microsoft": {
      "ms_spell_check": {
        "ms_spell_check_language": "en"
      },
      "host": {
        "AzureML": {
          "notebookHasBeenCompleted": true
        }
      }
    },
    "kernel_info": {
      "name": "python310-sdkv2"
    },
    "nteract": {
      "version": "nteract-front-end@1.0.0"
    }
  },
  "nbformat": 4,
  "nbformat_minor": 2
}