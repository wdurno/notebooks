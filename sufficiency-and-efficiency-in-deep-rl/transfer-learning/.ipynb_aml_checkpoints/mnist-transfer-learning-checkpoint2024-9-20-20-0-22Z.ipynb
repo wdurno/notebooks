{
  "cells": [
    {
      "cell_type": "markdown",
      "source": [
        "# Optimal transfer learning\n\nHere, we create two models and traverse a path on the statistical manifold between them.\nGiven my theory's optimal infinitesimal traversals of continuously changing distributions, \nthe theory should port cleanly from reinforcement learning to transfer learning. \nOf course, only each infinitesimal step along the path with be optimal, \nleaving room for data scientists' intuition to usefully bias retention. \nFor example, if early game information only becomes useful late in play, \nthen a retention spike will need to be added. \nRegardless, infinitesimal optimality is an important step toward a deep and coherent transfer learning theory. \n\nThe experiment will involve fitting a dense net to the MNIST dataset, classifying digits as usual. \nHowever, after the initial fit, we will embed the dense net into a much larger statistical manifold \nby making it part of a mixture model with a different, far more sparse model. \nWe'll then slowly and continuously traverse the mixture probability parameter $q$ from 0 to 1, \noptimally retaining information at each step. \nWe'll measure test set accuracy at each step and compare against different traversal strategies. \nA good result should find accuracy is optimally and usefully sustained despite transferring to a sparse model.\n\nIf successful, this experiment will illustrate the effectiveness of my general theory of transfer learning. \nThus, it'd be possible to optimally translate information optimally between arbitrary models, \nprovided they can handle the same dataset or a continuously transforming dataset between the models.\nThis is a powerful result, so I'm eager to run my experiment, but won't get my hopes up too much. \nThe truth is best found by the pursuit of ambitious targets and sensitively understanding negative results."
      ],
      "metadata": {
        "nteract": {
          "transient": {
            "deleting": false
          }
        }
      }
    },
    {
      "cell_type": "code",
      "source": [],
      "outputs": [],
      "execution_count": null,
      "metadata": {}
    }
  ],
  "metadata": {
    "kernelspec": {
      "display_name": "Python 3.10 - SDK v2",
      "language": "python",
      "name": "python310-sdkv2"
    },
    "language_info": {
      "codemirror_mode": {
        "name": "ipython",
        "version": 3
      },
      "file_extension": ".py",
      "mimetype": "text/x-python",
      "name": "python",
      "nbconvert_exporter": "python",
      "pygments_lexer": "ipython3",
      "version": "3.10.6"
    },
    "microsoft": {
      "ms_spell_check": {
        "ms_spell_check_language": "en"
      }
    },
    "nteract": {
      "version": "nteract-front-end@1.0.0"
    }
  },
  "nbformat": 4,
  "nbformat_minor": 2
}