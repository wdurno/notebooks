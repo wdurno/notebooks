{
  "cells": [
    {
      "cell_type": "markdown",
      "source": [
        "# Optimal transfer learning\n\nHere, we create two models and traverse a path on the statistical manifold between them.\nGiven my theory's optimal infinitesimal traversals of continuously changing distributions, \nthe theory should port cleanly from reinforcement learning to transfer learning. \nOf course, only each infinitesimal step along the path with be optimal, \nleaving room for data scientists' intuition to usefully bias retention. \nFor example, if early game information only becomes useful late in play, \nthen a retention spike will need to be added. \nRegardless, infinitesimal optimality is an important step toward a deep and coherent transfer learning theory. \n\nThe experiment will involve fitting a dense net to the MNIST dataset, classifying digits as usual. \nHowever, after the initial fit, we will embed the dense net into a much larger statistical manifold \nby making it part of a mixture model with a different, far more sparse model. \nWe'll then slowly and continuously traverse the mixture probability parameter $q$ from 0 to 1, \noptimally retaining information at each step. \nWe'll measure test set accuracy at each step and compare against different traversal strategies. \nA good result should find accuracy is optimally and usefully sustained despite transferring to a sparse model.\n\nIf successful, this experiment will illustrate the effectiveness of my general theory of transfer learning. \nThus, it'd be possible to optimally translate information optimally between arbitrary models, \nprovided they can handle the same dataset or a continuously transforming dataset between the models.\nThis is a powerful result, so I'm eager to run my experiment, but won't get my hopes up too much. \nThe truth is best found by the pursuit of ambitious targets and sensitively understanding negative results."
      ],
      "metadata": {
        "nteract": {
          "transient": {
            "deleting": false
          }
        }
      }
    },
    {
      "cell_type": "code",
      "source": [
        "## Dense net code initially authored by Google's search engine GenAI on 20 Oct 2024. \n",
        "## I've applied minor modifications for generality, but the code worked great on first draft. \n",
        "\n",
        "import torch\n",
        "import torch.nn as nn\n",
        "import torch.optim as optim\n",
        "from torchvision import datasets, transforms\n",
        "\n",
        "# Define the DenseNet model\n",
        "class DenseNet(nn.Module):\n",
        "    def __init__(self):\n",
        "        super(DenseNet, self).__init__()\n",
        "        self.features = nn.Sequential(\n",
        "            nn.Linear(784, 512),\n",
        "            nn.ReLU(),\n",
        "            nn.Linear(512, 256),\n",
        "            nn.ReLU(),\n",
        "            nn.Linear(256, 128),\n",
        "            nn.ReLU(),\n",
        "            nn.Linear(128, 10)\n",
        "        )\n",
        "\n",
        "    def forward(self, x):\n",
        "        x = x.view(x.size(0), -1)\n",
        "        x = self.features(x)\n",
        "        return x\n",
        "\n",
        "# Load MNIST dataset\n",
        "train_dataset = datasets.MNIST(root='/tmp/data', train=True, transform=transforms.ToTensor(), download=True)\n",
        "test_dataset = datasets.MNIST(root='/tmp/data', train=False, transform=transforms.ToTensor())\n",
        "\n",
        "train_loader = torch.utils.data.DataLoader(train_dataset, batch_size=64, shuffle=True)\n",
        "test_loader = torch.utils.data.DataLoader(test_dataset, batch_size=64, shuffle=False)\n",
        "\n",
        "# Initialize the model, loss function and optimizer\n",
        "model = DenseNet()\n",
        "criterion = nn.CrossEntropyLoss()\n",
        "optimizer = optim.Adam(model.parameters(), lr=0.001)\n",
        "\n",
        "# Train the model\n",
        "num_epochs = 5\n",
        "for epoch in range(num_epochs):\n",
        "    for i, (data, target) in enumerate(train_loader):\n",
        "        optimizer.zero_grad()\n",
        "        output = model(data)\n",
        "        loss = criterion(output, target)\n",
        "        loss.backward()\n",
        "        optimizer.step()\n",
        "\n",
        "        if i % 100 == 0:\n",
        "            print('Epoch [{}/{}], Step [{}/{}], Loss: {:.4f}'.format(epoch+1, num_epochs, i+1, len(train_loader), loss.item()))\n",
        "\n",
        "# Evaluate the model\n",
        "model.eval()\n",
        "correct = 0\n",
        "total = 0\n",
        "with torch.no_grad():\n",
        "    for data, target in test_loader:\n",
        "        output = model(data)\n",
        "        _, predicted = torch.max(output.data, 1)\n",
        "        total += target.size(0)\n",
        "        correct += (predicted == target).sum().item()\n",
        "\n",
        "print('Accuracy of the network on the 10000 test images: {} %'.format(100 * correct / total))"
      ],
      "outputs": [
        {
          "output_type": "stream",
          "name": "stdout",
          "text": "Downloading http://yann.lecun.com/exdb/mnist/train-images-idx3-ubyte.gz\nFailed to download (trying next):\n<urlopen error [SSL: CERTIFICATE_VERIFY_FAILED] certificate verify failed: certificate has expired (_ssl.c:1123)>\n\nDownloading https://ossci-datasets.s3.amazonaws.com/mnist/train-images-idx3-ubyte.gz\nDownloading https://ossci-datasets.s3.amazonaws.com/mnist/train-images-idx3-ubyte.gz to /tmp/data/MNIST/raw/train-images-idx3-ubyte.gz\nExtracting /tmp/data/MNIST/raw/train-images-idx3-ubyte.gz to /tmp/data/MNIST/raw\n\nDownloading http://yann.lecun.com/exdb/mnist/train-labels-idx1-ubyte.gz\nFailed to download (trying next):\n<urlopen error [SSL: CERTIFICATE_VERIFY_FAILED] certificate verify failed: certificate has expired (_ssl.c:1123)>\n\nDownloading https://ossci-datasets.s3.amazonaws.com/mnist/train-labels-idx1-ubyte.gz\nDownloading https://ossci-datasets.s3.amazonaws.com/mnist/train-labels-idx1-ubyte.gz to /tmp/data/MNIST/raw/train-labels-idx1-ubyte.gz\nExtracting /tmp/data/MNIST/raw/train-labels-idx1-ubyte.gz to /tmp/data/MNIST/raw\n\nDownloading http://yann.lecun.com/exdb/mnist/t10k-images-idx3-ubyte.gz\nFailed to download (trying next):\n<urlopen error [SSL: CERTIFICATE_VERIFY_FAILED] certificate verify failed: certificate has expired (_ssl.c:1123)>\n\nDownloading https://ossci-datasets.s3.amazonaws.com/mnist/t10k-images-idx3-ubyte.gz\nDownloading https://ossci-datasets.s3.amazonaws.com/mnist/t10k-images-idx3-ubyte.gz to /tmp/data/MNIST/raw/t10k-images-idx3-ubyte.gz\nExtracting /tmp/data/MNIST/raw/t10k-images-idx3-ubyte.gz to /tmp/data/MNIST/raw\n\nDownloading http://yann.lecun.com/exdb/mnist/t10k-labels-idx1-ubyte.gz\nFailed to download (trying next):\n<urlopen error [SSL: CERTIFICATE_VERIFY_FAILED] certificate verify failed: certificate has expired (_ssl.c:1123)>\n\nDownloading https://ossci-datasets.s3.amazonaws.com/mnist/t10k-labels-idx1-ubyte.gz\nDownloading https://ossci-datasets.s3.amazonaws.com/mnist/t10k-labels-idx1-ubyte.gz to /tmp/data/MNIST/raw/t10k-labels-idx1-ubyte.gz\nExtracting /tmp/data/MNIST/raw/t10k-labels-idx1-ubyte.gz to /tmp/data/MNIST/raw\n\nEpoch [1/5], Step [1/938], Loss: 2.3109\nEpoch [1/5], Step [101/938], Loss: 0.4357\nEpoch [1/5], Step [201/938], Loss: 0.2014\nEpoch [1/5], Step [301/938], Loss: 0.2513\nEpoch [1/5], Step [401/938], Loss: 0.2770\nEpoch [1/5], Step [501/938], Loss: 0.2664\nEpoch [1/5], Step [601/938], Loss: 0.0551\nEpoch [1/5], Step [701/938], Loss: 0.1867\nEpoch [1/5], Step [801/938], Loss: 0.0218\nEpoch [1/5], Step [901/938], Loss: 0.1344\nEpoch [2/5], Step [1/938], Loss: 0.1802\nEpoch [2/5], Step [101/938], Loss: 0.0389\nEpoch [2/5], Step [201/938], Loss: 0.0159\nEpoch [2/5], Step [301/938], Loss: 0.0553\nEpoch [2/5], Step [401/938], Loss: 0.1182\nEpoch [2/5], Step [501/938], Loss: 0.0939\nEpoch [2/5], Step [601/938], Loss: 0.0543\nEpoch [2/5], Step [701/938], Loss: 0.2485\nEpoch [2/5], Step [801/938], Loss: 0.1271\nEpoch [2/5], Step [901/938], Loss: 0.0468\nEpoch [3/5], Step [1/938], Loss: 0.0063\nEpoch [3/5], Step [101/938], Loss: 0.3465\nEpoch [3/5], Step [201/938], Loss: 0.0981\nEpoch [3/5], Step [301/938], Loss: 0.0191\nEpoch [3/5], Step [401/938], Loss: 0.0830\nEpoch [3/5], Step [501/938], Loss: 0.0848\nEpoch [3/5], Step [601/938], Loss: 0.1337\nEpoch [3/5], Step [701/938], Loss: 0.0255\nEpoch [3/5], Step [801/938], Loss: 0.0068\nEpoch [3/5], Step [901/938], Loss: 0.0275\nEpoch [4/5], Step [1/938], Loss: 0.0432\nEpoch [4/5], Step [101/938], Loss: 0.0657\nEpoch [4/5], Step [201/938], Loss: 0.0454\nEpoch [4/5], Step [301/938], Loss: 0.0740\nEpoch [4/5], Step [401/938], Loss: 0.0292\nEpoch [4/5], Step [501/938], Loss: 0.0748\nEpoch [4/5], Step [601/938], Loss: 0.0170\nEpoch [4/5], Step [701/938], Loss: 0.0273\nEpoch [4/5], Step [801/938], Loss: 0.0067\nEpoch [4/5], Step [901/938], Loss: 0.0347\nEpoch [5/5], Step [1/938], Loss: 0.0095\nEpoch [5/5], Step [101/938], Loss: 0.0463\nEpoch [5/5], Step [201/938], Loss: 0.0736\nEpoch [5/5], Step [301/938], Loss: 0.0038\nEpoch [5/5], Step [401/938], Loss: 0.0125\nEpoch [5/5], Step [501/938], Loss: 0.0046\nEpoch [5/5], Step [601/938], Loss: 0.1243\nEpoch [5/5], Step [701/938], Loss: 0.2187\nEpoch [5/5], Step [801/938], Loss: 0.0694\nEpoch [5/5], Step [901/938], Loss: 0.0013\nAccuracy of the network on the 10000 test images: 98.08 %\n"
        },
        {
          "output_type": "stream",
          "name": "stderr",
          "text": "100%|██████████| 9912422/9912422 [00:00<00:00, 152101437.92it/s]\n100%|██████████| 28881/28881 [00:00<00:00, 16312374.61it/s]\n100%|██████████| 1648877/1648877 [00:00<00:00, 56294954.02it/s]\n100%|██████████| 4542/4542 [00:00<00:00, 3188373.02it/s]\n/anaconda/envs/azureml_py38/lib/python3.8/site-packages/torch/autograd/graph.py:769: UserWarning: CUDA initialization: The NVIDIA driver on your system is too old (found version 11040). Please update your GPU driver by downloading and installing a new version from the URL: http://www.nvidia.com/Download/index.aspx Alternatively, go to: https://pytorch.org to install a PyTorch version that has been compiled with your version of the CUDA driver. (Triggered internally at ../c10/cuda/CUDAFunctions.cpp:108.)\n  return Variable._execution_engine.run_backward(  # Calls into the C++ engine to run the backward pass\n"
        }
      ],
      "execution_count": 2,
      "metadata": {
        "gather": {
          "logged": 1729455985296
        }
      }
    },
    {
      "cell_type": "code",
      "source": [
        "## Transfer learn to sparse nets \n",
        "\n",
        "class SparseActivation(nn.Module): \n",
        "    '''Softmax that zeros-out small values. \n",
        "    Transfer-learning from a prefit model recommended. \n",
        "    '''\n",
        "    def __init__(self, K=1, next_linearity=None):\n",
        "        'K: determines maximum number of non-zero dimensions.'\n",
        "        super(SparseActivation, self).__init__()\n",
        "        self.K = K \n",
        "        self.softmax = nn.Softmax() \n",
        "        self.next_linearity = next_linearity \n",
        "        pass \n",
        "    def forward(self, x, next_linearity=None): \n",
        "        '''inputs:\n",
        "        - x: [n, ...]-shaped tensor \n",
        "        - next_linearity: instance of nn.Linear is applied efficiently to output of this activation. Autodetects next_nonlinearity if it was provided during init. \n",
        "        ouputs: \n",
        "        - idx: indicies of softmax(x) that are greater than 1/K. \n",
        "        - softmax(x)[idx]: values of softmax(x) that are greater than 1/K. Returns None if idx is empty. \n",
        "        '''\n",
        "        ## calculate \n",
        "        x = self.softmax(x) \n",
        "        idx = (x > 1/self.K).nonzero() \n",
        "        x_idx = None \n",
        "        if int(idx.shape[0]) > 0: \n",
        "            x_idx = x[idx] \n",
        "        if next_linearity is None and self.next_linearity is None: \n",
        "            return idx, x_idx \n",
        "        if next_linearity is None and self.next_linearity is not None: \n",
        "            next_linearity = self.next_linearity \n",
        "            pass \n",
        "        ## sparsely apply next_linearity \n",
        "        if int(idx.shape[0]) > 0: \n",
        "            y = x_idx.matmul(next_linearity.weights[idx,:]) \n",
        "        else: \n",
        "            y = 0. \n",
        "            pass \n",
        "        y += next_linearity.bias \n",
        "        return idx, x_idx, y \n",
        "    pass \n",
        "\n",
        "class SparseNet(nn.Module):\n",
        "    def __init__(self, K=10):\n",
        "        super(SparseNet, self).__init__()\n",
        "        self.K = K \n",
        "        self.linear1 = nn.Linear(784, 512) \n",
        "        self.linear2 = nn.Linear(512, 256) \n",
        "        self.linear3 = nn.Linear(256, 128) \n",
        "        self.linear4 = nn.Linear(128, 10) \n",
        "        self.activation1 = SparseActivation(K=self.K, next_linearity=self.linear2) \n",
        "        self.activation2 = SparseActivation(K=self.K, next_linearity=self.linear3) \n",
        "        self.activation3 = SparseActivation(K=self.K, next_linearity=self.linear4) \n",
        "        self.activation4 = nn.Softmax() \n",
        "        pass \n",
        "    def forward(self, x):\n",
        "        x = self.activation1(self.linear1(x)) \n",
        "        x = self.activation2(self.linear2(x)) \n",
        "        x = self.activation3(self.linear3(x)) \n",
        "        x = self.activation4(self.linear4(x)) \n",
        "        return x\n",
        "\n",
        "def MixtureModel(nn.Module): \n",
        "    'join two models with a Bernoulli random variable'\n",
        "    def __init__(self, model1, model2, p): \n",
        "        'mix models 1 and 2, selecting model 2 with probability p'\n",
        "        super(MixtureModel, self).__init__() \n",
        "        self.model1 = model1 \n",
        "        self.model2 = model2 \n",
        "        self.p = p \n",
        "        pass \n",
        "    def forward(self, x): \n",
        "        n = x.shape[0] \n",
        "        b = torch.rand(n) >= self.p \n",
        "        b_sum = b.sum() \n",
        "        y = torch.zeros([n,1]) \n",
        "        if b_sum < n: \n",
        "            y[b.logical_not()] = self.model1(x[b.logical_not(),:]) \n",
        "        if b_sum > 0: \n",
        "            y[b] = self.model2(x[b,:]) \n",
        "            pass \n",
        "        return y \n",
        "    pass "
      ],
      "outputs": [
        {
          "output_type": "stream",
          "name": "stdout",
          "text": "tensor([[ 0.7634,  0.2736,  0.7834, -1.5053],\n        [ 0.6353,  1.7708,  0.8720,  0.9240]])\n(tensor([], size=(0, 2), dtype=torch.int64), None)\n"
        }
      ],
      "execution_count": 24,
      "metadata": {
        "jupyter": {
          "source_hidden": false,
          "outputs_hidden": false
        },
        "nteract": {
          "transient": {
            "deleting": false
          }
        },
        "gather": {
          "logged": 1729458441694
        }
      }
    },
    {
      "cell_type": "code",
      "source": [
        "ll = torch.rand(10) > .5\n",
        "print(ll.logical_not().sum())"
      ],
      "outputs": [
        {
          "output_type": "stream",
          "name": "stdout",
          "text": "tensor(6)\n"
        }
      ],
      "execution_count": 41,
      "metadata": {
        "jupyter": {
          "source_hidden": false,
          "outputs_hidden": false
        },
        "nteract": {
          "transient": {
            "deleting": false
          }
        },
        "gather": {
          "logged": 1729460296296
        }
      }
    }
  ],
  "metadata": {
    "kernelspec": {
      "name": "python3",
      "language": "python",
      "display_name": "Python 3 (ipykernel)"
    },
    "language_info": {
      "name": "python",
      "version": "3.8.5",
      "mimetype": "text/x-python",
      "codemirror_mode": {
        "name": "ipython",
        "version": 3
      },
      "pygments_lexer": "ipython3",
      "nbconvert_exporter": "python",
      "file_extension": ".py"
    },
    "microsoft": {
      "ms_spell_check": {
        "ms_spell_check_language": "en"
      }
    },
    "nteract": {
      "version": "nteract-front-end@1.0.0"
    },
    "kernel_info": {
      "name": "python3"
    }
  },
  "nbformat": 4,
  "nbformat_minor": 2
}