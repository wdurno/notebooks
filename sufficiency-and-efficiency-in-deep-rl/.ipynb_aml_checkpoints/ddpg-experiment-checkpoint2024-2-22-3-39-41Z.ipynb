{
  "cells": [
    {
      "cell_type": "code",
      "source": [
        "## Google's Generative AI search provided the initial draft of this code. \n",
        "## I have modified it since. \n",
        "## It provided these sources: \n",
        "## https://github.com/jk96491/RL_Algorithms?tab=readme-ov-file \n",
        "## https://github.com/abyaadrafid/Deep-Reinforcement-Learning \n",
        "## I couldn't find a draft of this code in the sources, \n",
        "## so Generative AI search may have generated the code. \n",
        "\n",
        "import random \n",
        "import numpy as np \n",
        "import gym\n",
        "import torch\n",
        "import torch.nn as nn\n",
        "import torch.optim as optim \n",
        "\n",
        "torch.autograd.set_detect_anomaly(True) ## DEBUGGING \n",
        "\n",
        "class Object(object):\n",
        "    pass\n",
        "\n",
        "class ReplayBuffer(): \n",
        "    def __init__(self, capacity=10000): \n",
        "        self.n = 0 \n",
        "        self.capacity = capacity \n",
        "        self.state_list = [] \n",
        "        self.action_list = [] \n",
        "        self.reward_list = [] \n",
        "        self.next_state_list = [] \n",
        "        self.done_list = [] \n",
        "        pass \n",
        "    def __len__(self):\n",
        "         return self.n \n",
        "    def add(self, state, action, reward, next_state, done): \n",
        "        if self.n >= self.capacity: \n",
        "            ## discard earliest observation \n",
        "            self.state_list = self.state_list[1:] \n",
        "            self.action_list = self.action_list[1:] \n",
        "            self.reward_list = self.reward_list[1:] \n",
        "            self.next_state_list = self.next_state_list[1:] \n",
        "            self.done_list = self.done_list[1:] \n",
        "            self.n -= 1 \n",
        "        pass \n",
        "        ## cast to torch  \n",
        "        state = torch.tensor(state) \n",
        "        action = torch.tensor(action) \n",
        "        reward = torch.tensor(reward) \n",
        "        next_state = torch.tensor(next_state) \n",
        "        done = torch.tensor(done) \n",
        "        ## append to buffer \n",
        "        self.state_list.append(state) \n",
        "        self.action_list.append(action) \n",
        "        self.reward_list.append(reward) \n",
        "        self.next_state_list.append(next_state) \n",
        "        self.done_list.append(done) \n",
        "        self.n += 1 \n",
        "        pass \n",
        "    def sample(self, batch_size=32): \n",
        "        ## sample lists \n",
        "        out = Object() ## transitions \n",
        "        out.state = [] \n",
        "        out.action = [] \n",
        "        out.reward = [] \n",
        "        out.next_state = [] \n",
        "        out.done = [] \n",
        "        for _ in range(batch_size): \n",
        "            idx = random.randint(0, self.n-1) \n",
        "            out.state.append(self.state_list[idx]) \n",
        "            out.action.append(self.action_list[idx]) \n",
        "            out.reward.append(self.reward_list[idx]) \n",
        "            out.next_state.append(self.next_state_list[idx]) \n",
        "            out.done.append(self.done_list[idx]) \n",
        "            pass \n",
        "        ## stack  \n",
        "        out.state = torch.stack(out.state) \n",
        "        out.action = torch.stack(out.action) \n",
        "        out.reward = torch.stack(out.reward).reshape([-1,1]) \n",
        "        out.next_state = torch.stack(out.next_state) \n",
        "        out.done = torch.stack(out.done).reshape([-1,1]) \n",
        "        return out \n",
        "    pass \n",
        "\n",
        "# Define the actor and critic networks\n",
        "class Actor(nn.Module):\n",
        "    def __init__(self, state_dim, action_dim):\n",
        "        super(Actor, self).__init__()\n",
        "\n",
        "        self.fc1 = nn.Linear(state_dim, 256)\n",
        "        self.fc2 = nn.Linear(256, 128)\n",
        "        self.fc3 = nn.Linear(128, action_dim)\n",
        "\n",
        "    def forward(self, state):\n",
        "        x = torch.relu(self.fc1(state))\n",
        "        x = torch.relu(self.fc2(x))\n",
        "        action = torch.tanh(self.fc3(x))\n",
        "\n",
        "        return action\n",
        "\n",
        "class Critic(nn.Module):\n",
        "    def __init__(self, state_dim, action_dim):\n",
        "        super(Critic, self).__init__()\n",
        "\n",
        "        self.fc1 = nn.Linear(state_dim + action_dim, 256)\n",
        "        self.fc2 = nn.Linear(256, 128)\n",
        "        self.fc3 = nn.Linear(128, 1)\n",
        "\n",
        "    def forward(self, state, action):\n",
        "        x = torch.cat([state, action], dim=1)\n",
        "        x = torch.relu(self.fc1(x))\n",
        "        x = torch.relu(self.fc2(x))\n",
        "        value = self.fc3(x)\n",
        "\n",
        "        return value\n",
        "\n",
        "# Create the actor and critic networks\n",
        "actor = Actor(state_dim=4, action_dim=1)\n",
        "critic = Critic(state_dim=4, action_dim=1)\n",
        "target_actor = Actor(state_dim=4, action_dim=1)\n",
        "target_critic = Critic(state_dim=4, action_dim=1)\n",
        "#actor = Actor(state_dim=2, action_dim=1)\n",
        "#critic = Critic(state_dim=2, action_dim=1)\n",
        "\n",
        "# Define the optimizers\n",
        "actor_optimizer = optim.Adam(actor.parameters(), lr=1e-5)\n",
        "critic_optimizer = optim.Adam(critic.parameters(), lr=1e-3)\n",
        "\n",
        "# Create the replay buffer\n",
        "replay_buffer = ReplayBuffer(capacity=100000) \n",
        "\n",
        "# Define the environment\n",
        "env = gym.make('CartPole-v1')\n",
        "#env = gym.make('MountainCarContinuous-v0') \n",
        "\n",
        "reward_list = [] \n",
        "p_list = [] # DEBUG \n",
        "\n",
        "# Train the agent\n",
        "for episode in range(1000):\n",
        "    state = env.reset()\n",
        "    target_actor.load_state_dict(actor.state_dict())\n",
        "    target_critic.load_state_dict(critic.state_dict())\n",
        "\n",
        "    for t in range(1000):\n",
        "        action = actor(torch.tensor(state)) \n",
        "        if np.random.binomial(1, max(0,50-episode)/50) > 0: \n",
        "            ## random action\n",
        "            action = torch.tensor(np.random.uniform(low=-1., high=1.)).reshape([1])\n",
        "            pass \n",
        "        \n",
        "        action_p = action.item() * .5 + .5 \n",
        "        action_int = np.random.binomial(1, action_p) ## must be 0 or 1 \n",
        "        #action_int = round(action_p)\n",
        "        next_state, reward, done, _ = env.step(action_int) \n",
        "        #next_state, reward, done, _ = env.step([action.item()])\n",
        "\n",
        "        replay_buffer.add(state, action, reward, next_state, done)\n",
        "\n",
        "        if len(replay_buffer) > 1000:\n",
        "            # Sample a batch of transitions from the replay buffer\n",
        "            transitions = replay_buffer.sample(batch_size=256)\n",
        "\n",
        "            # Calculate the target Q-values\n",
        "            target_Q = target_critic(transitions.next_state, target_actor(transitions.next_state))\n",
        "            target_Q = (1 - transitions.done.int()) * target_Q.clone().detach() * .99 + transitions.reward \n",
        "\n",
        "            # Calculate the current Q-values\n",
        "            current_Q = critic(transitions.state, transitions.action)\n",
        "\n",
        "            # Calculate the critic loss\n",
        "            critic_loss = torch.mean((target_Q - current_Q).pow(2)) \n",
        "            #critic_loss = nn.functional.smooth_l1_loss(target_Q, current_Q)\n",
        "\n",
        "            # Update the critic network\n",
        "            critic_optimizer.zero_grad()\n",
        "            critic_loss.backward()\n",
        "            critic_optimizer.step()\n",
        "            \n",
        "            if len(replay_buffer) > 1000:\n",
        "                # Calculate the actor loss\n",
        "                actor_loss = -torch.mean(critic(transitions.state, actor(transitions.state)))\n",
        "\n",
        "                # Update the actor network\n",
        "                actor_optimizer.zero_grad()\n",
        "                actor_loss.backward()\n",
        "                actor_optimizer.step()\n",
        "\n",
        "        state = next_state\n",
        "\n",
        "        if done:\n",
        "            break\n",
        "\n",
        "    # Evaluate the agent\n",
        "    episode_reward = 0 \n",
        "    state = env.reset() \n",
        "\n",
        "    for t in range(1000): \n",
        "        action = actor(torch.tensor(state))\n",
        "\n",
        "        action_p = action.item() * .5 + .5 \n",
        "        action_int = np.random.binomial(1, action_p) ## must be 0 or 1\n",
        "        #action_int = round(action_p) \n",
        "        next_state, reward, done, _ = env.step(action_int) \n",
        "        #next_state, reward, done, _ = env.step([action.item()])\n",
        "        p_list.append(action.item()) # DEBUG \n",
        "\n",
        "        episode_reward += reward\n",
        "\n",
        "        if done:\n",
        "            break\n",
        "    \n",
        "    reward_list.append(episode_reward)\n",
        "    print(f'Episode {episode}: {episode_reward}, len(replay_buffer): {len(replay_buffer)}')"
      ],
      "outputs": [
        {
          "output_type": "stream",
          "name": "stderr",
          "text": "/tmp/ipykernel_20503/3775909175.py:45: UserWarning: To copy construct from a tensor, it is recommended to use sourceTensor.clone().detach() or sourceTensor.clone().detach().requires_grad_(True), rather than torch.tensor(sourceTensor).\n  action = torch.tensor(action)\n"
        },
        {
          "output_type": "stream",
          "name": "stdout",
          "text": "Episode 0: 13.0, len(replay_buffer): 21\nEpisode 1: 22.0, len(replay_buffer): 48\nEpisode 2: 18.0, len(replay_buffer): 70\nEpisode 3: 15.0, len(replay_buffer): 88\nEpisode 4: 12.0, len(replay_buffer): 104\nEpisode 5: 20.0, len(replay_buffer): 125\nEpisode 6: 16.0, len(replay_buffer): 144\nEpisode 7: 28.0, len(replay_buffer): 168\nEpisode 8: 12.0, len(replay_buffer): 188\nEpisode 9: 18.0, len(replay_buffer): 232\nEpisode 10: 15.0, len(replay_buffer): 252\nEpisode 11: 12.0, len(replay_buffer): 266\nEpisode 12: 17.0, len(replay_buffer): 287\nEpisode 13: 16.0, len(replay_buffer): 310\nEpisode 14: 28.0, len(replay_buffer): 325\nEpisode 15: 22.0, len(replay_buffer): 345\nEpisode 16: 22.0, len(replay_buffer): 357\nEpisode 17: 11.0, len(replay_buffer): 378\nEpisode 18: 54.0, len(replay_buffer): 440\nEpisode 19: 13.0, len(replay_buffer): 454\nEpisode 20: 24.0, len(replay_buffer): 468\nEpisode 21: 39.0, len(replay_buffer): 487\nEpisode 22: 11.0, len(replay_buffer): 575\nEpisode 23: 11.0, len(replay_buffer): 601\nEpisode 24: 31.0, len(replay_buffer): 624\nEpisode 25: 13.0, len(replay_buffer): 636\nEpisode 26: 16.0, len(replay_buffer): 656\nEpisode 27: 34.0, len(replay_buffer): 673\nEpisode 28: 20.0, len(replay_buffer): 689\nEpisode 29: 14.0, len(replay_buffer): 716\nEpisode 30: 19.0, len(replay_buffer): 739\nEpisode 31: 19.0, len(replay_buffer): 751\nEpisode 32: 20.0, len(replay_buffer): 760\nEpisode 33: 15.0, len(replay_buffer): 780\nEpisode 34: 19.0, len(replay_buffer): 793\nEpisode 35: 14.0, len(replay_buffer): 814\nEpisode 36: 12.0, len(replay_buffer): 828\nEpisode 37: 14.0, len(replay_buffer): 869\nEpisode 38: 23.0, len(replay_buffer): 889\nEpisode 39: 38.0, len(replay_buffer): 903\nEpisode 40: 27.0, len(replay_buffer): 914\nEpisode 41: 41.0, len(replay_buffer): 930\nEpisode 42: 43.0, len(replay_buffer): 1002\nEpisode 43: 29.0, len(replay_buffer): 1027\nEpisode 44: 21.0, len(replay_buffer): 1045\nEpisode 45: 16.0, len(replay_buffer): 1071\nEpisode 46: 15.0, len(replay_buffer): 1081\nEpisode 47: 12.0, len(replay_buffer): 1093\nEpisode 48: 13.0, len(replay_buffer): 1105\nEpisode 49: 12.0, len(replay_buffer): 1128\nEpisode 50: 41.0, len(replay_buffer): 1145\nEpisode 51: 13.0, len(replay_buffer): 1156\nEpisode 52: 15.0, len(replay_buffer): 1171\nEpisode 53: 17.0, len(replay_buffer): 1194\nEpisode 54: 15.0, len(replay_buffer): 1209\nEpisode 55: 23.0, len(replay_buffer): 1240\nEpisode 56: 12.0, len(replay_buffer): 1254\nEpisode 57: 13.0, len(replay_buffer): 1315\nEpisode 58: 13.0, len(replay_buffer): 1329\nEpisode 59: 26.0, len(replay_buffer): 1344\nEpisode 60: 15.0, len(replay_buffer): 1397\nEpisode 61: 12.0, len(replay_buffer): 1429\nEpisode 62: 34.0, len(replay_buffer): 1442\nEpisode 63: 25.0, len(replay_buffer): 1489\nEpisode 64: 16.0, len(replay_buffer): 1505\nEpisode 65: 19.0, len(replay_buffer): 1531\nEpisode 66: 17.0, len(replay_buffer): 1586\nEpisode 67: 47.0, len(replay_buffer): 1613\nEpisode 68: 24.0, len(replay_buffer): 1629\nEpisode 69: 12.0, len(replay_buffer): 1678\nEpisode 70: 31.0, len(replay_buffer): 1703\nEpisode 71: 24.0, len(replay_buffer): 1799\nEpisode 72: 34.0, len(replay_buffer): 1976\nEpisode 73: 34.0, len(replay_buffer): 1993\nEpisode 74: 18.0, len(replay_buffer): 2046\nEpisode 75: 15.0, len(replay_buffer): 2109\nEpisode 76: 19.0, len(replay_buffer): 2158\nEpisode 77: 19.0, len(replay_buffer): 2289\nEpisode 78: 10.0, len(replay_buffer): 2581\nEpisode 79: 19.0, len(replay_buffer): 2817\nEpisode 80: 12.0, len(replay_buffer): 3062\nEpisode 81: 32.0, len(replay_buffer): 3270\nEpisode 82: 13.0, len(replay_buffer): 3498\nEpisode 83: 10.0, len(replay_buffer): 3645\nEpisode 84: 31.0, len(replay_buffer): 3733\nEpisode 85: 17.0, len(replay_buffer): 3818\nEpisode 86: 38.0, len(replay_buffer): 4056\nEpisode 87: 9.0, len(replay_buffer): 4203\nEpisode 88: 22.0, len(replay_buffer): 4345\nEpisode 89: 33.0, len(replay_buffer): 4508\nEpisode 90: 22.0, len(replay_buffer): 4653\nEpisode 91: 15.0, len(replay_buffer): 4763\nEpisode 92: 15.0, len(replay_buffer): 4943\nEpisode 93: 11.0, len(replay_buffer): 5228\nEpisode 94: 14.0, len(replay_buffer): 5433\nEpisode 95: 53.0, len(replay_buffer): 5654\nEpisode 96: 21.0, len(replay_buffer): 5825\nEpisode 97: 17.0, len(replay_buffer): 6019\nEpisode 98: 13.0, len(replay_buffer): 6191\nEpisode 99: 15.0, len(replay_buffer): 6373\nEpisode 100: 21.0, len(replay_buffer): 6656\nEpisode 101: 12.0, len(replay_buffer): 6827\nEpisode 102: 13.0, len(replay_buffer): 7040\nEpisode 103: 18.0, len(replay_buffer): 7478\nEpisode 104: 21.0, len(replay_buffer): 7978\nEpisode 105: 12.0, len(replay_buffer): 8161\nEpisode 106: 12.0, len(replay_buffer): 8360\nEpisode 107: 20.0, len(replay_buffer): 8629\nEpisode 108: 10.0, len(replay_buffer): 8925\nEpisode 109: 25.0, len(replay_buffer): 9181\n"
        }
      ],
      "execution_count": 40,
      "metadata": {
        "gather": {
          "logged": 1711078352352
        }
      }
    },
    {
      "cell_type": "code",
      "source": [
        "import matplotlib.pyplot as plt\n",
        "\n",
        "\n",
        "plt.plot(reward_list)\n",
        "plt.show()"
      ],
      "outputs": [
        {
          "output_type": "display_data",
          "data": {
            "text/plain": "<Figure size 640x480 with 1 Axes>",
            "image/png": "[encoded data removed]"
          },
          "metadata": {}
        }
      ],
      "execution_count": 38,
      "metadata": {
        "jupyter": {
          "source_hidden": false,
          "outputs_hidden": false
        },
        "nteract": {
          "transient": {
            "deleting": false
          }
        },
        "gather": {
          "logged": 1711078355077
        }
      }
    },
    {
      "cell_type": "code",
      "source": [
        "import matplotlib.pyplot as plt\n",
        "\n",
        "\n",
        "plt.plot(p_list)\n",
        "plt.show()"
      ],
      "outputs": [
        {
          "output_type": "display_data",
          "data": {
            "text/plain": "<Figure size 640x480 with 1 Axes>",
            "image/png": "[encoded data removed]"
          },
          "metadata": {}
        }
      ],
      "execution_count": 39,
      "metadata": {
        "jupyter": {
          "source_hidden": false,
          "outputs_hidden": false
        },
        "nteract": {
          "transient": {
            "deleting": false
          }
        },
        "gather": {
          "logged": 1711078357689
        }
      }
    },
    {
      "cell_type": "code",
      "source": [
        "print(replay_buffer.state_list[0].shape)\n",
        "print(replay_buffer.next_state_list[0].shape)\n",
        "print(replay_buffer.action_list[0].shape)\n",
        "print(replay_buffer.reward_list[0].shape)\n",
        "print(replay_buffer.done_list[0].shape)"
      ],
      "outputs": [],
      "execution_count": null,
      "metadata": {
        "jupyter": {
          "source_hidden": false,
          "outputs_hidden": false
        },
        "nteract": {
          "transient": {
            "deleting": false
          }
        },
        "gather": {
          "logged": 1711075029028
        }
      }
    },
    {
      "cell_type": "code",
      "source": [
        "target_Q = (1 - transitions.done.int()) * target_Q.clone().detach() * .99 + transitions.reward\n",
        "transitions.state.shape"
      ],
      "outputs": [],
      "execution_count": null,
      "metadata": {
        "jupyter": {
          "source_hidden": false,
          "outputs_hidden": false
        },
        "nteract": {
          "transient": {
            "deleting": false
          }
        },
        "gather": {
          "logged": 1711075029033
        }
      }
    }
  ],
  "metadata": {
    "kernelspec": {
      "name": "python38-azureml",
      "language": "python",
      "display_name": "Python 3.8 - AzureML"
    },
    "language_info": {
      "name": "python",
      "version": "3.8.5",
      "mimetype": "text/x-python",
      "codemirror_mode": {
        "name": "ipython",
        "version": 3
      },
      "pygments_lexer": "ipython3",
      "nbconvert_exporter": "python",
      "file_extension": ".py"
    },
    "microsoft": {
      "ms_spell_check": {
        "ms_spell_check_language": "en"
      },
      "host": {
        "AzureML": {
          "notebookHasBeenCompleted": true
        }
      }
    },
    "kernel_info": {
      "name": "python38-azureml"
    },
    "nteract": {
      "version": "nteract-front-end@1.0.0"
    }
  },
  "nbformat": 4,
  "nbformat_minor": 2
}