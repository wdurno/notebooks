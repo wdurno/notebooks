{
  "cells": [
    {
      "cell_type": "markdown",
      "source": [
        "# Sufficiency and Efficiency in Deep RL\n",
        "\n",
        "_W. Evan Durno, 2023_\n",
        "\n",
        "As a reinforcement learning (RL) agent explores its environment, \n",
        "it learns and tries new things, and thus changes its sampling distribution. \n",
        "Thus, the RL paradigm poorly aligns with the foundational identical distribution assumptions \n",
        "underpinning the statistical theories allowing AI to function correctly. \n",
        "For example, it can be useful to discard old observations during fitting. \n",
        "Similarly, we ought to ask, how can we optimally fit our models while adding new samples from new distributions? \n",
        "\n",
        "In this work, we introduce the concept of a sufficient statistic regularizer (SSR), \n",
        "and prove the existence of an optimal regularizing value $\\lambda$ to assist in fitting \n",
        "our models while distributions change smoothly and locally. \n",
        "Further, by relaxing the sufficient statistic definition to accommodate a reasonable approximation, \n",
        "we prove the existence of asymptotically universal sufficient statistics, \n",
        "assuming reasonable regularity assumptions. \n",
        "The net result is an RL paradigm which \n",
        "(1) incorporates new, non-identically distributed data optimally, and \n",
        "(2) achieves miniaturization by storing data in an $O(p)$-sized space instead of $O(n)$. "
      ],
      "metadata": {
        "nteract": {
          "transient": {
            "deleting": false
          }
        }
      }
    }
  ],
  "metadata": {
    "kernelspec": {
      "name": "python310-sdkv2",
      "language": "python",
      "display_name": "Python 3.10 - SDK V2"
    },
    "language_info": {
      "name": "python",
      "version": "3.10.6",
      "mimetype": "text/x-python",
      "codemirror_mode": {
        "name": "ipython",
        "version": 3
      },
      "pygments_lexer": "ipython3",
      "nbconvert_exporter": "python",
      "file_extension": ".py"
    },
    "microsoft": {
      "ms_spell_check": {
        "ms_spell_check_language": "en"
      }
    },
    "kernel_info": {
      "name": "python310-sdkv2"
    },
    "nteract": {
      "version": "nteract-front-end@1.0.0"
    }
  },
  "nbformat": 4,
  "nbformat_minor": 2
}