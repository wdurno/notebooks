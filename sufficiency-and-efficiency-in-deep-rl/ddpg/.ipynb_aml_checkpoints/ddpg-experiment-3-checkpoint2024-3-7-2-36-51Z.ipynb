{
  "cells": [
    {
      "cell_type": "code",
      "source": [
        "## try adding memory to these agents \n",
        "\n",
        "import random \n",
        "import numpy as np \n",
        "import gym \n",
        "import torch \n",
        "import torch.nn as nn \n",
        "import torch.optim as optim \n",
        "from lanczos import l_lanczos, combine_krylov_spaces \n",
        "\n",
        "GAMMA = .99 \n",
        "\n",
        "class Object(object):\n",
        "    pass\n",
        "\n",
        "class ReplayBuffer(): \n",
        "    def __init__(self, capacity=10000): \n",
        "        self.n = 0 \n",
        "        self.capacity = capacity \n",
        "        self.state_list = [] \n",
        "        self.action_list = [] \n",
        "        self.reward_list = [] \n",
        "        self.next_state_list = [] \n",
        "        self.done_list = [] \n",
        "        pass \n",
        "    def __len__(self):\n",
        "         return self.n \n",
        "    def add(self, state, action, reward, next_state, done): \n",
        "        if self.n >= self.capacity: \n",
        "            ## discard earliest observation \n",
        "            self.state_list = self.state_list[1:] \n",
        "            self.action_list = self.action_list[1:] \n",
        "            self.reward_list = self.reward_list[1:] \n",
        "            self.next_state_list = self.next_state_list[1:] \n",
        "            self.done_list = self.done_list[1:] \n",
        "            self.n -= 1 \n",
        "        pass \n",
        "        ## cast to torch  \n",
        "        state = torch.tensor(state) \n",
        "        action = torch.tensor(action) \n",
        "        reward = torch.tensor(reward) \n",
        "        next_state = torch.tensor(next_state) \n",
        "        done = torch.tensor(done) \n",
        "        ## append to buffer \n",
        "        self.state_list.append(state) \n",
        "        self.action_list.append(action) \n",
        "        self.reward_list.append(reward) \n",
        "        self.next_state_list.append(next_state) \n",
        "        self.done_list.append(done) \n",
        "        self.n += 1 \n",
        "        pass \n",
        "    def sample(self, batch_size=32, idx_list=None): \n",
        "        ## sample lists \n",
        "        out = Object() ## transitions \n",
        "        out.state = [] \n",
        "        out.action = [] \n",
        "        out.reward = [] \n",
        "        out.next_state = [] \n",
        "        out.done = [] \n",
        "        if idx_list is not None: \n",
        "            batch_size = len(idx_list) \n",
        "        for i in range(batch_size): \n",
        "            if idx_list is None: \n",
        "                idx = random.randint(0, self.n-1) \n",
        "            else: \n",
        "                idx = idx_list[i]\n",
        "                pass \n",
        "            out.state.append(self.state_list[idx]) \n",
        "            out.action.append(self.action_list[idx]) \n",
        "            out.reward.append(self.reward_list[idx]) \n",
        "            out.next_state.append(self.next_state_list[idx]) \n",
        "            out.done.append(self.done_list[idx]) \n",
        "            pass \n",
        "        ## stack  \n",
        "        out.state = torch.stack(out.state) \n",
        "        out.action = torch.stack(out.action) \n",
        "        out.reward = torch.stack(out.reward).reshape([-1,1]) \n",
        "        out.next_state = torch.stack(out.next_state) \n",
        "        out.done = torch.stack(out.done).reshape([-1,1]) \n",
        "        return out \n",
        "    def clear(self, n=None): \n",
        "        'clears first `n` transitions, or all if `n is None`'\n",
        "        if n is None: \n",
        "            n = self.n \n",
        "            pass \n",
        "        self.state_list = self.state_list[n:] \n",
        "        self.action_list = self.action_list[n:] \n",
        "        self.reward_list = self.reward_list[n:] \n",
        "        self.next_state_list = self.next_state_list[n:] \n",
        "        self.done_list = self.done_list[n:] \n",
        "        self.n = len(self.state_list) \n",
        "        pass \n",
        "    pass \n",
        "\n",
        "# Define the actor and critic networks \n",
        "class SSRAgent(nn.Module): \n",
        "    def __init__(self, replay_buffer, ssr_rank=2): \n",
        "        super(SSRAgent, self).__init__() \n",
        "        self.ssr_rank = ssr_rank \n",
        "        self.ssr_low_rank_matrix = None ## =: A \n",
        "        self.ssr_residual_diagonal = None ## =: resid \n",
        "        self.ssr_center = None \n",
        "        self.ssr_prev_center = None \n",
        "        self.ssr_n = None \n",
        "        ## N * Fisher Information \\approx AA^T + resid \n",
        "        self.ssr_model_dimension = None \n",
        "        self.replay_buffer = replay_buffer \n",
        "        pass \n",
        "    def loss(self, transitions): \n",
        "        raise NotImplementedError('ERROR: loss not implemented!') \n",
        "    def memorize(self, n=None): \n",
        "        'memorize oldest `n` transitions, or all if `n is None`' \n",
        "        self.ssr_prev_center = self.ssr_center \n",
        "        self.ssr_center = self.__get_param() ## elliptical centroid \n",
        "        if self.ssr_model_dimension is None: \n",
        "            self.ssr_model_dimension = self.ssr_center.shape[0] \n",
        "            pass \n",
        "        ssr_low_rank_matrix, ssr_residual_diagonal = l_lanczos(self.__get_get_grad_generator(n), self.ssr_rank, self.ssr_model_dimension, calc_diag=True) \n",
        "        if self.ssr_low_rank_matrix is None: \n",
        "            ## first memorization \n",
        "            self.ssr_low_rank_matrix = ssr_low_rank_matrix \n",
        "            self.ssr_residual_diagonal = ssr_residual_diagonal \n",
        "            self.ssr_n = n \n",
        "        else: \n",
        "            ## combine with previous memories \n",
        "            self.ssr_low_rank_matrix = combine_krylov_spaces(self.ssr_low_rank_matrix, ssr_low_rank_matrix) \n",
        "            self.ssr_residual_diagonal += ssr_residual_diagonal \n",
        "            self.ssr_n += n \n",
        "            pass \n",
        "        pass \n",
        "    def ssr(self, lmbda=None): \n",
        "        '''Get the ssr regularizer. If `lmbda is None`, `lmbda` will be set to 1 when `self.ssr_prev_center is None`, \n",
        "        otherwise `lmbda` will be the approximately optimal `n_A` value.'''\n",
        "        if self.ssr_low_rank_matrix is None: \n",
        "            return 0. \n",
        "        if lmbda is None: \n",
        "            lmbda = 1. \n",
        "            pass \n",
        "        p = self.__get_param() \n",
        "        p0 = self.ssr_center \n",
        "        d = p - p0 \n",
        "        A = self.ssr_low_rank_matrix \n",
        "        res = self.ssr_residual_diagonal \n",
        "        dTA = d.transpose(0,1).matmul(A) \n",
        "        ATd = dTA.transpose(0,1) \n",
        "        dTresd = (d.transpose(0,1) * res).matmul(d) \n",
        "        ssr_sum = dTA.matmul(ATd) + dTresd \n",
        "        if lmbda is None: \n",
        "            if self.ssr_prev_center is None: \n",
        "                lmbda = 1. \n",
        "            else: \n",
        "                ## approximately optimal lambda \n",
        "                dt = p0 - self.ssr_prev_center \n",
        "                dtTA = dt.transpose(0,1).matmul(A) \n",
        "                ATdt = dtTA.transpose(0,1) \n",
        "                dtTresdt = (dt.transpose(0,1) * res).matmul(dt) \n",
        "                lmbda = dtTA.matmul(ATdt) + dtTresdt \n",
        "                pass \n",
        "            pass \n",
        "        ## no average, because we're using the log lik  \n",
        "        ## also, `ssr_n` becomes vague as we iteratively apply optimal lambda \n",
        "        return lmbda * .5 * ssr_sum \n",
        "    def __get_param(self): \n",
        "        return torch.cat([p.reshape([-1, 1]) for p in self.parameters()], dim=0) \n",
        "    def __get_get_grad_generator(self, n=None): \n",
        "        ## The double get hides `self` in a function context,  \n",
        "        ## packaging `get_grad_generator` for calling without \n",
        "        ## the SSRAgent instance.  \n",
        "        if n is None: \n",
        "            n = self.replay_buffer.n \n",
        "            pass \n",
        "        def get_grad_generator(): \n",
        "            'l-Lanczos alg uses grad at least `ssr_rank` times' \n",
        "            def grad_generator(): \n",
        "                self.eval() \n",
        "                for idx in range(n): \n",
        "                    transition = self.replay_buffer.sample(idx_list=[idx]) \n",
        "                    loss = self.loss(transition) \n",
        "                    loss.backward() \n",
        "                    grad_vec = torch.cat([p.grad.reshape([-1]) for p in self.parameters()]) \n",
        "                    yield grad_vec \n",
        "                    pass\n",
        "                pass \n",
        "            return grad_generator \n",
        "        return get_grad_generator \n",
        "    pass \n",
        "\n",
        "class Actor(SSRAgent):\n",
        "    def __init__(self, state_dim, action_dim, critic=None, replay_buffer=None, ssr_rank=2): \n",
        "        super(Actor, self).__init__(replay_buffer=replay_buffer, ssr_rank=ssr_rank) \n",
        "        self.fc1 = nn.Linear(state_dim, 256) \n",
        "        self.fc2 = nn.Linear(256, 128) \n",
        "        self.fc3 = nn.Linear(128, action_dim) \n",
        "        self.buffer = Object() \n",
        "        self.buffer.critic = critic ## buffer stops param sharing (ie. in `state_dict`)\n",
        "        pass \n",
        "    def forward(self, state): \n",
        "        x = torch.relu(self.fc1(state)) \n",
        "        x = torch.relu(self.fc2(x)) \n",
        "        action = torch.tanh(self.fc3(x)) \n",
        "        return action\n",
        "    def loss(self, transitions): \n",
        "        if self.buffer.critic is None: \n",
        "            raise ValueError('ERROR: this model has no associated critic!') \n",
        "        return -torch.sum(self.buffer.critic(transitions.state, self(transitions.state))) ## log lik, not average log lik \n",
        "    pass \n",
        "\n",
        "class Critic(SSRAgent):\n",
        "    def __init__(self, state_dim, action_dim, target_actor=None, target_critic=None, replay_buffer=None, ssr_rank=2): \n",
        "        super(Critic, self).__init__(replay_buffer=replay_buffer, ssr_rank=ssr_rank) \n",
        "        self.fc1 = nn.Linear(state_dim + action_dim, 256)\n",
        "        self.fc2 = nn.Linear(256, 128)\n",
        "        self.fc3 = nn.Linear(128, 1)\n",
        "        self.buffer = Object() \n",
        "        self.buffer.target_actor = target_actor \n",
        "        self.buffer.target_critic = target_critic \n",
        "        pass \n",
        "    def forward(self, state, action):\n",
        "        x = torch.cat([state, action], dim=1)\n",
        "        x = torch.relu(self.fc1(x))\n",
        "        x = torch.relu(self.fc2(x))\n",
        "        value = self.fc3(x)\n",
        "        return value\n",
        "    def loss(self, transitions): \n",
        "        if self.buffer.target_actor is None or self.buffer.target_critic is None: \n",
        "            raise ValueError('ERROR: target model missing!') \n",
        "        # Calculate the target Q-values\n",
        "        target_Q = self.buffer.target_critic(transitions.next_state, self.buffer.target_actor(transitions.next_state))\n",
        "        target_Q = (1 - transitions.done.int()) * target_Q.clone().detach() * GAMMA + transitions.reward \n",
        "        # Calculate the current Q-values\n",
        "        current_Q = self(transitions.state, transitions.action) \n",
        "        # Calculate the critic loss\n",
        "        return torch.sum((target_Q - current_Q).pow(2)) ## log lik, not average log lik \n",
        "    pass \n",
        "\n",
        "# Create the replay buffer \n",
        "replay_buffer = ReplayBuffer(capacity=100000) \n",
        "\n",
        "# Create the actor and critic networks\n",
        "target_critic = Critic(state_dim=4, action_dim=1) \n",
        "target_actor = Actor(state_dim=4, action_dim=1) \n",
        "critic = Critic(state_dim=4, action_dim=1, target_critic=target_critic, target_actor=target_actor, replay_buffer=replay_buffer) \n",
        "actor = Actor(state_dim=4, action_dim=1, critic=critic, replay_buffer=replay_buffer) \n",
        "\n",
        "# Define the optimizers\n",
        "actor_optimizer = optim.Adam(actor.parameters(), lr=1e-5)\n",
        "critic_optimizer = optim.Adam(critic.parameters(), lr=1e-3)\n",
        "\n",
        "# Define the environment \n",
        "env = gym.make('CartPole-v1') \n",
        "\n",
        "reward_list = [] \n",
        "p_list = [] # DEBUG \n",
        "LAMBDA = None \n",
        "\n",
        "# Train the agent\n",
        "for episode in range(1000):\n",
        "    state = env.reset()\n",
        "    target_actor.load_state_dict(actor.state_dict()) \n",
        "    target_critic.load_state_dict(critic.state_dict()) \n",
        "\n",
        "    for t in range(1000): \n",
        "        action = actor(torch.tensor(state)) \n",
        "        if np.random.binomial(1, max(0,50-episode)/50) > 0: \n",
        "            ## random action \n",
        "            action = torch.tensor(np.random.uniform(low=-1., high=1.)).reshape([1]) \n",
        "            pass \n",
        "        \n",
        "        action_p = action.item() * .5 + .5 \n",
        "        action_int = np.random.binomial(1, action_p) ## must be 0 or 1 \n",
        "        next_state, reward, done, _ = env.step(action_int) \n",
        "\n",
        "        replay_buffer.add(state, action, reward, next_state, done) \n",
        "\n",
        "        if len(replay_buffer) > 1000: \n",
        "            # Sample a batch of transitions from the replay buffer \n",
        "            transitions = replay_buffer.sample(batch_size=256) \n",
        "\n",
        "            # Calculate the critic loss \n",
        "            critic_loss = critic.loss(transitions) + critic.ssr(LAMBDA) \n",
        "\n",
        "            # Update the critic network \n",
        "            critic_optimizer.zero_grad() \n",
        "            critic_loss.backward() \n",
        "            critic_optimizer.step() \n",
        "            \n",
        "            # Calculate the actor loss \n",
        "            actor_loss = actor.loss(transitions) + actor.ssr(LAMBDA) \n",
        "\n",
        "            # Update the actor network \n",
        "            actor_optimizer.zero_grad() \n",
        "            actor_loss.backward() \n",
        "            actor_optimizer.step() \n",
        "\n",
        "            if len(replay_buffer) > 2000: \n",
        "                ## memorize every 1000 transitions \n",
        "                actor.memorize(1000) \n",
        "                critic.memorize(1000) \n",
        "                replay_buffer.clear(1000) \n",
        "                pass \n",
        "            pass \n",
        "\n",
        "        state = next_state \n",
        "\n",
        "        if done:\n",
        "            break\n",
        "\n",
        "    # Evaluate the agent\n",
        "    episode_reward = 0 \n",
        "    state = env.reset() \n",
        "\n",
        "    for t in range(1000): \n",
        "        action = actor(torch.tensor(state))\n",
        "\n",
        "        action_p = action.item() * .5 + .5 \n",
        "        action_int = np.random.binomial(1, action_p) \n",
        "        next_state, reward, done, _ = env.step(action_int) \n",
        "        p_list.append(action.item()) # DEBUG \n",
        "\n",
        "        episode_reward += reward\n",
        "        state = next_state \n",
        "\n",
        "        if done:\n",
        "            break\n",
        "    \n",
        "    reward_list.append(episode_reward)\n",
        "    print(f'Episode {episode}: {episode_reward}, len(replay_buffer): {len(replay_buffer)}')"
      ],
      "outputs": [
        {
          "output_type": "stream",
          "name": "stderr",
          "text": "/tmp/ipykernel_4719/2985502513.py:40: UserWarning: To copy construct from a tensor, it is recommended to use sourceTensor.clone().detach() or sourceTensor.clone().detach().requires_grad_(True), rather than torch.tensor(sourceTensor).\n  action = torch.tensor(action)\n/anaconda/envs/azureml_py38/lib/python3.8/site-packages/torch/autograd/__init__.py:266: UserWarning: CUDA initialization: The NVIDIA driver on your system is too old (found version 11040). Please update your GPU driver by downloading and installing a new version from the URL: http://www.nvidia.com/Download/index.aspx Alternatively, go to: https://pytorch.org to install a PyTorch version that has been compiled with your version of the CUDA driver. (Triggered internally at ../c10/cuda/CUDAFunctions.cpp:108.)\n  Variable._execution_engine.run_backward(  # Calls into the C++ engine to run the backward pass\n/anaconda/envs/azureml_py38/lib/python3.8/site-packages/astroid/node_classes.py:94: DeprecationWarning: The 'astroid.node_classes' module is deprecated and will be replaced by 'astroid.nodes' in astroid 3.0.0\n  warnings.warn(\n"
        },
        {
          "output_type": "stream",
          "name": "stdout",
          "text": "Episode 0: 17.0, len(replay_buffer): 31\nEpisode 1: 27.0, len(replay_buffer): 51\nEpisode 2: 13.0, len(replay_buffer): 67\nEpisode 3: 19.0, len(replay_buffer): 119\nEpisode 4: 13.0, len(replay_buffer): 129\nEpisode 5: 12.0, len(replay_buffer): 139\nEpisode 6: 22.0, len(replay_buffer): 200\nEpisode 7: 32.0, len(replay_buffer): 230\nEpisode 8: 20.0, len(replay_buffer): 254\nEpisode 9: 27.0, len(replay_buffer): 264\nEpisode 10: 14.0, len(replay_buffer): 278\nEpisode 11: 10.0, len(replay_buffer): 298\nEpisode 12: 14.0, len(replay_buffer): 329\nEpisode 13: 14.0, len(replay_buffer): 354\nEpisode 14: 29.0, len(replay_buffer): 370\nEpisode 15: 13.0, len(replay_buffer): 385\nEpisode 16: 22.0, len(replay_buffer): 402\nEpisode 17: 15.0, len(replay_buffer): 437\nEpisode 18: 10.0, len(replay_buffer): 455\nEpisode 19: 23.0, len(replay_buffer): 521\nEpisode 20: 11.0, len(replay_buffer): 545\nEpisode 21: 27.0, len(replay_buffer): 557\nEpisode 22: 18.0, len(replay_buffer): 569\nEpisode 23: 13.0, len(replay_buffer): 579\nEpisode 24: 9.0, len(replay_buffer): 592\nEpisode 25: 16.0, len(replay_buffer): 605\nEpisode 26: 23.0, len(replay_buffer): 637\nEpisode 27: 12.0, len(replay_buffer): 668\nEpisode 28: 9.0, len(replay_buffer): 689\nEpisode 29: 25.0, len(replay_buffer): 701\nEpisode 30: 10.0, len(replay_buffer): 729\nEpisode 31: 10.0, len(replay_buffer): 755\nEpisode 32: 13.0, len(replay_buffer): 777\nEpisode 33: 26.0, len(replay_buffer): 799\nEpisode 34: 14.0, len(replay_buffer): 812\nEpisode 35: 38.0, len(replay_buffer): 827\nEpisode 36: 15.0, len(replay_buffer): 838\nEpisode 37: 29.0, len(replay_buffer): 861\nEpisode 38: 21.0, len(replay_buffer): 893\nEpisode 39: 18.0, len(replay_buffer): 903\nEpisode 40: 12.0, len(replay_buffer): 930\nEpisode 41: 20.0, len(replay_buffer): 952\nEpisode 42: 14.0, len(replay_buffer): 1002\nEpisode 43: 26.0, len(replay_buffer): 1022\nEpisode 44: 32.0, len(replay_buffer): 1031\nEpisode 45: 11.0, len(replay_buffer): 1044\nEpisode 46: 14.0, len(replay_buffer): 1058\nEpisode 47: 26.0, len(replay_buffer): 1073\nEpisode 48: 25.0, len(replay_buffer): 1095\nEpisode 49: 19.0, len(replay_buffer): 1139\nEpisode 50: 18.0, len(replay_buffer): 1151\nEpisode 51: 13.0, len(replay_buffer): 1162\nEpisode 52: 11.0, len(replay_buffer): 1179\nEpisode 53: 70.0, len(replay_buffer): 1190\nEpisode 54: 12.0, len(replay_buffer): 1202\nEpisode 55: 22.0, len(replay_buffer): 1241\nEpisode 56: 10.0, len(replay_buffer): 1258\nEpisode 57: 15.0, len(replay_buffer): 1275\nEpisode 58: 20.0, len(replay_buffer): 1328\nEpisode 59: 32.0, len(replay_buffer): 1366\nEpisode 60: 16.0, len(replay_buffer): 1387\nEpisode 61: 36.0, len(replay_buffer): 1430\nEpisode 62: 29.0, len(replay_buffer): 1581\nEpisode 63: 65.0, len(replay_buffer): 1651\nEpisode 64: 37.0, len(replay_buffer): 1756\nEpisode 65: 46.0, len(replay_buffer): 1795\nEpisode 66: 64.0, len(replay_buffer): 1832\nEpisode 67: 18.0, len(replay_buffer): 1874\n"
        },
        {
          "output_type": "error",
          "ename": "KeyboardInterrupt",
          "evalue": "",
          "traceback": [
            "\u001b[0;31m---------------------------------------------------------------------------\u001b[0m",
            "\u001b[0;31mKeyboardInterrupt\u001b[0m                         Traceback (most recent call last)",
            "Cell \u001b[0;32mIn [1], line 280\u001b[0m\n\u001b[1;32m    277\u001b[0m transitions \u001b[38;5;241m=\u001b[39m replay_buffer\u001b[38;5;241m.\u001b[39msample(batch_size\u001b[38;5;241m=\u001b[39m\u001b[38;5;241m256\u001b[39m) \n\u001b[1;32m    279\u001b[0m \u001b[38;5;66;03m# Calculate the critic loss \u001b[39;00m\n\u001b[0;32m--> 280\u001b[0m critic_loss \u001b[38;5;241m=\u001b[39m \u001b[43mcritic\u001b[49m\u001b[38;5;241;43m.\u001b[39;49m\u001b[43mloss\u001b[49m\u001b[43m(\u001b[49m\u001b[43mtransitions\u001b[49m\u001b[43m)\u001b[49m \u001b[38;5;241m+\u001b[39m critic\u001b[38;5;241m.\u001b[39mssr(LAMBDA) \n\u001b[1;32m    282\u001b[0m \u001b[38;5;66;03m# Update the critic network \u001b[39;00m\n\u001b[1;32m    283\u001b[0m critic_optimizer\u001b[38;5;241m.\u001b[39mzero_grad() \n",
            "Cell \u001b[0;32mIn [1], line 228\u001b[0m, in \u001b[0;36mCritic.loss\u001b[0;34m(self, transitions)\u001b[0m\n\u001b[1;32m    226\u001b[0m     \u001b[38;5;28;01mraise\u001b[39;00m \u001b[38;5;167;01mValueError\u001b[39;00m(\u001b[38;5;124m'\u001b[39m\u001b[38;5;124mERROR: target model missing!\u001b[39m\u001b[38;5;124m'\u001b[39m) \n\u001b[1;32m    227\u001b[0m \u001b[38;5;66;03m# Calculate the target Q-values\u001b[39;00m\n\u001b[0;32m--> 228\u001b[0m target_Q \u001b[38;5;241m=\u001b[39m \u001b[38;5;28;43mself\u001b[39;49m\u001b[38;5;241;43m.\u001b[39;49m\u001b[43mbuffer\u001b[49m\u001b[38;5;241;43m.\u001b[39;49m\u001b[43mtarget_critic\u001b[49m\u001b[43m(\u001b[49m\u001b[43mtransitions\u001b[49m\u001b[38;5;241;43m.\u001b[39;49m\u001b[43mnext_state\u001b[49m\u001b[43m,\u001b[49m\u001b[43m \u001b[49m\u001b[38;5;28;43mself\u001b[39;49m\u001b[38;5;241;43m.\u001b[39;49m\u001b[43mbuffer\u001b[49m\u001b[38;5;241;43m.\u001b[39;49m\u001b[43mtarget_actor\u001b[49m\u001b[43m(\u001b[49m\u001b[43mtransitions\u001b[49m\u001b[38;5;241;43m.\u001b[39;49m\u001b[43mnext_state\u001b[49m\u001b[43m)\u001b[49m\u001b[43m)\u001b[49m\n\u001b[1;32m    229\u001b[0m target_Q \u001b[38;5;241m=\u001b[39m (\u001b[38;5;241m1\u001b[39m \u001b[38;5;241m-\u001b[39m transitions\u001b[38;5;241m.\u001b[39mdone\u001b[38;5;241m.\u001b[39mint()) \u001b[38;5;241m*\u001b[39m target_Q\u001b[38;5;241m.\u001b[39mclone()\u001b[38;5;241m.\u001b[39mdetach() \u001b[38;5;241m*\u001b[39m GAMMA \u001b[38;5;241m+\u001b[39m transitions\u001b[38;5;241m.\u001b[39mreward \n\u001b[1;32m    230\u001b[0m \u001b[38;5;66;03m# Calculate the current Q-values\u001b[39;00m\n",
            "File \u001b[0;32m/anaconda/envs/azureml_py38/lib/python3.8/site-packages/torch/nn/modules/module.py:1511\u001b[0m, in \u001b[0;36mModule._wrapped_call_impl\u001b[0;34m(self, *args, **kwargs)\u001b[0m\n\u001b[1;32m   1509\u001b[0m     \u001b[38;5;28;01mreturn\u001b[39;00m \u001b[38;5;28mself\u001b[39m\u001b[38;5;241m.\u001b[39m_compiled_call_impl(\u001b[38;5;241m*\u001b[39margs, \u001b[38;5;241m*\u001b[39m\u001b[38;5;241m*\u001b[39mkwargs)  \u001b[38;5;66;03m# type: ignore[misc]\u001b[39;00m\n\u001b[1;32m   1510\u001b[0m \u001b[38;5;28;01melse\u001b[39;00m:\n\u001b[0;32m-> 1511\u001b[0m     \u001b[38;5;28;01mreturn\u001b[39;00m \u001b[38;5;28;43mself\u001b[39;49m\u001b[38;5;241;43m.\u001b[39;49m\u001b[43m_call_impl\u001b[49m\u001b[43m(\u001b[49m\u001b[38;5;241;43m*\u001b[39;49m\u001b[43margs\u001b[49m\u001b[43m,\u001b[49m\u001b[43m \u001b[49m\u001b[38;5;241;43m*\u001b[39;49m\u001b[38;5;241;43m*\u001b[39;49m\u001b[43mkwargs\u001b[49m\u001b[43m)\u001b[49m\n",
            "File \u001b[0;32m/anaconda/envs/azureml_py38/lib/python3.8/site-packages/torch/nn/modules/module.py:1520\u001b[0m, in \u001b[0;36mModule._call_impl\u001b[0;34m(self, *args, **kwargs)\u001b[0m\n\u001b[1;32m   1515\u001b[0m \u001b[38;5;66;03m# If we don't have any hooks, we want to skip the rest of the logic in\u001b[39;00m\n\u001b[1;32m   1516\u001b[0m \u001b[38;5;66;03m# this function, and just call forward.\u001b[39;00m\n\u001b[1;32m   1517\u001b[0m \u001b[38;5;28;01mif\u001b[39;00m \u001b[38;5;129;01mnot\u001b[39;00m (\u001b[38;5;28mself\u001b[39m\u001b[38;5;241m.\u001b[39m_backward_hooks \u001b[38;5;129;01mor\u001b[39;00m \u001b[38;5;28mself\u001b[39m\u001b[38;5;241m.\u001b[39m_backward_pre_hooks \u001b[38;5;129;01mor\u001b[39;00m \u001b[38;5;28mself\u001b[39m\u001b[38;5;241m.\u001b[39m_forward_hooks \u001b[38;5;129;01mor\u001b[39;00m \u001b[38;5;28mself\u001b[39m\u001b[38;5;241m.\u001b[39m_forward_pre_hooks\n\u001b[1;32m   1518\u001b[0m         \u001b[38;5;129;01mor\u001b[39;00m _global_backward_pre_hooks \u001b[38;5;129;01mor\u001b[39;00m _global_backward_hooks\n\u001b[1;32m   1519\u001b[0m         \u001b[38;5;129;01mor\u001b[39;00m _global_forward_hooks \u001b[38;5;129;01mor\u001b[39;00m _global_forward_pre_hooks):\n\u001b[0;32m-> 1520\u001b[0m     \u001b[38;5;28;01mreturn\u001b[39;00m \u001b[43mforward_call\u001b[49m\u001b[43m(\u001b[49m\u001b[38;5;241;43m*\u001b[39;49m\u001b[43margs\u001b[49m\u001b[43m,\u001b[49m\u001b[43m \u001b[49m\u001b[38;5;241;43m*\u001b[39;49m\u001b[38;5;241;43m*\u001b[39;49m\u001b[43mkwargs\u001b[49m\u001b[43m)\u001b[49m\n\u001b[1;32m   1522\u001b[0m \u001b[38;5;28;01mtry\u001b[39;00m:\n\u001b[1;32m   1523\u001b[0m     result \u001b[38;5;241m=\u001b[39m \u001b[38;5;28;01mNone\u001b[39;00m\n",
            "Cell \u001b[0;32mIn [1], line 222\u001b[0m, in \u001b[0;36mCritic.forward\u001b[0;34m(self, state, action)\u001b[0m\n\u001b[1;32m    220\u001b[0m x \u001b[38;5;241m=\u001b[39m torch\u001b[38;5;241m.\u001b[39mrelu(\u001b[38;5;28mself\u001b[39m\u001b[38;5;241m.\u001b[39mfc1(x))\n\u001b[1;32m    221\u001b[0m x \u001b[38;5;241m=\u001b[39m torch\u001b[38;5;241m.\u001b[39mrelu(\u001b[38;5;28mself\u001b[39m\u001b[38;5;241m.\u001b[39mfc2(x))\n\u001b[0;32m--> 222\u001b[0m value \u001b[38;5;241m=\u001b[39m \u001b[38;5;28;43mself\u001b[39;49m\u001b[38;5;241;43m.\u001b[39;49m\u001b[43mfc3\u001b[49m(x)\n\u001b[1;32m    223\u001b[0m \u001b[38;5;28;01mreturn\u001b[39;00m value\n",
            "File \u001b[0;32m/anaconda/envs/azureml_py38/lib/python3.8/site-packages/torch/nn/modules/module.py:1675\u001b[0m, in \u001b[0;36mModule.__getattr__\u001b[0;34m(self, name)\u001b[0m\n\u001b[1;32m   1666\u001b[0m         \u001b[38;5;28mself\u001b[39m\u001b[38;5;241m.\u001b[39m_backward_pre_hooks \u001b[38;5;241m=\u001b[39m OrderedDict()\n\u001b[1;32m   1668\u001b[0m \u001b[38;5;66;03m# On the return type:\u001b[39;00m\n\u001b[1;32m   1669\u001b[0m \u001b[38;5;66;03m# We choose to return `Any` in the `__getattr__` type signature instead of a more strict `Union[Tensor, Module]`.\u001b[39;00m\n\u001b[1;32m   1670\u001b[0m \u001b[38;5;66;03m# This is done for better interop with various type checkers for the end users.\u001b[39;00m\n\u001b[0;32m   (...)\u001b[0m\n\u001b[1;32m   1673\u001b[0m \u001b[38;5;66;03m# See full discussion on the problems with returning `Union` here\u001b[39;00m\n\u001b[1;32m   1674\u001b[0m \u001b[38;5;66;03m# https://github.com/microsoft/pyright/issues/4213\u001b[39;00m\n\u001b[0;32m-> 1675\u001b[0m \u001b[38;5;28;01mdef\u001b[39;00m \u001b[38;5;21m__getattr__\u001b[39m(\u001b[38;5;28mself\u001b[39m, name: \u001b[38;5;28mstr\u001b[39m) \u001b[38;5;241m-\u001b[39m\u001b[38;5;241m>\u001b[39m Any:\n\u001b[1;32m   1676\u001b[0m     \u001b[38;5;28;01mif\u001b[39;00m \u001b[38;5;124m'\u001b[39m\u001b[38;5;124m_parameters\u001b[39m\u001b[38;5;124m'\u001b[39m \u001b[38;5;129;01min\u001b[39;00m \u001b[38;5;28mself\u001b[39m\u001b[38;5;241m.\u001b[39m\u001b[38;5;18m__dict__\u001b[39m:\n\u001b[1;32m   1677\u001b[0m         _parameters \u001b[38;5;241m=\u001b[39m \u001b[38;5;28mself\u001b[39m\u001b[38;5;241m.\u001b[39m\u001b[38;5;18m__dict__\u001b[39m[\u001b[38;5;124m'\u001b[39m\u001b[38;5;124m_parameters\u001b[39m\u001b[38;5;124m'\u001b[39m]\n",
            "\u001b[0;31mKeyboardInterrupt\u001b[0m: "
          ]
        }
      ],
      "execution_count": 1,
      "metadata": {
        "gather": {
          "logged": 1712326056355
        }
      }
    },
    {
      "cell_type": "code",
      "source": [
        "import matplotlib.pyplot as plt\n",
        "\n",
        "\n",
        "plt.plot(reward_list)\n",
        "plt.show()"
      ],
      "outputs": [
        {
          "output_type": "display_data",
          "data": {
            "text/plain": "<Figure size 640x480 with 1 Axes>",
            "image/png": "[encoded data removed]"
          },
          "metadata": {}
        }
      ],
      "execution_count": 2,
      "metadata": {
        "jupyter": {
          "source_hidden": false,
          "outputs_hidden": false
        },
        "nteract": {
          "transient": {
            "deleting": false
          }
        },
        "gather": {
          "logged": 1711813730873
        }
      }
    },
    {
      "cell_type": "code",
      "source": [
        "import matplotlib.pyplot as plt\n",
        "\n",
        "\n",
        "plt.plot(p_list)\n",
        "plt.show()"
      ],
      "outputs": [
        {
          "output_type": "display_data",
          "data": {
            "text/plain": "<Figure size 640x480 with 1 Axes>",
            "image/png": "[encoded data removed]"
          },
          "metadata": {}
        }
      ],
      "execution_count": 3,
      "metadata": {
        "jupyter": {
          "source_hidden": false,
          "outputs_hidden": false
        },
        "nteract": {
          "transient": {
            "deleting": false
          }
        },
        "gather": {
          "logged": 1711813731659
        }
      }
    },
    {
      "cell_type": "code",
      "source": [
        "x = replay_buffer.sample(3)\n",
        "print(x.state.shape)\n",
        "print(x.action.shape)\n",
        "print(x.reward.shape)\n",
        "print(x.next_state.shape)\n",
        "print(x.done.shape)"
      ],
      "outputs": [
        {
          "output_type": "stream",
          "name": "stdout",
          "text": "torch.Size([3, 4])\ntorch.Size([3, 1])\ntorch.Size([3, 1])\ntorch.Size([3, 4])\ntorch.Size([3, 1])\n"
        }
      ],
      "execution_count": 4,
      "metadata": {
        "jupyter": {
          "source_hidden": false,
          "outputs_hidden": false
        },
        "nteract": {
          "transient": {
            "deleting": false
          }
        },
        "gather": {
          "logged": 1712326604393
        }
      }
    },
    {
      "cell_type": "code",
      "source": [
        "x = replay_buffer.sample(idx_list=[2,4,5,1])\n",
        "print(x.state.shape)\n",
        "print(x.action.shape)\n",
        "print(x.reward.shape)\n",
        "print(x.next_state.shape)\n",
        "print(x.done.shape)"
      ],
      "outputs": [
        {
          "output_type": "stream",
          "name": "stdout",
          "text": "torch.Size([4, 4])\ntorch.Size([4, 1])\ntorch.Size([4, 1])\ntorch.Size([4, 4])\ntorch.Size([4, 1])\n"
        }
      ],
      "execution_count": 6,
      "metadata": {
        "jupyter": {
          "source_hidden": false,
          "outputs_hidden": false
        },
        "nteract": {
          "transient": {
            "deleting": false
          }
        },
        "gather": {
          "logged": 1712326652722
        }
      }
    }
  ],
  "metadata": {
    "kernelspec": {
      "name": "python38-azureml",
      "language": "python",
      "display_name": "Python 3.8 - AzureML"
    },
    "language_info": {
      "name": "python",
      "version": "3.8.5",
      "mimetype": "text/x-python",
      "codemirror_mode": {
        "name": "ipython",
        "version": 3
      },
      "pygments_lexer": "ipython3",
      "nbconvert_exporter": "python",
      "file_extension": ".py"
    },
    "microsoft": {
      "ms_spell_check": {
        "ms_spell_check_language": "en"
      },
      "host": {
        "AzureML": {
          "notebookHasBeenCompleted": true
        }
      }
    },
    "kernel_info": {
      "name": "python38-azureml"
    },
    "nteract": {
      "version": "nteract-front-end@1.0.0"
    }
  },
  "nbformat": 4,
  "nbformat_minor": 2
}