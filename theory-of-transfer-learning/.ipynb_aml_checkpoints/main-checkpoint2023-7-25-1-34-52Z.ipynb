{
  "cells": [
    {
      "cell_type": "markdown",
      "source": [
        "# Transfer learning compared to meta learning \n",
        "\n",
        "Meta learning prepares a model to interpolate generally over a submanifold in the parameter space, \n",
        "but the submanifold dimension is practically small relative the parameter space dimension, \n",
        "because each one must be engineered. \n",
        "Alternatively, transfer learning effectively contributes significant samples sizes to some dimensions \n",
        "and usually arrives with a little bias. \n",
        "Here, we show (HYPOTHESIZE) that meta learning is competitive near its submanifold, \n",
        "but sufficiently-abstracted transfer learning ultimately produces greater generality beyond the submanifold, \n",
        "at least when bias is sufficiently low. \n",
        "Ultimately, it's a trade-off between meta learning's effective submanifold, \n",
        "and the relevance of a data abstraction produced by transfer learning. \n",
        "If the abstraction is coherent and small, it should be more general. \n",
        "When done correctly, packing greater volumes of data into smaller dimensional spaces lends to greater generality."
      ],
      "metadata": {
        "nteract": {
          "transient": {
            "deleting": false
          }
        }
      }
    },
    {
      "cell_type": "code",
      "source": [
        "import torch\n",
        "import torch.nn as nn \n",
        "from torchvision import datasets\n",
        "from torch.nn.functional import one_hot \n",
        "from torchvision.transforms.functional import pil_to_tensor \n",
        "import random \n",
        "\n",
        "MNIST_DIM = 28 \n",
        "LEARNING_RATE = 1e-3 \n",
        "EMBEDDING_DIM = 20 \n",
        "BATCH_SIZE = 100 \n",
        "FIT_ITERS = 100 \n",
        "EVAL_SIZE = 100 \n",
        "\n",
        "TRAIN_DATA = datasets.MNIST('../../data', train=True, download=True) \n",
        "TEST_DATA = datasets.MNIST('../../data', train=False) \n",
        "\n",
        "def sample(n, train=True, download=True): \n",
        "    dat = TRAIN_DATA \n",
        "    if not train: \n",
        "        dat = TEST_DATA  \n",
        "        pass \n",
        "    idx_list = random.sample(range(0, len(dat)), n) \n",
        "    x_list = [] \n",
        "    y_list = [] \n",
        "    for idx in idx_list: \n",
        "        image, label = dat[idx] \n",
        "        x_list.append(pil_to_tensor(image).reshape([1, -1])) \n",
        "        y_list.append(label) ## type(label) == int \n",
        "        pass \n",
        "    x = torch.cat(x_list) \n",
        "    y = one_hot(torch.tensor(y_list), num_classes=10).type(torch.float32) \n",
        "    return x, y \n",
        "\n",
        "class BaseLayer(nn.Module): \n",
        "    def __init__(self, \n",
        "            abstraction_dimension=20): \n",
        "        self.abstraction_dimension = abstraction_dimension \n",
        "        self.fc1 = nn.Linear(MNIST_DIM*MNIST_DIM, self.abstraction_dimension) \n",
        "        self.relu1 = nn.LeakyReLU() \n",
        "        self.fc2 = nn.Linear(self.abstraction_dimension, EMBEDDING_DIM) \n",
        "        pass \n",
        "    def forward(self, \n",
        "            x): \n",
        "        x = self.fc1(x) \n",
        "        x = self.relu1(x) \n",
        "        x = self.fc2(x) \n",
        "        return x \n",
        "    pass \n",
        "\n",
        "class AutoEncoder(nn.Module): \n",
        "    def __init__(self,\n",
        "            abstraction_dimension=20): \n",
        "        self.abstraction_dimension = abstraction_dimension \n",
        "        self.base_layer = BaseLayer(abstraction_dimension=self.abstraction_dimension) \n",
        "        self.relu1 = nn.LeakyReLU()\n",
        "        self.fc1 = nn.Linear(EMBEDDING_DIM, self.abstraction_dimension) \n",
        "        self.relu2 = nn.LeakyReLU() \n",
        "        self.fc2 = nn.Linear(self.abstraction_dimension, MNIST_DIM*MNIST_DIM) \n",
        "        self.optimizer = torch.optim.Adam(self.parameters(), lr=LEARNING_RATE) \n",
        "        self.loss = nn.SmoothL1Loss() \n",
        "        pass \n",
        "    def forward(self,\n",
        "            x):\n",
        "        x = self.base_layer(x) \n",
        "        x = self.relu1(x) \n",
        "        x = self.fc1(x) \n",
        "        x = self.relu2(x) \n",
        "        x = self.fc2(x) \n",
        "        x = torch.sigmoid(x) \n",
        "        return x \n",
        "    def fit(self, \n",
        "            iters=FIT_ITERS, \n",
        "            batch_size=BATCH_SIZE, \n",
        "            eval_size=EVAL_SIZE): \n",
        "        ## fit \n",
        "        self.train() \n",
        "        for _ in range(iters): \n",
        "            self.optimizer.zero_grads() \n",
        "            x, y = sample(n=batch_size, train=True) \n",
        "            y_hat = self(x)  \n",
        "            loss = self.loss(y, y_hat) \n",
        "            loss.backward() \n",
        "            self.optimizer.step() \n",
        "            pass \n",
        "        pass \n",
        "        ## eval \n",
        "        x, y = sample(n=eval_size, train=False) \n",
        "        y_hat = self(x) \n",
        "        acc = (y.argmax(dim=1) == y_hat.argmax(dim=1)).dtype(torch.float32).mean()\n",
        "        return float(acc) \n",
        "    pass \n",
        "\n",
        "    class Classifier(nn.Module): \n",
        "        def __init__(self,\n",
        "                abstraction_dimension=20, \n",
        "                base_layer_transfer=None, \n",
        "                n_labels=10): \n",
        "            self.abstraction_dimension = abstraction_dimension \n",
        "            self.n_labels=10 \n",
        "            self.base_layer = BaseLayer(abstraction_dimension=self.abstraction_dimension) \n",
        "            self.relu1 = nn.LeakyReLU() \n",
        "            self.fc1 = nn.Linear(EMBEDDING_DIM, self.n_labels) \n",
        "            if base_layer_transfer is not None: \n",
        "                ## TODO copy params \n",
        "                pass \n",
        "            self.optimizer = torch.optim.Adam(self.parameters(), lr=LEARNING_RATE) \n",
        "            self.loss = nn.SmoothL1Loss()\n",
        "            pass \n",
        "        def forward(self, \n",
        "                x): \n",
        "            x = self.base_layer(x) \n",
        "            x = self.relu1(x) \n",
        "            x = self.fc1(x) \n",
        "            x = torch.softmax(x) \n",
        "            return x \n",
        "        pass \n",
        "\n",
        "## TODO experimental cases: \n",
        "## Meta learning: fit model to linear interpolations of {0,1,2,3,4,5,6,7,8} making a 9-dim sub-manifold. \n",
        "## Illustrate effectiveness on fake, new, within-submanifold digits like p*2 + (1-p)*5 but ineffectiveness with 9. \n",
        "## Transfer learning: show how optimal abstraction dim on {0,1,2,3,4,5,6,7,8} results in greater effectiveness with 9. "
      ],
      "outputs": [],
      "execution_count": 27,
      "metadata": {
        "gather": {
          "logged": 1692925499373
        }
      }
    },
    {
      "cell_type": "code",
      "source": [
        "L  = nn.SmoothL1Loss() \n",
        "\n",
        "x, y = sample(4) \n",
        "\n",
        "yy = y[2:4,] \n",
        "y = y[0:2,] \n",
        "\n",
        "print(yy) \n",
        "print(y) \n",
        "\n",
        "yy = yy.argmax(dim=1)\n",
        "y = y.argmax(dim=1) \n",
        "float((yy == y).type(dtype=torch.float32).mean())"
      ],
      "outputs": [
        {
          "output_type": "stream",
          "name": "stdout",
          "text": "tensor([[0., 0., 0., 0., 0., 0., 0., 1., 0., 0.],\n        [0., 0., 0., 0., 0., 0., 0., 1., 0., 0.]])\ntensor([[0., 1., 0., 0., 0., 0., 0., 0., 0., 0.],\n        [0., 0., 0., 0., 0., 0., 0., 1., 0., 0.]])\n"
        },
        {
          "output_type": "execute_result",
          "execution_count": 56,
          "data": {
            "text/plain": "0.5"
          },
          "metadata": {}
        }
      ],
      "execution_count": 56,
      "metadata": {
        "jupyter": {
          "source_hidden": false,
          "outputs_hidden": false
        },
        "nteract": {
          "transient": {
            "deleting": false
          }
        },
        "gather": {
          "logged": 1692927285736
        }
      }
    },
    {
      "cell_type": "code",
      "source": [],
      "outputs": [],
      "execution_count": null,
      "metadata": {
        "jupyter": {
          "source_hidden": false,
          "outputs_hidden": false
        },
        "nteract": {
          "transient": {
            "deleting": false
          }
        }
      }
    }
  ],
  "metadata": {
    "kernelspec": {
      "name": "python3",
      "language": "python",
      "display_name": "Python 3 (ipykernel)"
    },
    "language_info": {
      "name": "python",
      "version": "3.8.5",
      "mimetype": "text/x-python",
      "codemirror_mode": {
        "name": "ipython",
        "version": 3
      },
      "pygments_lexer": "ipython3",
      "nbconvert_exporter": "python",
      "file_extension": ".py"
    },
    "microsoft": {
      "ms_spell_check": {
        "ms_spell_check_language": "en"
      },
      "host": {
        "AzureML": {
          "notebookHasBeenCompleted": true
        }
      }
    },
    "kernel_info": {
      "name": "python3"
    },
    "nteract": {
      "version": "nteract-front-end@1.0.0"
    }
  },
  "nbformat": 4,
  "nbformat_minor": 2
}