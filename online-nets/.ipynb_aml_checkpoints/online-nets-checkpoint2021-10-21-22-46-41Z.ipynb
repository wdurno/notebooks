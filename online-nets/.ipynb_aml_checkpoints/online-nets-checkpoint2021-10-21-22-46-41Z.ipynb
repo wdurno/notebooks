{
  "cells": [
    {
      "cell_type": "markdown",
      "source": [
        "# online nets\r\n",
        "\r\n",
        "Deep learning is powerful but computationally expensive, frequently requiring massive compute budgets. In persuit of cost-effective-yet-powerful AI, this work explores and evaluates a heuristic which should lend to more-efficient use of data through online learning.\r\n",
        "\r\n",
        "Goal: evaluate a deep learning alternative capable of true online learning. Solution requirements:\r\n",
        "\r\n",
        "1. catastrophic forgetting should be impossible;\r\n",
        "2. all data is integrated into sufficient statistics of fixed dimension;\r\n",
        "3. and our solution should have predictive power comparable to deep learning.\r\n",
        "\r\n",
        "## modeling strategy\r\n",
        "\r\n",
        "We will not attempt to derive sufficient statistics for an entire deep net, but instead leverage well-known sufficient statistics for least squares models, \r\n",
        "so will have sufficient statistics per deep net layer. If this can be empirically shown effective, we'll build-out the theory afterwards. \r\n"
      ],
      "metadata": {
        "nteract": {
          "transient": {
            "deleting": false
          }
        }
      }
    },
    {
      "cell_type": "markdown",
      "source": [
        "# model code definitions"
      ],
      "metadata": {
        "nteract": {
          "transient": {
            "deleting": false
          }
        }
      }
    },
    {
      "cell_type": "code",
      "source": [
        "import torch\n",
        "\n",
        "class DenseLayer:\n",
        "    '''\n",
        "    '''\n",
        "    pass\n",
        "\n",
        "class OnlineNetBase:\n",
        "    '''\n",
        "    A low-level class defining a recursive neural net employing\n",
        "    a hueristic to enable true online learning. No activation \n",
        "    functions are used. Latent variables are not abstracted-away. \n",
        "    Only the essential math is defined as `y = x a^{-1} b`. The \n",
        "    first `p-l` dimensions of `x` are assumed observed, and latent\n",
        "    thereafter. \n",
        "    '''\n",
        "    def __init__(self, p, l, regularizer=0.001):\n",
        "        '''\n",
        "        Initialize an Online Net\n",
        "        inputs:\n",
        "         - p: input and output vector dimension\n",
        "         - l: number of latent variables, `<p`\n",
        "         - regularizer: L2 regualarization value, `>0`\n",
        "        '''\n",
        "        ## verify inputs \n",
        "        if type(p) != int:\n",
        "            raise ValueError('`p` must be an int!')\n",
        "        if type(l) != int:\n",
        "            raise ValueError('`l` must be an int!')\n",
        "        if type(regularizer) not in [int, float]:\n",
        "            raise ValueError('`regularizer` must be an int or float!') \n",
        "        if type(regularizer) == int:\n",
        "            regularizer = float(regularizer)\n",
        "        if p <= 0:\n",
        "            raise ValueError('`p` must be `>0`!') \n",
        "        if l < 0 or l > p:\n",
        "            raise ValueError('`l` must satisfy `0 <= l <= p`!')\n",
        "        if regularizer <= .0:\n",
        "            raise ValueError('`regularizer` must be `>0`!')\n",
        "        ## store init variables \n",
        "        self.p = p \n",
        "        self.l = l \n",
        "        self.regularizer = regularizer\n",
        "        ## construct initial estimates \n",
        "        regularizer_vec = torch.tensor([regularizer]*p) \n",
        "        inv_regularizer_vec = torch.tensor([1./regularizer]*p) \n",
        "        self.a = torch.diag(regularizer_vec)\n",
        "        self.b = torch.diag(regularizer_vec)\n",
        "        self.inv_a = torch.diag(inv_regularizer_vec)\n",
        "        self.inv_b = torch.diag(inv_regularizer_vec)\n",
        "        pass \n",
        "    \n",
        "    def predict(self, x):\n",
        "        '''\n",
        "        Predict y vector from an x vector\n",
        "        inputs:\n",
        "         - x: torch.Tensor of shape `[p]`\n",
        "        outputs:\n",
        "         - y: torch.Tensor of shape `[p]`\n",
        "        '''\n",
        "        ## verify inputs \n",
        "        if type(x) != torch.Tensor:\n",
        "            raise ValueError('`x` must be of type `torch.Tensor`!') \n",
        "        if len(x.shape) != 1:\n",
        "            raise ValueError('`x` must satisfy `len(x.shape) == 1`!') \n",
        "        if x.shape[0] != self.p:\n",
        "            raise ValueError('`x` must satisfy `x.shape[0] == p`!') \n",
        "        ## calculate output\n",
        "        y = x.reshape([1, self.p])\n",
        "        y = torch.matmul(y, self.inv_a) \n",
        "        y = torch.matmul(y, self.b) \n",
        "        return y.reshape([self.p]) \n",
        "    \n",
        "    def fit(self, x, y):\n",
        "        '''\n",
        "        Update the model to a new observation `y`.\n",
        "        inputs:\n",
        "         - x: torch.Tensor of shape `[p]` \n",
        "         - y: torch.Tensor of shape `[p]`\n",
        "        '''\n",
        "        ## verify inputs \n",
        "        if type(x) != torch.Tensor:\n",
        "            raise ValueError('`x` must be of type `torch.Tensor`!') \n",
        "        if len(x.shape) != 1:\n",
        "            raise ValueError('`x` must satisfy `len(x.shape) == 1`!') \n",
        "        if x.shape[0] != self.p:\n",
        "            raise ValueError('`x` must satisfy `x.shape[0] == p`!') \n",
        "        if type(y) != torch.Tensor:\n",
        "            raise ValueError('`y` must satisfy `type(y) == torch.Tensor`!') \n",
        "        if len(y.shape) != 1:\n",
        "            raise ValueError('`y` must satisfy `len(y.shape) == 1`!') \n",
        "        if y.shape[0] != self.p:\n",
        "            raise ValueError('`y` must satisfy `y.shape[0] == self.p`!') \n",
        "        ## update model \n",
        "        x_row = x.reshape([1, self.p]) \n",
        "        y_row = y.reshape([1, self.p]) \n",
        "        xTx = x_row.transpose(0,1).matmul(x_row) \n",
        "        xTy = x_row.transpose(0,1).matmul(y_row) \n",
        "        self.a = self.a + xTx \n",
        "        self.b = self.b + xTy \n",
        "        self.inv_a = self.inv_a - (self.inv_a.matmul(xTx).matmul(self.inv_a))/(1. + x_row.matmul(self.inv_a).matmul(x_row.transpose(0,1)))\n",
        "        self.inv_b = self.inv_b - (self.inv_b.matmul(xTy).matmul(self.inv_b))/(1. + y_row.matmul(self.inv_b).matmul(x_row.transpose(0,1)))\n",
        "        #print(f'DEBUG  4 a b inv_a inv_b sums: {self.a.sum()} {self.b.sum()} {self.inv_a.sum()} {self.inv_b.sum()}') \n",
        "        #print(f'DEBUG 5 inv_b num.sum denom: {(self.inv_b.matmul(xTy).matmul(self.inv_b)).sum()} {(1. + y_row.matmul(self.inv_b).matmul(x_row.transpose(0,1)))}')\n",
        "        pass \n",
        "    \n",
        "    def build_y(self, x, y_pred, y_obs):\n",
        "        '''\n",
        "        Applies the heuristic, updating latent values in `y`. \n",
        "        inputs:\n",
        "         - x: torch.Tensor of shape `[p]` \n",
        "         - y_pred: torch.Tensor of shape `[p]`, output of `predict`\n",
        "         - y_obs: torch.Tensor of shape `[p-l]`, observed portion of our next process step.\n",
        "        outputs:\n",
        "         - y_updated: torch.Tensor of shape `[p]`\n",
        "        '''\n",
        "        ## verify inputs \n",
        "        if type(x) != torch.Tensor:\n",
        "            raise ValueError('`x` must be of type `torch.Tensor`!') \n",
        "        if len(x.shape) != 1:\n",
        "            raise ValueError('`x` must satisfy `len(x.shape) == 1`!') \n",
        "        if x.shape[0] != self.p:\n",
        "            raise ValueError('`x` must satisfy `x.shape[0] == p`!') \n",
        "        if type(y_pred) != torch.Tensor:\n",
        "            raise ValueError('`y_pred` must satisfy `type(y_pred) == torch.Tensor`!') \n",
        "        if len(y_pred.shape) != 1:\n",
        "            raise ValueError('`y_pred` must satisfy `len(y_pred.shape) == 1`!') \n",
        "        if y_pred.shape[0] != self.p:\n",
        "            raise ValueError('`y_pred` must satisfy `y_pred.shape[0] == self.p`!') \n",
        "        if type(y_obs) != torch.Tensor:\n",
        "            raise ValueError('`y_obs` must satisfy `type(y_obs) == torch.Tensor`!') \n",
        "        if len(y_obs.shape) != 1:\n",
        "            raise ValueError('`y_obs` must satisfy `len(y_obs.shape) == 1`!') \n",
        "        if y_obs.shape[0] != self.p - self.l:\n",
        "            raise ValueError('`y_obs` must satisfy `y_obs.shape[0] == self.p` - self.l!') \n",
        "        ## apply heuristic \n",
        "        x_pred = y_pred.reshape([1, self.p]).matmul(self.inv_b).matmul(self.a).reshape([self.p]) \n",
        "        #print(f'DEBUG 2 x_pred.sum(): {x_pred.sum()}') \n",
        "        #y_updated_observed = y_pred[:(self.p - self.l)] \n",
        "        y_updated_latent = x_pred[(self.p - self.l):] \n",
        "        #print(f'DEBUG 3 y_obs.sum(): {y_obs.sum()}') \n",
        "        y_updated = torch.cat([y_obs, y_updated_latent]) \n",
        "        return y_updated \n",
        "    pass \n"
      ],
      "outputs": [],
      "execution_count": 46,
      "metadata": {
        "jupyter": {
          "source_hidden": false,
          "outputs_hidden": false
        },
        "nteract": {
          "transient": {
            "deleting": false
          }
        },
        "gather": {
          "logged": 1632104998009
        }
      }
    },
    {
      "cell_type": "markdown",
      "source": [
        "# first experiment: mnist classification"
      ],
      "metadata": {
        "nteract": {
          "transient": {
            "deleting": false
          }
        }
      }
    },
    {
      "cell_type": "code",
      "source": [
        "from tqdm import tqdm\r\n",
        "from torchvision import datasets, transforms\r\n",
        "\r\n",
        "transform=transforms.Compose([\r\n",
        "    transforms.ToTensor(),\r\n",
        "    transforms.Normalize((0.1307,), (0.3081,))\r\n",
        "    ])\r\n",
        "\r\n",
        "dataset1 = datasets.MNIST('../data', train=True, download=True, transform=transform)\r\n",
        "dataset2 = datasets.MNIST('../data', train=False, transform=transform)\r\n",
        "\r\n",
        "train_loader = torch.utils.data.DataLoader(dataset1)\r\n",
        "test_loader = torch.utils.data.DataLoader(dataset2)\r\n",
        "\r\n",
        "d = 1*1*28*28 + 1 + 10 ## data dim, +1 for intercept, +10 for one-hot encoding \r\n",
        "l = 100 \r\n",
        "p = d+l \r\n",
        "iters = 10 ## number of recurrent net iterations to run per classification \r\n",
        "n_labels = 10 \r\n",
        "regularizer = 1000\r\n",
        "\r\n",
        "model = OnlineNetBase(p=p, l=l, regularizer=regularizer)\r\n",
        "latent_vec = torch.sigmoid(torch.normal(torch.tensor([1.]*l), torch.tensor([1.]*l)))\r\n",
        "intercept = torch.tensor([1.]) \r\n",
        "zeros = torch.tensor([0.]*n_labels) \r\n",
        "\r\n",
        "def build_data(image, label, latent_vec): \r\n",
        "    'format data from iterator for model' \r\n",
        "    label_one_hot = torch.tensor([1. if int(label[0]) == idx else 0. for idx in range(n_labels)]) ## one-hot representation \r\n",
        "    image = image.reshape([-1]) ## flatten \r\n",
        "    x = torch.cat([zeros, intercept, image, latent_vec]) \r\n",
        "    y = torch.cat([label_one_hot, intercept, image, latent_vec]) \r\n",
        "    return x, y \r\n",
        "\r\n",
        "errors = [] \r\n",
        "lat_sums = []\r\n",
        "pbar = tqdm(train_loader)\r\n",
        "for [image, label] in pbar:\r\n",
        "    x, y = build_data(image, label, latent_vec) \r\n",
        "    x0 = x \r\n",
        "    ## fit \r\n",
        "    for _ in range(iters): \r\n",
        "        y_pred = model.predict(x) \r\n",
        "        y_pred[d:] = torch.sigmoid(y_pred[d:])\r\n",
        "        #print(f'DEBUG 1 y_pred.sum(): {y_pred.sum()}') \r\n",
        "        y_target = model.build_y(x, y_pred, y[:d]) \r\n",
        "        ## update labels before fitting \r\n",
        "        y_target[:n_labels] = y[:n_labels] \r\n",
        "        model.fit(x, y_target) \r\n",
        "        ## recurse \r\n",
        "        x = y_pred \r\n",
        "    ## train error \r\n",
        "    for _ in range(iters): \r\n",
        "        x0 = model.predict(x0) \r\n",
        "    error = (x0[:n_labels] - y[:n_labels]).abs().sum() \r\n",
        "    errors.append(error) \r\n",
        "    lat_sum = latent_vec.abs().sum()\r\n",
        "    lat_sums.append(lat_sum)\r\n",
        "    pbar.set_description(f'error: {error}, {lat_sum}')\r\n",
        "    ## keep latent vec for next iteration \r\n",
        "    latent_vec = torch.sigmoid(x0[(p-l):])"
      ],
      "outputs": [
        {
          "output_type": "stream",
          "name": "stderr",
          "text": "error: 308.6235656738281, 100.0:   9%|▉         | 5316/60000 [27:11<4:39:44,  3.26it/s]               \n"
        },
        {
          "output_type": "error",
          "ename": "KeyboardInterrupt",
          "evalue": "",
          "traceback": [
            "\u001b[0;31m---------------------------------------------------------------------------\u001b[0m",
            "\u001b[0;31mKeyboardInterrupt\u001b[0m                         Traceback (most recent call last)",
            "\u001b[0;32m<ipython-input-47-530507779271>\u001b[0m in \u001b[0;36m<module>\u001b[0;34m\u001b[0m\n\u001b[1;32m     47\u001b[0m         \u001b[0;31m## update labels before fitting\u001b[0m\u001b[0;34m\u001b[0m\u001b[0;34m\u001b[0m\u001b[0;34m\u001b[0m\u001b[0m\n\u001b[1;32m     48\u001b[0m         \u001b[0my_target\u001b[0m\u001b[0;34m[\u001b[0m\u001b[0;34m:\u001b[0m\u001b[0mn_labels\u001b[0m\u001b[0;34m]\u001b[0m \u001b[0;34m=\u001b[0m \u001b[0my\u001b[0m\u001b[0;34m[\u001b[0m\u001b[0;34m:\u001b[0m\u001b[0mn_labels\u001b[0m\u001b[0;34m]\u001b[0m\u001b[0;34m\u001b[0m\u001b[0;34m\u001b[0m\u001b[0m\n\u001b[0;32m---> 49\u001b[0;31m         \u001b[0mmodel\u001b[0m\u001b[0;34m.\u001b[0m\u001b[0mfit\u001b[0m\u001b[0;34m(\u001b[0m\u001b[0mx\u001b[0m\u001b[0;34m,\u001b[0m \u001b[0my_target\u001b[0m\u001b[0;34m)\u001b[0m\u001b[0;34m\u001b[0m\u001b[0;34m\u001b[0m\u001b[0m\n\u001b[0m\u001b[1;32m     50\u001b[0m         \u001b[0;31m## recurse\u001b[0m\u001b[0;34m\u001b[0m\u001b[0;34m\u001b[0m\u001b[0;34m\u001b[0m\u001b[0m\n\u001b[1;32m     51\u001b[0m         \u001b[0mx\u001b[0m \u001b[0;34m=\u001b[0m \u001b[0my_pred\u001b[0m\u001b[0;34m\u001b[0m\u001b[0;34m\u001b[0m\u001b[0m\n",
            "\u001b[0;32m<ipython-input-46-050091f41db2>\u001b[0m in \u001b[0;36mfit\u001b[0;34m(self, x, y)\u001b[0m\n\u001b[1;32m     94\u001b[0m         \u001b[0mself\u001b[0m\u001b[0;34m.\u001b[0m\u001b[0ma\u001b[0m \u001b[0;34m=\u001b[0m \u001b[0mself\u001b[0m\u001b[0;34m.\u001b[0m\u001b[0ma\u001b[0m \u001b[0;34m+\u001b[0m \u001b[0mxTx\u001b[0m\u001b[0;34m\u001b[0m\u001b[0;34m\u001b[0m\u001b[0m\n\u001b[1;32m     95\u001b[0m         \u001b[0mself\u001b[0m\u001b[0;34m.\u001b[0m\u001b[0mb\u001b[0m \u001b[0;34m=\u001b[0m \u001b[0mself\u001b[0m\u001b[0;34m.\u001b[0m\u001b[0mb\u001b[0m \u001b[0;34m+\u001b[0m \u001b[0mxTy\u001b[0m\u001b[0;34m\u001b[0m\u001b[0;34m\u001b[0m\u001b[0m\n\u001b[0;32m---> 96\u001b[0;31m         \u001b[0mself\u001b[0m\u001b[0;34m.\u001b[0m\u001b[0minv_a\u001b[0m \u001b[0;34m=\u001b[0m \u001b[0mself\u001b[0m\u001b[0;34m.\u001b[0m\u001b[0minv_a\u001b[0m \u001b[0;34m-\u001b[0m \u001b[0;34m(\u001b[0m\u001b[0mself\u001b[0m\u001b[0;34m.\u001b[0m\u001b[0minv_a\u001b[0m\u001b[0;34m.\u001b[0m\u001b[0mmatmul\u001b[0m\u001b[0;34m(\u001b[0m\u001b[0mxTx\u001b[0m\u001b[0;34m)\u001b[0m\u001b[0;34m.\u001b[0m\u001b[0mmatmul\u001b[0m\u001b[0;34m(\u001b[0m\u001b[0mself\u001b[0m\u001b[0;34m.\u001b[0m\u001b[0minv_a\u001b[0m\u001b[0;34m)\u001b[0m\u001b[0;34m)\u001b[0m\u001b[0;34m/\u001b[0m\u001b[0;34m(\u001b[0m\u001b[0;36m1.\u001b[0m \u001b[0;34m+\u001b[0m \u001b[0mx_row\u001b[0m\u001b[0;34m.\u001b[0m\u001b[0mmatmul\u001b[0m\u001b[0;34m(\u001b[0m\u001b[0mself\u001b[0m\u001b[0;34m.\u001b[0m\u001b[0minv_a\u001b[0m\u001b[0;34m)\u001b[0m\u001b[0;34m.\u001b[0m\u001b[0mmatmul\u001b[0m\u001b[0;34m(\u001b[0m\u001b[0mx_row\u001b[0m\u001b[0;34m.\u001b[0m\u001b[0mtranspose\u001b[0m\u001b[0;34m(\u001b[0m\u001b[0;36m0\u001b[0m\u001b[0;34m,\u001b[0m\u001b[0;36m1\u001b[0m\u001b[0;34m)\u001b[0m\u001b[0;34m)\u001b[0m\u001b[0;34m)\u001b[0m\u001b[0;34m\u001b[0m\u001b[0;34m\u001b[0m\u001b[0m\n\u001b[0m\u001b[1;32m     97\u001b[0m         \u001b[0mself\u001b[0m\u001b[0;34m.\u001b[0m\u001b[0minv_b\u001b[0m \u001b[0;34m=\u001b[0m \u001b[0mself\u001b[0m\u001b[0;34m.\u001b[0m\u001b[0minv_b\u001b[0m \u001b[0;34m-\u001b[0m \u001b[0;34m(\u001b[0m\u001b[0mself\u001b[0m\u001b[0;34m.\u001b[0m\u001b[0minv_b\u001b[0m\u001b[0;34m.\u001b[0m\u001b[0mmatmul\u001b[0m\u001b[0;34m(\u001b[0m\u001b[0mxTy\u001b[0m\u001b[0;34m)\u001b[0m\u001b[0;34m.\u001b[0m\u001b[0mmatmul\u001b[0m\u001b[0;34m(\u001b[0m\u001b[0mself\u001b[0m\u001b[0;34m.\u001b[0m\u001b[0minv_b\u001b[0m\u001b[0;34m)\u001b[0m\u001b[0;34m)\u001b[0m\u001b[0;34m/\u001b[0m\u001b[0;34m(\u001b[0m\u001b[0;36m1.\u001b[0m \u001b[0;34m+\u001b[0m \u001b[0my_row\u001b[0m\u001b[0;34m.\u001b[0m\u001b[0mmatmul\u001b[0m\u001b[0;34m(\u001b[0m\u001b[0mself\u001b[0m\u001b[0;34m.\u001b[0m\u001b[0minv_b\u001b[0m\u001b[0;34m)\u001b[0m\u001b[0;34m.\u001b[0m\u001b[0mmatmul\u001b[0m\u001b[0;34m(\u001b[0m\u001b[0mx_row\u001b[0m\u001b[0;34m.\u001b[0m\u001b[0mtranspose\u001b[0m\u001b[0;34m(\u001b[0m\u001b[0;36m0\u001b[0m\u001b[0;34m,\u001b[0m\u001b[0;36m1\u001b[0m\u001b[0;34m)\u001b[0m\u001b[0;34m)\u001b[0m\u001b[0;34m)\u001b[0m\u001b[0;34m\u001b[0m\u001b[0;34m\u001b[0m\u001b[0m\n\u001b[1;32m     98\u001b[0m         \u001b[0;31m#print(f'DEBUG  4 a b inv_a inv_b sums: {self.a.sum()} {self.b.sum()} {self.inv_a.sum()} {self.inv_b.sum()}')\u001b[0m\u001b[0;34m\u001b[0m\u001b[0;34m\u001b[0m\u001b[0;34m\u001b[0m\u001b[0m\n",
            "\u001b[0;31mKeyboardInterrupt\u001b[0m: "
          ]
        }
      ],
      "execution_count": 47,
      "metadata": {
        "jupyter": {
          "source_hidden": false,
          "outputs_hidden": false
        },
        "nteract": {
          "transient": {
            "deleting": false
          }
        }
      }
    },
    {
      "cell_type": "code",
      "source": [
        "import matplotlib.pyplot as plt\r\n",
        "no_nan = [float(x) for x in errors if not torch.isnan(x)]\r\n",
        "plt.plot(no_nan[:1000]) \r\n",
        "plt.show()"
      ],
      "outputs": [
        {
          "output_type": "display_data",
          "data": {
            "text/plain": "<Figure size 432x288 with 1 Axes>",
            "image/png": "[encoded data removed]"
          },
          "metadata": {
            "needs_background": "light"
          }
        }
      ],
      "execution_count": 52,
      "metadata": {
        "jupyter": {
          "source_hidden": false,
          "outputs_hidden": false
        },
        "nteract": {
          "transient": {
            "deleting": false
          }
        },
        "gather": {
          "logged": 1632107053455
        }
      }
    },
    {
      "cell_type": "code",
      "source": [
        "latent_vec ## O not mixing into L. Need different transform."
      ],
      "outputs": [
        {
          "output_type": "execute_result",
          "execution_count": 57,
          "data": {
            "text/plain": "tensor([1., 1., 1., 1., 1., 1., 1., 1., 1., 1., 1., 1., 1., 1., 1., 1., 1., 1.,\n        1., 1., 1., 1., 1., 1., 1., 1., 1., 1., 1., 1., 1., 1., 1., 1., 1., 1.,\n        1., 1., 1., 1., 1., 1., 1., 1., 1., 1., 1., 1., 1., 1., 1., 1., 1., 1.,\n        1., 1., 1., 1., 1., 1., 1., 1., 1., 1., 1., 1., 1., 1., 1., 1., 1., 1.,\n        1., 1., 1., 1., 1., 1., 1., 1., 1., 1., 1., 1., 1., 1., 1., 1., 1., 1.,\n        1., 1., 1., 1., 1., 1., 1., 1., 1., 1.])"
          },
          "metadata": {}
        }
      ],
      "execution_count": 57,
      "metadata": {
        "jupyter": {
          "source_hidden": false,
          "outputs_hidden": false
        },
        "nteract": {
          "transient": {
            "deleting": false
          }
        },
        "gather": {
          "logged": 1632108515643
        }
      }
    },
    {
      "cell_type": "markdown",
      "source": [
        "## scratch space\r\n",
        "\r\n",
        "$x_1, X_2, X_3, \\ldots, X_{p-1}, x_p = y$\r\n",
        "\r\n",
        "$\\beta_1^F, \\beta_1^B, \\beta_2^F, \\beta_2^B, \\ldots, \\beta_{p-1}^F, \\beta_{p-1}^B$\r\n",
        "\r\n",
        "$\\hat x_{j+1} = \\sigma \\left( \\beta_j^{FT} x_j \\right)$\r\n",
        "\r\n",
        "forward series: $x_1, \\hat x_2, \\hat x_3, \\ldots, \\hat x_{p-1}, x_p = y$\r\n",
        "\r\n",
        "$ \\hat \\beta_{p-1}^{FT} = \\text{argmin}_\\beta \\| x_p - \\beta^{T} \\hat x_{p-1} \\|^2 $\r\n",
        "\r\n",
        "$ \\hat \\beta_{p-2}^{FT} = \\text{argmin}_\\beta \\| \\hat x_{p-1} - \\beta^{T} \\hat x_{p-2} \\|^2 $ We won't do this. \r\n",
        "\r\n",
        "$ \\tilde x_{j-1} = \\sigma^{-1}\\left( \\beta_j^{BT} x_j \\right)$\r\n",
        "\r\n",
        "backward series: $x_1, \\tilde x_2, \\tilde x_3, \\ldots, \\tilde x_{p-1}, x_p = y$\r\n",
        "\r\n",
        "$ \\hat \\beta_{p-2}^{F} = \\text{argmin}_\\beta \\| \\tilde x_{p-1} - \\beta^{T} \\hat x_{p-2} \\|^2 $\r\n",
        "\r\n",
        "$ \\hat \\beta_{p-2}^{B} = \\text{argmin}_\\beta \\| \\hat x_{p-2} - \\beta^{T} \\tilde x_{p-1} \\|^2 $"
      ],
      "metadata": {
        "nteract": {
          "transient": {
            "deleting": false
          }
        }
      }
    },
    {
      "cell_type": "markdown",
      "source": [
        "$ \\hat x_3 = \\sigma \\left( \\beta_2^{FT} \\hat x_2 \\right) $\r\n",
        "\r\n",
        "$ \\hat \\beta_2^F = \\text{argmin}_\\beta \\| \\sigma^{-1}\\left( \\hat x_3 \\right) - \\beta^T \\hat x_2 \\|^2 $ Useless without $\\tilde x$\r\n",
        "\r\n",
        "$ \\tilde x_2 = \\sigma^{-1}\\left( \\beta_3^{BT} \\tilde x_3 \\right) $\r\n",
        "\r\n",
        "$ \\hat \\beta_2^B = \\text{argmin}_\\beta \\| \\sigma\\left( \\hat x_2 \\right) - \\beta^T \\hat x_3 \\|^2 $ Useless without $\\hat x$\r\n",
        "\r\n",
        "So, use these estimates instead.\r\n",
        "\r\n",
        "$ \\hat \\beta_2^F = \\text{argmin}_\\beta \\| \\sigma^{-1}\\left( \\tilde x_3 \\right) - \\beta^T \\hat x_2 \\|^2 $\r\n",
        "\r\n",
        "$ \\hat \\beta_2^B = \\text{argmin}_\\beta \\| \\sigma\\left( \\hat x_2 \\right) - \\beta^T \\tilde x_3 \\|^2 $"
      ],
      "metadata": {
        "nteract": {
          "transient": {
            "deleting": false
          }
        }
      }
    },
    {
      "cell_type": "markdown",
      "source": [
        "$\\pi$"
      ],
      "metadata": {
        "nteract": {
          "transient": {
            "deleting": false
          }
        }
      }
    }
  ],
  "metadata": {
    "kernelspec": {
      "name": "python3-azureml",
      "language": "python",
      "display_name": "Python 3.6 - AzureML"
    },
    "language_info": {
      "name": "python",
      "version": "3.6.9",
      "mimetype": "text/x-python",
      "codemirror_mode": {
        "name": "ipython",
        "version": 3
      },
      "pygments_lexer": "ipython3",
      "nbconvert_exporter": "python",
      "file_extension": ".py"
    },
    "kernel_info": {
      "name": "python3-azureml"
    },
    "nteract": {
      "version": "nteract-front-end@1.0.0"
    },
    "microsoft": {
      "host": {
        "AzureML": {
          "notebookHasBeenCompleted": true
        }
      }
    }
  },
  "nbformat": 4,
  "nbformat_minor": 2
}