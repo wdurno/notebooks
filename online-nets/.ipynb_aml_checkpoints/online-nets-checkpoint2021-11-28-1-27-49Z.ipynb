{
  "cells": [
    {
      "cell_type": "markdown",
      "source": [
        "# online nets\r\n",
        "\r\n",
        "Deep learning is powerful but computationally expensive, frequently requiring massive compute budgets. In persuit of cost-effective-yet-powerful AI, this work explores and evaluates a heuristic which should lend to more-efficient use of data through online learning.\r\n",
        "\r\n",
        "Goal: evaluate a deep learning alternative capable of true online learning. Solution requirements:\r\n",
        "\r\n",
        "1. catastrophic forgetting should be impossible;\r\n",
        "2. all data is integrated into sufficient statistics of fixed dimension;\r\n",
        "3. and our solution should have predictive power comparable to deep learning.\r\n",
        "\r\n",
        "## modeling strategy\r\n",
        "\r\n",
        "We will not attempt to derive sufficient statistics for an entire deep net, but instead leverage well-known sufficient statistics for least squares models, \r\n",
        "so will have sufficient statistics per deep net layer. If this can be empirically shown effective, we'll build-out the theory afterwards. \r\n",
        "\r\n",
        "Recognizing a deep net as a series of compositions, as follows.\r\n",
        "\r\n",
        "$ Y + \\varepsilon \\approx \\mathbb{E}Y = \\sigma_3 \\circ \\beta_3^T \\circ \\sigma_2 \\circ \\beta_2^T \\circ \\sigma_1 \\circ \\beta_1^T X $\r\n",
        "\r\n",
        "So, we can isolate invidivdual $\\beta_j$ matrices using (psuedo-)inverses $\\beta_j^{-1}$ like so.\r\n",
        "\r\n",
        "$ \\sigma_2^{-1} \\circ \\beta_3^{-1} \\circ \\sigma_3^{-1} (Y) \\approx  \\beta_2^T \\circ \\sigma_1 \\circ \\beta_1^T X $\r\n",
        "\r\n",
        "In this example, if we freeze all $\\beta_j$'s except $\\beta_2$, we are free to update $\\hat \\beta_2$ using $\\tilde Y = \\sigma_2^{-1} \\circ \\beta_3^{-1} \\circ \\sigma_3^{-1} (Y) $\r\n",
        "and $\\tilde X = \\sigma_1 \\circ \\beta_1^T X $.\r\n",
        "\r\n",
        "Using a least squares formulation for fitting to $\\left( \\tilde X, \\tilde Y \\right)$, we get sufficient statistics per layer."
      ],
      "metadata": {
        "nteract": {
          "transient": {
            "deleting": false
          }
        }
      }
    },
    {
      "cell_type": "markdown",
      "source": [
        "# model code definitions"
      ],
      "metadata": {
        "nteract": {
          "transient": {
            "deleting": false
          }
        }
      }
    },
    {
      "cell_type": "code",
      "source": [
        "import torch\n",
        "\n",
        "TORCH_TENSOR_TYPE = type(torch.tensor(1)) \n",
        "\n",
        "def iterated_diagonals(diag_value, n_rows, n_cols): \n",
        "    ## construct diagonal matrix \n",
        "    n_diag = min(n_rows, n_cols)\n",
        "    diag = torch.diag(torch.tensor([diag_value]*n_diag))\n",
        "    if n_rows > n_cols: \n",
        "        ## pad rows \n",
        "        pad = n_rows//n_cols + 1\n",
        "        return torch.cat([diag]*pad, 0)[:n_rows, :n_cols] \n",
        "    if n_cols > n_rows: \n",
        "        ## pad cols \n",
        "        pad = n_cols//n_rows + 1 \n",
        "        return torch.cat([diag]*pad, 1)[:n_rows, :n_cols] \n",
        "    ## no padding \n",
        "    return diag \n",
        "\n",
        "class OnlineDenseLayer: \n",
        "    ''' \n",
        "    A single dense net, formulated as a least squares model. \n",
        "    ''' \n",
        "    def __init__(self, p, q, activation=lambda x:x, activation_inverse=lambda x:x, lam=1., clip=10000., dlamdn=0.): \n",
        "        ''' \n",
        "        inputs: \n",
        "        - p: input dimension \n",
        "        - q: output dimension \n",
        "        - activation: non-linear function, from R^p to R^q. Default is identity. \n",
        "        - activation_inverse: inverse of the activation function. Default is identity. \n",
        "        - lam: regularization term \n",
        "        - clip: predicted value clipping limit \n",
        "        - dlamdn: rate of lambda growth relative to n for online regularization \n",
        "        ''' \n",
        "        lam = float(lam) \n",
        "        clip = float(clip) \n",
        "        if dlamdn is not None: \n",
        "            dlamdn = float(dlamdn)\n",
        "        self.__validate_inputs(p=p, q=q, lam=lam, clip=clip, dlamdn=dlamdn) \n",
        "        self.p = p \n",
        "        self.q = q \n",
        "        self.clip = clip \n",
        "        self.activation = activation \n",
        "        self.activation_inverse = activation_inverse \n",
        "        self.batch_norm_forward_mean = None \n",
        "        self.batch_norm_forward_std = None \n",
        "        self.batch_norm_forward_n = 0 \n",
        "        self.batch_norm_backward_mean = None \n",
        "        self.batch_norm_backward_std = None \n",
        "        self.batch_norm_backward_n = 0 \n",
        "        self.lam = lam \n",
        "        self.dlamdn = dlamdn \n",
        "        self.xTy = iterated_diagonals(lam, p+1,q) # +1 for intercept \n",
        "        self.yTx = iterated_diagonals(lam, q+1,p) \n",
        "        self.xTx_inv = torch.diag(torch.tensor([1./lam]*(p+1))) \n",
        "        self.yTy_inv = torch.diag(torch.tensor([1./lam]*(q+1))) \n",
        "        self.betaT_forward = torch.matmul(self.xTx_inv, self.xTy) \n",
        "        self.betaT_forward = torch.transpose(self.betaT_forward, 0, 1) \n",
        "        self.betaT_backward = torch.matmul(self.yTy_inv, self.yTx) \n",
        "        self.betaT_backward = torch.transpose(self.betaT_backward, 0, 1) \n",
        "        self.x_forward = None \n",
        "        self.y_forward = None \n",
        "        self.x_backward = None \n",
        "        self.y_backward = None \n",
        "        pass \n",
        "    def copy(self): \n",
        "        copied_layer = OnlineDenseLayer(self.p, self.q)\n",
        "        copied_layer.p = self.p \n",
        "        copied_layer.q = self.q \n",
        "        copied_layer.clip = self.clip \n",
        "        copied_layer.activation = self.activation \n",
        "        copied_layer.activation_inverse = self.activation_inverse \n",
        "        copied_layer.batch_norm_forward_mean = self.batch_norm_forward_mean \n",
        "        copied_layer.batch_norm_forward_std = self.batch_norm_forward_std \n",
        "        copied_layer.batch_norm_forward_n = self.batch_norm_forward_n \n",
        "        copied_layer.batch_norm_backward_mean = self.batch_norm_backward_mean \n",
        "        copied_layer.batch_norm_backward_std = self.batch_norm_backward_std \n",
        "        copied_layer.batch_norm_backward_n = self.batch_norm_backward_n \n",
        "        copied_layer.lam = self.lam \n",
        "        copied_layer.dlamdn = self.dlamdn \n",
        "        copied_layer.xTy = self.xTy.clone() \n",
        "        copied_layer.yTx = self.yTx.clone()\n",
        "        copied_layer.betaT_forward = self.betaT_forward.clone()\n",
        "        copied_layer.betaT_backward = self.betaT_backward.clone()\n",
        "        self.x_forward = None \n",
        "        self.y_forward = None \n",
        "        self.x_backward = None \n",
        "        self.y_backward = None\n",
        "        return copied_layer \n",
        "    def forward(self, x): \n",
        "        'creates and stores x_forward and y_forward, then returns activation(y_forward)' \n",
        "        self.__validate_inputs(x=x, p=self.p)  \n",
        "        x = self.batch_norm(x, forward=True) ## TODO use fitting or not \n",
        "        self.x_forward = x\n",
        "        x = torch.cat((torch.tensor([[1.]]), x), dim=0) # intercept \n",
        "        self.y_forward = torch.matmul(self.betaT_forward, x) # predict \n",
        "        self.y_forward = torch.clip(self.y_forward, -self.clip, self.clip)\n",
        "        return self.activation(self.y_forward) \n",
        "    def backward(self, y): \n",
        "        'creates and stores x_backward and y_backward, then returns y_backward' \n",
        "        y = self.activation_inverse(y) \n",
        "        self.__validate_inputs(y=y, q=self.q) \n",
        "        y = self.batch_norm(y, forward=False) ## TODO use fitting or not\n",
        "        self.y_backward = y \n",
        "        y = torch.cat((torch.tensor([[1.]]), y), dim=0) \n",
        "        self.x_backward = torch.matmul(self.betaT_backward, y) \n",
        "        self.x_backward = torch.clip(self.x_backward, -self.clip, self.clip)\n",
        "        return self.x_backward \n",
        "    def forward_fit(self): \n",
        "        'uses x_forward and y_backward to update forward model, then returns Sherman Morrison denominator' \n",
        "        self.__validate_inputs(x=self.x_forward, y=self.y_backward, p=self.p, q=self.q) \n",
        "        x = torch.cat((torch.tensor([[1.]]), self.x_forward), dim=0) \n",
        "        self.xTx_inv, sm_denom = self.sherman_morrison(self.xTx_inv, x, x) \n",
        "        ##self.xTx_inv = self.reregularizer(self.xTx_inv, self.dlamdn) ## real online regularization too slow \n",
        "        self.xTy += torch.matmul(x, torch.transpose(self.y_backward, 0, 1)) \n",
        "        self.betaT_forward = torch.matmul(self.xTx_inv, self.xTy) \n",
        "        self.betaT_forward = torch.transpose(self.betaT_forward, 0, 1) \n",
        "        return sm_denom \n",
        "    def backward_fit(self):\n",
        "        'uses x_backward and y_forward to update backward model, then returns Sherman Morrison denominator' \n",
        "        self.__validate_inputs(x=self.x_forward, y=self.y_backward, p=self.p, q=self.q) \n",
        "        y = torch.cat((torch.tensor([[1.]]), self.y_backward), dim=0) \n",
        "        self.yTy_inv, sm_denom = self.sherman_morrison(self.yTy_inv, y, y) \n",
        "        ##self.yTy_inv = self.reregularizer(self.yTy_inv, self.dlamdn) \n",
        "        self.yTx += torch.matmul(y, torch.transpose(self.x_backward, 0, 1)) \n",
        "        self.betaT_backward = torch.matmul(self.yTy_inv, self.yTx) \n",
        "        self.betaT_backward = torch.transpose(self.betaT_backward, 0, 1) \n",
        "        return sm_denom \n",
        "    def batch_norm(self, x, forward, fitting=True):\n",
        "        '''\n",
        "        batch normalize tensor\n",
        "        inputs:\n",
        "        - x: (tensor) to be normalized \n",
        "        - forward: (boolean) indicates prediction is forward, instead of backward \n",
        "        - fitting: (boolean) if in model fitting, update values \n",
        "        '''\n",
        "        ## retrieve \n",
        "        if forward:\n",
        "            m = self.batch_norm_forward_mean \n",
        "            s = self.batch_norm_forward_std\n",
        "            n = self.batch_norm_forward_n \n",
        "        else: \n",
        "            m = self.batch_norm_backward_mean \n",
        "            s = self.batch_norm_backward_std\n",
        "            n = self.batch_norm_backward_n \n",
        "        ## caculate \n",
        "        if n == 0: \n",
        "            n = 1 \n",
        "            m = x.mean() \n",
        "            s = x.std() \n",
        "        else: \n",
        "            n += 1 \n",
        "            m = x.mean()/n + m*(n-1)/n \n",
        "            s = x.std()/n + s*(n-1)/n \n",
        "        ## store \n",
        "        if fitting:\n",
        "            if forward: \n",
        "                self.batch_norm_forward_mean = m \n",
        "                self.batch_norm_forward_std = s \n",
        "                self.batch_norm_forward_n = n \n",
        "            else: \n",
        "                self.batch_norm_backward_mean = m\n",
        "                self.batch_norm_backward_std = s \n",
        "                self.batch_norm_backward_n = n \n",
        "        ## no dividing by zero \n",
        "        if s < 1e-3:\n",
        "            s = 1e-3 \n",
        "        return (x - m)/s \n",
        "    def reregularize(self, dlamdn=None): \n",
        "        if dlamdn is None:\n",
        "            dlamdn = self.dlamdn \n",
        "        self.xTx_inv = self.online_regularizer(self.xTx_inv, dlamdn) \n",
        "        self.yTy_inv = self.online_regularizer(self.yTy_inv, dlamdn) \n",
        "        pass \n",
        "    @staticmethod\n",
        "    def online_regularizer(m_inv, dlam):\n",
        "        '''\n",
        "        Used to expand the regularization sphere as samples grow.\n",
        "        Applies modified Sherman Morrison formula for numerical efficiency. \n",
        "        inputs\n",
        "        - m_inv: inverse matrix of m \n",
        "        - dlam: regularizer to be added on the diagonal \n",
        "        returns\n",
        "         - (m + 1/dlam)^{-1} \n",
        "        '''\n",
        "        if dlam == 0.:\n",
        "            ## avoid degeneracy \n",
        "            return m_inv \n",
        "        dlam_inv = 1/dlam \n",
        "        for i in range(m_inv.shape[0]): \n",
        "            m_inv -= dlam_inv * torch.matmul(m_inv[:,i].reshape((-1,1)), m_inv[i,:].reshape((1,-1))) / (1. + dlam_inv * m_inv[i,i]) \n",
        "        return m_inv  \n",
        "    @staticmethod \n",
        "    def sherman_morrison(inv_mat, vec1, vec2): \n",
        "        ''' \n",
        "        applies Sherman Morrison updates, (mat + vec1 vec2^T)^{-1} \n",
        "        inputs: \n",
        "        - inv_mat: an inverted matrix \n",
        "        - vec1: a column vector \n",
        "        - vec2: a column vector \n",
        "        returns: \n",
        "        - updated matrix \n",
        "        - the Sherman Morrison denominator, for tracking numerical stability \n",
        "        ''' \n",
        "        v2t = torch.transpose(vec2, 0, 1)\n",
        "        denominator = 1. + torch.matmul(torch.matmul(v2t, inv_mat), vec1) \n",
        "        numerator = torch.matmul(torch.matmul(inv_mat, vec1), torch.matmul(v2t, inv_mat)) \n",
        "        updated_inv_mat = inv_mat - numerator / denominator \n",
        "        return updated_inv_mat, float(denominator) \n",
        "    def __validate_inputs(self, p=None, q=None, lam=None, x=None, y=None, clip=None, dlamdn=None): \n",
        "        'raises value exceptions if provided parameters are invalid'\n",
        "        if q is not None:\n",
        "            if not isinstance(q, int):\n",
        "                raise ValueError('`q` must be int!')\n",
        "            if q <= 0:\n",
        "                raise ValueError('`q` must be greater than zero!')\n",
        "        if p is not None:\n",
        "            if not isinstance(p, int): \n",
        "                raise ValueError('`p` must be int!')\n",
        "            if p <= 0: \n",
        "                raise ValueError('`p` must be greater than zero!')\n",
        "        if lam is not None:\n",
        "            if not (isinstance(lam, float) or isinstance(lam, int)):\n",
        "                raise ValueError('`lam` must be float or int!')\n",
        "            if lam < 0:\n",
        "                raise ValueError('`lam` must be non-negative!')\n",
        "        if x is not None and p is not None: \n",
        "            if type(x) != TORCH_TENSOR_TYPE:\n",
        "                raise ValueError('`x` must be of type `torch.tensor`!') \n",
        "            if list(x.shape) != [p,1]: \n",
        "                raise ValueError('`x.shape` must be `[p,1]`!') \n",
        "            if torch.isnan(x).any():\n",
        "                raise ValueError('`x` contains `nan`!')\n",
        "            pass \n",
        "        if y is not None and q is not None: \n",
        "            if type(y) != TORCH_TENSOR_TYPE:\n",
        "                raise ValueError('`y` must be of type `torch.tensor`!') \n",
        "            if list(y.shape) != [q,1]: \n",
        "                raise ValueError('`y.shape` must be `[q,1]`') \n",
        "            if torch.isnan(y).any():\n",
        "                raise ValueError('`y` contains `nan`!')\n",
        "            pass  \n",
        "        if clip is not None: \n",
        "            if type(clip) != float:\n",
        "                raise ValueError('`clip` my be of type `float`!') \n",
        "            if clip <= 0.: \n",
        "                raise ValueError('`clip` must be positive!')\n",
        "            pass\n",
        "        if dlamdn is not None: \n",
        "            if type(dlamdn) != float: \n",
        "                raise ValueError('`dlamdn` my be of type `float`!') \n",
        "            if dlamdn < 0.: \n",
        "                raise ValueError('`dlamdn` must be non-negative!') \n",
        "            pass\n",
        "        pass\n",
        "    pass\n",
        "\n",
        "class OnlineNet: \n",
        "    'online, sequential dense net' \n",
        "    def __init__(self, layer_list, dlamdn=0., reregularization_frequency=1000): \n",
        "        '''\n",
        "        initialize an online dense net\n",
        "        inputs:\n",
        "        - layer_list: list of OnlineDenseLayers \n",
        "        - dlamdn: (float >= 0) regularization rate per n. Disabled if zero \n",
        "        - reregularization_frequency: (int > 0) reregularize after fitting this number of samples, since reregularization is computationally expensive\n",
        "        '''\n",
        "        ## validate inputs \n",
        "        if type(layer_list) != list: \n",
        "            raise ValueError('`layer_list` must be of type list!') \n",
        "        for layer in layer_list: \n",
        "            if not issubclass(type(layer), OnlineDenseLayer):\n",
        "                raise ValueError('each item in `layer_list` must be an instance of a subclass of `OnlineDenseLayer`!') \n",
        "        if type(dlamdn) != float:\n",
        "            raise ValueError('`dlamdn` must of type `float`!') \n",
        "        if dlamdn < 0.:\n",
        "            raise ValueError('`dlamdn` must be non-negative!') \n",
        "        if type(reregularization_frequency) != int:\n",
        "            raise ValueError('`reregularization_frequency` must be of type `int`!') \n",
        "        if reregularization_frequency <= 0:\n",
        "            raise ValueError('`reregularization_frequency` must be postive!') \n",
        "        ## assign \n",
        "        self.layer_list = layer_list \n",
        "        self.fit_count = 0 \n",
        "        self.dlamdn = dlamdn \n",
        "        self.reregularization_frequency = reregularization_frequency \n",
        "        pass \n",
        "    def copy(self):\n",
        "        copied_layers = [] \n",
        "        for layer in self.layer_list:\n",
        "            copied_layers.append(layer.copy()) \n",
        "        copied_net = OnlineNet(copied_layers, \n",
        "                dlamdn=self.dlamdn, \n",
        "                reregularization_frequency=self.reregularization_frequency)\n",
        "        return copied_net \n",
        "    def forward(self, x): \n",
        "        'predict forward'\n",
        "        for layer in self.layer_list:\n",
        "            x = layer.forward(x) \n",
        "        return x \n",
        "    def backward(self, y):\n",
        "        'predict backward'\n",
        "        for layer in reversed(self.layer_list): \n",
        "            y = layer.backward(y) \n",
        "        return y \n",
        "    def fit(self): \n",
        "        'assumes layers x & y targets have already been set. Returns Sherman Morrison denominators per layer in (forward, backward) pairs in a list'\n",
        "        sherman_morrison_denominator_list = [] \n",
        "        for layer in self.layer_list:\n",
        "            forward_smd = layer.forward_fit() \n",
        "            backward_smd = layer.backward_fit() \n",
        "            sherman_morrison_denominator_list.append((forward_smd, backward_smd))\n",
        "        return sherman_morrison_denominator_list \n",
        "    def reregularize(self, dlamdn=None): \n",
        "        for layer in self.layer_list:\n",
        "            layer.reregularize(dlamdn)\n",
        "            pass \n",
        "        pass \n",
        "    def __reduce_sherman_morrison_denominator_list(self, smd_pair_list):\n",
        "        'returns the value closest to zero'\n",
        "        if type(smd_pair_list) != list: \n",
        "            raise ValueError('`smd_pair_list` must be of type `list`!')\n",
        "        if len(smd_pair_list) == 0:\n",
        "            return None \n",
        "        smallest_smd = None \n",
        "        for smd_pair in smd_pair_list:\n",
        "            if type(smd_pair) != tuple:\n",
        "                raise ValueError('`smd_pair_list` must be list of tuples!')\n",
        "            if smallest_smd is None: \n",
        "                smallest_smd = smd_pair[0] \n",
        "            if abs(smallest_smd) > abs(smd_pair[0]): \n",
        "                smallest_smd = smd_pair[0] \n",
        "            if abs(smallest_smd) > abs(smd_pair[1]):\n",
        "                smallest_smd = smd_pair[1] \n",
        "        return float(smallest_smd) \n",
        "    def __call__(self, x, y=None): \n",
        "        '''\n",
        "        If only x is given, a prediction is made and returned.\n",
        "        If x and y are given, then the model is updated, and returns\n",
        "        - the prediction\n",
        "        - the sherman morrison denominator closest to zero, for tracking numerical stability\n",
        "        '''\n",
        "        y_hat = self.forward(x) \n",
        "        if y is None: \n",
        "            return y_hat \n",
        "        self.backward(y) \n",
        "        self.layer_list[0].x_forward = x \n",
        "        self.layer_list[0].x_backward = x \n",
        "        self.layer_list[-1].y_forward = y \n",
        "        self.layer_list[-1].y_backward = y \n",
        "        smd_pair_list = self.fit() \n",
        "        smallest_smd = self.__reduce_sherman_morrison_denominator_list(smd_pair_list) \n",
        "        self.fit_count += 1 \n",
        "        if self.dlamdn is not None and self.fit_count % self.reregularization_frequency == 0:\n",
        "            ## dividing by self.reregularization_frequency ensures mathematical equivalency to reregularizing with every step \n",
        "            self.reregularize(self.dlamdn/self.reregularization_frequency) \n",
        "        return y_hat, smallest_smd \n",
        "\n",
        "## tests \n",
        "\n",
        "## test 1: sherman morrison \n",
        "a = torch.tensor([[2., 1.], [1., 2.]]) \n",
        "b = torch.tensor([[.1],[.2]]) \n",
        "sm_inv, _ = OnlineDenseLayer.sherman_morrison(torch.inverse(a),b,b) \n",
        "num_inv = torch.inverse(a+torch.matmul(b, torch.transpose(b,0,1))) \n",
        "err = float(torch.abs(sm_inv - num_inv).sum()) \n",
        "assert(err < 1e-5) \n",
        "\n",
        "## test 2: online regularization sherman morrison \n",
        "a = torch.tensor([[2., 1.], [1., 2.]]) \n",
        "b = torch.tensor([[.1, 0.], [0., .1]])\n",
        "or_inv = OnlineDenseLayer.online_regularizer(torch.inverse(a), 10.) \n",
        "num_inv = torch.inverse(a+b) \n",
        "err = float(torch.abs(or_inv - num_inv).sum()) \n",
        "assert(err < 1e-5) "
      ],
      "outputs": [],
      "execution_count": 1,
      "metadata": {
        "jupyter": {
          "source_hidden": false,
          "outputs_hidden": false
        },
        "nteract": {
          "transient": {
            "deleting": false
          }
        },
        "gather": {
          "logged": 1640536685384
        }
      }
    },
    {
      "cell_type": "markdown",
      "source": [
        "# first experiment: mnist classification"
      ],
      "metadata": {
        "nteract": {
          "transient": {
            "deleting": false
          }
        }
      }
    },
    {
      "cell_type": "code",
      "source": [
        "from tqdm import tqdm\r\n",
        "from torchvision import datasets, transforms\r\n",
        "\r\n",
        "transform=transforms.Compose([\r\n",
        "    transforms.ToTensor(),\r\n",
        "    transforms.Normalize((0.1307,), (0.3081,))\r\n",
        "    ])\r\n",
        "\r\n",
        "dataset1 = datasets.MNIST('../../data', train=True, download=True, transform=transform)\r\n",
        "dataset2 = datasets.MNIST('../../data', train=False, transform=transform)\r\n",
        "\r\n",
        "train_loader = torch.utils.data.DataLoader(dataset1)\r\n",
        "test_loader = torch.utils.data.DataLoader(dataset2)\r\n",
        "\r\n",
        "n_labels = 10 \r\n",
        "lam = 100. \r\n",
        "dlamdn = 10. \r\n",
        "reregularization_frequency = 1000 \r\n",
        "clip = 100. \r\n",
        "\r\n",
        "## activation functions \r\n",
        "## torch.sigmoid \r\n",
        "inv_sigmoid = lambda x: -torch.log((1/(x+1e-8))-1) \r\n",
        "leaky_relu_alpha = .1 \r\n",
        "leaky_relu = lambda x: (x > 0)*x + (x <= 0)*x*leaky_relu_alpha \r\n",
        "inv_leaky_relu = lambda x: (x > 0)*x + (x <= 0)*x/leaky_relu_alpha \r\n",
        "\r\n",
        "model = OnlineNet( \r\n",
        "    layer_list = [ \r\n",
        "        OnlineDenseLayer(p=1*1*28*28, q=100, activation=leaky_relu, activation_inverse=inv_leaky_relu, lam=lam, clip=clip), \r\n",
        "        OnlineDenseLayer(p=100, q=100, activation=leaky_relu, activation_inverse=inv_leaky_relu, lam=lam, clip=clip), \r\n",
        "        OnlineDenseLayer(p=100, q=100, activation=leaky_relu, activation_inverse=inv_leaky_relu, lam=lam, clip=clip), \r\n",
        "        OnlineDenseLayer(p=100, q=n_labels, activation=torch.sigmoid, activation_inverse=inv_sigmoid, lam=lam, clip=clip) \r\n",
        "    ], \r\n",
        "    reregularization_frequency = reregularization_frequency, \r\n",
        "    dlamdn = dlamdn \r\n",
        ") \r\n",
        "\r\n",
        "def build_data(image, label): \r\n",
        "    'format data from iterator for model' \r\n",
        "    y = torch.tensor([1. if int(label[0]) == idx else 0. for idx in range(n_labels)]) ## one-hot representation \r\n",
        "    x = image.reshape([-1]) ## flatten \r\n",
        "    ## shrink so sigmoid inverse is well-defined \r\n",
        "    y = y*.90 + .05 \r\n",
        "    ## reshape to column vectors \r\n",
        "    x = x.reshape([-1,1]) \r\n",
        "    y = y.reshape([-1,1]) \r\n",
        "    return x, y \r\n",
        "\r\n",
        "def match(y, y_hat):\r\n",
        "    y = y.reshape(-1)\r\n",
        "    y_hat = y_hat.reshape(-1)\r\n",
        "    if y.argmax() == y_hat.argmax():\r\n",
        "        return 1.\r\n",
        "    return 0. \r\n",
        "\r\n",
        "def run(data_iterable, fit=True, max_iters=None, model=model):\r\n",
        "    '''\r\n",
        "    fit or predict on dataset \r\n",
        "    inputs:\r\n",
        "    - data_iterable: an iterable of (image, label) pairs\r\n",
        "    - fit: (bool) are we integrating the (image, label) pair into the model or just predicting?\r\n",
        "    - max_iters: (int or None) if int then cap fit/predict iters at this amount, otherwise run the whole iterable \r\n",
        "    - model: (OnlineDenseNet) the model to update in-place \r\n",
        "    output: \r\n",
        "    - errs: a list of model errors \r\n",
        "    - stab: a list of numerical stability statistics \r\n",
        "    - y_std: a list of y_hat standard deviations \r\n",
        "    - acc: a list of running average accuracies \r\n",
        "    side-effects: \r\n",
        "    - model is updated in-place \r\n",
        "    '''\r\n",
        "    ## init stats \r\n",
        "    errs = [] \r\n",
        "    stab = [] \r\n",
        "    y_std = [] \r\n",
        "    acc = [0.] \r\n",
        "    ## get data \r\n",
        "    pbar = tqdm(data_iterable)\r\n",
        "    n_iters = 0 \r\n",
        "    for [image, label] in pbar: \r\n",
        "        n_iters += 1 \r\n",
        "        ## get a datum \r\n",
        "        x, y = build_data(image, label) \r\n",
        "        ## fit or predict \r\n",
        "        if fit: \r\n",
        "            y_hat, stability = model(x, y) \r\n",
        "        else:\r\n",
        "            y_hat = model(x) \r\n",
        "            stability = 1. \r\n",
        "        ## stats \r\n",
        "        err = float((y - y_hat).abs().sum()) \r\n",
        "        errs.append(err) \r\n",
        "        stab.append(stability) \r\n",
        "        std = float(y_hat.std()) \r\n",
        "        y_std.append(std) \r\n",
        "        acc_n = max(len(acc), 1000) \r\n",
        "        acc.append(match(y,y_hat)/acc_n + acc[-1]*(acc_n-1)/acc_n) \r\n",
        "        pbar.set_description(f'acc: {acc[-1]:.5f}, err: {err:.5f}, y_std: {std:.5f}, stab: {stability:.5f}') \r\n",
        "        if max_iters is not None: \r\n",
        "            if n_iters > max_iters:\r\n",
        "                return errs, stab, y_std, acc\r\n",
        "    return errs, stab, y_std, acc \r\n",
        "\r\n",
        "def test(data_iterable, model, max_iters=None): \r\n",
        "    'calculates accuracy correctly' \r\n",
        "    hits = [] \r\n",
        "    n_iters = 0 \r\n",
        "\r\n",
        "    return None \r\n",
        "\r\n",
        "errs, stab, y_std, acc = run(train_loader, fit=True, max_iters=10000) "
      ],
      "outputs": [
        {
          "output_type": "stream",
          "name": "stderr",
          "text": "acc: 0.68195, err: 4.25238, y_std: 0.08848, stab: 1.00047:  17%|█▋        | 10000/60000 [01:16<06:24, 129.97it/s]\n"
        }
      ],
      "execution_count": 2,
      "metadata": {
        "jupyter": {
          "source_hidden": false,
          "outputs_hidden": false
        },
        "nteract": {
          "transient": {
            "deleting": false
          }
        },
        "gather": {
          "logged": 1640536763333
        }
      }
    },
    {
      "cell_type": "code",
      "source": [
        "import matplotlib.pyplot as plt \r\n",
        "\r\n",
        "print('acc')\r\n",
        "plt.plot(acc[100:])\r\n",
        "plt.show()"
      ],
      "outputs": [
        {
          "output_type": "stream",
          "name": "stdout",
          "text": "acc\n"
        },
        {
          "output_type": "display_data",
          "data": {
            "text/plain": "<Figure size 432x288 with 1 Axes>",
            "image/png": "[encoded data removed]"
          },
          "metadata": {
            "needs_background": "light"
          }
        }
      ],
      "execution_count": 3,
      "metadata": {
        "jupyter": {
          "source_hidden": false,
          "outputs_hidden": false
        },
        "nteract": {
          "transient": {
            "deleting": false
          }
        },
        "gather": {
          "logged": 1640536763681
        }
      }
    },
    {
      "cell_type": "code",
      "source": [
        "print('errs')\r\n",
        "plt.plot(errs)\r\n",
        "plt.show()"
      ],
      "outputs": [
        {
          "output_type": "stream",
          "name": "stdout",
          "text": "errs\n"
        },
        {
          "output_type": "display_data",
          "data": {
            "text/plain": "<Figure size 432x288 with 1 Axes>",
            "image/png": "[encoded data removed]"
          },
          "metadata": {
            "needs_background": "light"
          }
        }
      ],
      "execution_count": 4,
      "metadata": {
        "jupyter": {
          "source_hidden": false,
          "outputs_hidden": false
        },
        "nteract": {
          "transient": {
            "deleting": false
          }
        },
        "gather": {
          "logged": 1640536763830
        }
      }
    },
    {
      "cell_type": "code",
      "source": [
        "print('y_std')\r\n",
        "plt.plot(y_std)\r\n",
        "plt.show()"
      ],
      "outputs": [
        {
          "output_type": "stream",
          "name": "stdout",
          "text": "y_std\n"
        },
        {
          "output_type": "display_data",
          "data": {
            "text/plain": "<Figure size 432x288 with 1 Axes>",
            "image/png": "[encoded data removed]"
          },
          "metadata": {
            "needs_background": "light"
          }
        }
      ],
      "execution_count": 5,
      "metadata": {
        "jupyter": {
          "source_hidden": false,
          "outputs_hidden": false
        },
        "nteract": {
          "transient": {
            "deleting": false
          }
        },
        "gather": {
          "logged": 1640536764073
        }
      }
    },
    {
      "cell_type": "code",
      "source": [
        "print('stab')\r\n",
        "plt.plot(stab)\r\n",
        "plt.show()"
      ],
      "outputs": [
        {
          "output_type": "stream",
          "name": "stdout",
          "text": "stab\n"
        },
        {
          "output_type": "display_data",
          "data": {
            "text/plain": "<Figure size 432x288 with 1 Axes>",
            "image/png": "[encoded data removed]"
          },
          "metadata": {
            "needs_background": "light"
          }
        }
      ],
      "execution_count": 6,
      "metadata": {
        "jupyter": {
          "source_hidden": false,
          "outputs_hidden": false
        },
        "nteract": {
          "transient": {
            "deleting": false
          }
        },
        "gather": {
          "logged": 1640536764355
        }
      }
    },
    {
      "cell_type": "code",
      "source": [
        "## test dataset \r\n",
        "errs, stab, y_std, acc = run(test_loader, fit=False, max_iters=10000) "
      ],
      "outputs": [
        {
          "output_type": "stream",
          "name": "stderr",
          "text": "acc: 0.68048, err: 4.20706, y_std: 0.09620, stab: 1.00000: 100%|██████████| 10000/10000 [00:27<00:00, 366.48it/s]\n"
        }
      ],
      "execution_count": 7,
      "metadata": {
        "jupyter": {
          "source_hidden": false,
          "outputs_hidden": false
        },
        "nteract": {
          "transient": {
            "deleting": false
          }
        },
        "gather": {
          "logged": 1640536791602
        }
      }
    },
    {
      "cell_type": "markdown",
      "source": [
        "# hypothesis test 1: does this solve catestrophic forgetting? \r\n",
        "\r\n",
        "Least squares' sufficient statistics have finite dimension and closed-form online update equations which guarantee perfect transfer learning. \r\n",
        "Our use of one least squares estimator per deep net layer enjoys a series of such sufficient statistics, but is only heuristically simlar to the mathematical guarantees of least squares. \r\n",
        "Nevertheless, we have proceeded hypothesizing some degree of a transfer learning benefit. \r\n",
        "In this section, we test this hypothesis. \r\n",
        "\r\n",
        "To test our hypothesis, we will subsample MNIST into two parts: initial and expanded. \r\n",
        "The initial portion will include digits 0 through 7, and expanded will only include digits 8 and 9. \r\n",
        "We will first fit our model to the initial dataset and then _transfer learn_ by fitting to the expanded dataset. \r\n",
        "If our hypothesis is true, transfer learning should be maintained and thus catastrophic forgetting avoided, so we'd expect the updated model to retain the ability to predict on digits 0 through 7."
      ],
      "metadata": {
        "nteract": {
          "transient": {
            "deleting": false
          }
        }
      }
    },
    {
      "cell_type": "code",
      "source": [
        "## build data \r\n",
        "min_train_samples = 10000 \r\n",
        "min_test_samples = 10000 \r\n",
        "\r\n",
        "def hypothesis_1_sampler(data_loader, min_samples):\r\n",
        "    '''\r\n",
        "    randomly samples data for hypothesis test 1\r\n",
        "    '''\r\n",
        "    ## init empty datasets \r\n",
        "    initial = [] \r\n",
        "    expanded = [] \r\n",
        "    for pair in tqdm(data_loader): \r\n",
        "        if pair[1] > 7: \r\n",
        "            expanded.append(pair) \r\n",
        "        else: \r\n",
        "            initial.append(pair) \r\n",
        "            pass \r\n",
        "        if len(expanded) > min_samples and len(initial) > min_samples: \r\n",
        "            return initial, expanded \r\n",
        "    return initial, expanded \r\n",
        "\r\n",
        "train_initial, train_expanded = hypothesis_1_sampler(train_loader, min_train_samples) \r\n",
        "test_initial, test_expanded = hypothesis_1_sampler(test_loader, min_test_samples) "
      ],
      "outputs": [
        {
          "output_type": "stream",
          "name": "stderr",
          "text": " 85%|████████▍ | 50798/60000 [00:11<00:02, 4297.69it/s]\n100%|██████████| 10000/10000 [00:02<00:00, 4071.36it/s]\n"
        }
      ],
      "execution_count": 8,
      "metadata": {
        "jupyter": {
          "source_hidden": false,
          "outputs_hidden": false
        },
        "nteract": {
          "transient": {
            "deleting": false
          }
        },
        "gather": {
          "logged": 1640536805841
        }
      }
    },
    {
      "cell_type": "markdown",
      "source": [
        "#### Fitting on 0 through 7 "
      ],
      "metadata": {
        "nteract": {
          "transient": {
            "deleting": false
          }
        }
      }
    },
    {
      "cell_type": "code",
      "source": [
        "## Get a fresh model \r\n",
        "hypothesis_1_model = OnlineNet( \r\n",
        "    layer_list = [ \r\n",
        "        OnlineDenseLayer(p=1*1*28*28, q=100, activation=leaky_relu, activation_inverse=inv_leaky_relu, lam=lam, clip=clip), \r\n",
        "        OnlineDenseLayer(p=100, q=100, activation=leaky_relu, activation_inverse=inv_leaky_relu, lam=lam, clip=clip), \r\n",
        "        OnlineDenseLayer(p=100, q=100, activation=leaky_relu, activation_inverse=inv_leaky_relu, lam=lam, clip=clip), \r\n",
        "        OnlineDenseLayer(p=100, q=n_labels, activation=torch.sigmoid, activation_inverse=inv_sigmoid, lam=lam, clip=clip) \r\n",
        "    ], \r\n",
        "    reregularization_frequency = reregularization_frequency, \r\n",
        "    dlamdn = dlamdn \r\n",
        ") \r\n",
        "\r\n",
        "print('fit on 0-7') \r\n",
        "_, _, _, acc_train_initial = run(train_initial, fit=True, max_iters=10000, model=hypothesis_1_model) "
      ],
      "outputs": [
        {
          "output_type": "stream",
          "name": "stderr",
          "text": "acc: 0.66772, err: 4.67209, y_std: 0.02354, stab: 1.00034:  25%|██▍       | 10000/40798 [01:18<04:02, 126.88it/s]\n"
        },
        {
          "output_type": "stream",
          "name": "stdout",
          "text": "fit on 0-7\n"
        }
      ],
      "execution_count": 18,
      "metadata": {
        "jupyter": {
          "source_hidden": false,
          "outputs_hidden": false
        },
        "nteract": {
          "transient": {
            "deleting": false
          }
        },
        "gather": {
          "logged": 1640537599696
        }
      }
    },
    {
      "cell_type": "markdown",
      "source": [
        "#### test on 0 through 7 before transfer learning "
      ],
      "metadata": {
        "nteract": {
          "transient": {
            "deleting": false
          }
        }
      }
    },
    {
      "cell_type": "code",
      "source": [
        "print('test on 0-7 before transfer learning') \r\n",
        "_, _, _, acc_test_initial_before = run(test_initial, fit=False, max_iters=10000, model=hypothesis_1_model) "
      ],
      "outputs": [
        {
          "output_type": "stream",
          "name": "stderr",
          "text": "acc: 0.68942, err: 4.20784, y_std: 0.09580, stab: 1.00000: 100%|██████████| 8017/8017 [00:23<00:00, 345.51it/s]\n"
        },
        {
          "output_type": "stream",
          "name": "stdout",
          "text": "test on 0-7 before transfer learning\n"
        }
      ],
      "execution_count": 19,
      "metadata": {
        "jupyter": {
          "source_hidden": false,
          "outputs_hidden": false
        },
        "nteract": {
          "transient": {
            "deleting": false
          }
        },
        "gather": {
          "logged": 1640537641597
        }
      }
    },
    {
      "cell_type": "markdown",
      "source": [
        "#### fit on 8 and 9 "
      ],
      "metadata": {
        "nteract": {
          "transient": {
            "deleting": false
          }
        }
      }
    },
    {
      "cell_type": "code",
      "source": [
        "print('fit on 8-9') \r\n",
        "hypothesis_1_model_copy = hypothesis_1_model.copy() \r\n",
        "hypothesis_1_model_copy.dlamdn = 10.\r\n",
        "_, _, _, acc_train_expanded = run(train_expanded, fit=True, max_iters=3000, model=hypothesis_1_model_copy) "
      ],
      "outputs": [
        {
          "output_type": "stream",
          "name": "stderr",
          "text": "acc: 0.00156, err: 5.77426, y_std: 0.00709, stab: 1.00038:  30%|██▉       | 3000/10001 [00:21<00:49, 140.46it/s] \n"
        },
        {
          "output_type": "stream",
          "name": "stdout",
          "text": "fit on 8-9\n"
        }
      ],
      "execution_count": 22,
      "metadata": {
        "jupyter": {
          "source_hidden": false,
          "outputs_hidden": false
        },
        "nteract": {
          "transient": {
            "deleting": false
          }
        },
        "gather": {
          "logged": 1640537743759
        }
      }
    },
    {
      "cell_type": "markdown",
      "source": [
        "#### test on 0 through 7 after transfer learning"
      ],
      "metadata": {
        "nteract": {
          "transient": {
            "deleting": false
          }
        }
      }
    },
    {
      "cell_type": "code",
      "source": [
        "print('test on 0-7 after transfer learning') \r\n",
        "_, _, _, acc_train_initial_after = run(test_initial, fit=False, max_iters=10000, model=hypothesis_1_model_copy) "
      ],
      "outputs": [
        {
          "output_type": "stream",
          "name": "stderr",
          "text": "acc: 0.63295, err: 4.23241, y_std: 0.09413, stab: 1.00000: 100%|██████████| 8017/8017 [00:21<00:00, 376.95it/s]\n"
        },
        {
          "output_type": "stream",
          "name": "stdout",
          "text": "test on 0-7 after transfer learning\n"
        }
      ],
      "execution_count": 12,
      "metadata": {
        "jupyter": {
          "source_hidden": false,
          "outputs_hidden": false
        },
        "nteract": {
          "transient": {
            "deleting": false
          }
        },
        "gather": {
          "logged": 1640536947904
        }
      }
    },
    {
      "cell_type": "markdown",
      "source": [
        "#### test on 8 and 9 after transfer learning "
      ],
      "metadata": {
        "nteract": {
          "transient": {
            "deleting": false
          }
        }
      }
    },
    {
      "cell_type": "code",
      "source": [
        "print('test on 8-9 after transfer learning') \r\n",
        "_, _, _, acc_test_expanded = run(test_expanded, fit=False, max_iters=10000, model=hypothesis_1_model_copy) "
      ],
      "outputs": [
        {
          "output_type": "stream",
          "name": "stderr",
          "text": "acc: 0.25017, err: 4.65969, y_std: 0.04816, stab: 1.00000: 100%|██████████| 1983/1983 [00:05<00:00, 378.06it/s]\n"
        },
        {
          "output_type": "stream",
          "name": "stdout",
          "text": "test on 8-9 after transfer learning\n"
        }
      ],
      "execution_count": 13,
      "metadata": {
        "jupyter": {
          "source_hidden": false,
          "outputs_hidden": false
        },
        "nteract": {
          "transient": {
            "deleting": false
          }
        },
        "gather": {
          "logged": 1640536953160
        }
      }
    },
    {
      "cell_type": "markdown",
      "source": [
        "# scratch space\r\n",
        "\r\n",
        "ideas\r\n",
        "- to improve accuracies:\r\n",
        "  - larger models, likely needs GPUs \r\n",
        "  - hyperparamter tuning: try different paths for $\\frac{\\partial \\lambda}{\\partial n}(n)$\r\n",
        "- to explore strength of transfer learning result\r\n",
        "  - compare against a good competing method \r\n",
        "  - ... $\\leftarrow$ really need more here"
      ],
      "metadata": {
        "nteract": {
          "transient": {
            "deleting": false
          }
        }
      }
    },
    {
      "cell_type": "code",
      "source": [
        "## trying to improve accuracy: using a dense net architecture found online \r\n",
        "## this is turning-out to be difficult... \r\n",
        "\r\n",
        "lam = 100. \r\n",
        "dlamdn = 10. \r\n",
        "reregularization_frequency = 1000 \r\n",
        "clip = 100. \r\n",
        "\r\n",
        "model_3 = OnlineNet( \r\n",
        "    layer_list = [ \r\n",
        "        OnlineDenseLayer(p=1*1*28*28, q=512, activation=leaky_relu, activation_inverse=inv_leaky_relu, lam=lam, clip=clip), \r\n",
        "        OnlineDenseLayer(p=512, q=n_labels, activation=torch.sigmoid, activation_inverse=inv_sigmoid, lam=lam, clip=clip) \r\n",
        "    ], \r\n",
        "    reregularization_frequency = reregularization_frequency, \r\n",
        "    dlamdn = dlamdn \r\n",
        ") \r\n",
        "\r\n",
        "print('fit on train data') \r\n",
        "_, _, _, acc_3 = run(train_loader, fit=True, max_iters=10000, model=model_3)"
      ],
      "outputs": [
        {
          "output_type": "stream",
          "name": "stderr",
          "text": "acc: 0.76777, err: 4.23754, y_std: 0.09292, stab: 1.00047:  17%|█▋        | 10000/60000 [02:02<10:13, 81.44it/s]\n"
        },
        {
          "output_type": "stream",
          "name": "stdout",
          "text": "fit on train data\n"
        }
      ],
      "execution_count": 14,
      "metadata": {
        "jupyter": {
          "source_hidden": false,
          "outputs_hidden": false
        },
        "nteract": {
          "transient": {
            "deleting": false
          }
        },
        "gather": {
          "logged": 1640537075947
        }
      }
    },
    {
      "cell_type": "code",
      "source": [
        "model_3_1 = model_3.copy() \r\n",
        "model_3_1.dlamdn = 100000 \r\n",
        "\r\n",
        "_, _, _, acc_3_1 = run(train_loader, fit=True, max_iters=3000, model=model_3_1)"
      ],
      "outputs": [
        {
          "output_type": "stream",
          "name": "stderr",
          "text": "acc: 0.13335, err: 5.78938, y_std: 0.10098, stab: 1.00166:   5%|▌         | 3000/60000 [00:36<11:39, 81.54it/s]\n"
        }
      ],
      "execution_count": 15,
      "metadata": {
        "jupyter": {
          "source_hidden": false,
          "outputs_hidden": false
        },
        "nteract": {
          "transient": {
            "deleting": false
          }
        },
        "gather": {
          "logged": 1640537112751
        }
      }
    },
    {
      "cell_type": "code",
      "source": [
        "## inspect \r\n",
        "p = train_initial[0]\r\n",
        "x, y = build_data(p[0], p[1]) \r\n",
        "y_hat = model_3_1(x) \r\n",
        "torch.cat((y, y_hat), dim=1) "
      ],
      "outputs": [
        {
          "output_type": "execute_result",
          "execution_count": 16,
          "data": {
            "text/plain": "tensor([[0.0500, 0.7424],\n        [0.0500, 0.8904],\n        [0.0500, 0.8776],\n        [0.0500, 0.8693],\n        [0.0500, 0.7748],\n        [0.9500, 0.7470],\n        [0.0500, 0.8215],\n        [0.0500, 0.8227],\n        [0.0500, 0.7933],\n        [0.0500, 0.7836]])"
          },
          "metadata": {}
        }
      ],
      "execution_count": 16,
      "metadata": {
        "jupyter": {
          "source_hidden": false,
          "outputs_hidden": false
        },
        "nteract": {
          "transient": {
            "deleting": false
          }
        },
        "gather": {
          "logged": 1640537112848
        }
      }
    },
    {
      "cell_type": "code",
      "source": [
        "## hypothesis 2: transfer learning is robust \r\n",
        "## fit on 8-9, then 0-7 \r\n",
        "\r\n",
        "lam = 100. \r\n",
        "dlamdn = 10. \r\n",
        "reregularization_frequency = 1000 \r\n",
        "clip = 100. \r\n",
        "\r\n",
        "model_4 = OnlineNet( \r\n",
        "    layer_list = [ \r\n",
        "        OnlineDenseLayer(p=1*1*28*28, q=100, activation=leaky_relu, activation_inverse=inv_leaky_relu, lam=lam, clip=clip), \r\n",
        "        OnlineDenseLayer(p=100, q=100, activation=leaky_relu, activation_inverse=inv_leaky_relu, lam=lam, clip=clip), \r\n",
        "        OnlineDenseLayer(p=100, q=100, activation=leaky_relu, activation_inverse=inv_leaky_relu, lam=lam, clip=clip), \r\n",
        "        OnlineDenseLayer(p=100, q=n_labels, activation=torch.sigmoid, activation_inverse=inv_sigmoid, lam=lam, clip=clip) \r\n",
        "    ], \r\n",
        "    reregularization_frequency = reregularization_frequency, \r\n",
        "    dlamdn = dlamdn \r\n",
        ") \r\n",
        "\r\n",
        "print('fit on 8-9') \r\n",
        "_, _, _, _ = run(train_expanded, fit=True, max_iters=10000, model=model_4) \r\n",
        "\r\n",
        "print('test on 8-9') \r\n",
        "_, _, _, _ = run(test_expanded, fit=False, max_iters=10000, model=model_4) \r\n",
        "\r\n",
        "print('fit on 0-7') \r\n",
        "_, _, _, _ = run(train_initial, fit=True, max_iters=10000, model=model_4) \r\n",
        "\r\n",
        "print('test on 0-7') \r\n",
        "_, _, _, _ = run(test_initial, fit=False, max_iters=10000, model=model_4) \r\n",
        "\r\n",
        "print('test on 8-9') \r\n",
        "_, _, _, _ = run(test_expanded, fit=False, max_iters=10000, model=model_4) "
      ],
      "outputs": [
        {
          "output_type": "stream",
          "name": "stderr",
          "text": "acc: 0.80397, err: 4.42073, y_std: 0.06614, stab: 1.00017: 100%|█████████▉| 10000/10001 [01:15<00:00, 132.63it/s]\nacc: 0.76474, err: 4.31255, y_std: 0.07799, stab: 1.00000: 100%|██████████| 1983/1983 [00:05<00:00, 372.93it/s]\nacc: 0.00920, err: 4.74959, y_std: 0.01047, stab: 1.00009:  25%|██▍       | 10000/40798 [01:15<03:52, 132.25it/s]\nacc: 0.01686, err: 4.69201, y_std: 0.03374, stab: 1.00000: 100%|██████████| 8017/8017 [00:21<00:00, 378.41it/s]\nacc: 0.25299, err: 4.63899, y_std: 0.03366, stab: 1.00000: 100%|██████████| 1983/1983 [00:05<00:00, 362.08it/s]\n"
        },
        {
          "output_type": "stream",
          "name": "stdout",
          "text": "fit on 8-9\ntest on 8-9\nfit on 0-7\ntest on 0-7\ntest on 8-9\n"
        }
      ],
      "execution_count": 17,
      "metadata": {
        "jupyter": {
          "source_hidden": false,
          "outputs_hidden": false
        },
        "nteract": {
          "transient": {
            "deleting": false
          }
        },
        "gather": {
          "logged": 1640537295830
        }
      }
    },
    {
      "cell_type": "markdown",
      "source": [
        "# Conclusion\r\n",
        "\r\n",
        "We've observed that online nets do indeed retain their accuracy on old data after being updated with new data. \r\n",
        "So, we have a potential resolution to catastrophic forgetting. \r\n",
        "However, it's unclear how to best fit these models, so accuracies remain low. \r\n",
        "Also, it's not entirely clear how this method competes with existing \r\n",
        "Thus, to make a strong argument, our next steps should involve\r\n",
        "- getting these accuracies up, proving these models are worthwhile in application;\r\n",
        "- and comparing these models against competing resolutions to catastrophic forgetting.\r\n",
        "\r\n",
        "So, we have a good lead and it should be pursued. \r\n",
        "It is important because resolving catastrophic forgetting has at least these following implications.\r\n",
        "- Model distribution becomes more useful. Currently, a distributed model has narrow scope of application and cannot be expanded into new applications. Online nets may resolve this.\r\n",
        "- Artificial general intelligence (AGI) has made important improvements via solving video games. However, reality has a smaller dataset. Better transfer learning may mean AGI can be bootstrapped into reality.\r\n"
      ],
      "metadata": {
        "nteract": {
          "transient": {
            "deleting": false
          }
        }
      }
    }
  ],
  "metadata": {
    "kernelspec": {
      "name": "python3-azureml",
      "language": "python",
      "display_name": "Python 3.6 - AzureML"
    },
    "language_info": {
      "name": "python",
      "version": "3.6.9",
      "mimetype": "text/x-python",
      "codemirror_mode": {
        "name": "ipython",
        "version": 3
      },
      "pygments_lexer": "ipython3",
      "nbconvert_exporter": "python",
      "file_extension": ".py"
    },
    "kernel_info": {
      "name": "python3-azureml"
    },
    "nteract": {
      "version": "nteract-front-end@1.0.0"
    },
    "microsoft": {
      "host": {
        "AzureML": {
          "notebookHasBeenCompleted": true
        }
      }
    }
  },
  "nbformat": 4,
  "nbformat_minor": 2
}