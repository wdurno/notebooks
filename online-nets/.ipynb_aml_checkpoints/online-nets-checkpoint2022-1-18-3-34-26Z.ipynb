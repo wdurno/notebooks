{
  "cells": [
    {
      "cell_type": "markdown",
      "source": [
        "# online nets\r\n",
        "\r\n",
        "Deep learning is powerful but computationally expensive, frequently requiring massive compute budgets. In persuit of cost-effective-yet-powerful AI, this work explores and evaluates a heuristic which should lend to more-efficient use of data through online learning.\r\n",
        "\r\n",
        "Goal: evaluate a deep learning alternative capable of true online learning. Solution requirements:\r\n",
        "\r\n",
        "1. catastrophic forgetting should be impossible;\r\n",
        "2. all data is integrated into sufficient statistics of fixed dimension;\r\n",
        "3. and our solution should have predictive power comparable to deep learning.\r\n",
        "\r\n",
        "## modeling strategy\r\n",
        "\r\n",
        "We will not attempt to derive sufficient statistics for an entire deep net, but instead leverage well-known sufficient statistics for least squares models, \r\n",
        "so will have sufficient statistics per deep net layer. If this can be empirically shown effective, we'll build-out the theory afterwards. \r\n",
        "\r\n",
        "Recognizing a deep net as a series of compositions, as follows.\r\n",
        "\r\n",
        "$ Y + \\varepsilon \\approx \\mathbb{E}Y = \\sigma_3 \\circ \\beta_3^T \\circ \\sigma_2 \\circ \\beta_2^T \\circ \\sigma_1 \\circ \\beta_1^T X $\r\n",
        "\r\n",
        "So, we can isolate invidivdual $\\beta_j$ matrices using (psuedo-)inverses $\\beta_j^{-1}$ like so.\r\n",
        "\r\n",
        "$ \\sigma_2^{-1} \\circ \\beta_3^{-1} \\circ \\sigma_3^{-1} (Y) \\approx  \\beta_2^T \\circ \\sigma_1 \\circ \\beta_1^T X $\r\n",
        "\r\n",
        "In this example, if we freeze all $\\beta_j$'s except $\\beta_2$, we are free to update $\\hat \\beta_2$ using $\\tilde Y = \\sigma_2^{-1} \\circ \\beta_3^{-1} \\circ \\sigma_3^{-1} (Y) $\r\n",
        "and $\\tilde X = \\sigma_1 \\circ \\beta_1^T X $.\r\n",
        "\r\n",
        "Using a least squares formulation for fitting to $\\left( \\tilde X, \\tilde Y \\right)$, we get sufficient statistics per layer."
      ],
      "metadata": {
        "nteract": {
          "transient": {
            "deleting": false
          }
        }
      }
    },
    {
      "cell_type": "markdown",
      "source": [
        "# model code definitions"
      ],
      "metadata": {
        "nteract": {
          "transient": {
            "deleting": false
          }
        }
      }
    },
    {
      "cell_type": "code",
      "source": [
        "import torch\n",
        "\n",
        "TORCH_TENSOR_TYPE = type(torch.tensor(1)) \n",
        "\n",
        "def iterated_diagonals(diag_value, n_rows, n_cols): \n",
        "    ## construct diagonal matrix \n",
        "    n_diag = min(n_rows, n_cols)\n",
        "    diag = torch.diag(torch.tensor([diag_value]*n_diag))\n",
        "    if n_rows > n_cols: \n",
        "        ## pad rows \n",
        "        pad = n_rows//n_cols + 1\n",
        "        return torch.cat([diag]*pad, 0)[:n_rows, :n_cols] \n",
        "    if n_cols > n_rows: \n",
        "        ## pad cols \n",
        "        pad = n_cols//n_rows + 1 \n",
        "        return torch.cat([diag]*pad, 1)[:n_rows, :n_cols] \n",
        "    ## no padding \n",
        "    return diag \n",
        "\n",
        "class OnlineDenseLayer: \n",
        "    ''' \n",
        "    A single dense net, formulated as a least squares model. \n",
        "    ''' \n",
        "    def __init__(self, p, q, activation=lambda x:x, activation_inverse=lambda x:x, lam=1., clip=10000., dlamdn=0.): \n",
        "        ''' \n",
        "        inputs: \n",
        "        - p: input dimension \n",
        "        - q: output dimension \n",
        "        - activation: non-linear function, from R^p to R^q. Default is identity. \n",
        "        - activation_inverse: inverse of the activation function. Default is identity. \n",
        "        - lam: regularization term \n",
        "        - clip: predicted value clipping limit \n",
        "        - dlamdn: rate of lambda growth relative to n for online regularization \n",
        "        ''' \n",
        "        lam = float(lam) \n",
        "        clip = float(clip) \n",
        "        if dlamdn is not None: \n",
        "            dlamdn = float(dlamdn)\n",
        "        self.__validate_inputs(p=p, q=q, lam=lam, clip=clip, dlamdn=dlamdn) \n",
        "        self.p = p \n",
        "        self.q = q \n",
        "        self.n_fits = 0 \n",
        "        self.clip = clip \n",
        "        self.trainable = True \n",
        "        self.activation = activation \n",
        "        self.activation_inverse = activation_inverse \n",
        "        self.batch_norm_forward_mean = None \n",
        "        self.batch_norm_forward_std = None \n",
        "        self.batch_norm_forward_n = 0 \n",
        "        self.batch_norm_backward_mean = None \n",
        "        self.batch_norm_backward_std = None \n",
        "        self.batch_norm_backward_n = 0 \n",
        "        self.lam = lam \n",
        "        self.dlamdn = dlamdn \n",
        "        self.xTy = iterated_diagonals(lam, p+1,q) # +1 for intercept \n",
        "        self.yTx = iterated_diagonals(lam, q+1,p) \n",
        "        self.xTx_inv = torch.diag(torch.tensor([1./lam]*(p+1))) \n",
        "        self.yTy_inv = torch.diag(torch.tensor([1./lam]*(q+1))) \n",
        "        self.betaT_forward = torch.matmul(self.xTx_inv, self.xTy) \n",
        "        self.betaT_forward = torch.transpose(self.betaT_forward, 0, 1) \n",
        "        self.betaT_backward = torch.matmul(self.yTy_inv, self.yTx) \n",
        "        self.betaT_backward = torch.transpose(self.betaT_backward, 0, 1) \n",
        "        self.x_forward = None \n",
        "        self.y_forward = None \n",
        "        self.x_backward = None \n",
        "        self.y_backward = None \n",
        "        pass \n",
        "    def copy(self): \n",
        "        copied_layer = OnlineDenseLayer(self.p, self.q)\n",
        "        copied_layer.p = self.p \n",
        "        copied_layer.q = self.q \n",
        "        copied_layer.n_fits = self.n_fits \n",
        "        copied_layer.clip = self.clip \n",
        "        copied_layer.trainable = self.trainable \n",
        "        copied_layer.activation = self.activation \n",
        "        copied_layer.activation_inverse = self.activation_inverse \n",
        "        copied_layer.batch_norm_forward_mean = self.batch_norm_forward_mean \n",
        "        copied_layer.batch_norm_forward_std = self.batch_norm_forward_std \n",
        "        copied_layer.batch_norm_forward_n = self.batch_norm_forward_n \n",
        "        copied_layer.batch_norm_backward_mean = self.batch_norm_backward_mean \n",
        "        copied_layer.batch_norm_backward_std = self.batch_norm_backward_std \n",
        "        copied_layer.batch_norm_backward_n = self.batch_norm_backward_n \n",
        "        copied_layer.lam = self.lam \n",
        "        copied_layer.dlamdn = self.dlamdn \n",
        "        copied_layer.xTy = self.xTy.clone() \n",
        "        copied_layer.yTx = self.yTx.clone()\n",
        "        copied_layer.betaT_forward = self.betaT_forward.clone()\n",
        "        copied_layer.betaT_backward = self.betaT_backward.clone()\n",
        "        self.x_forward = None \n",
        "        self.y_forward = None \n",
        "        self.x_backward = None \n",
        "        self.y_backward = None\n",
        "        return copied_layer \n",
        "    def forward(self, x): \n",
        "        'creates and stores x_forward and y_forward, then returns activation(y_forward)' \n",
        "        self.__validate_inputs(x=x, p=self.p)  \n",
        "        x = self.batch_norm(x, forward=True) ## TODO use fitting or not \n",
        "        self.x_forward = x\n",
        "        x = torch.cat((torch.tensor([[1.]]), x), dim=0) # intercept \n",
        "        self.y_forward = torch.matmul(self.betaT_forward, x) # predict \n",
        "        self.y_forward = torch.clip(self.y_forward, -self.clip, self.clip)\n",
        "        return self.activation(self.y_forward) \n",
        "    def backward(self, y): \n",
        "        'creates and stores x_backward and y_backward, then returns y_backward' \n",
        "        y = self.activation_inverse(y) \n",
        "        self.__validate_inputs(y=y, q=self.q) \n",
        "        y = self.batch_norm(y, forward=False) ## TODO use fitting or not\n",
        "        self.y_backward = y \n",
        "        y = torch.cat((torch.tensor([[1.]]), y), dim=0) \n",
        "        self.x_backward = torch.matmul(self.betaT_backward, y) \n",
        "        self.x_backward = torch.clip(self.x_backward, -self.clip, self.clip)\n",
        "        return self.x_backward \n",
        "    def forward_fit(self): \n",
        "        'uses x_forward and y_backward to update forward model, then returns Sherman Morrison denominator' \n",
        "        if self.trainable: \n",
        "            self.__validate_inputs(x=self.x_forward, y=self.y_backward, p=self.p, q=self.q) \n",
        "            x = torch.cat((torch.tensor([[1.]]), self.x_forward), dim=0) \n",
        "            self.xTx_inv, sm_denom = self.sherman_morrison(self.xTx_inv, x, x) \n",
        "            ##self.xTx_inv = self.reregularizer(self.xTx_inv, self.dlamdn) ## real online regularization too slow \n",
        "            self.xTy += torch.matmul(x, torch.transpose(self.y_backward, 0, 1)) \n",
        "            self.betaT_forward = torch.matmul(self.xTx_inv, self.xTy) \n",
        "            self.betaT_forward = torch.transpose(self.betaT_forward, 0, 1) \n",
        "        return sm_denom \n",
        "    def backward_fit(self):\n",
        "        'uses x_backward and y_forward to update backward model, then returns Sherman Morrison denominator' \n",
        "        if self.trainable: \n",
        "            self.__validate_inputs(x=self.x_forward, y=self.y_backward, p=self.p, q=self.q) \n",
        "            y = torch.cat((torch.tensor([[1.]]), self.y_backward), dim=0) \n",
        "            self.yTy_inv, sm_denom = self.sherman_morrison(self.yTy_inv, y, y) \n",
        "            ##self.yTy_inv = self.reregularizer(self.yTy_inv, self.dlamdn) \n",
        "            self.yTx += torch.matmul(y, torch.transpose(self.x_backward, 0, 1)) \n",
        "            self.betaT_backward = torch.matmul(self.yTy_inv, self.yTx) \n",
        "            self.betaT_backward = torch.transpose(self.betaT_backward, 0, 1) \n",
        "            self.n_fits += 1 ## TODO write general fitting function \n",
        "        return sm_denom \n",
        "    def forward_fit_temp(self): \n",
        "        'uses x_forward and y_backward to update forward model, then returns Sherman Morrison denominator' \n",
        "        if self.trainable: \n",
        "            self.__validate_inputs(x=self.x_forward, y=self.y_backward, p=self.p, q=self.q) \n",
        "            x = torch.cat((torch.tensor([[1.]]), self.x_forward), dim=0) \n",
        "            self.xTx_inv_temp, sm_denom = self.sherman_morrison(self.xTx_inv, x, x) \n",
        "            ##self.xTx_inv = self.reregularizer(self.xTx_inv, self.dlamdn) ## real online regularization too slow \n",
        "            self.xTy_temp = self.xTy + torch.matmul(x, torch.transpose(self.y_backward, 0, 1)) \n",
        "            self.betaT_forward_temp = torch.matmul(self.xTx_inv_temp, self.xTy_temp) \n",
        "            self.betaT_forward_temp = torch.transpose(self.betaT_forward_temp, 0, 1) \n",
        "        return sm_denom \n",
        "    def backward_fit_temp(self):\n",
        "        'uses x_backward and y_forward to update backward model, then returns Sherman Morrison denominator' \n",
        "        if self.trainable: \n",
        "            self.__validate_inputs(x=self.x_forward, y=self.y_backward, p=self.p, q=self.q) \n",
        "            y = torch.cat((torch.tensor([[1.]]), self.y_backward), dim=0) \n",
        "            self.yTy_inv_temp, sm_denom = self.sherman_morrison(self.yTy_inv, y, y) \n",
        "            ##self.yTy_inv = self.reregularizer(self.yTy_inv, self.dlamdn) \n",
        "            self.yTx_temp = self.yTx + torch.matmul(y, torch.transpose(self.x_backward, 0, 1)) \n",
        "            self.betaT_backward_temp = torch.matmul(self.yTy_inv_temp, self.yTx_temp) \n",
        "            self.betaT_backward_temp = torch.transpose(self.betaT_backward_temp, 0, 1) \n",
        "            #self.n_fits += 1 ## TODO write general fitting function \n",
        "        return sm_denom \n",
        "    def forward_temp(self, x): \n",
        "        'creates and stores x_forward and y_forward, then returns activation(y_forward)' \n",
        "        self.__validate_inputs(x=x, p=self.p)  \n",
        "        x = self.batch_norm(x, forward=True) ## TODO use fitting or not \n",
        "        self.x_forward = x\n",
        "        x = torch.cat((torch.tensor([[1.]]), x), dim=0) # intercept \n",
        "        self.y_forward = torch.matmul(self.betaT_forward_temp, x) # predict \n",
        "        self.y_forward = torch.clip(self.y_forward, -self.clip, self.clip)\n",
        "        return self.activation(self.y_forward) \n",
        "    def backward_temp(self, y): \n",
        "        'creates and stores x_backward and y_backward, then returns y_backward' \n",
        "        y = self.activation_inverse(y) \n",
        "        self.__validate_inputs(y=y, q=self.q) \n",
        "        y = self.batch_norm(y, forward=False) ## TODO use fitting or not\n",
        "        self.y_backward = y \n",
        "        y = torch.cat((torch.tensor([[1.]]), y), dim=0) \n",
        "        self.x_backward = torch.matmul(self.betaT_backward_temp, y) \n",
        "        self.x_backward = torch.clip(self.x_backward, -self.clip, self.clip)\n",
        "        return self.x_backward \n",
        "    def set_n_fits(self, n):\n",
        "        'resizes sufficient statistic matrices to sample size n'\n",
        "        if n < 1 or self.n_fits < 1:\n",
        "            return None \n",
        "        self.xTy *= n/self.n_fits \n",
        "        self.yTx *= n/self.n_fits \n",
        "        self.xTx_inv *= self.n_fits/n \n",
        "        self.yTy_inv *= self.n_fits/n \n",
        "        self.n_fits = n \n",
        "        pass\n",
        "    def batch_norm(self, x, forward, fitting=True):\n",
        "        '''\n",
        "        batch normalize tensor\n",
        "        inputs:\n",
        "        - x: (tensor) to be normalized \n",
        "        - forward: (boolean) indicates prediction is forward, instead of backward \n",
        "        - fitting: (boolean) if in model fitting, update values \n",
        "        '''\n",
        "        ## retrieve \n",
        "        if forward:\n",
        "            m = self.batch_norm_forward_mean \n",
        "            s = self.batch_norm_forward_std\n",
        "            n = self.batch_norm_forward_n \n",
        "        else: \n",
        "            m = self.batch_norm_backward_mean \n",
        "            s = self.batch_norm_backward_std\n",
        "            n = self.batch_norm_backward_n \n",
        "        ## caculate \n",
        "        if n == 0: \n",
        "            n = 1 \n",
        "            m = x.mean() \n",
        "            s = x.std() \n",
        "        else: \n",
        "            n += 1 \n",
        "            m = x.mean()/n + m*(n-1)/n \n",
        "            s = x.std()/n + s*(n-1)/n \n",
        "        ## store \n",
        "        if fitting:\n",
        "            if forward: \n",
        "                self.batch_norm_forward_mean = m \n",
        "                self.batch_norm_forward_std = s \n",
        "                self.batch_norm_forward_n = n \n",
        "            else: \n",
        "                self.batch_norm_backward_mean = m\n",
        "                self.batch_norm_backward_std = s \n",
        "                self.batch_norm_backward_n = n \n",
        "        ## no dividing by zero \n",
        "        if s < 1e-3:\n",
        "            s = 1e-3 \n",
        "        return (x - m)/s \n",
        "    def reregularize(self, dlamdn=None): \n",
        "        if dlamdn is None:\n",
        "            dlamdn = self.dlamdn \n",
        "        self.xTx_inv = self.online_regularizer(self.xTx_inv, dlamdn) \n",
        "        self.yTy_inv = self.online_regularizer(self.yTy_inv, dlamdn) \n",
        "        pass \n",
        "    @staticmethod\n",
        "    def online_regularizer(m_inv, dlam):\n",
        "        '''\n",
        "        Used to expand the regularization sphere as samples grow.\n",
        "        Applies modified Sherman Morrison formula for numerical efficiency. \n",
        "        inputs\n",
        "        - m_inv: inverse matrix of m \n",
        "        - dlam: regularizer to be added on the diagonal \n",
        "        returns\n",
        "         - (m + 1/dlam)^{-1} \n",
        "        '''\n",
        "        if dlam == 0. or dlam is None:\n",
        "            ## avoid degeneracy \n",
        "            return m_inv \n",
        "        if callable(dlam):\n",
        "            dlam = dlam(self.n_fits) \n",
        "        dlam_inv = 1/dlam \n",
        "        for i in range(m_inv.shape[0]): \n",
        "            m_inv -= dlam_inv * torch.matmul(m_inv[:,i].reshape((-1,1)), m_inv[i,:].reshape((1,-1))) / (1. + dlam_inv * m_inv[i,i]) \n",
        "        return m_inv  \n",
        "    @staticmethod \n",
        "    def sherman_morrison(inv_mat, vec1, vec2): \n",
        "        ''' \n",
        "        applies Sherman Morrison updates, (mat + vec1 vec2^T)^{-1} \n",
        "        inputs: \n",
        "        - inv_mat: an inverted matrix \n",
        "        - vec1: a column vector \n",
        "        - vec2: a column vector \n",
        "        returns: \n",
        "        - updated matrix \n",
        "        - the Sherman Morrison denominator, for tracking numerical stability \n",
        "        ''' \n",
        "        v2t = torch.transpose(vec2, 0, 1)\n",
        "        denominator = 1. + torch.matmul(torch.matmul(v2t, inv_mat), vec1) \n",
        "        numerator = torch.matmul(torch.matmul(inv_mat, vec1), torch.matmul(v2t, inv_mat)) \n",
        "        updated_inv_mat = inv_mat - numerator / denominator \n",
        "        return updated_inv_mat, float(denominator) \n",
        "    def __validate_inputs(self, p=None, q=None, lam=None, x=None, y=None, clip=None, dlamdn=None): \n",
        "        'raises value exceptions if provided parameters are invalid'\n",
        "        if q is not None:\n",
        "            if not isinstance(q, int):\n",
        "                raise ValueError('`q` must be int!')\n",
        "            if q <= 0:\n",
        "                raise ValueError('`q` must be greater than zero!')\n",
        "        if p is not None:\n",
        "            if not isinstance(p, int): \n",
        "                raise ValueError('`p` must be int!')\n",
        "            if p <= 0: \n",
        "                raise ValueError('`p` must be greater than zero!')\n",
        "        if lam is not None:\n",
        "            if not (isinstance(lam, float) or isinstance(lam, int)):\n",
        "                raise ValueError('`lam` must be float or int!')\n",
        "            if lam < 0:\n",
        "                raise ValueError('`lam` must be non-negative!')\n",
        "        if x is not None and p is not None: \n",
        "            if type(x) != TORCH_TENSOR_TYPE:\n",
        "                raise ValueError('`x` must be of type `torch.tensor`!') \n",
        "            if list(x.shape) != [p,1]: \n",
        "                raise ValueError('`x.shape` must be `[p,1]`!') \n",
        "            if torch.isnan(x).any():\n",
        "                raise ValueError('`x` contains `nan`!')\n",
        "            pass \n",
        "        if y is not None and q is not None: \n",
        "            if type(y) != TORCH_TENSOR_TYPE:\n",
        "                raise ValueError('`y` must be of type `torch.tensor`!') \n",
        "            if list(y.shape) != [q,1]: \n",
        "                raise ValueError('`y.shape` must be `[q,1]`') \n",
        "            if torch.isnan(y).any():\n",
        "                raise ValueError('`y` contains `nan`!')\n",
        "            pass  \n",
        "        if clip is not None: \n",
        "            if type(clip) != float:\n",
        "                raise ValueError('`clip` my be of type `float`!') \n",
        "            if clip <= 0.: \n",
        "                raise ValueError('`clip` must be positive!')\n",
        "            pass\n",
        "        if dlamdn is not None: \n",
        "            if type(dlamdn) not in [float, callable]: \n",
        "                raise ValueError('`dlamdn` my be of type `float` or `callable`!') \n",
        "            if type(dlamdn) == float:\n",
        "                if dlamdn < 0.: \n",
        "                    raise ValueError('`dlamdn` must be non-negative!') \n",
        "            pass\n",
        "        pass\n",
        "    pass\n",
        "\n",
        "class OnlineNet: \n",
        "    'online, sequential dense net' \n",
        "    def __init__(self, layer_list, dlamdn=0., reregularization_frequency=1000): \n",
        "        '''\n",
        "        initialize an online dense net\n",
        "        inputs:\n",
        "        - layer_list: list of OnlineDenseLayers \n",
        "        - dlamdn: (float >= 0) regularization rate per n. Disabled if zero \n",
        "        - reregularization_frequency: (int > 0) reregularize after fitting this number of samples, since reregularization is computationally expensive\n",
        "        '''\n",
        "        ## validate inputs \n",
        "        if type(layer_list) != list: \n",
        "            raise ValueError('`layer_list` must be of type list!') \n",
        "        for layer in layer_list: \n",
        "            if not issubclass(type(layer), OnlineDenseLayer):\n",
        "                raise ValueError('each item in `layer_list` must be an instance of a subclass of `OnlineDenseLayer`!') \n",
        "        if type(dlamdn) != float: \n",
        "            raise ValueError('`dlamdn` must of type `float`!') \n",
        "        if dlamdn < 0.: \n",
        "            raise ValueError('`dlamdn` must be non-negative!') \n",
        "        if type(reregularization_frequency) != int: \n",
        "            raise ValueError('`reregularization_frequency` must be of type `int`!') \n",
        "        if reregularization_frequency <= 0: \n",
        "            raise ValueError('`reregularization_frequency` must be postive!') \n",
        "        ## assign \n",
        "        self.layer_list = layer_list \n",
        "        self.fit_count = 0 \n",
        "        self.dlamdn = dlamdn \n",
        "        self.reregularization_frequency = reregularization_frequency \n",
        "        pass \n",
        "    def copy(self):\n",
        "        copied_layers = [] \n",
        "        for layer in self.layer_list:\n",
        "            copied_layers.append(layer.copy()) \n",
        "        copied_net = OnlineNet(copied_layers, \n",
        "                dlamdn=self.dlamdn, \n",
        "                reregularization_frequency=self.reregularization_frequency)\n",
        "        return copied_net \n",
        "    def forward(self, x): \n",
        "        'predict forward'\n",
        "        for layer in self.layer_list:\n",
        "            x = layer.forward(x) \n",
        "        return x \n",
        "    def backward(self, y):\n",
        "        'predict backward'\n",
        "        for layer in reversed(self.layer_list): \n",
        "            y = layer.backward(y) \n",
        "        return y \n",
        "    def forward_temp(self, x): \n",
        "        'predicts forward with temporary statistics, returns errors' \n",
        "        err = 0. \n",
        "        n_layers = len(self.layer_list) \n",
        "        for idx, layer in enumerate(self.layer_list):\n",
        "            x_old = layer.activation(layer.y_forward) \n",
        "            x = layer.forward_temp(x) \n",
        "            if idx + 1 < n_layers:\n",
        "                ## ignore observed variables \n",
        "                err += (x_old - x).abs().sum() \n",
        "        return err \n",
        "    def backward_temp(self, y):\n",
        "        'predicts backward with temporary statistics, returns errors' \n",
        "        err = 0.\n",
        "        n_layers = len(self.layer_list) \n",
        "        for idx, layer in enumerate(reversed(self.layer_list)):\n",
        "            y_old = layer.x_backward \n",
        "            y = layer.backward_temp(y)\n",
        "            if idx + 1 < n_layers: \n",
        "                ## ignore observed variables \n",
        "                err += (y_old - y).abs().sum() \n",
        "            #print(f'DEBUG 3: cumulative err: {err}')\n",
        "        return err \n",
        "    def set_n_fits(self, n):\n",
        "        'resizes sufficient statistic matrices to sample size n'\n",
        "        for layer in self.layer_list:\n",
        "            layer.set_n_fits(n)\n",
        "        pass \n",
        "    def fit(self, x, y, eps=.01):#1e-6): ## TODO get convergance guarantee, & remove cherry-picked eps\n",
        "        'integrates observation pair. Returns Sherman Morrison denominators per layer in (forward, backward) pairs in a list'\n",
        "        ## set intermediary predictions \n",
        "        self.set_ends(x,y)\n",
        "        self.forward(x) \n",
        "        self.backward(y) \n",
        "        ## infer intermediary vectors before keeping them \n",
        "        ## this'll keep matrix sizes aligned with sample sizes \n",
        "        err = 1. + eps  \n",
        "        idx = 0 \n",
        "        while err > eps: \n",
        "            idx += 1 \n",
        "            self.set_ends(x,y)\n",
        "            for layer in self.layer_list: \n",
        "                layer.forward_fit_temp() \n",
        "                layer.backward_fit_temp() \n",
        "            self.set_ends(x,y) \n",
        "            err_forward = self.forward_temp(x)\n",
        "            err_backward = self.backward_temp(y) \n",
        "            err = err_forward + err_backward \n",
        "            if idx % 1000 == 0:\n",
        "                print(f'DEBUG 1: err: {err}') \n",
        "                print(f'DEBUG 2: err_forward: {err_forward}, err_backward: {err_backward}') \n",
        "        ## iterate once more, but keep sufficient statistics \n",
        "        sherman_morrison_denominator_list = [] \n",
        "        for layer in self.layer_list: \n",
        "            forward_smd = layer.forward_fit() \n",
        "            backward_smd = layer.backward_fit() \n",
        "            sherman_morrison_denominator_list.append((forward_smd, backward_smd)) \n",
        "        return sherman_morrison_denominator_list \n",
        "    def reregularize(self, dlamdn=None): \n",
        "        for layer in self.layer_list: \n",
        "            layer.reregularize(dlamdn) \n",
        "            pass \n",
        "        pass \n",
        "    def set_ends(self, x, y):\n",
        "        'resets observations at network ends'\n",
        "        self.layer_list[0].x_forward = x \n",
        "        self.layer_list[0].x_backward = x \n",
        "        self.layer_list[-1].y_forward = y \n",
        "        self.layer_list[-1].y_backward = y \n",
        "        pass \n",
        "    def __reduce_sherman_morrison_denominator_list(self, smd_pair_list):\n",
        "        'returns the value closest to zero'\n",
        "        if type(smd_pair_list) != list: \n",
        "            raise ValueError('`smd_pair_list` must be of type `list`!')\n",
        "        if len(smd_pair_list) == 0:\n",
        "            return None \n",
        "        smallest_smd = None \n",
        "        for smd_pair in smd_pair_list:\n",
        "            if type(smd_pair) != tuple:\n",
        "                raise ValueError('`smd_pair_list` must be list of tuples!')\n",
        "            if smallest_smd is None: \n",
        "                smallest_smd = smd_pair[0] \n",
        "            if abs(smallest_smd) > abs(smd_pair[0]): \n",
        "                smallest_smd = smd_pair[0] \n",
        "            if abs(smallest_smd) > abs(smd_pair[1]):\n",
        "                smallest_smd = smd_pair[1] \n",
        "        return float(smallest_smd) \n",
        "    def __call__(self, x, y=None): \n",
        "        '''\n",
        "        If only x is given, a prediction is made and returned.\n",
        "        If x and y are given, then the model is updated, and returns\n",
        "        - the prediction\n",
        "        - the sherman morrison denominator closest to zero, for tracking numerical stability\n",
        "        '''\n",
        "        y_hat = self.forward(x) \n",
        "        if y is None: \n",
        "            return y_hat \n",
        "        self.backward(y) \n",
        "        smd_pair_list = self.fit(x,y) \n",
        "        smallest_smd = self.__reduce_sherman_morrison_denominator_list(smd_pair_list) \n",
        "        self.fit_count += 1 \n",
        "        if self.fit_count % self.reregularization_frequency == 0:\n",
        "            if self.dlamdn is not None: \n",
        "                ## dividing by self.reregularization_frequency ensures mathematical equivalency to reregularizing with every step \n",
        "                self.reregularize(self.dlamdn/self.reregularization_frequency) \n",
        "            else:\n",
        "                ## use per-layer dlamdn values \n",
        "                self.reregularize() \n",
        "        return y_hat, smallest_smd \n",
        "\n",
        "## tests \n",
        "\n",
        "## test 1: sherman morrison \n",
        "a = torch.tensor([[2., 1.], [1., 2.]]) \n",
        "b = torch.tensor([[.1],[.2]]) \n",
        "sm_inv, _ = OnlineDenseLayer.sherman_morrison(torch.inverse(a),b,b) \n",
        "num_inv = torch.inverse(a+torch.matmul(b, torch.transpose(b,0,1))) \n",
        "err = float(torch.abs(sm_inv - num_inv).sum()) \n",
        "assert(err < 1e-5) \n",
        "\n",
        "## test 2: online regularization sherman morrison \n",
        "a = torch.tensor([[2., 1.], [1., 2.]]) \n",
        "b = torch.tensor([[.1, 0.], [0., .1]])\n",
        "or_inv = OnlineDenseLayer.online_regularizer(torch.inverse(a), 10.) \n",
        "num_inv = torch.inverse(a+b) \n",
        "err = float(torch.abs(or_inv - num_inv).sum()) \n",
        "assert(err < 1e-5) "
      ],
      "outputs": [],
      "execution_count": 16,
      "metadata": {
        "jupyter": {
          "source_hidden": false,
          "outputs_hidden": false
        },
        "nteract": {
          "transient": {
            "deleting": false
          }
        },
        "gather": {
          "logged": 1644848011012
        }
      }
    },
    {
      "cell_type": "markdown",
      "source": [
        "# first experiment: mnist classification"
      ],
      "metadata": {
        "nteract": {
          "transient": {
            "deleting": false
          }
        }
      }
    },
    {
      "cell_type": "code",
      "source": [
        "from tqdm import tqdm\r\n",
        "from torchvision import datasets, transforms\r\n",
        "\r\n",
        "transform=transforms.Compose([\r\n",
        "    transforms.ToTensor(),\r\n",
        "    transforms.Normalize((0.1307,), (0.3081,))\r\n",
        "    ])\r\n",
        "\r\n",
        "dataset1 = datasets.MNIST('../../data', train=True, download=True, transform=transform)\r\n",
        "dataset2 = datasets.MNIST('../../data', train=False, transform=transform)\r\n",
        "\r\n",
        "train_loader = torch.utils.data.DataLoader(dataset1)\r\n",
        "test_loader = torch.utils.data.DataLoader(dataset2)\r\n",
        "\r\n",
        "n_labels = 10 \r\n",
        "lam = 100. \r\n",
        "dlamdn = 10. \r\n",
        "reregularization_frequency = 1000 \r\n",
        "clip = 100. \r\n",
        "\r\n",
        "## activation functions \r\n",
        "## torch.sigmoid \r\n",
        "inv_sigmoid = lambda x: -torch.log((1/(x+1e-8))-1) \r\n",
        "leaky_relu_alpha = .1 \r\n",
        "leaky_relu = lambda x: (x > 0)*x + (x <= 0)*x*leaky_relu_alpha \r\n",
        "inv_leaky_relu = lambda x: (x > 0)*x + (x <= 0)*x/leaky_relu_alpha \r\n",
        "\r\n",
        "model = OnlineNet( \r\n",
        "    layer_list = [ \r\n",
        "        OnlineDenseLayer(p=1*1*28*28, q=100, activation=leaky_relu, activation_inverse=inv_leaky_relu, lam=lam, clip=clip), \r\n",
        "        OnlineDenseLayer(p=100, q=100, activation=leaky_relu, activation_inverse=inv_leaky_relu, lam=lam, clip=clip), \r\n",
        "        OnlineDenseLayer(p=100, q=100, activation=leaky_relu, activation_inverse=inv_leaky_relu, lam=lam, clip=clip), \r\n",
        "        OnlineDenseLayer(p=100, q=n_labels, activation=torch.sigmoid, activation_inverse=inv_sigmoid, lam=lam, clip=clip) \r\n",
        "    ], \r\n",
        "    reregularization_frequency = reregularization_frequency, \r\n",
        "    dlamdn = dlamdn \r\n",
        ") \r\n",
        "\r\n",
        "def build_data(image, label): \r\n",
        "    'format data from iterator for model' \r\n",
        "    y = torch.tensor([1. if int(label[0]) == idx else 0. for idx in range(n_labels)]) ## one-hot representation \r\n",
        "    x = image.reshape([-1]) ## flatten \r\n",
        "    ## shrink so sigmoid inverse is well-defined \r\n",
        "    y = y*.90 + .05 \r\n",
        "    ## reshape to column vectors \r\n",
        "    x = x.reshape([-1,1]) \r\n",
        "    y = y.reshape([-1,1]) \r\n",
        "    return x, y \r\n",
        "\r\n",
        "def match(y, y_hat):\r\n",
        "    y = y.reshape(-1)\r\n",
        "    y_hat = y_hat.reshape(-1)\r\n",
        "    if y.argmax() == y_hat.argmax():\r\n",
        "        return 1.\r\n",
        "    return 0. \r\n",
        "\r\n",
        "def run(data_iterable, fit=True, max_iters=None, model=model):\r\n",
        "    '''\r\n",
        "    fit or predict on dataset \r\n",
        "    inputs:\r\n",
        "    - data_iterable: an iterable of (image, label) pairs\r\n",
        "    - fit: (bool) are we integrating the (image, label) pair into the model or just predicting?\r\n",
        "    - max_iters: (int or None) if int then cap fit/predict iters at this amount, otherwise run the whole iterable \r\n",
        "    - model: (OnlineDenseNet) the model to update in-place \r\n",
        "    output: \r\n",
        "    - errs: a list of model errors \r\n",
        "    - stab: a list of numerical stability statistics \r\n",
        "    - y_std: a list of y_hat standard deviations \r\n",
        "    - acc: a list of running average accuracies \r\n",
        "    side-effects: \r\n",
        "    - model is updated in-place \r\n",
        "    '''\r\n",
        "    ## init stats \r\n",
        "    errs = [] \r\n",
        "    stab = [] \r\n",
        "    y_std = [] \r\n",
        "    acc = [0.] \r\n",
        "    ## get data \r\n",
        "    pbar = tqdm(data_iterable)\r\n",
        "    n_iters = 0 \r\n",
        "    for [image, label] in pbar: \r\n",
        "        n_iters += 1 \r\n",
        "        ## get a datum \r\n",
        "        x, y = build_data(image, label) \r\n",
        "        ## fit or predict \r\n",
        "        if fit: \r\n",
        "            y_hat, stability = model(x, y) \r\n",
        "        else:\r\n",
        "            y_hat = model(x) \r\n",
        "            stability = 1. \r\n",
        "        ## stats \r\n",
        "        err = float((y - y_hat).abs().sum()) \r\n",
        "        errs.append(err) \r\n",
        "        stab.append(stability) \r\n",
        "        std = float(y_hat.std()) \r\n",
        "        y_std.append(std) \r\n",
        "        acc_n = max(len(acc), 1000) \r\n",
        "        acc.append(match(y,y_hat)/acc_n + acc[-1]*(acc_n-1)/acc_n) \r\n",
        "        pbar.set_description(f'acc: {acc[-1]:.5f}, err: {err:.5f}, y_std: {std:.5f}, stab: {stability:.5f}') \r\n",
        "        if max_iters is not None: \r\n",
        "            if n_iters > max_iters:\r\n",
        "                return errs, stab, y_std, acc\r\n",
        "    return errs, stab, y_std, acc \r\n",
        "\r\n",
        "def test(data_iterable, model, max_iters=None): \r\n",
        "    'calculates accuracy correctly' \r\n",
        "    hits = 0 \r\n",
        "    n = 0 \r\n",
        "    n_iters = 0 \r\n",
        "    for image, label in tqdm(data_iterable):\r\n",
        "        x, y = build_data(image, label) \r\n",
        "        y_hat = model(x) \r\n",
        "        if match(y, y_hat) == 1:\r\n",
        "            hits += 1 \r\n",
        "        n += 1\r\n",
        "    return hits/n  \r\n",
        "\r\n",
        "errs, stab, y_std, acc = run(train_loader, fit=True, max_iters=10000) "
      ],
      "outputs": [
        {
          "output_type": "stream",
          "name": "stderr",
          "text": "acc: 0.80059, err: 3.16735, y_std: 0.18385, stab: 1.00088:  17%|█▋        | 10000/60000 [04:39<23:17, 35.78it/s]\n"
        },
        {
          "output_type": "stream",
          "name": "stdout",
          "text": "DEBUG 1: err: 0.018810419365763664\nDEBUG 2: err_forward: 0.018764851614832878, err_backward: 4.556775093078613e-05\nDEBUG 1: err: 0.012334661558270454\nDEBUG 2: err_forward: 0.012017982080578804, err_backward: 0.0003166794776916504\nDEBUG 1: err: 0.010774933733046055\nDEBUG 2: err_forward: 0.010555082000792027, err_backward: 0.00021985173225402832\nDEBUG 1: err: 0.011564869433641434\nDEBUG 2: err_forward: 0.011507142335176468, err_backward: 5.772709846496582e-05\nDEBUG 1: err: 0.020877493545413017\nDEBUG 2: err_forward: 0.020823342725634575, err_backward: 5.415081977844238e-05\nDEBUG 1: err: 0.013910709880292416\nDEBUG 2: err_forward: 0.013853459618985653, err_backward: 5.7250261306762695e-05\nDEBUG 1: err: 0.015662536025047302\nDEBUG 2: err_forward: 0.015623465180397034, err_backward: 3.9070844650268555e-05\nDEBUG 1: err: 0.010816344991326332\nDEBUG 2: err_forward: 0.010599711909890175, err_backward: 0.00021663308143615723\nDEBUG 1: err: 0.012816378846764565\nDEBUG 2: err_forward: 0.012798318639397621, err_backward: 1.806020736694336e-05\nDEBUG 1: err: 0.011665374971926212\nDEBUG 2: err_forward: 0.011647314764559269, err_backward: 1.806020736694336e-05\nDEBUG 1: err: 0.01106985192745924\nDEBUG 2: err_forward: 0.011010128073394299, err_backward: 5.9723854064941406e-05\n"
        }
      ],
      "execution_count": 17,
      "metadata": {
        "jupyter": {
          "source_hidden": false,
          "outputs_hidden": false
        },
        "nteract": {
          "transient": {
            "deleting": false
          }
        },
        "gather": {
          "logged": 1644848293961
        }
      }
    },
    {
      "cell_type": "code",
      "source": [
        "import matplotlib.pyplot as plt \r\n",
        "\r\n",
        "print('acc')\r\n",
        "plt.plot(acc[100:])\r\n",
        "plt.show()"
      ],
      "outputs": [
        {
          "output_type": "stream",
          "name": "stdout",
          "text": "acc\n"
        },
        {
          "output_type": "display_data",
          "data": {
            "text/plain": "<Figure size 432x288 with 1 Axes>",
            "image/png": "[encoded data removed]"
          },
          "metadata": {
            "needs_background": "light"
          }
        }
      ],
      "execution_count": 18,
      "metadata": {
        "jupyter": {
          "source_hidden": false,
          "outputs_hidden": false
        },
        "nteract": {
          "transient": {
            "deleting": false
          }
        },
        "gather": {
          "logged": 1644848578804
        }
      }
    },
    {
      "cell_type": "code",
      "source": [
        "print('errs')\r\n",
        "plt.plot(errs)\r\n",
        "plt.show()"
      ],
      "outputs": [
        {
          "output_type": "stream",
          "name": "stdout",
          "text": "errs\n"
        },
        {
          "output_type": "display_data",
          "data": {
            "text/plain": "<Figure size 432x288 with 1 Axes>",
            "image/png": "[encoded data removed]"
          },
          "metadata": {
            "needs_background": "light"
          }
        }
      ],
      "execution_count": 19,
      "metadata": {
        "jupyter": {
          "source_hidden": false,
          "outputs_hidden": false
        },
        "nteract": {
          "transient": {
            "deleting": false
          }
        },
        "gather": {
          "logged": 1644848584231
        }
      }
    },
    {
      "cell_type": "code",
      "source": [
        "print('y_std')\r\n",
        "plt.plot(y_std)\r\n",
        "plt.show()"
      ],
      "outputs": [
        {
          "output_type": "stream",
          "name": "stdout",
          "text": "y_std\n"
        },
        {
          "output_type": "display_data",
          "data": {
            "text/plain": "<Figure size 432x288 with 1 Axes>",
            "image/png": "[encoded data removed]"
          },
          "metadata": {
            "needs_background": "light"
          }
        }
      ],
      "execution_count": 20,
      "metadata": {
        "jupyter": {
          "source_hidden": false,
          "outputs_hidden": false
        },
        "nteract": {
          "transient": {
            "deleting": false
          }
        },
        "gather": {
          "logged": 1644848586756
        }
      }
    },
    {
      "cell_type": "code",
      "source": [
        "print('stab')\r\n",
        "plt.plot(stab)\r\n",
        "plt.show()"
      ],
      "outputs": [
        {
          "output_type": "stream",
          "name": "stdout",
          "text": "stab\n"
        },
        {
          "output_type": "display_data",
          "data": {
            "text/plain": "<Figure size 432x288 with 1 Axes>",
            "image/png": "[encoded data removed]"
          },
          "metadata": {
            "needs_background": "light"
          }
        }
      ],
      "execution_count": 21,
      "metadata": {
        "jupyter": {
          "source_hidden": false,
          "outputs_hidden": false
        },
        "nteract": {
          "transient": {
            "deleting": false
          }
        },
        "gather": {
          "logged": 1644848588425
        }
      }
    },
    {
      "cell_type": "code",
      "source": [
        "## test dataset \r\n",
        "errs, stab, y_std, acc = run(test_loader, fit=False, max_iters=10000) "
      ],
      "outputs": [
        {
          "output_type": "stream",
          "name": "stderr",
          "text": "acc: 0.82612, err: 3.17963, y_std: 0.18276, stab: 1.00000: 100%|██████████| 10000/10000 [00:25<00:00, 389.65it/s]\n"
        }
      ],
      "execution_count": 22,
      "metadata": {
        "jupyter": {
          "source_hidden": false,
          "outputs_hidden": false
        },
        "nteract": {
          "transient": {
            "deleting": false
          }
        },
        "gather": {
          "logged": 1644848615911
        }
      }
    },
    {
      "cell_type": "markdown",
      "source": [
        "# hypothesis test 1: does this solve catestrophic forgetting? \r\n",
        "\r\n",
        "Least squares' sufficient statistics have finite dimension and closed-form online update equations which guarantee perfect transfer learning. \r\n",
        "Our use of one least squares estimator per deep net layer enjoys a series of such sufficient statistics, but is only heuristically simlar to the mathematical guarantees of least squares. \r\n",
        "Nevertheless, we have proceeded hypothesizing some degree of a transfer learning benefit. \r\n",
        "In this section, we test this hypothesis. \r\n",
        "\r\n",
        "To test our hypothesis, we will subsample MNIST into two parts: initial and expanded. \r\n",
        "The initial portion will include digits 0 through 7, and expanded will only include digits 8 and 9. \r\n",
        "We will first fit our model to the initial dataset and then _transfer learn_ by fitting to the expanded dataset. \r\n",
        "If our hypothesis is true, transfer learning should be maintained and thus catastrophic forgetting avoided, so we'd expect the updated model to retain the ability to predict on digits 0 through 7."
      ],
      "metadata": {
        "nteract": {
          "transient": {
            "deleting": false
          }
        }
      }
    },
    {
      "cell_type": "code",
      "source": [
        "## build data \r\n",
        "min_train_samples = 10000 \r\n",
        "min_test_samples = 10000 \r\n",
        "\r\n",
        "def hypothesis_1_sampler(data_loader, min_samples):\r\n",
        "    '''\r\n",
        "    randomly samples data for hypothesis test 1\r\n",
        "    '''\r\n",
        "    ## init empty datasets \r\n",
        "    initial = [] \r\n",
        "    expanded = [] \r\n",
        "    for pair in tqdm(data_loader): \r\n",
        "        if pair[1] > 7: \r\n",
        "            expanded.append(pair) \r\n",
        "        else: \r\n",
        "            initial.append(pair) \r\n",
        "            pass \r\n",
        "        if len(expanded) > min_samples and len(initial) > min_samples: \r\n",
        "            return initial, expanded \r\n",
        "    return initial, expanded \r\n",
        "\r\n",
        "train_initial, train_expanded = hypothesis_1_sampler(train_loader, min_train_samples) \r\n",
        "test_initial, test_expanded = hypothesis_1_sampler(test_loader, min_test_samples) "
      ],
      "outputs": [
        {
          "output_type": "stream",
          "name": "stderr",
          "text": " 85%|████████▍ | 50798/60000 [00:11<00:02, 4473.55it/s]\n100%|██████████| 10000/10000 [00:02<00:00, 4357.07it/s]\n"
        }
      ],
      "execution_count": 23,
      "metadata": {
        "jupyter": {
          "source_hidden": false,
          "outputs_hidden": false
        },
        "nteract": {
          "transient": {
            "deleting": false
          }
        },
        "gather": {
          "logged": 1644848766151
        }
      }
    },
    {
      "cell_type": "markdown",
      "source": [
        "#### Fitting on 0 through 7 "
      ],
      "metadata": {
        "nteract": {
          "transient": {
            "deleting": false
          }
        }
      }
    },
    {
      "cell_type": "code",
      "source": [
        "## Get a fresh model \r\n",
        "hypothesis_1_model = OnlineNet( \r\n",
        "    layer_list = [ \r\n",
        "        OnlineDenseLayer(p=1*1*28*28, q=100, activation=leaky_relu, activation_inverse=inv_leaky_relu, lam=lam, clip=clip), \r\n",
        "        OnlineDenseLayer(p=100, q=100, activation=leaky_relu, activation_inverse=inv_leaky_relu, lam=lam, clip=clip), \r\n",
        "        OnlineDenseLayer(p=100, q=100, activation=leaky_relu, activation_inverse=inv_leaky_relu, lam=lam, clip=clip), \r\n",
        "        OnlineDenseLayer(p=100, q=n_labels, activation=torch.sigmoid, activation_inverse=inv_sigmoid, lam=lam, clip=clip) \r\n",
        "    ], \r\n",
        "    reregularization_frequency = reregularization_frequency, \r\n",
        "    dlamdn = dlamdn \r\n",
        ") \r\n",
        "\r\n",
        "print('fit on 0-7') \r\n",
        "_, _, _, acc_train_initial = run(train_initial, fit=True, max_iters=10000, model=hypothesis_1_model) "
      ],
      "outputs": [
        {
          "output_type": "stream",
          "name": "stdout",
          "text": "fit on 0-7\nDEBUG 1: err: 0.018810419365763664\nDEBUG 2: err_forward: 0.018764851614832878, err_backward: 4.556775093078613e-05\nDEBUG 1: err: 0.012334661558270454\nDEBUG 2: err_forward: 0.012017982080578804, err_backward: 0.0003166794776916504\nDEBUG 1: err: 0.010774933733046055\nDEBUG 2: err_forward: 0.010555082000792027, err_backward: 0.00021985173225402832\nDEBUG 1: err: 0.029264312237501144\nDEBUG 2: err_forward: 0.029200267046689987, err_backward: 6.404519081115723e-05\nDEBUG 1: err: 0.015712283551692963\nDEBUG 2: err_forward: 0.01565852016210556, err_backward: 5.3763389587402344e-05\nDEBUG 1: err: 0.01714036427438259\nDEBUG 2: err_forward: 0.01711917482316494, err_backward: 2.1189451217651367e-05\nDEBUG 1: err: 0.011734778992831707\nDEBUG 2: err_forward: 0.011674548499286175, err_backward: 6.0230493545532227e-05\nDEBUG 1: err: 0.014031924307346344\nDEBUG 2: err_forward: 0.01401788741350174, err_backward: 1.4036893844604492e-05\nDEBUG 1: err: 0.012005811557173729\nDEBUG 2: err_forward: 0.011991089209914207, err_backward: 1.4722347259521484e-05\nDEBUG 1: err: 0.01043570227921009\nDEBUG 2: err_forward: 0.010196806862950325, err_backward: 0.00023889541625976562\nDEBUG 1: err: 0.011887908913195133\nDEBUG 2: err_forward: 0.011803717352449894, err_backward: 8.419156074523926e-05\n"
        },
        {
          "output_type": "stream",
          "name": "stderr",
          "text": "acc: 0.84571, err: 4.09494, y_std: 0.09185, stab: 1.00030:  25%|██▍       | 10000/40798 [04:23<13:32, 37.92it/s]\n"
        }
      ],
      "execution_count": 24,
      "metadata": {
        "jupyter": {
          "source_hidden": false,
          "outputs_hidden": false
        },
        "nteract": {
          "transient": {
            "deleting": false
          }
        },
        "gather": {
          "logged": 1644849045439
        }
      }
    },
    {
      "cell_type": "markdown",
      "source": [
        "#### test on 0 through 7 before transfer learning "
      ],
      "metadata": {
        "nteract": {
          "transient": {
            "deleting": false
          }
        }
      }
    },
    {
      "cell_type": "code",
      "source": [
        "print('test on 0-7 before transfer learning') \r\n",
        "_, _, _, acc_test_initial_before = run(test_initial, fit=False, max_iters=10000, model=hypothesis_1_model) "
      ],
      "outputs": [
        {
          "output_type": "stream",
          "name": "stderr",
          "text": "acc: 0.85993, err: 3.19244, y_std: 0.18219, stab: 1.00000: 100%|██████████| 8017/8017 [00:20<00:00, 399.78it/s]\n"
        },
        {
          "output_type": "stream",
          "name": "stdout",
          "text": "test on 0-7 before transfer learning\n"
        }
      ],
      "execution_count": 25,
      "metadata": {
        "jupyter": {
          "source_hidden": false,
          "outputs_hidden": false
        },
        "nteract": {
          "transient": {
            "deleting": false
          }
        },
        "gather": {
          "logged": 1644849065538
        }
      }
    },
    {
      "cell_type": "markdown",
      "source": [
        "#### fit on 8 and 9 "
      ],
      "metadata": {
        "nteract": {
          "transient": {
            "deleting": false
          }
        }
      }
    },
    {
      "cell_type": "code",
      "source": [
        "print('fit on 8-9') \r\n",
        "hypothesis_1_model_copy = hypothesis_1_model.copy() \r\n",
        "## TODO\r\n",
        "hypothesis_1_model_copy.set_n_fits(1000)\r\n",
        "#hypothesis_1_model_copy.dlamdn = 10.\r\n",
        "_, _, _, acc_train_expanded = run(train_expanded, fit=True, max_iters=3000, model=hypothesis_1_model_copy) "
      ],
      "outputs": [
        {
          "output_type": "stream",
          "name": "stdout",
          "text": "fit on 8-9\nDEBUG 1: err: 12040.171875\nDEBUG 2: err_forward: 7995.6435546875, err_backward: 4044.528076171875\nDEBUG 1: err: 35393.76953125\nDEBUG 2: err_forward: 16693.0625, err_backward: 18700.70703125\nDEBUG 1: err: 33820.890625\nDEBUG 2: err_forward: 22028.609375, err_backward: 11792.28125\nDEBUG 1: err: 31575.140625\nDEBUG 2: err_forward: 11818.9541015625, err_backward: 19756.1875\nDEBUG 1: err: 30578.072265625\nDEBUG 2: err_forward: 22021.79296875, err_backward: 8556.279296875\nDEBUG 1: err: 17182.421875\nDEBUG 2: err_forward: 6306.50830078125, err_backward: 10875.9130859375\nDEBUG 1: err: 6467.94140625\nDEBUG 2: err_forward: 6081.689453125, err_backward: 386.251953125\nDEBUG 1: err: 7247.42578125\nDEBUG 2: err_forward: 7055.8681640625, err_backward: 191.55783081054688\nDEBUG 1: err: 11029.4453125\nDEBUG 2: err_forward: 11029.4453125, err_backward: 0.0\nDEBUG 1: err: 10026.453125\nDEBUG 2: err_forward: 10026.453125, err_backward: 0.0\nDEBUG 1: err: 6902.1533203125\nDEBUG 2: err_forward: 6902.1533203125, err_backward: 0.0\nDEBUG 1: err: 7233.58740234375\nDEBUG 2: err_forward: 7233.58740234375, err_backward: 0.0\nDEBUG 1: err: 11237.015625\nDEBUG 2: err_forward: 11237.015625, err_backward: 0.0\nDEBUG 1: err: 11115.052734375\nDEBUG 2: err_forward: 11115.052734375, err_backward: 0.0\nDEBUG 1: err: 36.096641540527344\nDEBUG 2: err_forward: 36.096641540527344, err_backward: 0.0\nDEBUG 1: err: 3230.71435546875\nDEBUG 2: err_forward: 3230.71435546875, err_backward: 0.0\nDEBUG 1: err: 13485.541015625\nDEBUG 2: err_forward: 13485.541015625, err_backward: 0.0\nDEBUG 1: err: 1310.1990966796875\nDEBUG 2: err_forward: 1310.1990966796875, err_backward: 0.0\nDEBUG 1: err: 4689.6708984375\nDEBUG 2: err_forward: 4689.6708984375, err_backward: 0.0\nDEBUG 1: err: 6383.1181640625\nDEBUG 2: err_forward: 6383.1181640625, err_backward: 0.0\nDEBUG 1: err: 1088.3160400390625\nDEBUG 2: err_forward: 1088.3160400390625, err_backward: 0.0\nDEBUG 1: err: 9137.8681640625\nDEBUG 2: err_forward: 9137.8681640625, err_backward: 0.0\nDEBUG 1: err: 7799.2978515625\nDEBUG 2: err_forward: 7799.2978515625, err_backward: 0.0\nDEBUG 1: err: 5987.63232421875\nDEBUG 2: err_forward: 5987.63232421875, err_backward: 0.0\nDEBUG 1: err: 7298.14013671875\nDEBUG 2: err_forward: 7298.14013671875, err_backward: 0.0\nDEBUG 1: err: 258.55584716796875\nDEBUG 2: err_forward: 258.55584716796875, err_backward: 0.0\nDEBUG 1: err: 3702.38916015625\nDEBUG 2: err_forward: 3702.38916015625, err_backward: 0.0\nDEBUG 1: err: 3238.482421875\nDEBUG 2: err_forward: 3238.482421875, err_backward: 0.0\nDEBUG 1: err: 7813.69677734375\nDEBUG 2: err_forward: 7813.69677734375, err_backward: 0.0\nDEBUG 1: err: 7737.44970703125\nDEBUG 2: err_forward: 7737.44970703125, err_backward: 0.0\nDEBUG 1: err: 8329.6357421875\nDEBUG 2: err_forward: 8329.6357421875, err_backward: 0.0\nDEBUG 1: err: 4516.73486328125\nDEBUG 2: err_forward: 4516.73486328125, err_backward: 0.0\nDEBUG 1: err: 9026.6728515625\nDEBUG 2: err_forward: 9026.6728515625, err_backward: 0.0\nDEBUG 1: err: 7679.30126953125\nDEBUG 2: err_forward: 7679.30126953125, err_backward: 0.0\nDEBUG 1: err: 554.1962280273438\nDEBUG 2: err_forward: 554.1962280273438, err_backward: 0.0\nDEBUG 1: err: 8965.58984375\nDEBUG 2: err_forward: 8965.58984375, err_backward: 0.0\nDEBUG 1: err: 2982.98681640625\nDEBUG 2: err_forward: 2982.98681640625, err_backward: 0.0\nDEBUG 1: err: 953.4069213867188\nDEBUG 2: err_forward: 953.4069213867188, err_backward: 0.0\nDEBUG 1: err: 5446.2138671875\nDEBUG 2: err_forward: 5446.2138671875, err_backward: 0.0\nDEBUG 1: err: 3533.94580078125\nDEBUG 2: err_forward: 3533.94580078125, err_backward: 0.0\nDEBUG 1: err: 3436.9736328125\nDEBUG 2: err_forward: 3436.9736328125, err_backward: 0.0\nDEBUG 1: err: 9025.34375\nDEBUG 2: err_forward: 9025.34375, err_backward: 0.0\nDEBUG 1: err: 3124.229736328125\nDEBUG 2: err_forward: 3124.229736328125, err_backward: 0.0\nDEBUG 1: err: 9023.533203125\nDEBUG 2: err_forward: 9023.533203125, err_backward: 0.0\nDEBUG 1: err: 3052.1943359375\nDEBUG 2: err_forward: 3052.1943359375, err_backward: 0.0\nDEBUG 1: err: 5432.0\nDEBUG 2: err_forward: 5432.0, err_backward: 0.0\nDEBUG 1: err: 3639.1474609375\nDEBUG 2: err_forward: 3639.1474609375, err_backward: 0.0\nDEBUG 1: err: 200.53504943847656\nDEBUG 2: err_forward: 200.53504943847656, err_backward: 0.0\nDEBUG 1: err: 2637.425048828125\nDEBUG 2: err_forward: 2637.425048828125, err_backward: 0.0\nDEBUG 1: err: 1221.067626953125\nDEBUG 2: err_forward: 1221.067626953125, err_backward: 0.0\nDEBUG 1: err: 571.3592529296875\nDEBUG 2: err_forward: 571.3592529296875, err_backward: 0.0\nDEBUG 1: err: 1522.19970703125\nDEBUG 2: err_forward: 1522.19970703125, err_backward: 0.0\nDEBUG 1: err: 342.65191650390625\nDEBUG 2: err_forward: 342.65191650390625, err_backward: 0.0\nDEBUG 1: err: 527.8450927734375\nDEBUG 2: err_forward: 527.8450927734375, err_backward: 0.0\nDEBUG 1: err: 1467.9786376953125\nDEBUG 2: err_forward: 1467.9786376953125, err_backward: 0.0\nDEBUG 1: err: 89.16314697265625\nDEBUG 2: err_forward: 89.16314697265625, err_backward: 0.0\nDEBUG 1: err: 420.4194641113281\nDEBUG 2: err_forward: 420.4194641113281, err_backward: 0.0\nDEBUG 1: err: 992.1025390625\nDEBUG 2: err_forward: 992.1025390625, err_backward: 0.0\nDEBUG 1: err: 3.9134292602539062\nDEBUG 2: err_forward: 3.9134292602539062, err_backward: 0.0\nDEBUG 1: err: 238.7408447265625\nDEBUG 2: err_forward: 238.7408447265625, err_backward: 0.0\nDEBUG 1: err: 1309.7779541015625\nDEBUG 2: err_forward: 1309.7779541015625, err_backward: 0.0\nDEBUG 1: err: 477.3546142578125\nDEBUG 2: err_forward: 477.3546142578125, err_backward: 0.0\nDEBUG 1: err: 0.0370941162109375\nDEBUG 2: err_forward: 0.0370941162109375, err_backward: 0.0\nDEBUG 1: err: 0.101806640625\nDEBUG 2: err_forward: 0.101806640625, err_backward: 0.0\nDEBUG 1: err: 0.257049560546875\nDEBUG 2: err_forward: 0.257049560546875, err_backward: 0.0\nDEBUG 1: err: 0.7593612670898438\nDEBUG 2: err_forward: 0.7593612670898438, err_backward: 0.0\nDEBUG 1: err: 0.80938720703125\nDEBUG 2: err_forward: 0.80938720703125, err_backward: 0.0\nDEBUG 1: err: 5965.07958984375\nDEBUG 2: err_forward: 5963.0595703125, err_backward: 2.0201339721679688\nDEBUG 1: err: 10277.482421875\nDEBUG 2: err_forward: 10276.0283203125, err_backward: 1.45367431640625\nDEBUG 1: err: 9057.150390625\nDEBUG 2: err_forward: 9055.0810546875, err_backward: 2.0693373680114746\nDEBUG 1: err: 8681.34765625\nDEBUG 2: err_forward: 8679.2978515625, err_backward: 2.0493526458740234\nDEBUG 1: err: 10592.5986328125\nDEBUG 2: err_forward: 10048.662109375, err_backward: 543.9364013671875\nDEBUG 1: err: 19.282724380493164\nDEBUG 2: err_forward: 18.50885772705078, err_backward: 0.7738666534423828\nDEBUG 1: err: 9036.3369140625\nDEBUG 2: err_forward: 9035.7587890625, err_backward: 0.5784263610839844\nDEBUG 1: err: 9030.9267578125\nDEBUG 2: err_forward: 9029.693359375, err_backward: 1.2332229614257812\nDEBUG 1: err: 19.573135375976562\nDEBUG 2: err_forward: 18.50641632080078, err_backward: 1.0667190551757812\nDEBUG 1: err: 9028.146484375\nDEBUG 2: err_forward: 9028.146484375, err_backward: 0.0\nDEBUG 1: err: 0.4453125\nDEBUG 2: err_forward: 0.4453125, err_backward: 0.0\nDEBUG 1: err: 0.44052886962890625\nDEBUG 2: err_forward: 0.44052886962890625, err_backward: 0.0\nDEBUG 1: err: 0.4852714538574219\nDEBUG 2: err_forward: 0.4852714538574219, err_backward: 0.0\nDEBUG 1: err: 0.4271354675292969\nDEBUG 2: err_forward: 0.4271354675292969, err_backward: 0.0\nDEBUG 1: err: 1.2516908645629883\nDEBUG 2: err_forward: 1.2516908645629883, err_backward: 0.0\nDEBUG 1: err: 3.1841602325439453\nDEBUG 2: err_forward: 3.1841602325439453, err_backward: 0.0\nDEBUG 1: err: 25.669254302978516\nDEBUG 2: err_forward: 25.669254302978516, err_backward: 0.0\nDEBUG 1: err: 11.836176872253418\nDEBUG 2: err_forward: 11.836176872253418, err_backward: 0.0\nDEBUG 1: err: 16.178680419921875\nDEBUG 2: err_forward: 16.178680419921875, err_backward: 0.0\nDEBUG 1: err: 60.93634796142578\nDEBUG 2: err_forward: 60.93634796142578, err_backward: 0.0\nDEBUG 1: err: 186.031005859375\nDEBUG 2: err_forward: 186.031005859375, err_backward: 0.0\nDEBUG 1: err: 679.9305419921875\nDEBUG 2: err_forward: 679.9305419921875, err_backward: 0.0\nDEBUG 1: err: 1219.4139404296875\nDEBUG 2: err_forward: 1219.4139404296875, err_backward: 0.0\nDEBUG 1: err: 45.15363311767578\nDEBUG 2: err_forward: 45.15363311767578, err_backward: 0.0\nDEBUG 1: err: 709.9014282226562\nDEBUG 2: err_forward: 709.9014282226562, err_backward: 0.0\nDEBUG 1: err: 52.01995849609375\nDEBUG 2: err_forward: 52.01995849609375, err_backward: 0.0\nDEBUG 1: err: 235.7676239013672\nDEBUG 2: err_forward: 235.7676239013672, err_backward: 0.0\nDEBUG 1: err: 27.49625015258789\nDEBUG 2: err_forward: 27.49625015258789, err_backward: 0.0\nDEBUG 1: err: 127.30668640136719\nDEBUG 2: err_forward: 127.30668640136719, err_backward: 0.0\nDEBUG 1: err: 218.3696746826172\nDEBUG 2: err_forward: 218.3696746826172, err_backward: 0.0\nDEBUG 1: err: 113.78779602050781\nDEBUG 2: err_forward: 113.78779602050781, err_backward: 0.0\nDEBUG 1: err: 56.14551544189453\nDEBUG 2: err_forward: 56.14551544189453, err_backward: 0.0\nDEBUG 1: err: 109.52203369140625\nDEBUG 2: err_forward: 109.52203369140625, err_backward: 0.0\nDEBUG 1: err: 165.1448211669922\nDEBUG 2: err_forward: 165.1448211669922, err_backward: 0.0\nDEBUG 1: err: 147.9021453857422\nDEBUG 2: err_forward: 147.9021453857422, err_backward: 0.0\nDEBUG 1: err: 135.24560546875\nDEBUG 2: err_forward: 135.24560546875, err_backward: 0.0\nDEBUG 1: err: 221.6277313232422\nDEBUG 2: err_forward: 221.6277313232422, err_backward: 0.0\nDEBUG 1: err: 63.92332077026367\nDEBUG 2: err_forward: 63.92332077026367, err_backward: 0.0\nDEBUG 1: err: 14.211989402770996\nDEBUG 2: err_forward: 14.211989402770996, err_backward: 0.0\nDEBUG 1: err: 22.54210662841797\nDEBUG 2: err_forward: 22.54210662841797, err_backward: 0.0\nDEBUG 1: err: 26.19989585876465\nDEBUG 2: err_forward: 26.19989585876465, err_backward: 0.0\nDEBUG 1: err: 3156.48046875\nDEBUG 2: err_forward: 3156.48046875, err_backward: 0.0\nDEBUG 1: err: 11.679766654968262\nDEBUG 2: err_forward: 11.679766654968262, err_backward: 0.0\nDEBUG 1: err: 52.79981994628906\nDEBUG 2: err_forward: 52.79981994628906, err_backward: 0.0\nDEBUG 1: err: 8.721248626708984\nDEBUG 2: err_forward: 8.721248626708984, err_backward: 0.0\nDEBUG 1: err: 17.57522964477539\nDEBUG 2: err_forward: 17.57522964477539, err_backward: 0.0\nDEBUG 1: err: 18.325075149536133\nDEBUG 2: err_forward: 18.325075149536133, err_backward: 0.0\nDEBUG 1: err: 5.131490707397461\nDEBUG 2: err_forward: 5.131490707397461, err_backward: 0.0\nDEBUG 1: err: 9.957419395446777\nDEBUG 2: err_forward: 9.957419395446777, err_backward: 0.0\nDEBUG 1: err: 6.715695381164551\nDEBUG 2: err_forward: 6.715695381164551, err_backward: 0.0\nDEBUG 1: err: 2.813955307006836\nDEBUG 2: err_forward: 2.813955307006836, err_backward: 0.0\nDEBUG 1: err: 8.412801742553711\nDEBUG 2: err_forward: 8.412801742553711, err_backward: 0.0\nDEBUG 1: err: 5.393712043762207\nDEBUG 2: err_forward: 5.393712043762207, err_backward: 0.0\nDEBUG 1: err: 4.195741653442383\nDEBUG 2: err_forward: 4.195741653442383, err_backward: 0.0\nDEBUG 1: err: 5.436861991882324\nDEBUG 2: err_forward: 5.436861991882324, err_backward: 0.0\nDEBUG 1: err: 6.638951301574707\nDEBUG 2: err_forward: 6.638951301574707, err_backward: 0.0\nDEBUG 1: err: 2.1092073917388916\nDEBUG 2: err_forward: 2.1092073917388916, err_backward: 0.0\nDEBUG 1: err: 1.6344361305236816\nDEBUG 2: err_forward: 1.6344361305236816, err_backward: 0.0\nDEBUG 1: err: 1.4664868116378784\nDEBUG 2: err_forward: 1.4664868116378784, err_backward: 0.0\nDEBUG 1: err: 3.2915797233581543\nDEBUG 2: err_forward: 3.2915797233581543, err_backward: 0.0\nDEBUG 1: err: 5.738664627075195\nDEBUG 2: err_forward: 5.738664627075195, err_backward: 0.0\nDEBUG 1: err: 3.0295357704162598\nDEBUG 2: err_forward: 3.0295357704162598, err_backward: 0.0\nDEBUG 1: err: 3.3153746128082275\nDEBUG 2: err_forward: 3.3153746128082275, err_backward: 0.0\nDEBUG 1: err: 2.0078680515289307\nDEBUG 2: err_forward: 2.0078680515289307, err_backward: 0.0\nDEBUG 1: err: 4.270741939544678\nDEBUG 2: err_forward: 4.270741939544678, err_backward: 0.0\nDEBUG 1: err: 1.0880682468414307\nDEBUG 2: err_forward: 1.0880682468414307, err_backward: 0.0\nDEBUG 1: err: 5.734207630157471\nDEBUG 2: err_forward: 5.734207630157471, err_backward: 0.0\nDEBUG 1: err: 3.4487247467041016\nDEBUG 2: err_forward: 3.4487247467041016, err_backward: 0.0\nDEBUG 1: err: 5.228797912597656\nDEBUG 2: err_forward: 5.228797912597656, err_backward: 0.0\nDEBUG 1: err: 4.772926330566406\nDEBUG 2: err_forward: 4.772926330566406, err_backward: 0.0\nDEBUG 1: err: 5.507938385009766\nDEBUG 2: err_forward: 5.507938385009766, err_backward: 0.0\nDEBUG 1: err: 6.911754608154297\nDEBUG 2: err_forward: 6.911754608154297, err_backward: 0.0\nDEBUG 1: err: 0.22753405570983887\nDEBUG 2: err_forward: 0.22753405570983887, err_backward: 0.0\nDEBUG 1: err: 3.019707679748535\nDEBUG 2: err_forward: 3.019707679748535, err_backward: 0.0\nDEBUG 1: err: 49.6074333190918\nDEBUG 2: err_forward: 49.6074333190918, err_backward: 0.0\nDEBUG 1: err: 34.089656829833984\nDEBUG 2: err_forward: 34.089656829833984, err_backward: 0.0\nDEBUG 1: err: 78.82142639160156\nDEBUG 2: err_forward: 78.82142639160156, err_backward: 0.0\nDEBUG 1: err: 42.59490203857422\nDEBUG 2: err_forward: 42.59490203857422, err_backward: 0.0\nDEBUG 1: err: 15.792096138000488\nDEBUG 2: err_forward: 15.792096138000488, err_backward: 0.0\nDEBUG 1: err: 69.90292358398438\nDEBUG 2: err_forward: 69.90292358398438, err_backward: 0.0\nDEBUG 1: err: 134.54248046875\nDEBUG 2: err_forward: 134.54248046875, err_backward: 0.0\nDEBUG 1: err: 118.6467056274414\nDEBUG 2: err_forward: 118.6467056274414, err_backward: 0.0\nDEBUG 1: err: 112.09576416015625\nDEBUG 2: err_forward: 112.09576416015625, err_backward: 0.0\nDEBUG 1: err: 90.7353744506836\nDEBUG 2: err_forward: 90.7353744506836, err_backward: 0.0\nDEBUG 1: err: 2.3421249389648438\nDEBUG 2: err_forward: 2.3421249389648438, err_backward: 0.0\nDEBUG 1: err: 1.902025818824768\nDEBUG 2: err_forward: 1.902025818824768, err_backward: 0.0\nDEBUG 1: err: 246.3031768798828\nDEBUG 2: err_forward: 246.3031768798828, err_backward: 0.0\nDEBUG 1: err: 132.02378845214844\nDEBUG 2: err_forward: 132.02378845214844, err_backward: 0.0\nDEBUG 1: err: 92.42578887939453\nDEBUG 2: err_forward: 92.42578887939453, err_backward: 0.0\nDEBUG 1: err: 79.09286499023438\nDEBUG 2: err_forward: 79.09286499023438, err_backward: 0.0\nDEBUG 1: err: 123.41471099853516\nDEBUG 2: err_forward: 123.41471099853516, err_backward: 0.0\nDEBUG 1: err: 39.2724494934082\nDEBUG 2: err_forward: 39.2724494934082, err_backward: 0.0\nDEBUG 1: err: 4.439103603363037\nDEBUG 2: err_forward: 4.439103603363037, err_backward: 0.0\nDEBUG 1: err: 0.16994190216064453\nDEBUG 2: err_forward: 0.16994190216064453, err_backward: 0.0\nDEBUG 1: err: 0.0874476432800293\nDEBUG 2: err_forward: 0.0874476432800293, err_backward: 0.0\nDEBUG 1: err: 0.1546158790588379\nDEBUG 2: err_forward: 0.1546158790588379, err_backward: 0.0\nDEBUG 1: err: 0.10425615310668945\nDEBUG 2: err_forward: 0.10425615310668945, err_backward: 0.0\nDEBUG 1: err: 0.09653854370117188\nDEBUG 2: err_forward: 0.09653854370117188, err_backward: 0.0\nDEBUG 1: err: 0.11388397216796875\nDEBUG 2: err_forward: 0.11388397216796875, err_backward: 0.0\nDEBUG 1: err: 0.1128227710723877\nDEBUG 2: err_forward: 0.1128227710723877, err_backward: 0.0\nDEBUG 1: err: 0.09194827079772949\nDEBUG 2: err_forward: 0.09194827079772949, err_backward: 0.0\nDEBUG 1: err: 0.15946459770202637\nDEBUG 2: err_forward: 0.15946459770202637, err_backward: 0.0\nDEBUG 1: err: 0.2549293041229248\nDEBUG 2: err_forward: 0.2549293041229248, err_backward: 0.0\nDEBUG 1: err: 0.21413731575012207\nDEBUG 2: err_forward: 0.21413731575012207, err_backward: 0.0\nDEBUG 1: err: 0.146223783493042\nDEBUG 2: err_forward: 0.146223783493042, err_backward: 0.0\nDEBUG 1: err: 0.10790753364562988\nDEBUG 2: err_forward: 0.10790753364562988, err_backward: 0.0\nDEBUG 1: err: 0.3763256072998047\nDEBUG 2: err_forward: 0.3763256072998047, err_backward: 0.0\nDEBUG 1: err: 0.10514187812805176\nDEBUG 2: err_forward: 0.10514187812805176, err_backward: 0.0\nDEBUG 1: err: 0.15902018547058105\nDEBUG 2: err_forward: 0.15902018547058105, err_backward: 0.0\nDEBUG 1: err: 0.10193276405334473\nDEBUG 2: err_forward: 0.10193276405334473, err_backward: 0.0\nDEBUG 1: err: 0.11417293548583984\nDEBUG 2: err_forward: 0.11417293548583984, err_backward: 0.0\nDEBUG 1: err: 0.07129859924316406\nDEBUG 2: err_forward: 0.07129859924316406, err_backward: 0.0\nDEBUG 1: err: 0.06353545188903809\nDEBUG 2: err_forward: 0.06353545188903809, err_backward: 0.0\nDEBUG 1: err: 0.18510866165161133\nDEBUG 2: err_forward: 0.18510866165161133, err_backward: 0.0\nDEBUG 1: err: 0.08118677139282227\nDEBUG 2: err_forward: 0.08118677139282227, err_backward: 0.0\nDEBUG 1: err: 0.08186197280883789\nDEBUG 2: err_forward: 0.08186197280883789, err_backward: 0.0\nDEBUG 1: err: 0.1664721965789795\nDEBUG 2: err_forward: 0.1664721965789795, err_backward: 0.0\nDEBUG 1: err: 0.08881199359893799\nDEBUG 2: err_forward: 0.08881199359893799, err_backward: 0.0\nDEBUG 1: err: 0.38447463512420654\nDEBUG 2: err_forward: 0.38447463512420654, err_backward: 0.0\nDEBUG 1: err: 0.08175718784332275\nDEBUG 2: err_forward: 0.08175718784332275, err_backward: 0.0\nDEBUG 1: err: 0.18280673027038574\nDEBUG 2: err_forward: 0.18280673027038574, err_backward: 0.0\nDEBUG 1: err: 0.1659221649169922\nDEBUG 2: err_forward: 0.1659221649169922, err_backward: 0.0\nDEBUG 1: err: 0.09750747680664062\nDEBUG 2: err_forward: 0.09750747680664062, err_backward: 0.0\nDEBUG 1: err: 0.07932674884796143\nDEBUG 2: err_forward: 0.07932674884796143, err_backward: 0.0\nDEBUG 1: err: 0.08234977722167969\nDEBUG 2: err_forward: 0.08234977722167969, err_backward: 0.0\nDEBUG 1: err: 0.05662393569946289\nDEBUG 2: err_forward: 0.05662393569946289, err_backward: 0.0\nDEBUG 1: err: 0.18912345170974731\nDEBUG 2: err_forward: 0.18912345170974731, err_backward: 0.0\nDEBUG 1: err: 0.09498298168182373\nDEBUG 2: err_forward: 0.09498298168182373, err_backward: 0.0\nDEBUG 1: err: 0.053673744201660156\nDEBUG 2: err_forward: 0.053673744201660156, err_backward: 0.0\nDEBUG 1: err: 0.10866332054138184\nDEBUG 2: err_forward: 0.10866332054138184, err_backward: 0.0\nDEBUG 1: err: 0.175154447555542\nDEBUG 2: err_forward: 0.175154447555542, err_backward: 0.0\nDEBUG 1: err: 0.08496880531311035\nDEBUG 2: err_forward: 0.08496880531311035, err_backward: 0.0\nDEBUG 1: err: 0.07992124557495117\nDEBUG 2: err_forward: 0.07992124557495117, err_backward: 0.0\nDEBUG 1: err: 0.02827279269695282\nDEBUG 2: err_forward: 0.02827279269695282, err_backward: 0.0\nDEBUG 1: err: 0.03652685135602951\nDEBUG 2: err_forward: 0.03652685135602951, err_backward: 0.0\nDEBUG 1: err: 0.11133359372615814\nDEBUG 2: err_forward: 0.11133359372615814, err_backward: 0.0\nDEBUG 1: err: 0.06390780210494995\nDEBUG 2: err_forward: 0.06390780210494995, err_backward: 0.0\nDEBUG 1: err: 0.09030270576477051\nDEBUG 2: err_forward: 0.09030270576477051, err_backward: 0.0\nDEBUG 1: err: 0.15106797218322754\nDEBUG 2: err_forward: 0.15106797218322754, err_backward: 0.0\nDEBUG 1: err: 0.20532119274139404\nDEBUG 2: err_forward: 0.20532119274139404, err_backward: 0.0\nDEBUG 1: err: 0.1586136817932129\nDEBUG 2: err_forward: 0.1586136817932129, err_backward: 0.0\nDEBUG 1: err: 0.13940298557281494\nDEBUG 2: err_forward: 0.13940298557281494, err_backward: 0.0\nDEBUG 1: err: 0.05841207504272461\nDEBUG 2: err_forward: 0.05841207504272461, err_backward: 0.0\nDEBUG 1: err: 0.16499412059783936\nDEBUG 2: err_forward: 0.16499412059783936, err_backward: 0.0\nDEBUG 1: err: 0.1987842321395874\nDEBUG 2: err_forward: 0.1987842321395874, err_backward: 0.0\nDEBUG 1: err: 0.13211578130722046\nDEBUG 2: err_forward: 0.13211578130722046, err_backward: 0.0\nDEBUG 1: err: 0.20963811874389648\nDEBUG 2: err_forward: 0.20963811874389648, err_backward: 0.0\nDEBUG 1: err: 0.06257933378219604\nDEBUG 2: err_forward: 0.06257933378219604, err_backward: 0.0\nDEBUG 1: err: 0.06259530782699585\nDEBUG 2: err_forward: 0.06259530782699585, err_backward: 0.0\nDEBUG 1: err: 0.10025304555892944\nDEBUG 2: err_forward: 0.10025304555892944, err_backward: 0.0\nDEBUG 1: err: 0.32362401485443115\nDEBUG 2: err_forward: 0.32362401485443115, err_backward: 0.0\nDEBUG 1: err: 0.0879228413105011\nDEBUG 2: err_forward: 0.0879228413105011, err_backward: 0.0\nDEBUG 1: err: 0.20652185380458832\nDEBUG 2: err_forward: 0.20652185380458832, err_backward: 0.0\nDEBUG 1: err: 0.23684030771255493\nDEBUG 2: err_forward: 0.23684030771255493, err_backward: 0.0\nDEBUG 1: err: 0.11191892623901367\nDEBUG 2: err_forward: 0.11191892623901367, err_backward: 0.0\nDEBUG 1: err: 0.16228115558624268\nDEBUG 2: err_forward: 0.16228115558624268, err_backward: 0.0\nDEBUG 1: err: 0.4496748447418213\nDEBUG 2: err_forward: 0.4496748447418213, err_backward: 0.0\nDEBUG 1: err: 0.1354891061782837\nDEBUG 2: err_forward: 0.1354891061782837, err_backward: 0.0\nDEBUG 1: err: 0.27930402755737305\nDEBUG 2: err_forward: 0.27930402755737305, err_backward: 0.0\nDEBUG 1: err: 0.15176427364349365\nDEBUG 2: err_forward: 0.15176427364349365, err_backward: 0.0\nDEBUG 1: err: 0.07397091388702393\nDEBUG 2: err_forward: 0.07397091388702393, err_backward: 0.0\nDEBUG 1: err: 0.1666945219039917\nDEBUG 2: err_forward: 0.1666945219039917, err_backward: 0.0\nDEBUG 1: err: 0.12877702713012695\nDEBUG 2: err_forward: 0.12877702713012695, err_backward: 0.0\nDEBUG 1: err: 0.14075279235839844\nDEBUG 2: err_forward: 0.14075279235839844, err_backward: 0.0\nDEBUG 1: err: 0.0852041244506836\nDEBUG 2: err_forward: 0.0852041244506836, err_backward: 0.0\nDEBUG 1: err: 0.11407995223999023\nDEBUG 2: err_forward: 0.11407995223999023, err_backward: 0.0\nDEBUG 1: err: 0.04946780204772949\nDEBUG 2: err_forward: 0.04946780204772949, err_backward: 0.0\nDEBUG 1: err: 0.21480047702789307\nDEBUG 2: err_forward: 0.21480047702789307, err_backward: 0.0\nDEBUG 1: err: 0.0873556137084961\nDEBUG 2: err_forward: 0.0873556137084961, err_backward: 0.0\nDEBUG 1: err: 0.18662595748901367\nDEBUG 2: err_forward: 0.18662595748901367, err_backward: 0.0\nDEBUG 1: err: 0.058963894844055176\nDEBUG 2: err_forward: 0.058963894844055176, err_backward: 0.0\nDEBUG 1: err: 0.1259082555770874\nDEBUG 2: err_forward: 0.1259082555770874, err_backward: 0.0\nDEBUG 1: err: 0.11138266324996948\nDEBUG 2: err_forward: 0.11138266324996948, err_backward: 0.0\nDEBUG 1: err: 0.07955533266067505\nDEBUG 2: err_forward: 0.07955533266067505, err_backward: 0.0\nDEBUG 1: err: 0.1127249002456665\nDEBUG 2: err_forward: 0.1127249002456665, err_backward: 0.0\nDEBUG 1: err: 0.05692988634109497\nDEBUG 2: err_forward: 0.05692988634109497, err_backward: 0.0\nDEBUG 1: err: 0.0912896990776062\nDEBUG 2: err_forward: 0.0912896990776062, err_backward: 0.0\nDEBUG 1: err: 0.12348812818527222\nDEBUG 2: err_forward: 0.12348812818527222, err_backward: 0.0\nDEBUG 1: err: 0.2352394461631775\nDEBUG 2: err_forward: 0.2352394461631775, err_backward: 0.0\nDEBUG 1: err: 0.06317520141601562\nDEBUG 2: err_forward: 0.06317520141601562, err_backward: 0.0\nDEBUG 1: err: 0.08036726713180542\nDEBUG 2: err_forward: 0.08036726713180542, err_backward: 0.0\nDEBUG 1: err: 0.10302934050559998\nDEBUG 2: err_forward: 0.10302934050559998, err_backward: 0.0\nDEBUG 1: err: 0.10285675525665283\nDEBUG 2: err_forward: 0.10285675525665283, err_backward: 0.0\nDEBUG 1: err: 0.056200265884399414\nDEBUG 2: err_forward: 0.056200265884399414, err_backward: 0.0\nDEBUG 1: err: 0.0675663948059082\nDEBUG 2: err_forward: 0.0675663948059082, err_backward: 0.0\nDEBUG 1: err: 0.15755045413970947\nDEBUG 2: err_forward: 0.15755045413970947, err_backward: 0.0\nDEBUG 1: err: 0.0967058539390564\nDEBUG 2: err_forward: 0.0967058539390564, err_backward: 0.0\nDEBUG 1: err: 0.08710114657878876\nDEBUG 2: err_forward: 0.08710114657878876, err_backward: 0.0\nDEBUG 1: err: 0.24370631575584412\nDEBUG 2: err_forward: 0.24370631575584412, err_backward: 0.0\nDEBUG 1: err: 0.15578846633434296\nDEBUG 2: err_forward: 0.15578846633434296, err_backward: 0.0\nDEBUG 1: err: 0.18991073966026306\nDEBUG 2: err_forward: 0.18991073966026306, err_backward: 0.0\nDEBUG 1: err: 0.09733051061630249\nDEBUG 2: err_forward: 0.09733051061630249, err_backward: 0.0\nDEBUG 1: err: 0.09847712516784668\nDEBUG 2: err_forward: 0.09847712516784668, err_backward: 0.0\nDEBUG 1: err: 0.07929778099060059\nDEBUG 2: err_forward: 0.07929778099060059, err_backward: 0.0\nDEBUG 1: err: 0.13439452648162842\nDEBUG 2: err_forward: 0.13439452648162842, err_backward: 0.0\nDEBUG 1: err: 0.5156290531158447\nDEBUG 2: err_forward: 0.5156290531158447, err_backward: 0.0\nDEBUG 1: err: 0.058370113372802734\nDEBUG 2: err_forward: 0.058370113372802734, err_backward: 0.0\nDEBUG 1: err: 0.14823627471923828\nDEBUG 2: err_forward: 0.14823627471923828, err_backward: 0.0\nDEBUG 1: err: 8.716846466064453\nDEBUG 2: err_forward: 8.716846466064453, err_backward: 0.0\nDEBUG 1: err: 0.2234940528869629\nDEBUG 2: err_forward: 0.2234940528869629, err_backward: 0.0\n"
        },
        {
          "output_type": "stream",
          "name": "stderr",
          "text": "acc: 0.00000, err: 5.90000, y_std: 0.52705, stab: 1.99661:   0%|          | 2/10001 [19:46<1647:03:50, 593.00s/it]\n"
        },
        {
          "output_type": "error",
          "ename": "KeyboardInterrupt",
          "evalue": "",
          "traceback": [
            "\u001b[0;31m---------------------------------------------------------------------------\u001b[0m",
            "\u001b[0;31mKeyboardInterrupt\u001b[0m                         Traceback (most recent call last)",
            "\u001b[0;32m<ipython-input-26-8a754f87e6b3>\u001b[0m in \u001b[0;36m<module>\u001b[0;34m\u001b[0m\n\u001b[1;32m      2\u001b[0m \u001b[0mhypothesis_1_model_copy\u001b[0m \u001b[0;34m=\u001b[0m \u001b[0mhypothesis_1_model\u001b[0m\u001b[0;34m.\u001b[0m\u001b[0mcopy\u001b[0m\u001b[0;34m(\u001b[0m\u001b[0;34m)\u001b[0m\u001b[0;34m\u001b[0m\u001b[0;34m\u001b[0m\u001b[0m\n\u001b[1;32m      3\u001b[0m \u001b[0mhypothesis_1_model_copy\u001b[0m\u001b[0;34m.\u001b[0m\u001b[0mdlamdn\u001b[0m \u001b[0;34m=\u001b[0m \u001b[0;36m10.\u001b[0m\u001b[0;34m\u001b[0m\u001b[0;34m\u001b[0m\u001b[0m\n\u001b[0;32m----> 4\u001b[0;31m \u001b[0m_\u001b[0m\u001b[0;34m,\u001b[0m \u001b[0m_\u001b[0m\u001b[0;34m,\u001b[0m \u001b[0m_\u001b[0m\u001b[0;34m,\u001b[0m \u001b[0macc_train_expanded\u001b[0m \u001b[0;34m=\u001b[0m \u001b[0mrun\u001b[0m\u001b[0;34m(\u001b[0m\u001b[0mtrain_expanded\u001b[0m\u001b[0;34m,\u001b[0m \u001b[0mfit\u001b[0m\u001b[0;34m=\u001b[0m\u001b[0;32mTrue\u001b[0m\u001b[0;34m,\u001b[0m \u001b[0mmax_iters\u001b[0m\u001b[0;34m=\u001b[0m\u001b[0;36m3000\u001b[0m\u001b[0;34m,\u001b[0m \u001b[0mmodel\u001b[0m\u001b[0;34m=\u001b[0m\u001b[0mhypothesis_1_model_copy\u001b[0m\u001b[0;34m)\u001b[0m\u001b[0;34m\u001b[0m\u001b[0;34m\u001b[0m\u001b[0m\n\u001b[0m",
            "\u001b[0;32m<ipython-input-17-da5cacace19a>\u001b[0m in \u001b[0;36mrun\u001b[0;34m(data_iterable, fit, max_iters, model)\u001b[0m\n\u001b[1;32m     85\u001b[0m         \u001b[0;31m## fit or predict\u001b[0m\u001b[0;34m\u001b[0m\u001b[0;34m\u001b[0m\u001b[0;34m\u001b[0m\u001b[0m\n\u001b[1;32m     86\u001b[0m         \u001b[0;32mif\u001b[0m \u001b[0mfit\u001b[0m\u001b[0;34m:\u001b[0m\u001b[0;34m\u001b[0m\u001b[0;34m\u001b[0m\u001b[0m\n\u001b[0;32m---> 87\u001b[0;31m             \u001b[0my_hat\u001b[0m\u001b[0;34m,\u001b[0m \u001b[0mstability\u001b[0m \u001b[0;34m=\u001b[0m \u001b[0mmodel\u001b[0m\u001b[0;34m(\u001b[0m\u001b[0mx\u001b[0m\u001b[0;34m,\u001b[0m \u001b[0my\u001b[0m\u001b[0;34m)\u001b[0m\u001b[0;34m\u001b[0m\u001b[0;34m\u001b[0m\u001b[0m\n\u001b[0m\u001b[1;32m     88\u001b[0m         \u001b[0;32melse\u001b[0m\u001b[0;34m:\u001b[0m\u001b[0;34m\u001b[0m\u001b[0;34m\u001b[0m\u001b[0m\n\u001b[1;32m     89\u001b[0m             \u001b[0my_hat\u001b[0m \u001b[0;34m=\u001b[0m \u001b[0mmodel\u001b[0m\u001b[0;34m(\u001b[0m\u001b[0mx\u001b[0m\u001b[0;34m)\u001b[0m\u001b[0;34m\u001b[0m\u001b[0;34m\u001b[0m\u001b[0m\n",
            "\u001b[0;32m<ipython-input-16-10170651d546>\u001b[0m in \u001b[0;36m__call__\u001b[0;34m(self, x, y)\u001b[0m\n\u001b[1;32m    449\u001b[0m             \u001b[0;32mreturn\u001b[0m \u001b[0my_hat\u001b[0m\u001b[0;34m\u001b[0m\u001b[0;34m\u001b[0m\u001b[0m\n\u001b[1;32m    450\u001b[0m         \u001b[0mself\u001b[0m\u001b[0;34m.\u001b[0m\u001b[0mbackward\u001b[0m\u001b[0;34m(\u001b[0m\u001b[0my\u001b[0m\u001b[0;34m)\u001b[0m\u001b[0;34m\u001b[0m\u001b[0;34m\u001b[0m\u001b[0m\n\u001b[0;32m--> 451\u001b[0;31m         \u001b[0msmd_pair_list\u001b[0m \u001b[0;34m=\u001b[0m \u001b[0mself\u001b[0m\u001b[0;34m.\u001b[0m\u001b[0mfit\u001b[0m\u001b[0;34m(\u001b[0m\u001b[0mx\u001b[0m\u001b[0;34m,\u001b[0m\u001b[0my\u001b[0m\u001b[0;34m)\u001b[0m\u001b[0;34m\u001b[0m\u001b[0;34m\u001b[0m\u001b[0m\n\u001b[0m\u001b[1;32m    452\u001b[0m         \u001b[0msmallest_smd\u001b[0m \u001b[0;34m=\u001b[0m \u001b[0mself\u001b[0m\u001b[0;34m.\u001b[0m\u001b[0m__reduce_sherman_morrison_denominator_list\u001b[0m\u001b[0;34m(\u001b[0m\u001b[0msmd_pair_list\u001b[0m\u001b[0;34m)\u001b[0m\u001b[0;34m\u001b[0m\u001b[0;34m\u001b[0m\u001b[0m\n\u001b[1;32m    453\u001b[0m         \u001b[0mself\u001b[0m\u001b[0;34m.\u001b[0m\u001b[0mfit_count\u001b[0m \u001b[0;34m+=\u001b[0m \u001b[0;36m1\u001b[0m\u001b[0;34m\u001b[0m\u001b[0;34m\u001b[0m\u001b[0m\n",
            "\u001b[0;32m<ipython-input-16-10170651d546>\u001b[0m in \u001b[0;36mfit\u001b[0;34m(self, x, y, eps)\u001b[0m\n\u001b[1;32m    393\u001b[0m             \u001b[0mself\u001b[0m\u001b[0;34m.\u001b[0m\u001b[0mset_ends\u001b[0m\u001b[0;34m(\u001b[0m\u001b[0mx\u001b[0m\u001b[0;34m,\u001b[0m\u001b[0my\u001b[0m\u001b[0;34m)\u001b[0m\u001b[0;34m\u001b[0m\u001b[0;34m\u001b[0m\u001b[0m\n\u001b[1;32m    394\u001b[0m             \u001b[0;32mfor\u001b[0m \u001b[0mlayer\u001b[0m \u001b[0;32min\u001b[0m \u001b[0mself\u001b[0m\u001b[0;34m.\u001b[0m\u001b[0mlayer_list\u001b[0m\u001b[0;34m:\u001b[0m\u001b[0;34m\u001b[0m\u001b[0;34m\u001b[0m\u001b[0m\n\u001b[0;32m--> 395\u001b[0;31m                 \u001b[0mlayer\u001b[0m\u001b[0;34m.\u001b[0m\u001b[0mforward_fit_temp\u001b[0m\u001b[0;34m(\u001b[0m\u001b[0;34m)\u001b[0m\u001b[0;34m\u001b[0m\u001b[0;34m\u001b[0m\u001b[0m\n\u001b[0m\u001b[1;32m    396\u001b[0m                 \u001b[0mlayer\u001b[0m\u001b[0;34m.\u001b[0m\u001b[0mbackward_fit_temp\u001b[0m\u001b[0;34m(\u001b[0m\u001b[0;34m)\u001b[0m\u001b[0;34m\u001b[0m\u001b[0;34m\u001b[0m\u001b[0m\n\u001b[1;32m    397\u001b[0m             \u001b[0mself\u001b[0m\u001b[0;34m.\u001b[0m\u001b[0mset_ends\u001b[0m\u001b[0;34m(\u001b[0m\u001b[0mx\u001b[0m\u001b[0;34m,\u001b[0m\u001b[0my\u001b[0m\u001b[0;34m)\u001b[0m\u001b[0;34m\u001b[0m\u001b[0;34m\u001b[0m\u001b[0m\n",
            "\u001b[0;32m<ipython-input-16-10170651d546>\u001b[0m in \u001b[0;36mforward_fit_temp\u001b[0;34m(self)\u001b[0m\n\u001b[1;32m    141\u001b[0m             \u001b[0mself\u001b[0m\u001b[0;34m.\u001b[0m\u001b[0mxTx_inv_temp\u001b[0m\u001b[0;34m,\u001b[0m \u001b[0msm_denom\u001b[0m \u001b[0;34m=\u001b[0m \u001b[0mself\u001b[0m\u001b[0;34m.\u001b[0m\u001b[0msherman_morrison\u001b[0m\u001b[0;34m(\u001b[0m\u001b[0mself\u001b[0m\u001b[0;34m.\u001b[0m\u001b[0mxTx_inv\u001b[0m\u001b[0;34m,\u001b[0m \u001b[0mx\u001b[0m\u001b[0;34m,\u001b[0m \u001b[0mx\u001b[0m\u001b[0;34m)\u001b[0m\u001b[0;34m\u001b[0m\u001b[0;34m\u001b[0m\u001b[0m\n\u001b[1;32m    142\u001b[0m             \u001b[0;31m##self.xTx_inv = self.reregularizer(self.xTx_inv, self.dlamdn) ## real online regularization too slow\u001b[0m\u001b[0;34m\u001b[0m\u001b[0;34m\u001b[0m\u001b[0;34m\u001b[0m\u001b[0m\n\u001b[0;32m--> 143\u001b[0;31m             \u001b[0mself\u001b[0m\u001b[0;34m.\u001b[0m\u001b[0mxTy_temp\u001b[0m \u001b[0;34m=\u001b[0m \u001b[0mself\u001b[0m\u001b[0;34m.\u001b[0m\u001b[0mxTy\u001b[0m \u001b[0;34m+\u001b[0m \u001b[0mtorch\u001b[0m\u001b[0;34m.\u001b[0m\u001b[0mmatmul\u001b[0m\u001b[0;34m(\u001b[0m\u001b[0mx\u001b[0m\u001b[0;34m,\u001b[0m \u001b[0mtorch\u001b[0m\u001b[0;34m.\u001b[0m\u001b[0mtranspose\u001b[0m\u001b[0;34m(\u001b[0m\u001b[0mself\u001b[0m\u001b[0;34m.\u001b[0m\u001b[0my_backward\u001b[0m\u001b[0;34m,\u001b[0m \u001b[0;36m0\u001b[0m\u001b[0;34m,\u001b[0m \u001b[0;36m1\u001b[0m\u001b[0;34m)\u001b[0m\u001b[0;34m)\u001b[0m\u001b[0;34m\u001b[0m\u001b[0;34m\u001b[0m\u001b[0m\n\u001b[0m\u001b[1;32m    144\u001b[0m             \u001b[0mself\u001b[0m\u001b[0;34m.\u001b[0m\u001b[0mbetaT_forward_temp\u001b[0m \u001b[0;34m=\u001b[0m \u001b[0mtorch\u001b[0m\u001b[0;34m.\u001b[0m\u001b[0mmatmul\u001b[0m\u001b[0;34m(\u001b[0m\u001b[0mself\u001b[0m\u001b[0;34m.\u001b[0m\u001b[0mxTx_inv_temp\u001b[0m\u001b[0;34m,\u001b[0m \u001b[0mself\u001b[0m\u001b[0;34m.\u001b[0m\u001b[0mxTy_temp\u001b[0m\u001b[0;34m)\u001b[0m\u001b[0;34m\u001b[0m\u001b[0;34m\u001b[0m\u001b[0m\n\u001b[1;32m    145\u001b[0m             \u001b[0mself\u001b[0m\u001b[0;34m.\u001b[0m\u001b[0mbetaT_forward_temp\u001b[0m \u001b[0;34m=\u001b[0m \u001b[0mtorch\u001b[0m\u001b[0;34m.\u001b[0m\u001b[0mtranspose\u001b[0m\u001b[0;34m(\u001b[0m\u001b[0mself\u001b[0m\u001b[0;34m.\u001b[0m\u001b[0mbetaT_forward_temp\u001b[0m\u001b[0;34m,\u001b[0m \u001b[0;36m0\u001b[0m\u001b[0;34m,\u001b[0m \u001b[0;36m1\u001b[0m\u001b[0;34m)\u001b[0m\u001b[0;34m\u001b[0m\u001b[0;34m\u001b[0m\u001b[0m\n",
            "\u001b[0;31mKeyboardInterrupt\u001b[0m: "
          ]
        }
      ],
      "execution_count": 26,
      "metadata": {
        "jupyter": {
          "source_hidden": false,
          "outputs_hidden": false
        },
        "nteract": {
          "transient": {
            "deleting": false
          }
        },
        "gather": {
          "logged": 1640725684605
        }
      }
    },
    {
      "cell_type": "markdown",
      "source": [
        "#### test on 0 through 7 after transfer learning"
      ],
      "metadata": {
        "nteract": {
          "transient": {
            "deleting": false
          }
        }
      }
    },
    {
      "cell_type": "code",
      "source": [
        "print('test on 0-7 after transfer learning') \r\n",
        "_, _, _, acc_train_initial_after = run(test_initial, fit=False, max_iters=10000, model=hypothesis_1_model_copy) "
      ],
      "outputs": [],
      "execution_count": null,
      "metadata": {
        "jupyter": {
          "source_hidden": false,
          "outputs_hidden": false
        },
        "nteract": {
          "transient": {
            "deleting": false
          }
        },
        "gather": {
          "logged": 1640725705692
        }
      }
    },
    {
      "cell_type": "markdown",
      "source": [
        "#### test on 8 and 9 after transfer learning "
      ],
      "metadata": {
        "nteract": {
          "transient": {
            "deleting": false
          }
        }
      }
    },
    {
      "cell_type": "code",
      "source": [
        "print('test on 8-9 after transfer learning') \r\n",
        "_, _, _, acc_test_expanded = run(test_expanded, fit=False, max_iters=10000, model=hypothesis_1_model_copy) "
      ],
      "outputs": [],
      "execution_count": null,
      "metadata": {
        "jupyter": {
          "source_hidden": false,
          "outputs_hidden": false
        },
        "nteract": {
          "transient": {
            "deleting": false
          }
        },
        "gather": {
          "logged": 1640725710810
        }
      }
    },
    {
      "cell_type": "markdown",
      "source": [
        "# scratch space\r\n",
        "\r\n",
        "ideas\r\n",
        "- to improve accuracies:\r\n",
        "  - larger models, likely needs GPUs \r\n",
        "  - hyperparamter tuning: try different paths for $\\frac{\\partial \\lambda}{\\partial n}(n)$\r\n",
        "- to explore strength of transfer learning result\r\n",
        "  - compare against a good competing method \r\n",
        "  - ... $\\leftarrow$ really need more here"
      ],
      "metadata": {
        "nteract": {
          "transient": {
            "deleting": false
          }
        }
      }
    },
    {
      "cell_type": "code",
      "source": [
        "## trying to improve accuracy: using a dense net architecture found online \r\n",
        "## this is turning-out to be difficult... \r\n",
        "\r\n",
        "lam = 100. \r\n",
        "dlamdn = 10. \r\n",
        "reregularization_frequency = 1000 \r\n",
        "clip = 100. \r\n",
        "\r\n",
        "model_3 = OnlineNet( \r\n",
        "    layer_list = [ \r\n",
        "        OnlineDenseLayer(p=1*1*28*28, q=512, activation=leaky_relu, activation_inverse=inv_leaky_relu, lam=lam, clip=clip), \r\n",
        "        OnlineDenseLayer(p=512, q=n_labels, activation=torch.sigmoid, activation_inverse=inv_sigmoid, lam=lam, clip=clip) \r\n",
        "    ], \r\n",
        "    reregularization_frequency = reregularization_frequency, \r\n",
        "    dlamdn = dlamdn \r\n",
        ") \r\n",
        "\r\n",
        "print('fit on train data') \r\n",
        "_, _, _, acc_3 = run(train_loader, fit=True, max_iters=10000, model=model_3)"
      ],
      "outputs": [
        {
          "output_type": "stream",
          "name": "stderr",
          "text": "acc: 0.76777, err: 4.23754, y_std: 0.09292, stab: 1.00047:  17%|█▋        | 10000/60000 [01:54<09:32, 87.30it/s]\n"
        },
        {
          "output_type": "stream",
          "name": "stdout",
          "text": "fit on train data\n"
        }
      ],
      "execution_count": 14,
      "metadata": {
        "jupyter": {
          "source_hidden": false,
          "outputs_hidden": false
        },
        "nteract": {
          "transient": {
            "deleting": false
          }
        },
        "gather": {
          "logged": 1640725825410
        }
      }
    },
    {
      "cell_type": "code",
      "source": [
        "model_3_1 = model_3.copy() \r\n",
        "model_3_1.dlamdn = 100000 \r\n",
        "\r\n",
        "_, _, _, acc_3_1 = run(train_loader, fit=True, max_iters=3000, model=model_3_1)"
      ],
      "outputs": [
        {
          "output_type": "stream",
          "name": "stderr",
          "text": "acc: 0.13335, err: 5.78938, y_std: 0.10098, stab: 1.00166:   5%|▌         | 3000/60000 [00:35<11:07, 85.40it/s]\n"
        }
      ],
      "execution_count": 15,
      "metadata": {
        "jupyter": {
          "source_hidden": false,
          "outputs_hidden": false
        },
        "nteract": {
          "transient": {
            "deleting": false
          }
        },
        "gather": {
          "logged": 1640725860508
        }
      }
    },
    {
      "cell_type": "code",
      "source": [
        "## inspect \r\n",
        "p = train_initial[0]\r\n",
        "x, y = build_data(p[0], p[1]) \r\n",
        "y_hat = model_3_1(x) \r\n",
        "torch.cat((y, y_hat), dim=1) "
      ],
      "outputs": [
        {
          "output_type": "execute_result",
          "execution_count": 16,
          "data": {
            "text/plain": "tensor([[0.0500, 0.7424],\n        [0.0500, 0.8904],\n        [0.0500, 0.8776],\n        [0.0500, 0.8693],\n        [0.0500, 0.7748],\n        [0.9500, 0.7470],\n        [0.0500, 0.8215],\n        [0.0500, 0.8227],\n        [0.0500, 0.7933],\n        [0.0500, 0.7836]])"
          },
          "metadata": {}
        }
      ],
      "execution_count": 16,
      "metadata": {
        "jupyter": {
          "source_hidden": false,
          "outputs_hidden": false
        },
        "nteract": {
          "transient": {
            "deleting": false
          }
        },
        "gather": {
          "logged": 1640725860632
        }
      }
    },
    {
      "cell_type": "code",
      "source": [
        "## hypothesis 2: transfer learning is robust \r\n",
        "## fit on 8-9, then 0-7 \r\n",
        "\r\n",
        "lam = 100. \r\n",
        "dlamdn = 10. \r\n",
        "reregularization_frequency = 1000 \r\n",
        "clip = 100. \r\n",
        "\r\n",
        "model_4 = OnlineNet( \r\n",
        "    layer_list = [ \r\n",
        "        OnlineDenseLayer(p=1*1*28*28, q=100, activation=leaky_relu, activation_inverse=inv_leaky_relu, lam=lam, clip=clip), \r\n",
        "        OnlineDenseLayer(p=100, q=100, activation=leaky_relu, activation_inverse=inv_leaky_relu, lam=lam, clip=clip), \r\n",
        "        OnlineDenseLayer(p=100, q=100, activation=leaky_relu, activation_inverse=inv_leaky_relu, lam=lam, clip=clip), \r\n",
        "        OnlineDenseLayer(p=100, q=n_labels, activation=torch.sigmoid, activation_inverse=inv_sigmoid, lam=lam, clip=clip) \r\n",
        "    ], \r\n",
        "    reregularization_frequency = reregularization_frequency, \r\n",
        "    dlamdn = dlamdn \r\n",
        ") \r\n",
        "\r\n",
        "print('fit on 8-9') \r\n",
        "_, _, _, _ = run(train_expanded, fit=True, max_iters=10000, model=model_4) \r\n",
        "\r\n",
        "print('test on 8-9') \r\n",
        "_, _, _, _ = run(test_expanded, fit=False, max_iters=10000, model=model_4) \r\n",
        "\r\n",
        "print('fit on 0-7') \r\n",
        "_, _, _, _ = run(train_initial, fit=True, max_iters=10000, model=model_4) \r\n",
        "\r\n",
        "print('test on 0-7') \r\n",
        "_, _, _, _ = run(test_initial, fit=False, max_iters=10000, model=model_4) \r\n",
        "\r\n",
        "print('test on 8-9') \r\n",
        "_, _, _, _ = run(test_expanded, fit=False, max_iters=10000, model=model_4) "
      ],
      "outputs": [
        {
          "output_type": "stream",
          "name": "stderr",
          "text": "acc: 0.80397, err: 4.42073, y_std: 0.06614, stab: 1.00017: 100%|█████████▉| 10000/10001 [01:10<00:00, 142.04it/s]\nacc: 0.76474, err: 4.31255, y_std: 0.07799, stab: 1.00000: 100%|██████████| 1983/1983 [00:05<00:00, 386.35it/s]\nacc: 0.00920, err: 4.74959, y_std: 0.01047, stab: 1.00009:  25%|██▍       | 10000/40798 [01:10<03:36, 142.38it/s]\nacc: 0.01686, err: 4.69201, y_std: 0.03374, stab: 1.00000: 100%|██████████| 8017/8017 [00:20<00:00, 385.09it/s]\nacc: 0.25299, err: 4.63899, y_std: 0.03366, stab: 1.00000: 100%|██████████| 1983/1983 [00:05<00:00, 392.06it/s]\n"
        },
        {
          "output_type": "stream",
          "name": "stdout",
          "text": "fit on 8-9\ntest on 8-9\nfit on 0-7\ntest on 0-7\ntest on 8-9\n"
        }
      ],
      "execution_count": 17,
      "metadata": {
        "jupyter": {
          "source_hidden": false,
          "outputs_hidden": false
        },
        "nteract": {
          "transient": {
            "deleting": false
          }
        },
        "gather": {
          "logged": 1640726032270
        }
      }
    },
    {
      "cell_type": "code",
      "source": [
        "## Does freezing lower layers help transfer learning? \r\n",
        "\r\n",
        "lam = 100. \r\n",
        "dlamdn = 10. \r\n",
        "reregularization_frequency = 1000 \r\n",
        "clip = 100. \r\n",
        "\r\n",
        "model_5 = OnlineNet( \r\n",
        "    layer_list = [ \r\n",
        "        OnlineDenseLayer(p=1*1*28*28, q=100, activation=leaky_relu, activation_inverse=inv_leaky_relu, lam=lam, clip=clip), \r\n",
        "        OnlineDenseLayer(p=100, q=100, activation=leaky_relu, activation_inverse=inv_leaky_relu, lam=lam, clip=clip), \r\n",
        "        OnlineDenseLayer(p=100, q=100, activation=leaky_relu, activation_inverse=inv_leaky_relu, lam=lam, clip=clip), \r\n",
        "        OnlineDenseLayer(p=100, q=n_labels, activation=torch.sigmoid, activation_inverse=inv_sigmoid, lam=lam, clip=clip) \r\n",
        "    ], \r\n",
        "    reregularization_frequency = reregularization_frequency, \r\n",
        "    dlamdn = dlamdn \r\n",
        ") \r\n",
        "\r\n",
        "#print('fit on 0-7') \r\n",
        "_, _, _, _ = run(train_initial, fit=True, max_iters=10000, model=model_5) \r\n",
        "\r\n",
        "#print('test on 0-7') \r\n",
        "_, _, _, _ = run(test_initial, fit=False, max_iters=10000, model=model_5) \r\n",
        "\r\n",
        "model_5.layer_list[0].trainable = False \r\n",
        "model_5.layer_list[1].trainable = False \r\n",
        "model_5.layer_list[2].trainable = False \r\n",
        "\r\n",
        "#print('fit on 8-9') \r\n",
        "_, _, _, _ = run(train_expanded, fit=True, max_iters=10000, model=model_5) \r\n",
        "\r\n",
        "#print('test on 8-9') \r\n",
        "_, _, _, _ = run(test_expanded, fit=False, max_iters=10000, model=model_5) \r\n",
        "#print('test on 0-7') \r\n",
        "_, _, _, _ = run(test_initial, fit=False, max_iters=10000, model=model_5) "
      ],
      "outputs": [
        {
          "output_type": "stream",
          "name": "stderr",
          "text": "acc: 0.66772, err: 4.67209, y_std: 0.02354, stab: 5.00000:  25%|██▍       | 10000/40798 [01:05<03:23, 151.59it/s]\nacc: 0.68942, err: 4.20784, y_std: 0.09580, stab: 1.00000: 100%|██████████| 8017/8017 [00:21<00:00, 381.67it/s]\nacc: 0.57032, err: 4.62903, y_std: 0.03707, stab: 5.00000: 100%|█████████▉| 10000/10001 [00:40<00:00, 245.54it/s]\nacc: 0.58905, err: 4.67013, y_std: 0.03525, stab: 1.00000: 100%|██████████| 1983/1983 [00:05<00:00, 371.48it/s]\nacc: 0.39470, err: 4.24401, y_std: 0.09614, stab: 1.00000: 100%|██████████| 8017/8017 [00:21<00:00, 380.89it/s]\n"
        }
      ],
      "execution_count": 24,
      "metadata": {
        "jupyter": {
          "source_hidden": false,
          "outputs_hidden": false
        },
        "nteract": {
          "transient": {
            "deleting": false
          }
        },
        "gather": {
          "logged": 1640727298020
        }
      }
    },
    {
      "cell_type": "code",
      "source": [
        "## Does freezing lower layers help transfer learning? This time, without reregularization. \r\n",
        "\r\n",
        "lam = 100. \r\n",
        "dlamdn = 10. \r\n",
        "reregularization_frequency = 1000 \r\n",
        "clip = 100. \r\n",
        "\r\n",
        "model_6 = OnlineNet( \r\n",
        "    layer_list = [ \r\n",
        "        OnlineDenseLayer(p=1*1*28*28, q=100, activation=leaky_relu, activation_inverse=inv_leaky_relu, lam=lam, clip=clip), \r\n",
        "        OnlineDenseLayer(p=100, q=100, activation=leaky_relu, activation_inverse=inv_leaky_relu, lam=lam, clip=clip), \r\n",
        "        OnlineDenseLayer(p=100, q=100, activation=leaky_relu, activation_inverse=inv_leaky_relu, lam=lam, clip=clip), \r\n",
        "        OnlineDenseLayer(p=100, q=n_labels, activation=torch.sigmoid, activation_inverse=inv_sigmoid, lam=lam, clip=clip) \r\n",
        "    ], \r\n",
        "    reregularization_frequency = reregularization_frequency, \r\n",
        "    dlamdn = dlamdn \r\n",
        ") \r\n",
        "\r\n",
        "#print('fit on 0-7') \r\n",
        "_, _, _, _ = run(train_initial, fit=True, max_iters=10000, model=model_6) \r\n",
        "\r\n",
        "#print('test on 0-7') \r\n",
        "_, _, _, _ = run(test_initial, fit=False, max_iters=10000, model=model_6) \r\n",
        "\r\n",
        "model_6.dlamdn = None \r\n",
        "model_6.layer_list[0].trainable = False \r\n",
        "model_6.layer_list[1].trainable = False \r\n",
        "model_6.layer_list[2].trainable = False \r\n",
        "model_6.layer_list[3].dlamdn = None \r\n",
        "\r\n",
        "#print('fit on 8-9') \r\n",
        "_, _, _, _ = run(train_expanded, fit=True, max_iters=10000, model=model_6) \r\n",
        "\r\n",
        "#print('test on 8-9') \r\n",
        "_, _, _, _ = run(test_expanded, fit=False, max_iters=10000, model=model_6) \r\n",
        "#print('test on 0-7') \r\n",
        "_, _, _, _ = run(test_initial, fit=False, max_iters=10000, model=model_6) "
      ],
      "outputs": [
        {
          "output_type": "stream",
          "name": "stderr",
          "text": "acc: 0.66772, err: 4.67209, y_std: 0.02354, stab: 5.00000:  25%|██▍       | 10000/40798 [01:08<03:30, 146.21it/s]\nacc: 0.68942, err: 4.20784, y_std: 0.09580, stab: 1.00000: 100%|██████████| 8017/8017 [00:21<00:00, 378.78it/s]\nacc: 0.57082, err: 4.62437, y_std: 0.03780, stab: 5.00000: 100%|█████████▉| 10000/10001 [00:36<00:00, 275.91it/s]\nacc: 0.59003, err: 4.65936, y_std: 0.03680, stab: 1.00000: 100%|██████████| 1983/1983 [00:05<00:00, 376.05it/s]\nacc: 0.39056, err: 4.23951, y_std: 0.09700, stab: 1.00000: 100%|██████████| 8017/8017 [00:21<00:00, 381.20it/s]\n"
        }
      ],
      "execution_count": 25,
      "metadata": {
        "jupyter": {
          "source_hidden": false,
          "outputs_hidden": false
        },
        "nteract": {
          "transient": {
            "deleting": false
          }
        },
        "gather": {
          "logged": 1640727762587
        }
      }
    },
    {
      "cell_type": "markdown",
      "source": [
        "# Conclusion\r\n",
        "\r\n",
        "In theory, a least squares model should be capable of perfect transfer learning. That's not showing-up here. There's a little potential shown in "
      ],
      "metadata": {
        "nteract": {
          "transient": {
            "deleting": false
          }
        }
      }
    },
    {
      "cell_type": "markdown",
      "source": [
        "# scatch space \r\n",
        "\r\n",
        "$\\hat \\theta_{MLE} := \\text{arg max}_\\theta f_X(X; \\theta) = \\text{arg max}_\\theta n^{-1} f_X(X; \\theta) \\to \\text{arg max}_\\theta \\mathbb{E} f_X(X; \\theta) \\text{ as } {n \\to \\infty} $\r\n",
        "\r\n",
        "$\\hat \\beta := \\text{arg min}_\\beta \\|y - x \\beta \\|^2 + \\lambda(n) \\| \\beta \\|^2 = \\left( x^Tx + \\lambda(n) \\right)^{-1} x^Ty = \\left(X_{n-1}^TX_{n-1} + x_n^T x_n + \\lambda(n) \\right)^{-1} \\left(X_{n-1}^TY_{n-1} + x_n^T y_n \\right) $\r\n",
        "\r\n",
        "$ = \\frac{n}{n} \\left( x^Tx + \\lambda(n) \\right)^{-1} x^Ty $\r\n",
        "\r\n",
        "$ = \\left( \\frac{x^Tx}{n} + \\frac{\\lambda(n)}{n} \\right)^{-1} \\frac{x^Ty}{n} $\r\n",
        "\r\n",
        "Apply the SLLN $\\left( n^{-1}\\sum_{i=1}^n X_i \\to \\mathbb{E}X_1 \\text{ a.s. if } X_i \\text{ iid} \\right)$.\r\n",
        "\r\n",
        "$ = \\left( \\mathbb{E}X^TX + \\frac{\\lambda(n)}{n} \\right)^{-1} \\mathbb{E}X^TY $"
      ],
      "metadata": {
        "nteract": {
          "transient": {
            "deleting": false
          }
        }
      }
    }
  ],
  "metadata": {
    "kernelspec": {
      "name": "python3-azureml",
      "language": "python",
      "display_name": "Python 3.6 - AzureML"
    },
    "language_info": {
      "name": "python",
      "version": "3.6.9",
      "mimetype": "text/x-python",
      "codemirror_mode": {
        "name": "ipython",
        "version": 3
      },
      "pygments_lexer": "ipython3",
      "nbconvert_exporter": "python",
      "file_extension": ".py"
    },
    "kernel_info": {
      "name": "python3-azureml"
    },
    "nteract": {
      "version": "nteract-front-end@1.0.0"
    },
    "microsoft": {
      "host": {
        "AzureML": {
          "notebookHasBeenCompleted": true
        }
      }
    }
  },
  "nbformat": 4,
  "nbformat_minor": 2
}