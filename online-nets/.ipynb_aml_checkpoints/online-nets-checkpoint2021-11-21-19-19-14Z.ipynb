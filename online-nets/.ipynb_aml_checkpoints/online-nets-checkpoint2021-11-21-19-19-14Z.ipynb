{
  "cells": [
    {
      "cell_type": "markdown",
      "source": [
        "# online nets\r\n",
        "\r\n",
        "Deep learning is powerful but computationally expensive, frequently requiring massive compute budgets. In persuit of cost-effective-yet-powerful AI, this work explores and evaluates a heuristic which should lend to more-efficient use of data through online learning.\r\n",
        "\r\n",
        "Goal: evaluate a deep learning alternative capable of true online learning. Solution requirements:\r\n",
        "\r\n",
        "1. catastrophic forgetting should be impossible;\r\n",
        "2. all data is integrated into sufficient statistics of fixed dimension;\r\n",
        "3. and our solution should have predictive power comparable to deep learning.\r\n",
        "\r\n",
        "## modeling strategy\r\n",
        "\r\n",
        "We will not attempt to derive sufficient statistics for an entire deep net, but instead leverage well-known sufficient statistics for least squares models, \r\n",
        "so will have sufficient statistics per deep net layer. If this can be empirically shown effective, we'll build-out the theory afterwards. \r\n",
        "\r\n",
        "Recognizing a deep net as a series of compositions, as follows.\r\n",
        "\r\n",
        "$ Y + \\varepsilon \\approx \\mathbb{E}Y = \\sigma_3 \\circ \\beta_3^T \\circ \\sigma_2 \\circ \\beta_2^T \\circ \\sigma_1 \\circ \\beta_1^T X $\r\n",
        "\r\n",
        "So, we can isolate invidivdual $\\beta_j$ matrices using (psuedo-)inverses $\\beta_j^{-1}$ like so.\r\n",
        "\r\n",
        "$ \\sigma_2^{-1} \\circ \\beta_3^{-1} \\circ \\sigma_3^{-1} (Y) \\approx  \\beta_2^T \\circ \\sigma_1 \\circ \\beta_1^T X $\r\n",
        "\r\n",
        "In this example, if we freeze all $\\beta_j$'s except $\\beta_2$, we are free to update $\\hat \\beta_2$ using $\\tilde Y = \\sigma_2^{-1} \\circ \\beta_3^{-1} \\circ \\sigma_3^{-1} (Y) $\r\n",
        "and $\\tilde X = \\sigma_1 \\circ \\beta_1^T X $.\r\n",
        "\r\n",
        "Using a least squares formulation for fitting to $\\left( \\tilde X, \\tilde Y \\right)$, we get sufficient statistics per layer."
      ],
      "metadata": {
        "nteract": {
          "transient": {
            "deleting": false
          }
        }
      }
    },
    {
      "cell_type": "markdown",
      "source": [
        "# model code definitions"
      ],
      "metadata": {
        "nteract": {
          "transient": {
            "deleting": false
          }
        }
      }
    },
    {
      "cell_type": "code",
      "source": [
        "import torch\n",
        "\n",
        "TORCH_TENSOR_TYPE = type(torch.tensor(1)) \n",
        "\n",
        "## NOT USED \n",
        "def padded_diagonal(diag_value, n_rows, n_cols): \n",
        "    ## construct diagonal matrix \n",
        "    n_diag = min(n_rows, n_cols)\n",
        "    diag = torch.diag(torch.tensor([diag_value]*n_diag))\n",
        "    if n_rows > n_cols: \n",
        "        ## pad rows \n",
        "        pad = n_rows - n_cols \n",
        "        return torch.cat([diag, torch.zeros((pad, n_cols))], 0) \n",
        "    if n_cols > n_rows: \n",
        "        ## pad cols \n",
        "        pad = n_cols - n_rows \n",
        "        return torch.cat([diag, torch.zeros((n_rows, pad))], 1) \n",
        "    ## no padding \n",
        "    return diag \n",
        "\n",
        "def padded_row(value, n_rows, n_cols):\n",
        "    row = torch.tensor([value]*n_cols).reshape((1, -1)) \n",
        "    return torch.cat([row, torch.zeros((n_rows-1, n_cols))], 0)\n",
        "\n",
        "def iterated_diagonals(diag_value, n_rows, n_cols): \n",
        "    ## construct diagonal matrix \n",
        "    n_diag = min(n_rows, n_cols)\n",
        "    diag = torch.diag(torch.tensor([diag_value]*n_diag))\n",
        "    if n_rows > n_cols: \n",
        "        ## pad rows \n",
        "        pad = n_rows//n_cols + 1\n",
        "        return torch.cat([diag]*pad, 0)[:n_rows, :n_cols] \n",
        "    if n_cols > n_rows: \n",
        "        ## pad cols \n",
        "        pad = n_cols//n_rows + 1 \n",
        "        return torch.cat([diag]*pad, 1)[:n_rows, :n_cols] \n",
        "    ## no padding \n",
        "    return diag \n",
        "\n",
        "class OnlineDenseLayer: \n",
        "    ''' \n",
        "    A single dense net, formulated as a least squares model. \n",
        "    ''' \n",
        "    def __init__(self, p, q, activation=lambda x:x, activation_inverse=lambda x:x, lam=1., clip=10000., dlamdn=0.): \n",
        "        ''' \n",
        "        inputs: \n",
        "        - p: input dimension \n",
        "        - q: output dimension \n",
        "        - activation: non-linear function, from R^p to R^q. Default is identity. \n",
        "        - activation_inverse: inverse of the activation function. Default is identity. \n",
        "        - lam: regularization term \n",
        "        - clip: predicted value clipping limit \n",
        "        - dlamdn: rate of lambda growth relative to n for online regularization \n",
        "        ''' \n",
        "        lam = float(lam) \n",
        "        clip = float(clip) \n",
        "        dlamdn = float(dlamdn)\n",
        "        self.__validate_inputs(p=p, q=q, lam=lam, clip=clip, dlamdn=dlamdn) \n",
        "        self.p = p \n",
        "        self.q = q \n",
        "        self.clip = clip \n",
        "        self.activation = activation \n",
        "        self.activation_inverse = activation_inverse \n",
        "        self.batch_norm_forward_mean = None \n",
        "        self.batch_norm_forward_std = None \n",
        "        self.batch_norm_forward_n = 0 \n",
        "        self.batch_norm_backward_mean = None \n",
        "        self.batch_norm_backward_std = None \n",
        "        self.batch_norm_backward_n = 0 \n",
        "        self.lam = lam \n",
        "        self.xTy = iterated_diagonals(lam, p+1,q) # +1 for intercept \n",
        "        self.yTx = iterated_diagonals(lam, q+1,p) \n",
        "        self.xTx_inv = torch.diag(torch.tensor([1./lam]*(p+1))) \n",
        "        self.yTy_inv = torch.diag(torch.tensor([1./lam]*(q+1))) \n",
        "        self.betaT_forward = torch.matmul(self.xTx_inv, self.xTy) \n",
        "        self.betaT_forward = torch.transpose(self.betaT_forward, 0, 1) \n",
        "        self.betaT_backward = torch.matmul(self.yTy_inv, self.yTx) \n",
        "        self.betaT_backward = torch.transpose(self.betaT_backward, 0, 1) \n",
        "        self.x_forward = None \n",
        "        self.y_forward = None \n",
        "        self.x_backward = None \n",
        "        self.y_backward = None \n",
        "        pass \n",
        "    def forward(self, x): \n",
        "        'creates and stores x_forward and y_forward, then returns activation(y_forward)' \n",
        "        self.__validate_inputs(x=x, p=self.p)  \n",
        "        x = self.batch_norm(x, forward=True) ## TODO use fitting or not \n",
        "        self.x_forward = x\n",
        "        x = torch.cat((torch.tensor([[1.]]), x), dim=0) # intercept \n",
        "        self.y_forward = torch.matmul(self.betaT_forward, x) # predict \n",
        "        self.y_forward = torch.clip(self.y_forward, -self.clip, self.clip)\n",
        "        return self.activation(self.y_forward) \n",
        "    def backward(self, y): \n",
        "        'creates and stores x_backward and y_backward, then returns y_backward' \n",
        "        y = self.activation_inverse(y) \n",
        "        self.__validate_inputs(y=y, q=self.q) \n",
        "        y = self.batch_norm(y, forward=False) ## TODO use fitting or not\n",
        "        self.y_backward = y \n",
        "        y = torch.cat((torch.tensor([[1.]]), y), dim=0) \n",
        "        self.x_backward = torch.matmul(self.betaT_backward, y) \n",
        "        self.x_forward = torch.clip(self.x_forward, -self.clip, self.clip)\n",
        "        return self.x_backward \n",
        "    def forward_fit(self): \n",
        "        'uses x_forward and y_backward to update forward model, then returns Sherman Morrison denominator' \n",
        "        self.__validate_inputs(x=self.x_forward, y=self.y_backward, p=self.p, q=self.q) \n",
        "        x = torch.cat((torch.tensor([[1.]]), self.x_forward), dim=0) \n",
        "        self.xTx_inv, sm_denom = self.sherman_morrison(self.xTx_inv, x, x) \n",
        "        self.xTy += torch.matmul(x, torch.transpose(self.y_backward, 0, 1)) \n",
        "        self.betaT_forward = torch.matmul(self.xTx_inv, self.xTy) \n",
        "        self.betaT_forward = torch.transpose(self.betaT_forward, 0, 1) \n",
        "        return sm_denom \n",
        "    def backward_fit(self):\n",
        "        'uses x_backward and y_forward to update backward model, then returns Sherman Morrison denominator' \n",
        "        self.__validate_inputs(x=self.x_forward, y=self.y_backward, p=self.p, q=self.q) \n",
        "        y = torch.cat((torch.tensor([[1.]]), self.y_backward), dim=0) \n",
        "        self.yTy_inv, sm_denom = self.sherman_morrison(self.yTy_inv, y, y) \n",
        "        self.yTx += torch.matmul(y, torch.transpose(self.x_backward, 0, 1)) \n",
        "        self.betaT_backward = torch.matmul(self.yTy_inv, self.yTx) \n",
        "        self.betaT_backward = torch.transpose(self.betaT_backward, 0, 1) \n",
        "        return sm_denom \n",
        "    def batch_norm(self, x, forward, fitting=True):\n",
        "        '''\n",
        "        batch normalize tensor\n",
        "        inputs:\n",
        "        - x: (tensor) to be normalized \n",
        "        - forward: (boolean) indicates prediction is forward, instead of backward \n",
        "        - fitting: (boolean) if in model fitting, update values \n",
        "        '''\n",
        "        ## retrieve \n",
        "        if forward:\n",
        "            m = self.batch_norm_forward_mean \n",
        "            s = self.batch_norm_forward_std\n",
        "            n = self.batch_norm_forward_n \n",
        "        else: \n",
        "            m = self.batch_norm_backward_mean \n",
        "            s = self.batch_norm_backward_std\n",
        "            n = self.batch_norm_backward_n \n",
        "        ## caculate \n",
        "        if n == 0: \n",
        "            n = 1 \n",
        "            m = x.mean() \n",
        "            s = x.std() \n",
        "        else: \n",
        "            n += 1 \n",
        "            m = x.mean()/n + m*(n-1)/n \n",
        "            s = x.std()/n + s*(n-1)/n \n",
        "        ## store \n",
        "        if fitting:\n",
        "            if forward: \n",
        "                self.batch_norm_forward_mean = m \n",
        "                self.batch_norm_forward_std = s \n",
        "                self.batch_norm_forward_n = n \n",
        "            else: \n",
        "                self.batch_norm_backward_mean = m\n",
        "                self.batch_norm_backward_std = s \n",
        "                self.batch_norm_backward_n = n \n",
        "        ## no dividing by zero \n",
        "        if s < 1e-3:\n",
        "            s = 1e-3 \n",
        "        return (x - m)/s \n",
        "    @staticmethod \n",
        "    def sherman_morrison(inv_mat, vec1, vec2): \n",
        "        ''' \n",
        "        applies Sherman Morrison updates, (mat + vec1 vec2^T)^{-1} \n",
        "        inputs: \n",
        "        - inv_mat: an inverted matrix \n",
        "        - vec1: a column vector \n",
        "        - vec2: a column vector \n",
        "        returns: \n",
        "        - updated matrix \n",
        "        - the Sherman Morrison denominator, for tracking numerical stability \n",
        "        ''' \n",
        "        v2t = torch.transpose(vec2, 0, 1)\n",
        "        denominator = 1. + torch.matmul(torch.matmul(v2t, inv_mat), vec1) \n",
        "        numerator = torch.matmul(torch.matmul(inv_mat, vec1), torch.matmul(v2t, inv_mat)) \n",
        "        updated_inv_mat = inv_mat - numerator / denominator \n",
        "        return updated_inv_mat, float(denominator) \n",
        "    def __validate_inputs(self, p=None, q=None, lam=None, x=None, y=None, clip=None, dlamdn=None): \n",
        "        'raises value exceptions if provided parameters are invalid'\n",
        "        if q is not None:\n",
        "            if not isinstance(q, int):\n",
        "                raise ValueError('`q` must be int!')\n",
        "            if q <= 0:\n",
        "                raise ValueError('`q` must be greater than zero!')\n",
        "        if p is not None:\n",
        "            if not isinstance(p, int): \n",
        "                raise ValueError('`p` must be int!')\n",
        "            if p <= 0: \n",
        "                raise ValueError('`p` must be greater than zero!')\n",
        "        if lam is not None:\n",
        "            if not (isinstance(lam, float) or isinstance(lam, int)):\n",
        "                raise ValueError('`lam` must be float or int!')\n",
        "            if lam < 0:\n",
        "                raise ValueError('`lam` must be non-negative!')\n",
        "        if x is not None and p is not None: \n",
        "            if type(x) != TORCH_TENSOR_TYPE:\n",
        "                raise ValueError('`x` must be of type `torch.tensor`!') \n",
        "            if list(x.shape) != [p,1]: \n",
        "                raise ValueError('`x.shape` must be `[p,1]`!') \n",
        "            if torch.isnan(x).any():\n",
        "                raise ValueError('`x` contains `nan`!')\n",
        "            pass \n",
        "        if y is not None and q is not None: \n",
        "            if type(y) != TORCH_TENSOR_TYPE:\n",
        "                raise ValueError('`y` must be of type `torch.tensor`!') \n",
        "            if list(y.shape) != [q,1]: \n",
        "                raise ValueError('`y.shape` must be `[q,1]`') \n",
        "            if torch.isnan(y).any():\n",
        "                raise ValueError('`y` contains `nan`!')\n",
        "            pass  \n",
        "        if clip is not None: \n",
        "            if type(clip) != float:\n",
        "                raise ValueError('`clip` my be of type `float`!') \n",
        "            if clip <= 0.: \n",
        "                raise ValueError('`clip` must be positive!')\n",
        "            pass\n",
        "        if dlamdn is not None: \n",
        "            if type(dlamdn) != float:\n",
        "                raise ValueError('`dlamdn` my be of type `float`!') \n",
        "            if dlamdn < 0.: \n",
        "                raise ValueError('`dlamdn` must be non-negative!')\n",
        "            pass\n",
        "        pass\n",
        "    pass\n",
        "\n",
        "class OnlineNet: \n",
        "    'online, sequential dense net' \n",
        "    def __init__(self, layer_list): \n",
        "        ## validate inputs \n",
        "        if type(layer_list) != list: \n",
        "            raise ValueError('`layer_list` must be of type list!') \n",
        "        for layer in layer_list: \n",
        "            if not issubclass(type(layer), OnlineDenseLayer):\n",
        "                raise ValueError('each item in `layer_list` must be an instance of a subclass of `OnlineDenseLayer`!') \n",
        "        ## assign \n",
        "        self.layer_list = layer_list \n",
        "        pass \n",
        "    def forward(self, x): \n",
        "        'predict forward'\n",
        "        for layer in self.layer_list:\n",
        "            x = layer.forward(x) \n",
        "        return x \n",
        "    def backward(self, y):\n",
        "        'predict backward'\n",
        "        for layer in reversed(self.layer_list): \n",
        "            y = layer.backward(y) \n",
        "        return y \n",
        "    def fit(self): \n",
        "        'assumes layers x & y targets have already been set. Returns Sherman Morrison denominators per layer in (forward, backward) pairs in a list'\n",
        "        sherman_morrison_denominator_list = [] \n",
        "        for layer in self.layer_list:\n",
        "            forward_smd = layer.forward_fit() \n",
        "            backward_smd = layer.backward_fit() \n",
        "            sherman_morrison_denominator_list.append((forward_smd, backward_smd))\n",
        "        return sherman_morrison_denominator_list \n",
        "    def __reduce_sherman_morrison_denominator_list(self, smd_pair_list):\n",
        "        'returns the value closest to zero'\n",
        "        if type(smd_pair_list) != list: \n",
        "            raise ValueError('`smd_pair_list` must be of type `list`!')\n",
        "        if len(smd_pair_list) == 0:\n",
        "            return None \n",
        "        smallest_smd = None \n",
        "        for smd_pair in smd_pair_list:\n",
        "            if type(smd_pair) != tuple:\n",
        "                raise ValueError('`smd_pair_list` must be list of tuples!')\n",
        "            if smallest_smd is None: \n",
        "                smallest_smd = smd_pair[0] \n",
        "            if abs(smallest_smd) > abs(smd_pair[0]): \n",
        "                smallest_smd = smd_pair[0] \n",
        "            if abs(smallest_smd) > abs(smd_pair[1]):\n",
        "                smallest_smd = smd_pair[1] \n",
        "        return float(smallest_smd) \n",
        "    def __call__(self, x, y=None): \n",
        "        '''\n",
        "        If only x is given, a prediction is made and returned.\n",
        "        If x and y are given, then the model is updated, and returns\n",
        "        - the prediction\n",
        "        - the sherman morrison denominator closest to zero, for tracking numerical stability\n",
        "        '''\n",
        "        y_hat = self.forward(x) \n",
        "        if y is None: \n",
        "            return y_hat \n",
        "        self.backward(y) \n",
        "        self.layer_list[0].x_forward = x \n",
        "        self.layer_list[0].x_backward = x \n",
        "        self.layer_list[-1].y_forward = y \n",
        "        self.layer_list[-1].y_backward = y \n",
        "        smd_pair_list = self.fit() \n",
        "        smallest_smd = self.__reduce_sherman_morrison_denominator_list(smd_pair_list) \n",
        "        return y_hat, smallest_smd \n",
        "\n",
        "## tests \n",
        "\n",
        "## test 1: sherman morrison \n",
        "a = torch.tensor([[2., 1.], [1., 2.]]) \n",
        "b = torch.tensor([[.1],[.2]]) \n",
        "sm_inv, _ = OnlineDenseLayer.sherman_morrison(torch.inverse(a),b,b) \n",
        "num_inv = torch.inverse(a+torch.matmul(b, torch.transpose(b,0,1))) \n",
        "err = float(torch.abs(sm_inv - num_inv).sum()) \n",
        "assert(err < 1e-5) "
      ],
      "outputs": [],
      "execution_count": 56,
      "metadata": {
        "jupyter": {
          "source_hidden": false,
          "outputs_hidden": false
        },
        "nteract": {
          "transient": {
            "deleting": false
          }
        },
        "gather": {
          "logged": 1640111005277
        }
      }
    },
    {
      "cell_type": "markdown",
      "source": [
        "# first experiment: mnist classification"
      ],
      "metadata": {
        "nteract": {
          "transient": {
            "deleting": false
          }
        }
      }
    },
    {
      "cell_type": "code",
      "source": [
        "from tqdm import tqdm\r\n",
        "from torchvision import datasets, transforms\r\n",
        "\r\n",
        "transform=transforms.Compose([\r\n",
        "    transforms.ToTensor(),\r\n",
        "    transforms.Normalize((0.1307,), (0.3081,))\r\n",
        "    ])\r\n",
        "\r\n",
        "dataset1 = datasets.MNIST('../../data', train=True, download=True, transform=transform)\r\n",
        "dataset2 = datasets.MNIST('../../data', train=False, transform=transform)\r\n",
        "\r\n",
        "train_loader = torch.utils.data.DataLoader(dataset1)\r\n",
        "test_loader = torch.utils.data.DataLoader(dataset2)\r\n",
        "\r\n",
        "n_labels = 10 \r\n",
        "lam = 1000.\r\n",
        "clip=100.\r\n",
        "\r\n",
        "## activation functions \r\n",
        "## torch.sigmoid \r\n",
        "inv_sigmoid = lambda x: -torch.log((1/(x+1e-8))-1) \r\n",
        "leaky_relu_alpha = .1 \r\n",
        "leaky_relu = lambda x: (x > 0)*x + (x <= 0)*x*leaky_relu_alpha \r\n",
        "inv_leaky_relu = lambda x: (x > 0)*x + (x <= 0)*x/leaky_relu_alpha \r\n",
        "\r\n",
        "model = OnlineNet(\r\n",
        "    [\r\n",
        "        OnlineDenseLayer(p=1*1*28*28, q=100, activation=leaky_relu, activation_inverse=inv_leaky_relu, lam=lam, clip=clip), \r\n",
        "        OnlineDenseLayer(p=100, q=100, activation=leaky_relu, activation_inverse=inv_leaky_relu, lam=lam, clip=clip), \r\n",
        "        OnlineDenseLayer(p=100, q=100, activation=leaky_relu, activation_inverse=inv_leaky_relu, lam=lam, clip=clip), \r\n",
        "        OnlineDenseLayer(p=100, q=n_labels, activation=torch.sigmoid, activation_inverse=inv_sigmoid, lam=lam, clip=clip) \r\n",
        "    ] \r\n",
        ")\r\n",
        "\r\n",
        "def build_data(image, label): \r\n",
        "    'format data from iterator for model' \r\n",
        "    y = torch.tensor([1. if int(label[0]) == idx else 0. for idx in range(n_labels)]) ## one-hot representation \r\n",
        "    x = image.reshape([-1]) ## flatten \r\n",
        "    ## shrink so sigmoid inverse is well-defined \r\n",
        "    y = y*.90 + .05 \r\n",
        "    ## reshape to column vectors \r\n",
        "    x = x.reshape([-1,1]) \r\n",
        "    y = y.reshape([-1,1]) \r\n",
        "    return x, y \r\n",
        "\r\n",
        "def match(y, y_hat):\r\n",
        "    y = y.reshape(-1)\r\n",
        "    y_hat = y_hat.reshape(-1)\r\n",
        "    if y.argmax() == y_hat.argmax():\r\n",
        "        return 1.\r\n",
        "    return 0. \r\n",
        "\r\n",
        "errs = [] \r\n",
        "stab = [] \r\n",
        "y_std = [] \r\n",
        "acc = [0.] \r\n",
        "\r\n",
        "def fit():\r\n",
        "    pbar = tqdm(train_loader) \r\n",
        "    for [image, label] in pbar: \r\n",
        "        x, y = build_data(image, label) \r\n",
        "        ## fit \r\n",
        "        y_hat, stability = model(x, y) \r\n",
        "        ## stats \r\n",
        "        err = float((y - y_hat).abs().sum()) \r\n",
        "        errs.append(err) \r\n",
        "        stab.append(stability) \r\n",
        "        std = float(y_hat.std()) \r\n",
        "        y_std.append(std) \r\n",
        "        acc_n = max(len(acc), 1000)\r\n",
        "        acc.append( match(y,y_hat)/acc_n + acc[-1]*(acc_n-1)/acc_n) \r\n",
        "        pbar.set_description(f'acc: {acc[-1]}, err: {err}, y_std: {std}, stab: {stability}') \r\n",
        "        ## train error \r\n",
        "        ## TODO \r\n",
        "    pass\r\n",
        "\r\n",
        "fit() "
      ],
      "outputs": [
        {
          "output_type": "stream",
          "name": "stderr",
          "text": "acc: 0.4346626021256622, err: 4.836935043334961, y_std: 0.006367265246808529, stab: 1.0000417232513428: 100%|██████████| 60000/60000 [06:14<00:00, 160.39it/s]   \n"
        }
      ],
      "execution_count": 74,
      "metadata": {
        "jupyter": {
          "source_hidden": false,
          "outputs_hidden": false
        },
        "nteract": {
          "transient": {
            "deleting": false
          }
        },
        "gather": {
          "logged": 1640112291633
        }
      }
    },
    {
      "cell_type": "code",
      "source": [
        "import matplotlib.pyplot as plt \r\n",
        "\r\n",
        "print('acc')\r\n",
        "plt.plot(acc[100:])\r\n",
        "plt.show()"
      ],
      "outputs": [
        {
          "output_type": "stream",
          "name": "stdout",
          "text": "acc\n"
        },
        {
          "output_type": "display_data",
          "data": {
            "text/plain": "<Figure size 432x288 with 1 Axes>",
            "image/png": "[encoded data removed]"
          },
          "metadata": {
            "needs_background": "light"
          }
        }
      ],
      "execution_count": 75,
      "metadata": {
        "jupyter": {
          "source_hidden": false,
          "outputs_hidden": false
        },
        "nteract": {
          "transient": {
            "deleting": false
          }
        },
        "gather": {
          "logged": 1640112588981
        }
      }
    },
    {
      "cell_type": "code",
      "source": [
        "print('errs')\r\n",
        "plt.plot(errs)\r\n",
        "plt.show()"
      ],
      "outputs": [
        {
          "output_type": "stream",
          "name": "stdout",
          "text": "errs\n"
        },
        {
          "output_type": "display_data",
          "data": {
            "text/plain": "<Figure size 432x288 with 1 Axes>",
            "image/png": "[encoded data removed]"
          },
          "metadata": {
            "needs_background": "light"
          }
        }
      ],
      "execution_count": 76,
      "metadata": {
        "jupyter": {
          "source_hidden": false,
          "outputs_hidden": false
        },
        "nteract": {
          "transient": {
            "deleting": false
          }
        },
        "gather": {
          "logged": 1640112592148
        }
      }
    },
    {
      "cell_type": "code",
      "source": [
        "print('y_std')\r\n",
        "plt.plot(y_std)\r\n",
        "plt.show()"
      ],
      "outputs": [
        {
          "output_type": "stream",
          "name": "stdout",
          "text": "y_std\n"
        },
        {
          "output_type": "display_data",
          "data": {
            "text/plain": "<Figure size 432x288 with 1 Axes>",
            "image/png": "[encoded data removed]"
          },
          "metadata": {
            "needs_background": "light"
          }
        }
      ],
      "execution_count": 77,
      "metadata": {
        "jupyter": {
          "source_hidden": false,
          "outputs_hidden": false
        },
        "nteract": {
          "transient": {
            "deleting": false
          }
        },
        "gather": {
          "logged": 1640112594525
        }
      }
    },
    {
      "cell_type": "code",
      "source": [
        "print('stab')\r\n",
        "plt.plot(stab)\r\n",
        "plt.show()"
      ],
      "outputs": [
        {
          "output_type": "stream",
          "name": "stdout",
          "text": "stab\n"
        },
        {
          "output_type": "display_data",
          "data": {
            "text/plain": "<Figure size 432x288 with 1 Axes>",
            "image/png": "[encoded data removed]"
          },
          "metadata": {
            "needs_background": "light"
          }
        }
      ],
      "execution_count": 78,
      "metadata": {
        "jupyter": {
          "source_hidden": false,
          "outputs_hidden": false
        },
        "nteract": {
          "transient": {
            "deleting": false
          }
        },
        "gather": {
          "logged": 1640112596460
        }
      }
    }
  ],
  "metadata": {
    "kernelspec": {
      "name": "python3-azureml",
      "language": "python",
      "display_name": "Python 3.6 - AzureML"
    },
    "language_info": {
      "name": "python",
      "version": "3.6.9",
      "mimetype": "text/x-python",
      "codemirror_mode": {
        "name": "ipython",
        "version": 3
      },
      "pygments_lexer": "ipython3",
      "nbconvert_exporter": "python",
      "file_extension": ".py"
    },
    "kernel_info": {
      "name": "python3-azureml"
    },
    "nteract": {
      "version": "nteract-front-end@1.0.0"
    },
    "microsoft": {
      "host": {
        "AzureML": {
          "notebookHasBeenCompleted": true
        }
      }
    }
  },
  "nbformat": 4,
  "nbformat_minor": 2
}